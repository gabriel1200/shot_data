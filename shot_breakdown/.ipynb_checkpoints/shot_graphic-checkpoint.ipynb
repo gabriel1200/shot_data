{
 "cells": [
  {
   "cell_type": "code",
   "execution_count": 5,
   "id": "b609c9f4-6fdf-4025-afd7-57479bbe9893",
   "metadata": {},
   "outputs": [
    {
     "name": "stdout",
     "output_type": "stream",
     "text": [
      "0.35392354465540893\n",
      "       PLAYER_NAME  PLAYER_ID          shot_description  shot_count  \\\n",
      "133  Stephen Curry     201939     3PT Driving Jump Shot           1   \n",
      "134  Stephen Curry     201939    3PT Fadeaway Jump Shot          10   \n",
      "135  Stephen Curry     201939             3PT Jump Shot         610   \n",
      "136  Stephen Curry     201939      3PT Pullup Jump Shot         188   \n",
      "137  Stephen Curry     201939     3PT Running Jump Shot          11   \n",
      "138  Stephen Curry     201939   3PT Step Back Jump Shot          59   \n",
      "139  Stephen Curry     201939  3PT Turnaround Jump Shot           5   \n",
      "\n",
      "     shot_makes           shot_group  year  \n",
      "133           1  THREE_POINT_JUMPERS  2016  \n",
      "134           7  THREE_POINT_JUMPERS  2016  \n",
      "135         212  THREE_POINT_JUMPERS  2016  \n",
      "136         135  THREE_POINT_JUMPERS  2016  \n",
      "137           7  THREE_POINT_JUMPERS  2016  \n",
      "138          37  THREE_POINT_JUMPERS  2016  \n",
      "139           2  THREE_POINT_JUMPERS  2016  \n",
      "1596\n",
      "DUNKS\n",
      "1\n",
      "FLOATING_SHOTS\n",
      "1\n",
      "LAYUPS\n",
      "1\n",
      "POST_MOVES\n",
      "1\n",
      "THREE_POINT_JUMPERS\n",
      "1.5\n",
      "TWO_POINT_JUMPERS\n",
      "1\n",
      "[{'shot_description': 'Three Point Jumpers', 'player_pct': 68.04298642533936, 'league_pct': 53.08853169831134, 'difference': 14.954454727028022, 'attempts': 884, 'makes': 401, 'volume_pct': 55.388471177944865}, {'shot_description': 'Layups', 'player_pct': 69.10569105691057, 'league_pct': 56.44372562077823, 'difference': 12.661965436132341, 'attempts': 369, 'makes': 255, 'volume_pct': 23.1203007518797}, {'shot_description': 'Two Point Jumpers', 'player_pct': 38.16793893129771, 'league_pct': 37.453279329211966, 'difference': 0.7146596020857459, 'attempts': 262, 'makes': 100, 'volume_pct': 16.416040100250626}, {'shot_description': 'Floating Shots', 'player_pct': 56.33802816901409, 'league_pct': 50.087785302232255, 'difference': 6.250242866781832, 'attempts': 71, 'makes': 40, 'volume_pct': 4.448621553884712}, {'shot_description': 'Dunks', 'player_pct': 100.0, 'league_pct': 90.8974485272387, 'difference': 9.102551472761306, 'attempts': 7, 'makes': 7, 'volume_pct': 0.43859649122807015}, {'shot_description': 'Post Moves', 'player_pct': 33.333333333333336, 'league_pct': 49.678910865656306, 'difference': -16.34557753232297, 'attempts': 3, 'makes': 1, 'volume_pct': 0.18796992481203006}]\n"
     ]
    },
    {
     "data": {
      "application/vnd.plotly.v1+json": {
       "config": {
        "plotlyServerURL": "https://plot.ly"
       },
       "data": [
        {
         "customdata": [
          [
           68.04298642533936,
           53.08853169831134,
           55.388471177944865,
           401,
           884
          ],
          [
           69.10569105691057,
           56.44372562077823,
           23.1203007518797,
           255,
           369
          ],
          [
           38.16793893129771,
           37.453279329211966,
           16.416040100250626,
           100,
           262
          ],
          [
           56.33802816901409,
           50.087785302232255,
           4.448621553884712,
           40,
           71
          ],
          [
           100,
           90.8974485272387,
           0.43859649122807015,
           7,
           7
          ],
          [
           33.333333333333336,
           49.678910865656306,
           0.18796992481203006,
           1,
           3
          ]
         ],
         "hovertemplate": "<b>%{x}</b><br>Difference: %{y:+.1f}%<br>Player: %{customdata[0]:.1f}%<br>League: %{customdata[1]:.1f}%<br>Shot Volume: %{customdata[2]:.0f}%<br>Makes/Attempts: %{customdata[3]}/%{customdata[4]}<br><extra></extra>",
         "marker": {
          "color": [
           "rgba(34, 197, 94, 0.7)",
           "rgba(34, 197, 94, 0.7)",
           "rgba(34, 197, 94, 0.7)",
           "rgba(34, 197, 94, 0.7)",
           "rgba(34, 197, 94, 0.7)",
           "rgba(239, 68, 68, 0.7)"
          ],
          "line": {
           "color": [
            "rgba(34, 197, 94, 1)",
            "rgba(34, 197, 94, 1)",
            "rgba(34, 197, 94, 1)",
            "rgba(34, 197, 94, 1)",
            "rgba(34, 197, 94, 1)",
            "rgba(239, 68, 68, 1)"
           ],
           "width": 1
          }
         },
         "name": "Overall Performance",
         "text": [
          "+15.0%",
          "+12.7%",
          "",
          "+6.3%",
          "+9.1%",
          "-16.3%"
         ],
         "textfont": {
          "color": "#F8FAFC",
          "size": 11
         },
         "textposition": "auto",
         "type": "bar",
         "visible": true,
         "x": [
          "Three Point Jumpers",
          "Layups",
          "Two Point Jumpers",
          "Floating Shots",
          "Dunks",
          "Post Moves"
         ],
         "y": [
          14.954454727028022,
          12.661965436132341,
          0.7146596020857459,
          6.250242866781832,
          9.102551472761306,
          -16.34557753232297
         ]
        },
        {
         "hoverinfo": "skip",
         "line": {
          "color": "rgba(226, 232, 240, 0.3)",
          "dash": "dash",
          "width": 1
         },
         "mode": "lines",
         "name": "League Average",
         "type": "scatter",
         "visible": true,
         "x": [
          "Three Point Jumpers",
          "Layups",
          "Two Point Jumpers",
          "Floating Shots",
          "Dunks",
          "Post Moves"
         ],
         "y": [
          0,
          0,
          0,
          0,
          0,
          0
         ]
        },
        {
         "customdata": [
          [
           100,
           89.63068181818183,
           57.14285714285714,
           4,
           4
          ],
          [
           100,
           89.70136144049188,
           42.857142857142854,
           3,
           3
          ]
         ],
         "hovertemplate": "<b>%{x}</b><br>Difference: %{y:+.1f}%<br>Player: %{customdata[0]:.1f}%<br>League: %{customdata[1]:.1f}%<br>Shot Volume: %{customdata[2]:.0f}%<br>Makes/Attempts: %{customdata[3]}/%{customdata[4]}<br><extra></extra>",
         "marker": {
          "color": [
           "rgba(34, 197, 94, 0.7)",
           "rgba(34, 197, 94, 0.7)"
          ],
          "line": {
           "color": [
            "rgba(34, 197, 94, 1)",
            "rgba(34, 197, 94, 1)"
           ],
           "width": 1
          }
         },
         "name": "vs. League Average",
         "text": [
          "+10.4%",
          "+10.3%"
         ],
         "textfont": {
          "color": "#F8FAFC",
          "size": 11
         },
         "textposition": "auto",
         "type": "bar",
         "visible": false,
         "x": [
          "Driving Dunk",
          "Standard Dunk"
         ],
         "y": [
          10.369318181818173,
          10.29863855950812
         ]
        },
        {
         "hoverinfo": "skip",
         "line": {
          "color": "rgba(226, 232, 240, 0.3)",
          "dash": "dash",
          "width": 1
         },
         "mode": "lines",
         "name": "League Average",
         "type": "scatter",
         "visible": false,
         "x": [
          "Driving Dunk",
          "Standard Dunk"
         ],
         "y": [
          0,
          0
         ]
        },
        {
         "customdata": [
          [
           56.33802816901409,
           50.24599470165258,
           100,
           40,
           71
          ]
         ],
         "hovertemplate": "<b>%{x}</b><br>Difference: %{y:+.1f}%<br>Player: %{customdata[0]:.1f}%<br>League: %{customdata[1]:.1f}%<br>Shot Volume: %{customdata[2]:.0f}%<br>Makes/Attempts: %{customdata[3]}/%{customdata[4]}<br><extra></extra>",
         "marker": {
          "color": [
           "rgba(34, 197, 94, 0.7)"
          ],
          "line": {
           "color": [
            "rgba(34, 197, 94, 1)"
           ],
           "width": 1
          }
         },
         "name": "vs. League Average",
         "text": [
          "+6.1%"
         ],
         "textfont": {
          "color": "#F8FAFC",
          "size": 11
         },
         "textposition": "auto",
         "type": "bar",
         "visible": false,
         "x": [
          "2PT Floating Jump Shot"
         ],
         "y": [
          6.09203346736151
         ]
        },
        {
         "hoverinfo": "skip",
         "line": {
          "color": "rgba(226, 232, 240, 0.3)",
          "dash": "dash",
          "width": 1
         },
         "mode": "lines",
         "name": "League Average",
         "type": "scatter",
         "visible": false,
         "x": [
          "2PT Floating Jump Shot"
         ],
         "y": [
          0
         ]
        },
        {
         "customdata": [
          [
           52,
           50.22779953640796,
           33.87533875338754,
           65,
           125
          ],
          [
           84.82142857142857,
           75.49986670221274,
           30.35230352303523,
           95,
           112
          ],
          [
           72.54901960784314,
           60.90614440383422,
           27.64227642276423,
           74,
           102
          ],
          [
           76,
           63.24593128390597,
           6.775067750677506,
           19,
           25
          ],
          [
           25,
           55.816210969098854,
           1.084010840108401,
           1,
           4
          ],
          [
           100,
           65.65315315315316,
           0.27100271002710025,
           1,
           1
          ]
         ],
         "hovertemplate": "<b>%{x}</b><br>Difference: %{y:+.1f}%<br>Player: %{customdata[0]:.1f}%<br>League: %{customdata[1]:.1f}%<br>Shot Volume: %{customdata[2]:.0f}%<br>Makes/Attempts: %{customdata[3]}/%{customdata[4]}<br><extra></extra>",
         "marker": {
          "color": [
           "rgba(34, 197, 94, 0.7)",
           "rgba(34, 197, 94, 0.7)",
           "rgba(34, 197, 94, 0.7)",
           "rgba(34, 197, 94, 0.7)",
           "rgba(239, 68, 68, 0.7)",
           "rgba(34, 197, 94, 0.7)"
          ],
          "line": {
           "color": [
            "rgba(34, 197, 94, 1)",
            "rgba(34, 197, 94, 1)",
            "rgba(34, 197, 94, 1)",
            "rgba(34, 197, 94, 1)",
            "rgba(239, 68, 68, 1)",
            "rgba(34, 197, 94, 1)"
           ],
           "width": 1
          }
         },
         "name": "vs. League Average",
         "text": [
          "",
          "+9.3%",
          "+11.6%",
          "+12.8%",
          "-30.8%",
          "+34.3%"
         ],
         "textfont": {
          "color": "#F8FAFC",
          "size": 11
         },
         "textposition": "auto",
         "type": "bar",
         "visible": false,
         "x": [
          "Standard Layup",
          "Finger Roll",
          "Driving Layup",
          "Reverse Layup",
          "Putback Layup",
          "Alley Oop Layup"
         ],
         "y": [
          1.7722004635920428,
          9.321561869215827,
          11.642875204008917,
          12.754068716094032,
          -30.816210969098854,
          34.346846846846844
         ]
        },
        {
         "hoverinfo": "skip",
         "line": {
          "color": "rgba(226, 232, 240, 0.3)",
          "dash": "dash",
          "width": 1
         },
         "mode": "lines",
         "name": "League Average",
         "type": "scatter",
         "visible": false,
         "x": [
          "Standard Layup",
          "Finger Roll",
          "Driving Layup",
          "Reverse Layup",
          "Putback Layup",
          "Alley Oop Layup"
         ],
         "y": [
          0,
          0,
          0,
          0,
          0,
          0
         ]
        },
        {
         "customdata": [
          [
           0,
           45.824720959074,
           66.66666666666666,
           0,
           2
          ],
          [
           100,
           56.395891690009336,
           33.33333333333333,
           1,
           1
          ]
         ],
         "hovertemplate": "<b>%{x}</b><br>Difference: %{y:+.1f}%<br>Player: %{customdata[0]:.1f}%<br>League: %{customdata[1]:.1f}%<br>Shot Volume: %{customdata[2]:.0f}%<br>Makes/Attempts: %{customdata[3]}/%{customdata[4]}<br><extra></extra>",
         "marker": {
          "color": [
           "rgba(239, 68, 68, 0.7)",
           "rgba(34, 197, 94, 0.7)"
          ],
          "line": {
           "color": [
            "rgba(239, 68, 68, 1)",
            "rgba(34, 197, 94, 1)"
           ],
           "width": 1
          }
         },
         "name": "vs. League Average",
         "text": [
          "-45.8%",
          "+43.6%"
         ],
         "textfont": {
          "color": "#F8FAFC",
          "size": 11
         },
         "textposition": "auto",
         "type": "bar",
         "visible": false,
         "x": [
          "Hook Shot",
          "Driving Hook Shot"
         ],
         "y": [
          -45.824720959074,
          43.604108309990664
         ]
        },
        {
         "hoverinfo": "skip",
         "line": {
          "color": "rgba(226, 232, 240, 0.3)",
          "dash": "dash",
          "width": 1
         },
         "mode": "lines",
         "name": "League Average",
         "type": "scatter",
         "visible": false,
         "x": [
          "Hook Shot",
          "Driving Hook Shot"
         ],
         "y": [
          0,
          0
         ]
        },
        {
         "customdata": [
          [
           52.131147540983605,
           51.24282100053554,
           69.00452488687783,
           212,
           610
          ],
          [
           107.7127659574468,
           77.75530839231547,
           21.266968325791854,
           135,
           188
          ],
          [
           94.0677966101695,
           69.10766246362755,
           6.67420814479638,
           37,
           59
          ],
          [
           95.45454545454545,
           66.73728813559322,
           1.244343891402715,
           7,
           11
          ],
          [
           105,
           67.28971962616822,
           1.1312217194570136,
           7,
           10
          ],
          [
           60,
           40,
           0.5656108597285068,
           2,
           5
          ],
          [
           150,
           75,
           0.11312217194570137,
           1,
           1
          ]
         ],
         "hovertemplate": "<b>%{x}</b><br>Difference: %{y:+.1f}%<br>Player: %{customdata[0]:.1f}%<br>League: %{customdata[1]:.1f}%<br>Shot Volume: %{customdata[2]:.0f}%<br>Makes/Attempts: %{customdata[3]}/%{customdata[4]}<br><extra></extra>",
         "marker": {
          "color": [
           "rgba(34, 197, 94, 0.7)",
           "rgba(34, 197, 94, 0.7)",
           "rgba(34, 197, 94, 0.7)",
           "rgba(34, 197, 94, 0.7)",
           "rgba(34, 197, 94, 0.7)",
           "rgba(34, 197, 94, 0.7)",
           "rgba(34, 197, 94, 0.7)"
          ],
          "line": {
           "color": [
            "rgba(34, 197, 94, 1)",
            "rgba(34, 197, 94, 1)",
            "rgba(34, 197, 94, 1)",
            "rgba(34, 197, 94, 1)",
            "rgba(34, 197, 94, 1)",
            "rgba(34, 197, 94, 1)",
            "rgba(34, 197, 94, 1)"
           ],
           "width": 1
          }
         },
         "name": "vs. League Average",
         "text": [
          "",
          "+30.0%",
          "+25.0%",
          "+28.7%",
          "+37.7%",
          "+20.0%",
          "+75.0%"
         ],
         "textfont": {
          "color": "#F8FAFC",
          "size": 11
         },
         "textposition": "auto",
         "type": "bar",
         "visible": false,
         "x": [
          "3PT Jump Shot",
          "3PT Pullup Jump Shot",
          "3PT Step Back Jump Shot",
          "3PT Running Jump Shot",
          "3PT Fadeaway Jump Shot",
          "3PT Turnaround Jump Shot",
          "3PT Driving Jump Shot"
         ],
         "y": [
          0.8883265404480625,
          29.957457565131335,
          24.960134146541947,
          28.717257318952235,
          37.71028037383178,
          20,
          75
         ]
        },
        {
         "hoverinfo": "skip",
         "line": {
          "color": "rgba(226, 232, 240, 0.3)",
          "dash": "dash",
          "width": 1
         },
         "mode": "lines",
         "name": "League Average",
         "type": "scatter",
         "visible": false,
         "x": [
          "3PT Jump Shot",
          "3PT Pullup Jump Shot",
          "3PT Step Back Jump Shot",
          "3PT Running Jump Shot",
          "3PT Fadeaway Jump Shot",
          "3PT Turnaround Jump Shot",
          "3PT Driving Jump Shot"
         ],
         "y": [
          0,
          0,
          0,
          0,
          0,
          0,
          0
         ]
        },
        {
         "customdata": [
          [
           26.351351351351347,
           30.69912096930952,
           56.48854961832062,
           39,
           148
          ],
          [
           57.57575757575758,
           54.60533193936226,
           12.595419847328243,
           19,
           33
          ],
          [
           51.515151515151516,
           49.81251802711278,
           12.595419847328243,
           17,
           33
          ],
          [
           66.66666666666666,
           45.141627823592685,
           5.7251908396946565,
           10,
           15
          ],
          [
           53.84615384615385,
           45.77583305284416,
           4.961832061068702,
           7,
           13
          ],
          [
           50,
           63.76518218623482,
           4.580152671755725,
           6,
           12
          ],
          [
           25,
           45.618729096989966,
           3.0534351145038165,
           2,
           8
          ]
         ],
         "hovertemplate": "<b>%{x}</b><br>Difference: %{y:+.1f}%<br>Player: %{customdata[0]:.1f}%<br>League: %{customdata[1]:.1f}%<br>Shot Volume: %{customdata[2]:.0f}%<br>Makes/Attempts: %{customdata[3]}/%{customdata[4]}<br><extra></extra>",
         "marker": {
          "color": [
           "rgba(239, 68, 68, 0.7)",
           "rgba(34, 197, 94, 0.7)",
           "rgba(34, 197, 94, 0.7)",
           "rgba(34, 197, 94, 0.7)",
           "rgba(34, 197, 94, 0.7)",
           "rgba(239, 68, 68, 0.7)",
           "rgba(239, 68, 68, 0.7)"
          ],
          "line": {
           "color": [
            "rgba(239, 68, 68, 1)",
            "rgba(34, 197, 94, 1)",
            "rgba(34, 197, 94, 1)",
            "rgba(34, 197, 94, 1)",
            "rgba(34, 197, 94, 1)",
            "rgba(239, 68, 68, 1)",
            "rgba(239, 68, 68, 1)"
           ],
           "width": 1
          }
         },
         "name": "vs. League Average",
         "text": [
          "-4.3%",
          "+3.0%",
          "",
          "+21.5%",
          "+8.1%",
          "-13.8%",
          "-20.6%"
         ],
         "textfont": {
          "color": "#F8FAFC",
          "size": 11
         },
         "textposition": "auto",
         "type": "bar",
         "visible": false,
         "x": [
          "2PT Jump Shot",
          "2PT Pullup Jump Shot",
          "2PT Step Back Jump Shot",
          "2PT Turnaround Jump Shot",
          "2PT Fadeaway Jump Shot",
          "2PT Driving Jump Shot",
          "2PT Running Jump Shot"
         ],
         "y": [
          -4.347769617958171,
          2.970425636395319,
          1.7026334880387353,
          21.525038843073972,
          8.070320793309683,
          -13.765182186234817,
          -20.618729096989966
         ]
        },
        {
         "hoverinfo": "skip",
         "line": {
          "color": "rgba(226, 232, 240, 0.3)",
          "dash": "dash",
          "width": 1
         },
         "mode": "lines",
         "name": "League Average",
         "type": "scatter",
         "visible": false,
         "x": [
          "2PT Jump Shot",
          "2PT Pullup Jump Shot",
          "2PT Step Back Jump Shot",
          "2PT Turnaround Jump Shot",
          "2PT Fadeaway Jump Shot",
          "2PT Driving Jump Shot",
          "2PT Running Jump Shot"
         ],
         "y": [
          0,
          0,
          0,
          0,
          0,
          0,
          0
         ]
        }
       ],
       "layout": {
        "height": 700,
        "margin": {
         "b": 100,
         "l": 80,
         "r": 80,
         "t": 150
        },
        "paper_bgcolor": "rgba(0, 0, 0, 0)",
        "plot_bgcolor": "rgba(0, 0, 0, 0)",
        "shapes": [
         {
          "fillcolor": "rgba(34, 197, 94, 0.05)",
          "layer": "below",
          "line": {
           "width": 0
          },
          "type": "rect",
          "x0": 0,
          "x1": 1,
          "xref": "x domain",
          "y0": 5,
          "y1": 20,
          "yref": "y"
         },
         {
          "fillcolor": "rgba(226, 232, 240, 0.05)",
          "layer": "below",
          "line": {
           "width": 0
          },
          "type": "rect",
          "x0": 0,
          "x1": 1,
          "xref": "x domain",
          "y0": -5,
          "y1": 5,
          "yref": "y"
         },
         {
          "fillcolor": "rgba(239, 68, 68, 0.05)",
          "layer": "below",
          "line": {
           "width": 0
          },
          "type": "rect",
          "x0": 0,
          "x1": 1,
          "xref": "x domain",
          "y0": -20,
          "y1": -5,
          "yref": "y"
         }
        ],
        "showlegend": false,
        "template": {
         "data": {
          "bar": [
           {
            "error_x": {
             "color": "#2a3f5f"
            },
            "error_y": {
             "color": "#2a3f5f"
            },
            "marker": {
             "line": {
              "color": "#E5ECF6",
              "width": 0.5
             },
             "pattern": {
              "fillmode": "overlay",
              "size": 10,
              "solidity": 0.2
             }
            },
            "type": "bar"
           }
          ],
          "barpolar": [
           {
            "marker": {
             "line": {
              "color": "#E5ECF6",
              "width": 0.5
             },
             "pattern": {
              "fillmode": "overlay",
              "size": 10,
              "solidity": 0.2
             }
            },
            "type": "barpolar"
           }
          ],
          "carpet": [
           {
            "aaxis": {
             "endlinecolor": "#2a3f5f",
             "gridcolor": "white",
             "linecolor": "white",
             "minorgridcolor": "white",
             "startlinecolor": "#2a3f5f"
            },
            "baxis": {
             "endlinecolor": "#2a3f5f",
             "gridcolor": "white",
             "linecolor": "white",
             "minorgridcolor": "white",
             "startlinecolor": "#2a3f5f"
            },
            "type": "carpet"
           }
          ],
          "choropleth": [
           {
            "colorbar": {
             "outlinewidth": 0,
             "ticks": ""
            },
            "type": "choropleth"
           }
          ],
          "contour": [
           {
            "colorbar": {
             "outlinewidth": 0,
             "ticks": ""
            },
            "colorscale": [
             [
              0,
              "#0d0887"
             ],
             [
              0.1111111111111111,
              "#46039f"
             ],
             [
              0.2222222222222222,
              "#7201a8"
             ],
             [
              0.3333333333333333,
              "#9c179e"
             ],
             [
              0.4444444444444444,
              "#bd3786"
             ],
             [
              0.5555555555555556,
              "#d8576b"
             ],
             [
              0.6666666666666666,
              "#ed7953"
             ],
             [
              0.7777777777777778,
              "#fb9f3a"
             ],
             [
              0.8888888888888888,
              "#fdca26"
             ],
             [
              1,
              "#f0f921"
             ]
            ],
            "type": "contour"
           }
          ],
          "contourcarpet": [
           {
            "colorbar": {
             "outlinewidth": 0,
             "ticks": ""
            },
            "type": "contourcarpet"
           }
          ],
          "heatmap": [
           {
            "colorbar": {
             "outlinewidth": 0,
             "ticks": ""
            },
            "colorscale": [
             [
              0,
              "#0d0887"
             ],
             [
              0.1111111111111111,
              "#46039f"
             ],
             [
              0.2222222222222222,
              "#7201a8"
             ],
             [
              0.3333333333333333,
              "#9c179e"
             ],
             [
              0.4444444444444444,
              "#bd3786"
             ],
             [
              0.5555555555555556,
              "#d8576b"
             ],
             [
              0.6666666666666666,
              "#ed7953"
             ],
             [
              0.7777777777777778,
              "#fb9f3a"
             ],
             [
              0.8888888888888888,
              "#fdca26"
             ],
             [
              1,
              "#f0f921"
             ]
            ],
            "type": "heatmap"
           }
          ],
          "heatmapgl": [
           {
            "colorbar": {
             "outlinewidth": 0,
             "ticks": ""
            },
            "colorscale": [
             [
              0,
              "#0d0887"
             ],
             [
              0.1111111111111111,
              "#46039f"
             ],
             [
              0.2222222222222222,
              "#7201a8"
             ],
             [
              0.3333333333333333,
              "#9c179e"
             ],
             [
              0.4444444444444444,
              "#bd3786"
             ],
             [
              0.5555555555555556,
              "#d8576b"
             ],
             [
              0.6666666666666666,
              "#ed7953"
             ],
             [
              0.7777777777777778,
              "#fb9f3a"
             ],
             [
              0.8888888888888888,
              "#fdca26"
             ],
             [
              1,
              "#f0f921"
             ]
            ],
            "type": "heatmapgl"
           }
          ],
          "histogram": [
           {
            "marker": {
             "pattern": {
              "fillmode": "overlay",
              "size": 10,
              "solidity": 0.2
             }
            },
            "type": "histogram"
           }
          ],
          "histogram2d": [
           {
            "colorbar": {
             "outlinewidth": 0,
             "ticks": ""
            },
            "colorscale": [
             [
              0,
              "#0d0887"
             ],
             [
              0.1111111111111111,
              "#46039f"
             ],
             [
              0.2222222222222222,
              "#7201a8"
             ],
             [
              0.3333333333333333,
              "#9c179e"
             ],
             [
              0.4444444444444444,
              "#bd3786"
             ],
             [
              0.5555555555555556,
              "#d8576b"
             ],
             [
              0.6666666666666666,
              "#ed7953"
             ],
             [
              0.7777777777777778,
              "#fb9f3a"
             ],
             [
              0.8888888888888888,
              "#fdca26"
             ],
             [
              1,
              "#f0f921"
             ]
            ],
            "type": "histogram2d"
           }
          ],
          "histogram2dcontour": [
           {
            "colorbar": {
             "outlinewidth": 0,
             "ticks": ""
            },
            "colorscale": [
             [
              0,
              "#0d0887"
             ],
             [
              0.1111111111111111,
              "#46039f"
             ],
             [
              0.2222222222222222,
              "#7201a8"
             ],
             [
              0.3333333333333333,
              "#9c179e"
             ],
             [
              0.4444444444444444,
              "#bd3786"
             ],
             [
              0.5555555555555556,
              "#d8576b"
             ],
             [
              0.6666666666666666,
              "#ed7953"
             ],
             [
              0.7777777777777778,
              "#fb9f3a"
             ],
             [
              0.8888888888888888,
              "#fdca26"
             ],
             [
              1,
              "#f0f921"
             ]
            ],
            "type": "histogram2dcontour"
           }
          ],
          "mesh3d": [
           {
            "colorbar": {
             "outlinewidth": 0,
             "ticks": ""
            },
            "type": "mesh3d"
           }
          ],
          "parcoords": [
           {
            "line": {
             "colorbar": {
              "outlinewidth": 0,
              "ticks": ""
             }
            },
            "type": "parcoords"
           }
          ],
          "pie": [
           {
            "automargin": true,
            "type": "pie"
           }
          ],
          "scatter": [
           {
            "fillpattern": {
             "fillmode": "overlay",
             "size": 10,
             "solidity": 0.2
            },
            "type": "scatter"
           }
          ],
          "scatter3d": [
           {
            "line": {
             "colorbar": {
              "outlinewidth": 0,
              "ticks": ""
             }
            },
            "marker": {
             "colorbar": {
              "outlinewidth": 0,
              "ticks": ""
             }
            },
            "type": "scatter3d"
           }
          ],
          "scattercarpet": [
           {
            "marker": {
             "colorbar": {
              "outlinewidth": 0,
              "ticks": ""
             }
            },
            "type": "scattercarpet"
           }
          ],
          "scattergeo": [
           {
            "marker": {
             "colorbar": {
              "outlinewidth": 0,
              "ticks": ""
             }
            },
            "type": "scattergeo"
           }
          ],
          "scattergl": [
           {
            "marker": {
             "colorbar": {
              "outlinewidth": 0,
              "ticks": ""
             }
            },
            "type": "scattergl"
           }
          ],
          "scattermapbox": [
           {
            "marker": {
             "colorbar": {
              "outlinewidth": 0,
              "ticks": ""
             }
            },
            "type": "scattermapbox"
           }
          ],
          "scatterpolar": [
           {
            "marker": {
             "colorbar": {
              "outlinewidth": 0,
              "ticks": ""
             }
            },
            "type": "scatterpolar"
           }
          ],
          "scatterpolargl": [
           {
            "marker": {
             "colorbar": {
              "outlinewidth": 0,
              "ticks": ""
             }
            },
            "type": "scatterpolargl"
           }
          ],
          "scatterternary": [
           {
            "marker": {
             "colorbar": {
              "outlinewidth": 0,
              "ticks": ""
             }
            },
            "type": "scatterternary"
           }
          ],
          "surface": [
           {
            "colorbar": {
             "outlinewidth": 0,
             "ticks": ""
            },
            "colorscale": [
             [
              0,
              "#0d0887"
             ],
             [
              0.1111111111111111,
              "#46039f"
             ],
             [
              0.2222222222222222,
              "#7201a8"
             ],
             [
              0.3333333333333333,
              "#9c179e"
             ],
             [
              0.4444444444444444,
              "#bd3786"
             ],
             [
              0.5555555555555556,
              "#d8576b"
             ],
             [
              0.6666666666666666,
              "#ed7953"
             ],
             [
              0.7777777777777778,
              "#fb9f3a"
             ],
             [
              0.8888888888888888,
              "#fdca26"
             ],
             [
              1,
              "#f0f921"
             ]
            ],
            "type": "surface"
           }
          ],
          "table": [
           {
            "cells": {
             "fill": {
              "color": "#EBF0F8"
             },
             "line": {
              "color": "white"
             }
            },
            "header": {
             "fill": {
              "color": "#C8D4E3"
             },
             "line": {
              "color": "white"
             }
            },
            "type": "table"
           }
          ]
         },
         "layout": {
          "annotationdefaults": {
           "arrowcolor": "#2a3f5f",
           "arrowhead": 0,
           "arrowwidth": 1
          },
          "autotypenumbers": "strict",
          "coloraxis": {
           "colorbar": {
            "outlinewidth": 0,
            "ticks": ""
           }
          },
          "colorscale": {
           "diverging": [
            [
             0,
             "#8e0152"
            ],
            [
             0.1,
             "#c51b7d"
            ],
            [
             0.2,
             "#de77ae"
            ],
            [
             0.3,
             "#f1b6da"
            ],
            [
             0.4,
             "#fde0ef"
            ],
            [
             0.5,
             "#f7f7f7"
            ],
            [
             0.6,
             "#e6f5d0"
            ],
            [
             0.7,
             "#b8e186"
            ],
            [
             0.8,
             "#7fbc41"
            ],
            [
             0.9,
             "#4d9221"
            ],
            [
             1,
             "#276419"
            ]
           ],
           "sequential": [
            [
             0,
             "#0d0887"
            ],
            [
             0.1111111111111111,
             "#46039f"
            ],
            [
             0.2222222222222222,
             "#7201a8"
            ],
            [
             0.3333333333333333,
             "#9c179e"
            ],
            [
             0.4444444444444444,
             "#bd3786"
            ],
            [
             0.5555555555555556,
             "#d8576b"
            ],
            [
             0.6666666666666666,
             "#ed7953"
            ],
            [
             0.7777777777777778,
             "#fb9f3a"
            ],
            [
             0.8888888888888888,
             "#fdca26"
            ],
            [
             1,
             "#f0f921"
            ]
           ],
           "sequentialminus": [
            [
             0,
             "#0d0887"
            ],
            [
             0.1111111111111111,
             "#46039f"
            ],
            [
             0.2222222222222222,
             "#7201a8"
            ],
            [
             0.3333333333333333,
             "#9c179e"
            ],
            [
             0.4444444444444444,
             "#bd3786"
            ],
            [
             0.5555555555555556,
             "#d8576b"
            ],
            [
             0.6666666666666666,
             "#ed7953"
            ],
            [
             0.7777777777777778,
             "#fb9f3a"
            ],
            [
             0.8888888888888888,
             "#fdca26"
            ],
            [
             1,
             "#f0f921"
            ]
           ]
          },
          "colorway": [
           "#636efa",
           "#EF553B",
           "#00cc96",
           "#ab63fa",
           "#FFA15A",
           "#19d3f3",
           "#FF6692",
           "#B6E880",
           "#FF97FF",
           "#FECB52"
          ],
          "font": {
           "color": "#2a3f5f"
          },
          "geo": {
           "bgcolor": "white",
           "lakecolor": "white",
           "landcolor": "#E5ECF6",
           "showlakes": true,
           "showland": true,
           "subunitcolor": "white"
          },
          "hoverlabel": {
           "align": "left"
          },
          "hovermode": "closest",
          "mapbox": {
           "style": "light"
          },
          "paper_bgcolor": "white",
          "plot_bgcolor": "#E5ECF6",
          "polar": {
           "angularaxis": {
            "gridcolor": "white",
            "linecolor": "white",
            "ticks": ""
           },
           "bgcolor": "#E5ECF6",
           "radialaxis": {
            "gridcolor": "white",
            "linecolor": "white",
            "ticks": ""
           }
          },
          "scene": {
           "xaxis": {
            "backgroundcolor": "#E5ECF6",
            "gridcolor": "white",
            "gridwidth": 2,
            "linecolor": "white",
            "showbackground": true,
            "ticks": "",
            "zerolinecolor": "white"
           },
           "yaxis": {
            "backgroundcolor": "#E5ECF6",
            "gridcolor": "white",
            "gridwidth": 2,
            "linecolor": "white",
            "showbackground": true,
            "ticks": "",
            "zerolinecolor": "white"
           },
           "zaxis": {
            "backgroundcolor": "#E5ECF6",
            "gridcolor": "white",
            "gridwidth": 2,
            "linecolor": "white",
            "showbackground": true,
            "ticks": "",
            "zerolinecolor": "white"
           }
          },
          "shapedefaults": {
           "line": {
            "color": "#2a3f5f"
           }
          },
          "ternary": {
           "aaxis": {
            "gridcolor": "white",
            "linecolor": "white",
            "ticks": ""
           },
           "baxis": {
            "gridcolor": "white",
            "linecolor": "white",
            "ticks": ""
           },
           "bgcolor": "#E5ECF6",
           "caxis": {
            "gridcolor": "white",
            "linecolor": "white",
            "ticks": ""
           }
          },
          "title": {
           "x": 0.05
          },
          "xaxis": {
           "automargin": true,
           "gridcolor": "white",
           "linecolor": "white",
           "ticks": "",
           "title": {
            "standoff": 15
           },
           "zerolinecolor": "white",
           "zerolinewidth": 2
          },
          "yaxis": {
           "automargin": true,
           "gridcolor": "white",
           "linecolor": "white",
           "ticks": "",
           "title": {
            "standoff": 15
           },
           "zerolinecolor": "white",
           "zerolinewidth": 2
          }
         }
        },
        "title": {
         "font": {
          "color": "#F8FAFC",
          "size": 24
         },
         "text": "Stephen Curry 2016<br>Overall Shot Performance vs League Average",
         "x": 0.5,
         "xanchor": "center",
         "y": 0.97
        },
        "updatemenus": [
         {
          "bgcolor": "rgba(15, 23, 42, 0.9)",
          "bordercolor": "rgba(255, 255, 255, 0.2)",
          "buttons": [
           {
            "args": [
             {
              "visible": [
               true,
               true,
               false,
               false,
               false,
               false,
               false,
               false,
               false,
               false,
               false,
               false,
               false,
               false
              ]
             },
             {
              "title": "Overall Shot Performance vs League Average"
             }
            ],
            "label": "Overall",
            "method": "update"
           },
           {
            "args": [
             {
              "visible": [
               false,
               false,
               true,
               true,
               false,
               false,
               false,
               false,
               false,
               false,
               false,
               false,
               false,
               false
              ]
             },
             {
              "title": "Shot Performance vs League Average - Dunks"
             }
            ],
            "label": "Dunks",
            "method": "update"
           },
           {
            "args": [
             {
              "visible": [
               false,
               false,
               false,
               false,
               true,
               true,
               false,
               false,
               false,
               false,
               false,
               false,
               false,
               false
              ]
             },
             {
              "title": "Shot Performance vs League Average - Floating Shots"
             }
            ],
            "label": "Floating Shots",
            "method": "update"
           },
           {
            "args": [
             {
              "visible": [
               false,
               false,
               false,
               false,
               false,
               false,
               true,
               true,
               false,
               false,
               false,
               false,
               false,
               false
              ]
             },
             {
              "title": "Shot Performance vs League Average - Layups"
             }
            ],
            "label": "Layups",
            "method": "update"
           },
           {
            "args": [
             {
              "visible": [
               false,
               false,
               false,
               false,
               false,
               false,
               false,
               false,
               true,
               true,
               false,
               false,
               false,
               false
              ]
             },
             {
              "title": "Shot Performance vs League Average - Post Moves"
             }
            ],
            "label": "Post Moves",
            "method": "update"
           },
           {
            "args": [
             {
              "visible": [
               false,
               false,
               false,
               false,
               false,
               false,
               false,
               false,
               false,
               false,
               true,
               true,
               false,
               false
              ]
             },
             {
              "title": "Shot Performance vs League Average - Three Point Jumpers"
             }
            ],
            "label": "Three Point Jumpers",
            "method": "update"
           },
           {
            "args": [
             {
              "visible": [
               false,
               false,
               false,
               false,
               false,
               false,
               false,
               false,
               false,
               false,
               false,
               false,
               true,
               true
              ]
             },
             {
              "title": "Shot Performance vs League Average - Two Point Jumpers"
             }
            ],
            "label": "Two Point Jumpers",
            "method": "update"
           }
          ],
          "direction": "right",
          "font": {
           "color": "#F8FAFC",
           "size": 12
          },
          "pad": {
           "r": 10,
           "t": 10
          },
          "showactive": true,
          "type": "buttons",
          "x": 0.5,
          "xanchor": "center",
          "y": 1.15,
          "yanchor": "top"
         }
        ],
        "width": 1200,
        "xaxis": {
         "autorange": true,
         "gridcolor": "rgba(148, 163, 184, 0.1)",
         "range": [
          -0.5,
          5.5
         ],
         "tickangle": 45,
         "tickfont": {
          "color": "#F8FAFC",
          "size": 11
         },
         "type": "category"
        },
        "yaxis": {
         "gridcolor": "rgba(148, 163, 184, 0.1)",
         "range": [
          -20,
          20
         ],
         "tickfont": {
          "color": "#F8FAFC",
          "size": 11
         },
         "title": {
          "font": {
           "color": "#F8FAFC",
           "size": 14
          },
          "text": "% Above/Below League Average"
         },
         "type": "linear",
         "zeroline": false
        }
       }
      },
      "image/png": "[encoded data removed]",
      "text/html": [
       "<div>                            <div id=\"0562be23-2bac-4d41-a217-6a16cf643bd7\" class=\"plotly-graph-div\" style=\"height:700px; width:1200px;\"></div>            <script type=\"text/javascript\">                require([\"plotly\"], function(Plotly) {                    window.PLOTLYENV=window.PLOTLYENV || {};                                    if (document.getElementById(\"0562be23-2bac-4d41-a217-6a16cf643bd7\")) {                    Plotly.newPlot(                        \"0562be23-2bac-4d41-a217-6a16cf643bd7\",                        [{\"customdata\":[[68.04298642533936,53.08853169831134,55.388471177944865,401,884],[69.10569105691057,56.44372562077823,23.1203007518797,255,369],[38.16793893129771,37.453279329211966,16.416040100250626,100,262],[56.33802816901409,50.087785302232255,4.448621553884712,40,71],[100.0,90.8974485272387,0.43859649122807015,7,7],[33.333333333333336,49.678910865656306,0.18796992481203006,1,3]],\"hovertemplate\":\"\\u003cb\\u003e%{x}\\u003c\\u002fb\\u003e\\u003cbr\\u003eDifference: %{y:+.1f}%\\u003cbr\\u003ePlayer: %{customdata[0]:.1f}%\\u003cbr\\u003eLeague: %{customdata[1]:.1f}%\\u003cbr\\u003eShot Volume: %{customdata[2]:.0f}%\\u003cbr\\u003eMakes\\u002fAttempts: %{customdata[3]}\\u002f%{customdata[4]}\\u003cbr\\u003e\\u003cextra\\u003e\\u003c\\u002fextra\\u003e\",\"marker\":{\"color\":[\"rgba(34, 197, 94, 0.7)\",\"rgba(34, 197, 94, 0.7)\",\"rgba(34, 197, 94, 0.7)\",\"rgba(34, 197, 94, 0.7)\",\"rgba(34, 197, 94, 0.7)\",\"rgba(239, 68, 68, 0.7)\"],\"line\":{\"color\":[\"rgba(34, 197, 94, 1)\",\"rgba(34, 197, 94, 1)\",\"rgba(34, 197, 94, 1)\",\"rgba(34, 197, 94, 1)\",\"rgba(34, 197, 94, 1)\",\"rgba(239, 68, 68, 1)\"],\"width\":1}},\"name\":\"Overall Performance\",\"text\":[\"+15.0%\",\"+12.7%\",\"\",\"+6.3%\",\"+9.1%\",\"-16.3%\"],\"textfont\":{\"color\":\"#F8FAFC\",\"size\":11},\"textposition\":\"auto\",\"visible\":true,\"x\":[\"Three Point Jumpers\",\"Layups\",\"Two Point Jumpers\",\"Floating Shots\",\"Dunks\",\"Post Moves\"],\"y\":[14.954454727028022,12.661965436132341,0.7146596020857459,6.250242866781832,9.102551472761306,-16.34557753232297],\"type\":\"bar\"},{\"hoverinfo\":\"skip\",\"line\":{\"color\":\"rgba(226, 232, 240, 0.3)\",\"dash\":\"dash\",\"width\":1},\"mode\":\"lines\",\"name\":\"League Average\",\"visible\":true,\"x\":[\"Three Point Jumpers\",\"Layups\",\"Two Point Jumpers\",\"Floating Shots\",\"Dunks\",\"Post Moves\"],\"y\":[0,0,0,0,0,0],\"type\":\"scatter\"},{\"customdata\":[[100.0,89.63068181818183,57.14285714285714,4,4],[100.0,89.70136144049188,42.857142857142854,3,3]],\"hovertemplate\":\"\\u003cb\\u003e%{x}\\u003c\\u002fb\\u003e\\u003cbr\\u003eDifference: %{y:+.1f}%\\u003cbr\\u003ePlayer: %{customdata[0]:.1f}%\\u003cbr\\u003eLeague: %{customdata[1]:.1f}%\\u003cbr\\u003eShot Volume: %{customdata[2]:.0f}%\\u003cbr\\u003eMakes\\u002fAttempts: %{customdata[3]}\\u002f%{customdata[4]}\\u003cbr\\u003e\\u003cextra\\u003e\\u003c\\u002fextra\\u003e\",\"marker\":{\"color\":[\"rgba(34, 197, 94, 0.7)\",\"rgba(34, 197, 94, 0.7)\"],\"line\":{\"color\":[\"rgba(34, 197, 94, 1)\",\"rgba(34, 197, 94, 1)\"],\"width\":1}},\"name\":\"vs. League Average\",\"text\":[\"+10.4%\",\"+10.3%\"],\"textfont\":{\"color\":\"#F8FAFC\",\"size\":11},\"textposition\":\"auto\",\"visible\":false,\"x\":[\"Driving Dunk\",\"Standard Dunk\"],\"y\":[10.369318181818173,10.29863855950812],\"type\":\"bar\"},{\"hoverinfo\":\"skip\",\"line\":{\"color\":\"rgba(226, 232, 240, 0.3)\",\"dash\":\"dash\",\"width\":1},\"mode\":\"lines\",\"name\":\"League Average\",\"visible\":false,\"x\":[\"Driving Dunk\",\"Standard Dunk\"],\"y\":[0,0],\"type\":\"scatter\"},{\"customdata\":[[56.33802816901409,50.24599470165258,100.0,40,71]],\"hovertemplate\":\"\\u003cb\\u003e%{x}\\u003c\\u002fb\\u003e\\u003cbr\\u003eDifference: %{y:+.1f}%\\u003cbr\\u003ePlayer: %{customdata[0]:.1f}%\\u003cbr\\u003eLeague: %{customdata[1]:.1f}%\\u003cbr\\u003eShot Volume: %{customdata[2]:.0f}%\\u003cbr\\u003eMakes\\u002fAttempts: %{customdata[3]}\\u002f%{customdata[4]}\\u003cbr\\u003e\\u003cextra\\u003e\\u003c\\u002fextra\\u003e\",\"marker\":{\"color\":[\"rgba(34, 197, 94, 0.7)\"],\"line\":{\"color\":[\"rgba(34, 197, 94, 1)\"],\"width\":1}},\"name\":\"vs. League Average\",\"text\":[\"+6.1%\"],\"textfont\":{\"color\":\"#F8FAFC\",\"size\":11},\"textposition\":\"auto\",\"visible\":false,\"x\":[\"2PT Floating Jump Shot\"],\"y\":[6.09203346736151],\"type\":\"bar\"},{\"hoverinfo\":\"skip\",\"line\":{\"color\":\"rgba(226, 232, 240, 0.3)\",\"dash\":\"dash\",\"width\":1},\"mode\":\"lines\",\"name\":\"League Average\",\"visible\":false,\"x\":[\"2PT Floating Jump Shot\"],\"y\":[0],\"type\":\"scatter\"},{\"customdata\":[[52.0,50.22779953640796,33.87533875338754,65,125],[84.82142857142857,75.49986670221274,30.35230352303523,95,112],[72.54901960784314,60.90614440383422,27.64227642276423,74,102],[76.0,63.24593128390597,6.775067750677506,19,25],[25.0,55.816210969098854,1.084010840108401,1,4],[100.0,65.65315315315316,0.27100271002710025,1,1]],\"hovertemplate\":\"\\u003cb\\u003e%{x}\\u003c\\u002fb\\u003e\\u003cbr\\u003eDifference: %{y:+.1f}%\\u003cbr\\u003ePlayer: %{customdata[0]:.1f}%\\u003cbr\\u003eLeague: %{customdata[1]:.1f}%\\u003cbr\\u003eShot Volume: %{customdata[2]:.0f}%\\u003cbr\\u003eMakes\\u002fAttempts: %{customdata[3]}\\u002f%{customdata[4]}\\u003cbr\\u003e\\u003cextra\\u003e\\u003c\\u002fextra\\u003e\",\"marker\":{\"color\":[\"rgba(34, 197, 94, 0.7)\",\"rgba(34, 197, 94, 0.7)\",\"rgba(34, 197, 94, 0.7)\",\"rgba(34, 197, 94, 0.7)\",\"rgba(239, 68, 68, 0.7)\",\"rgba(34, 197, 94, 0.7)\"],\"line\":{\"color\":[\"rgba(34, 197, 94, 1)\",\"rgba(34, 197, 94, 1)\",\"rgba(34, 197, 94, 1)\",\"rgba(34, 197, 94, 1)\",\"rgba(239, 68, 68, 1)\",\"rgba(34, 197, 94, 1)\"],\"width\":1}},\"name\":\"vs. League Average\",\"text\":[\"\",\"+9.3%\",\"+11.6%\",\"+12.8%\",\"-30.8%\",\"+34.3%\"],\"textfont\":{\"color\":\"#F8FAFC\",\"size\":11},\"textposition\":\"auto\",\"visible\":false,\"x\":[\"Standard Layup\",\"Finger Roll\",\"Driving Layup\",\"Reverse Layup\",\"Putback Layup\",\"Alley Oop Layup\"],\"y\":[1.7722004635920428,9.321561869215827,11.642875204008917,12.754068716094032,-30.816210969098854,34.346846846846844],\"type\":\"bar\"},{\"hoverinfo\":\"skip\",\"line\":{\"color\":\"rgba(226, 232, 240, 0.3)\",\"dash\":\"dash\",\"width\":1},\"mode\":\"lines\",\"name\":\"League Average\",\"visible\":false,\"x\":[\"Standard Layup\",\"Finger Roll\",\"Driving Layup\",\"Reverse Layup\",\"Putback Layup\",\"Alley Oop Layup\"],\"y\":[0,0,0,0,0,0],\"type\":\"scatter\"},{\"customdata\":[[0.0,45.824720959074,66.66666666666666,0,2],[100.0,56.395891690009336,33.33333333333333,1,1]],\"hovertemplate\":\"\\u003cb\\u003e%{x}\\u003c\\u002fb\\u003e\\u003cbr\\u003eDifference: %{y:+.1f}%\\u003cbr\\u003ePlayer: %{customdata[0]:.1f}%\\u003cbr\\u003eLeague: %{customdata[1]:.1f}%\\u003cbr\\u003eShot Volume: %{customdata[2]:.0f}%\\u003cbr\\u003eMakes\\u002fAttempts: %{customdata[3]}\\u002f%{customdata[4]}\\u003cbr\\u003e\\u003cextra\\u003e\\u003c\\u002fextra\\u003e\",\"marker\":{\"color\":[\"rgba(239, 68, 68, 0.7)\",\"rgba(34, 197, 94, 0.7)\"],\"line\":{\"color\":[\"rgba(239, 68, 68, 1)\",\"rgba(34, 197, 94, 1)\"],\"width\":1}},\"name\":\"vs. League Average\",\"text\":[\"-45.8%\",\"+43.6%\"],\"textfont\":{\"color\":\"#F8FAFC\",\"size\":11},\"textposition\":\"auto\",\"visible\":false,\"x\":[\"Hook Shot\",\"Driving Hook Shot\"],\"y\":[-45.824720959074,43.604108309990664],\"type\":\"bar\"},{\"hoverinfo\":\"skip\",\"line\":{\"color\":\"rgba(226, 232, 240, 0.3)\",\"dash\":\"dash\",\"width\":1},\"mode\":\"lines\",\"name\":\"League Average\",\"visible\":false,\"x\":[\"Hook Shot\",\"Driving Hook Shot\"],\"y\":[0,0],\"type\":\"scatter\"},{\"customdata\":[[52.131147540983605,51.24282100053554,69.00452488687783,212,610],[107.7127659574468,77.75530839231547,21.266968325791854,135,188],[94.0677966101695,69.10766246362755,6.67420814479638,37,59],[95.45454545454545,66.73728813559322,1.244343891402715,7,11],[105.0,67.28971962616822,1.1312217194570136,7,10],[60.0,40.0,0.5656108597285068,2,5],[150.0,75.0,0.11312217194570137,1,1]],\"hovertemplate\":\"\\u003cb\\u003e%{x}\\u003c\\u002fb\\u003e\\u003cbr\\u003eDifference: %{y:+.1f}%\\u003cbr\\u003ePlayer: %{customdata[0]:.1f}%\\u003cbr\\u003eLeague: %{customdata[1]:.1f}%\\u003cbr\\u003eShot Volume: %{customdata[2]:.0f}%\\u003cbr\\u003eMakes\\u002fAttempts: %{customdata[3]}\\u002f%{customdata[4]}\\u003cbr\\u003e\\u003cextra\\u003e\\u003c\\u002fextra\\u003e\",\"marker\":{\"color\":[\"rgba(34, 197, 94, 0.7)\",\"rgba(34, 197, 94, 0.7)\",\"rgba(34, 197, 94, 0.7)\",\"rgba(34, 197, 94, 0.7)\",\"rgba(34, 197, 94, 0.7)\",\"rgba(34, 197, 94, 0.7)\",\"rgba(34, 197, 94, 0.7)\"],\"line\":{\"color\":[\"rgba(34, 197, 94, 1)\",\"rgba(34, 197, 94, 1)\",\"rgba(34, 197, 94, 1)\",\"rgba(34, 197, 94, 1)\",\"rgba(34, 197, 94, 1)\",\"rgba(34, 197, 94, 1)\",\"rgba(34, 197, 94, 1)\"],\"width\":1}},\"name\":\"vs. League Average\",\"text\":[\"\",\"+30.0%\",\"+25.0%\",\"+28.7%\",\"+37.7%\",\"+20.0%\",\"+75.0%\"],\"textfont\":{\"color\":\"#F8FAFC\",\"size\":11},\"textposition\":\"auto\",\"visible\":false,\"x\":[\"3PT Jump Shot\",\"3PT Pullup Jump Shot\",\"3PT Step Back Jump Shot\",\"3PT Running Jump Shot\",\"3PT Fadeaway Jump Shot\",\"3PT Turnaround Jump Shot\",\"3PT Driving Jump Shot\"],\"y\":[0.8883265404480625,29.957457565131335,24.960134146541947,28.717257318952235,37.71028037383178,20.0,75.0],\"type\":\"bar\"},{\"hoverinfo\":\"skip\",\"line\":{\"color\":\"rgba(226, 232, 240, 0.3)\",\"dash\":\"dash\",\"width\":1},\"mode\":\"lines\",\"name\":\"League Average\",\"visible\":false,\"x\":[\"3PT Jump Shot\",\"3PT Pullup Jump Shot\",\"3PT Step Back Jump Shot\",\"3PT Running Jump Shot\",\"3PT Fadeaway Jump Shot\",\"3PT Turnaround Jump Shot\",\"3PT Driving Jump Shot\"],\"y\":[0,0,0,0,0,0,0],\"type\":\"scatter\"},{\"customdata\":[[26.351351351351347,30.69912096930952,56.48854961832062,39,148],[57.57575757575758,54.60533193936226,12.595419847328243,19,33],[51.515151515151516,49.81251802711278,12.595419847328243,17,33],[66.66666666666666,45.141627823592685,5.7251908396946565,10,15],[53.84615384615385,45.77583305284416,4.961832061068702,7,13],[50.0,63.76518218623482,4.580152671755725,6,12],[25.0,45.618729096989966,3.0534351145038165,2,8]],\"hovertemplate\":\"\\u003cb\\u003e%{x}\\u003c\\u002fb\\u003e\\u003cbr\\u003eDifference: %{y:+.1f}%\\u003cbr\\u003ePlayer: %{customdata[0]:.1f}%\\u003cbr\\u003eLeague: %{customdata[1]:.1f}%\\u003cbr\\u003eShot Volume: %{customdata[2]:.0f}%\\u003cbr\\u003eMakes\\u002fAttempts: %{customdata[3]}\\u002f%{customdata[4]}\\u003cbr\\u003e\\u003cextra\\u003e\\u003c\\u002fextra\\u003e\",\"marker\":{\"color\":[\"rgba(239, 68, 68, 0.7)\",\"rgba(34, 197, 94, 0.7)\",\"rgba(34, 197, 94, 0.7)\",\"rgba(34, 197, 94, 0.7)\",\"rgba(34, 197, 94, 0.7)\",\"rgba(239, 68, 68, 0.7)\",\"rgba(239, 68, 68, 0.7)\"],\"line\":{\"color\":[\"rgba(239, 68, 68, 1)\",\"rgba(34, 197, 94, 1)\",\"rgba(34, 197, 94, 1)\",\"rgba(34, 197, 94, 1)\",\"rgba(34, 197, 94, 1)\",\"rgba(239, 68, 68, 1)\",\"rgba(239, 68, 68, 1)\"],\"width\":1}},\"name\":\"vs. League Average\",\"text\":[\"-4.3%\",\"+3.0%\",\"\",\"+21.5%\",\"+8.1%\",\"-13.8%\",\"-20.6%\"],\"textfont\":{\"color\":\"#F8FAFC\",\"size\":11},\"textposition\":\"auto\",\"visible\":false,\"x\":[\"2PT Jump Shot\",\"2PT Pullup Jump Shot\",\"2PT Step Back Jump Shot\",\"2PT Turnaround Jump Shot\",\"2PT Fadeaway Jump Shot\",\"2PT Driving Jump Shot\",\"2PT Running Jump Shot\"],\"y\":[-4.347769617958171,2.970425636395319,1.7026334880387353,21.525038843073972,8.070320793309683,-13.765182186234817,-20.618729096989966],\"type\":\"bar\"},{\"hoverinfo\":\"skip\",\"line\":{\"color\":\"rgba(226, 232, 240, 0.3)\",\"dash\":\"dash\",\"width\":1},\"mode\":\"lines\",\"name\":\"League Average\",\"visible\":false,\"x\":[\"2PT Jump Shot\",\"2PT Pullup Jump Shot\",\"2PT Step Back Jump Shot\",\"2PT Turnaround Jump Shot\",\"2PT Fadeaway Jump Shot\",\"2PT Driving Jump Shot\",\"2PT Running Jump Shot\"],\"y\":[0,0,0,0,0,0,0],\"type\":\"scatter\"}],                        {\"template\":{\"data\":{\"histogram2dcontour\":[{\"type\":\"histogram2dcontour\",\"colorbar\":{\"outlinewidth\":0,\"ticks\":\"\"},\"colorscale\":[[0.0,\"#0d0887\"],[0.1111111111111111,\"#46039f\"],[0.2222222222222222,\"#7201a8\"],[0.3333333333333333,\"#9c179e\"],[0.4444444444444444,\"#bd3786\"],[0.5555555555555556,\"#d8576b\"],[0.6666666666666666,\"#ed7953\"],[0.7777777777777778,\"#fb9f3a\"],[0.8888888888888888,\"#fdca26\"],[1.0,\"#f0f921\"]]}],\"choropleth\":[{\"type\":\"choropleth\",\"colorbar\":{\"outlinewidth\":0,\"ticks\":\"\"}}],\"histogram2d\":[{\"type\":\"histogram2d\",\"colorbar\":{\"outlinewidth\":0,\"ticks\":\"\"},\"colorscale\":[[0.0,\"#0d0887\"],[0.1111111111111111,\"#46039f\"],[0.2222222222222222,\"#7201a8\"],[0.3333333333333333,\"#9c179e\"],[0.4444444444444444,\"#bd3786\"],[0.5555555555555556,\"#d8576b\"],[0.6666666666666666,\"#ed7953\"],[0.7777777777777778,\"#fb9f3a\"],[0.8888888888888888,\"#fdca26\"],[1.0,\"#f0f921\"]]}],\"heatmap\":[{\"type\":\"heatmap\",\"colorbar\":{\"outlinewidth\":0,\"ticks\":\"\"},\"colorscale\":[[0.0,\"#0d0887\"],[0.1111111111111111,\"#46039f\"],[0.2222222222222222,\"#7201a8\"],[0.3333333333333333,\"#9c179e\"],[0.4444444444444444,\"#bd3786\"],[0.5555555555555556,\"#d8576b\"],[0.6666666666666666,\"#ed7953\"],[0.7777777777777778,\"#fb9f3a\"],[0.8888888888888888,\"#fdca26\"],[1.0,\"#f0f921\"]]}],\"heatmapgl\":[{\"type\":\"heatmapgl\",\"colorbar\":{\"outlinewidth\":0,\"ticks\":\"\"},\"colorscale\":[[0.0,\"#0d0887\"],[0.1111111111111111,\"#46039f\"],[0.2222222222222222,\"#7201a8\"],[0.3333333333333333,\"#9c179e\"],[0.4444444444444444,\"#bd3786\"],[0.5555555555555556,\"#d8576b\"],[0.6666666666666666,\"#ed7953\"],[0.7777777777777778,\"#fb9f3a\"],[0.8888888888888888,\"#fdca26\"],[1.0,\"#f0f921\"]]}],\"contourcarpet\":[{\"type\":\"contourcarpet\",\"colorbar\":{\"outlinewidth\":0,\"ticks\":\"\"}}],\"contour\":[{\"type\":\"contour\",\"colorbar\":{\"outlinewidth\":0,\"ticks\":\"\"},\"colorscale\":[[0.0,\"#0d0887\"],[0.1111111111111111,\"#46039f\"],[0.2222222222222222,\"#7201a8\"],[0.3333333333333333,\"#9c179e\"],[0.4444444444444444,\"#bd3786\"],[0.5555555555555556,\"#d8576b\"],[0.6666666666666666,\"#ed7953\"],[0.7777777777777778,\"#fb9f3a\"],[0.8888888888888888,\"#fdca26\"],[1.0,\"#f0f921\"]]}],\"surface\":[{\"type\":\"surface\",\"colorbar\":{\"outlinewidth\":0,\"ticks\":\"\"},\"colorscale\":[[0.0,\"#0d0887\"],[0.1111111111111111,\"#46039f\"],[0.2222222222222222,\"#7201a8\"],[0.3333333333333333,\"#9c179e\"],[0.4444444444444444,\"#bd3786\"],[0.5555555555555556,\"#d8576b\"],[0.6666666666666666,\"#ed7953\"],[0.7777777777777778,\"#fb9f3a\"],[0.8888888888888888,\"#fdca26\"],[1.0,\"#f0f921\"]]}],\"mesh3d\":[{\"type\":\"mesh3d\",\"colorbar\":{\"outlinewidth\":0,\"ticks\":\"\"}}],\"scatter\":[{\"fillpattern\":{\"fillmode\":\"overlay\",\"size\":10,\"solidity\":0.2},\"type\":\"scatter\"}],\"parcoords\":[{\"type\":\"parcoords\",\"line\":{\"colorbar\":{\"outlinewidth\":0,\"ticks\":\"\"}}}],\"scatterpolargl\":[{\"type\":\"scatterpolargl\",\"marker\":{\"colorbar\":{\"outlinewidth\":0,\"ticks\":\"\"}}}],\"bar\":[{\"error_x\":{\"color\":\"#2a3f5f\"},\"error_y\":{\"color\":\"#2a3f5f\"},\"marker\":{\"line\":{\"color\":\"#E5ECF6\",\"width\":0.5},\"pattern\":{\"fillmode\":\"overlay\",\"size\":10,\"solidity\":0.2}},\"type\":\"bar\"}],\"scattergeo\":[{\"type\":\"scattergeo\",\"marker\":{\"colorbar\":{\"outlinewidth\":0,\"ticks\":\"\"}}}],\"scatterpolar\":[{\"type\":\"scatterpolar\",\"marker\":{\"colorbar\":{\"outlinewidth\":0,\"ticks\":\"\"}}}],\"histogram\":[{\"marker\":{\"pattern\":{\"fillmode\":\"overlay\",\"size\":10,\"solidity\":0.2}},\"type\":\"histogram\"}],\"scattergl\":[{\"type\":\"scattergl\",\"marker\":{\"colorbar\":{\"outlinewidth\":0,\"ticks\":\"\"}}}],\"scatter3d\":[{\"type\":\"scatter3d\",\"line\":{\"colorbar\":{\"outlinewidth\":0,\"ticks\":\"\"}},\"marker\":{\"colorbar\":{\"outlinewidth\":0,\"ticks\":\"\"}}}],\"scattermapbox\":[{\"type\":\"scattermapbox\",\"marker\":{\"colorbar\":{\"outlinewidth\":0,\"ticks\":\"\"}}}],\"scatterternary\":[{\"type\":\"scatterternary\",\"marker\":{\"colorbar\":{\"outlinewidth\":0,\"ticks\":\"\"}}}],\"scattercarpet\":[{\"type\":\"scattercarpet\",\"marker\":{\"colorbar\":{\"outlinewidth\":0,\"ticks\":\"\"}}}],\"carpet\":[{\"aaxis\":{\"endlinecolor\":\"#2a3f5f\",\"gridcolor\":\"white\",\"linecolor\":\"white\",\"minorgridcolor\":\"white\",\"startlinecolor\":\"#2a3f5f\"},\"baxis\":{\"endlinecolor\":\"#2a3f5f\",\"gridcolor\":\"white\",\"linecolor\":\"white\",\"minorgridcolor\":\"white\",\"startlinecolor\":\"#2a3f5f\"},\"type\":\"carpet\"}],\"table\":[{\"cells\":{\"fill\":{\"color\":\"#EBF0F8\"},\"line\":{\"color\":\"white\"}},\"header\":{\"fill\":{\"color\":\"#C8D4E3\"},\"line\":{\"color\":\"white\"}},\"type\":\"table\"}],\"barpolar\":[{\"marker\":{\"line\":{\"color\":\"#E5ECF6\",\"width\":0.5},\"pattern\":{\"fillmode\":\"overlay\",\"size\":10,\"solidity\":0.2}},\"type\":\"barpolar\"}],\"pie\":[{\"automargin\":true,\"type\":\"pie\"}]},\"layout\":{\"autotypenumbers\":\"strict\",\"colorway\":[\"#636efa\",\"#EF553B\",\"#00cc96\",\"#ab63fa\",\"#FFA15A\",\"#19d3f3\",\"#FF6692\",\"#B6E880\",\"#FF97FF\",\"#FECB52\"],\"font\":{\"color\":\"#2a3f5f\"},\"hovermode\":\"closest\",\"hoverlabel\":{\"align\":\"left\"},\"paper_bgcolor\":\"white\",\"plot_bgcolor\":\"#E5ECF6\",\"polar\":{\"bgcolor\":\"#E5ECF6\",\"angularaxis\":{\"gridcolor\":\"white\",\"linecolor\":\"white\",\"ticks\":\"\"},\"radialaxis\":{\"gridcolor\":\"white\",\"linecolor\":\"white\",\"ticks\":\"\"}},\"ternary\":{\"bgcolor\":\"#E5ECF6\",\"aaxis\":{\"gridcolor\":\"white\",\"linecolor\":\"white\",\"ticks\":\"\"},\"baxis\":{\"gridcolor\":\"white\",\"linecolor\":\"white\",\"ticks\":\"\"},\"caxis\":{\"gridcolor\":\"white\",\"linecolor\":\"white\",\"ticks\":\"\"}},\"coloraxis\":{\"colorbar\":{\"outlinewidth\":0,\"ticks\":\"\"}},\"colorscale\":{\"sequential\":[[0.0,\"#0d0887\"],[0.1111111111111111,\"#46039f\"],[0.2222222222222222,\"#7201a8\"],[0.3333333333333333,\"#9c179e\"],[0.4444444444444444,\"#bd3786\"],[0.5555555555555556,\"#d8576b\"],[0.6666666666666666,\"#ed7953\"],[0.7777777777777778,\"#fb9f3a\"],[0.8888888888888888,\"#fdca26\"],[1.0,\"#f0f921\"]],\"sequentialminus\":[[0.0,\"#0d0887\"],[0.1111111111111111,\"#46039f\"],[0.2222222222222222,\"#7201a8\"],[0.3333333333333333,\"#9c179e\"],[0.4444444444444444,\"#bd3786\"],[0.5555555555555556,\"#d8576b\"],[0.6666666666666666,\"#ed7953\"],[0.7777777777777778,\"#fb9f3a\"],[0.8888888888888888,\"#fdca26\"],[1.0,\"#f0f921\"]],\"diverging\":[[0,\"#8e0152\"],[0.1,\"#c51b7d\"],[0.2,\"#de77ae\"],[0.3,\"#f1b6da\"],[0.4,\"#fde0ef\"],[0.5,\"#f7f7f7\"],[0.6,\"#e6f5d0\"],[0.7,\"#b8e186\"],[0.8,\"#7fbc41\"],[0.9,\"#4d9221\"],[1,\"#276419\"]]},\"xaxis\":{\"gridcolor\":\"white\",\"linecolor\":\"white\",\"ticks\":\"\",\"title\":{\"standoff\":15},\"zerolinecolor\":\"white\",\"automargin\":true,\"zerolinewidth\":2},\"yaxis\":{\"gridcolor\":\"white\",\"linecolor\":\"white\",\"ticks\":\"\",\"title\":{\"standoff\":15},\"zerolinecolor\":\"white\",\"automargin\":true,\"zerolinewidth\":2},\"scene\":{\"xaxis\":{\"backgroundcolor\":\"#E5ECF6\",\"gridcolor\":\"white\",\"linecolor\":\"white\",\"showbackground\":true,\"ticks\":\"\",\"zerolinecolor\":\"white\",\"gridwidth\":2},\"yaxis\":{\"backgroundcolor\":\"#E5ECF6\",\"gridcolor\":\"white\",\"linecolor\":\"white\",\"showbackground\":true,\"ticks\":\"\",\"zerolinecolor\":\"white\",\"gridwidth\":2},\"zaxis\":{\"backgroundcolor\":\"#E5ECF6\",\"gridcolor\":\"white\",\"linecolor\":\"white\",\"showbackground\":true,\"ticks\":\"\",\"zerolinecolor\":\"white\",\"gridwidth\":2}},\"shapedefaults\":{\"line\":{\"color\":\"#2a3f5f\"}},\"annotationdefaults\":{\"arrowcolor\":\"#2a3f5f\",\"arrowhead\":0,\"arrowwidth\":1},\"geo\":{\"bgcolor\":\"white\",\"landcolor\":\"#E5ECF6\",\"subunitcolor\":\"white\",\"showland\":true,\"showlakes\":true,\"lakecolor\":\"white\"},\"title\":{\"x\":0.05},\"mapbox\":{\"style\":\"light\"}}},\"title\":{\"font\":{\"size\":24,\"color\":\"#F8FAFC\"},\"text\":\"Stephen Curry 2016\\u003cbr\\u003eOverall Shot Performance vs League Average\",\"y\":0.97,\"x\":0.5,\"xanchor\":\"center\"},\"xaxis\":{\"tickfont\":{\"size\":11,\"color\":\"#F8FAFC\"},\"tickangle\":45,\"gridcolor\":\"rgba(148, 163, 184, 0.1)\"},\"yaxis\":{\"title\":{\"font\":{\"size\":14,\"color\":\"#F8FAFC\"},\"text\":\"% Above\\u002fBelow League Average\"},\"tickfont\":{\"size\":11,\"color\":\"#F8FAFC\"},\"gridcolor\":\"rgba(148, 163, 184, 0.1)\",\"zeroline\":false,\"range\":[-20,20]},\"margin\":{\"t\":150,\"b\":100,\"l\":80,\"r\":80},\"showlegend\":false,\"updatemenus\":[{\"bgcolor\":\"rgba(15, 23, 42, 0.9)\",\"bordercolor\":\"rgba(255, 255, 255, 0.2)\",\"buttons\":[{\"args\":[{\"visible\":[true,true,false,false,false,false,false,false,false,false,false,false,false,false]},{\"title\":\"Overall Shot Performance vs League Average\"}],\"label\":\"Overall\",\"method\":\"update\"},{\"args\":[{\"visible\":[false,false,true,true,false,false,false,false,false,false,false,false,false,false]},{\"title\":\"Shot Performance vs League Average - Dunks\"}],\"label\":\"Dunks\",\"method\":\"update\"},{\"args\":[{\"visible\":[false,false,false,false,true,true,false,false,false,false,false,false,false,false]},{\"title\":\"Shot Performance vs League Average - Floating Shots\"}],\"label\":\"Floating Shots\",\"method\":\"update\"},{\"args\":[{\"visible\":[false,false,false,false,false,false,true,true,false,false,false,false,false,false]},{\"title\":\"Shot Performance vs League Average - Layups\"}],\"label\":\"Layups\",\"method\":\"update\"},{\"args\":[{\"visible\":[false,false,false,false,false,false,false,false,true,true,false,false,false,false]},{\"title\":\"Shot Performance vs League Average - Post Moves\"}],\"label\":\"Post Moves\",\"method\":\"update\"},{\"args\":[{\"visible\":[false,false,false,false,false,false,false,false,false,false,true,true,false,false]},{\"title\":\"Shot Performance vs League Average - Three Point Jumpers\"}],\"label\":\"Three Point Jumpers\",\"method\":\"update\"},{\"args\":[{\"visible\":[false,false,false,false,false,false,false,false,false,false,false,false,true,true]},{\"title\":\"Shot Performance vs League Average - Two Point Jumpers\"}],\"label\":\"Two Point Jumpers\",\"method\":\"update\"}],\"direction\":\"right\",\"font\":{\"color\":\"#F8FAFC\",\"size\":12},\"pad\":{\"r\":10,\"t\":10},\"showactive\":true,\"type\":\"buttons\",\"x\":0.5,\"xanchor\":\"center\",\"y\":1.15,\"yanchor\":\"top\"}],\"width\":1200,\"height\":700,\"plot_bgcolor\":\"rgba(0, 0, 0, 0)\",\"paper_bgcolor\":\"rgba(0, 0, 0, 0)\",\"shapes\":[{\"fillcolor\":\"rgba(34, 197, 94, 0.05)\",\"layer\":\"below\",\"line\":{\"width\":0},\"type\":\"rect\",\"x0\":0,\"x1\":1,\"xref\":\"x domain\",\"y0\":5,\"y1\":20,\"yref\":\"y\"},{\"fillcolor\":\"rgba(226, 232, 240, 0.05)\",\"layer\":\"below\",\"line\":{\"width\":0},\"type\":\"rect\",\"x0\":0,\"x1\":1,\"xref\":\"x domain\",\"y0\":-5,\"y1\":5,\"yref\":\"y\"},{\"fillcolor\":\"rgba(239, 68, 68, 0.05)\",\"layer\":\"below\",\"line\":{\"width\":0},\"type\":\"rect\",\"x0\":0,\"x1\":1,\"xref\":\"x domain\",\"y0\":-20,\"y1\":-5,\"yref\":\"y\"}]},                        {\"responsive\": true}                    ).then(function(){\n",
       "                            \n",
       "var gd = document.getElementById('0562be23-2bac-4d41-a217-6a16cf643bd7');\n",
       "var x = new MutationObserver(function (mutations, observer) {{\n",
       "        var display = window.getComputedStyle(gd).display;\n",
       "        if (!display || display === 'none') {{\n",
       "            console.log([gd, 'removed!']);\n",
       "            Plotly.purge(gd);\n",
       "            observer.disconnect();\n",
       "        }}\n",
       "}});\n",
       "\n",
       "// Listen for the removal of the full notebook cells\n",
       "var notebookContainer = gd.closest('#notebook-container');\n",
       "if (notebookContainer) {{\n",
       "    x.observe(notebookContainer, {childList: true});\n",
       "}}\n",
       "\n",
       "// Listen for the clearing of the current output cell\n",
       "var outputEl = gd.closest('.output');\n",
       "if (outputEl) {{\n",
       "    x.observe(outputEl, {childList: true});\n",
       "}}\n",
       "\n",
       "                        })                };                });            </script>        </div>"
      ]
     },
     "metadata": {},
     "output_type": "display_data"
    }
   ],
   "source": [
    "import plotly.graph_objects as go\n",
    "import pandas as pd\n",
    "# Example data structure (replace with actual data passed in your Flask app)\n",
    "selected_player='201939'\n",
    "\n",
    "\n",
    "selected_year=2016\n",
    "def shot_performance(selected_player, selected_year):\n",
    "    avg_df = pd.read_csv('https://raw.githubusercontent.com/gabriel1200/shot_data/refs/heads/master/shot_types.csv')\n",
    "    print(avg_df[(avg_df.year==2016)&(avg_df.shot_group=='THREE_POINT_JUMPERS')]['shot_makes'].sum()/avg_df[(avg_df.year==2016)&(avg_df.shot_group=='THREE_POINT_JUMPERS')]['shot_count'].sum())\n",
    "    player_df = pd.read_csv(f'https://raw.githubusercontent.com/gabriel1200/shot_averages/refs/heads/main/{selected_player}.csv')\n",
    "\n",
    "   \n",
    "\n",
    "    player_df = player_df[player_df.year.astype(str)==str(selected_year)]\n",
    "    print(player_df[player_df.shot_group.str.contains('THREE')])\n",
    "    avg_df = avg_df[avg_df.year==selected_year]\n",
    "    print(avg_df[avg_df.shot_group.str.contains('THREE')])\n",
    "\n",
    "\n",
    "    # Clean the data by removing rows with NaN shot_group\n",
    "    avg_df = avg_df.dropna(subset=['shot_group'])\n",
    "    player_df = player_df.dropna(subset=['shot_group'])\n",
    "\n",
    "    player_name=player_df['PLAYER_NAME'].iloc[0]\n",
    "\n",
    "    # Define shot type categories\n",
    "    shot_type_mapping = {\n",
    "        'TWO_POINT_JUMPERS': '2PT Field Goal',\n",
    "        'THREE_POINT_JUMPERS': '3PT Field Goal',\n",
    "        'LAYUPS': '2PT Field Goal',\n",
    "        'DUNKS': '2PT Field Goal',\n",
    "        'POST_MOVES': '2PT Field Goal',\n",
    "        'FLOATING_SHOTS': lambda x: '3PT Field Goal' if '3PT' in x else '2PT Field Goal',\n",
    "        'TIP_SHOTS': '2PT Field Goal',\n",
    "        'NO_SHOT': '2PT Field Goal'\n",
    "    }\n",
    "\n",
    "    # Apply shot type mapping with error handling\n",
    "    def get_shot_type(row):\n",
    "        try:\n",
    "            mapping = shot_type_mapping[row['shot_group']]\n",
    "            if callable(mapping):\n",
    "                return mapping(row['shot_description'])\n",
    "            return mapping\n",
    "        except (KeyError, TypeError):\n",
    "            return '2PT Field Goal'\n",
    "\n",
    "    player_df['shot_type'] = player_df.apply(get_shot_type, axis=1)\n",
    "    avg_df['shot_type'] = avg_df.apply(get_shot_type, axis=1)\n",
    "    print(player_df['shot_count'].sum())\n",
    "    # Calculate EFG%\n",
    "    value_map = {'2PT Field Goal': 1, '3PT Field Goal': 1.5}\n",
    "    avg_df['shot_value'] = avg_df['shot_type'].map(value_map)\n",
    "    player_df['shot_value'] = player_df['shot_type'].map(value_map)\n",
    "\n",
    "    avg_df['efg%'] = (avg_df['shot_makes'] * avg_df['shot_value']) / avg_df['shot_count']\n",
    "    player_df['efg%'] = (player_df['shot_makes'] * player_df['shot_value']) / player_df['shot_count']\n",
    "\n",
    "    # Get all valid shot groups from the data\n",
    "    shot_groups = sorted(player_df['shot_group'].unique())\n",
    "\n",
    "    def get_overall_data():\n",
    "        filtered_df = player_df.copy()\n",
    "        avg_df_filtered = avg_df.copy()\n",
    "        \n",
    "        overall_data = []\n",
    "        total_shots = filtered_df['shot_count'].sum()\n",
    "        \n",
    "        for group in shot_groups:\n",
    "            group_shots = filtered_df[filtered_df['shot_group'] == group]\n",
    "            avg_group_shots=avg_df_filtered[avg_df_filtered['shot_group']==group]\n",
    "            if not group_shots.empty:\n",
    "                attempts = group_shots['shot_count'].sum()\n",
    "                makes = group_shots['shot_makes'].sum()\n",
    "                \n",
    "                avg_attempts = avg_group_shots['shot_count'].sum()\n",
    "                avg_makes = avg_group_shots['shot_makes'].sum()\n",
    "                shot_value =1.5 if 'three' in group.lower() else 1\n",
    "                print(group)\n",
    "                print(shot_value)\n",
    "                \n",
    "                player_pct = 100*(makes * shot_value) / attempts\n",
    "                \n",
    "                group_league_pct = 100*(avg_makes * shot_value) / avg_attempts\n",
    "\n",
    "                \n",
    "               \n",
    "                    \n",
    "                overall_data.append({\n",
    "                    'shot_description': group.replace('_', ' ').title(),\n",
    "                    'player_pct': player_pct,\n",
    "                    'league_pct': group_league_pct,\n",
    "                    'difference': player_pct - group_league_pct,\n",
    "                    'attempts': attempts,\n",
    "                    'makes': makes,\n",
    "                    'volume_pct': (attempts / total_shots) * 100\n",
    "                })\n",
    "        \n",
    "        return sorted(overall_data, key=lambda x: x['attempts'], reverse=True)\n",
    "\n",
    "    # Rest of your visualization code remains the same...\n",
    "    \n",
    "    def get_shot_data(selected_group):\n",
    "   \n",
    "        group_df = player_df[\n",
    "            (player_df['shot_group'] == selected_group) \n",
    "        ].reset_index()\n",
    "        avg_df_filtered = avg_df[avg_df['shot_group']==selected_group].reset_index()\n",
    "\n",
    "        shot_data = []\n",
    "        for shot_desc in group_df['shot_description'].unique():\n",
    "            player_shots = group_df[group_df['shot_description'] == shot_desc]\n",
    " \n",
    "            league_avg = avg_df_filtered[\n",
    "                (avg_df_filtered['shot_description'] == shot_desc) & \n",
    "                (avg_df_filtered['year'] == int(selected_year))\n",
    "            ]\n",
    " \n",
    "\n",
    "            if not player_shots.empty and not league_avg.empty:\n",
    "                attempts = player_shots['shot_count'].sum()\n",
    "                makes = player_shots['shot_makes'].sum()\n",
    "                player_pct = player_shots['efg%'].iloc[0] * 100\n",
    "                league_pct = league_avg['efg%'].iloc[0] * 100\n",
    "                \n",
    "                shot_data.append({\n",
    "                    'shot_description': shot_desc,\n",
    "                    'player_pct': player_pct,\n",
    "                    'league_pct': league_pct,\n",
    "                    'difference': player_pct - league_pct,\n",
    "                    'attempts': attempts,\n",
    "                    'makes': makes,\n",
    "                    'volume_pct': attempts / group_df['shot_count'].sum() * 100\n",
    "                })\n",
    "       \n",
    "        return sorted(shot_data, key=lambda x: x['attempts'], reverse=True)\n",
    "    \n",
    "    # Create figure\n",
    "    fig = go.Figure()\n",
    "    \n",
    "    # Color scheme\n",
    "    colors = {\n",
    "        'positive': 'rgba(34, 197, 94, 0.7)',\n",
    "        'positive_border': 'rgba(34, 197, 94, 1)',\n",
    "        'negative': 'rgba(239, 68, 68, 0.7)',\n",
    "        'negative_border': 'rgba(239, 68, 68, 1)',\n",
    "        'reference': 'rgba(226, 232, 240, 0.3)',\n",
    "        'text': '#F8FAFC',\n",
    "        'background': 'rgba(15, 23, 42, 0.9)'\n",
    "    }\n",
    "    \n",
    "    # Add overall data first\n",
    "    overall_data = get_overall_data()\n",
    "    print(overall_data)\n",
    "\n",
    "    \n",
    "    # Add overall bars\n",
    "    fig.add_trace(\n",
    "        go.Bar(\n",
    "            name=\"Overall Performance\",\n",
    "            x=[d['shot_description'] for d in overall_data],\n",
    "            y=[d['difference'] for d in overall_data],\n",
    "            marker=dict(\n",
    "                color=[colors['positive'] if d['difference'] >= 0 else colors['negative']\n",
    "                      for d in overall_data],\n",
    "                line=dict(\n",
    "                    color=[colors['positive_border'] if d['difference'] >= 0 \n",
    "                          else colors['negative_border'] for d in overall_data],\n",
    "                    width=1\n",
    "                )\n",
    "            ),\n",
    "            text=[f\"{d['difference']:+.1f}%\" if abs(d['difference']) >= 2 else \"\"\n",
    "                  for d in overall_data],\n",
    "            textposition='auto',\n",
    "            textfont=dict(size=11, color=colors['text']),\n",
    "            hovertemplate=(\n",
    "                \"<b>%{x}</b><br>\" +\n",
    "                \"Difference: %{y:+.1f}%<br>\" +\n",
    "                \"Player: %{customdata[0]:.1f}%<br>\" +\n",
    "                \"League: %{customdata[1]:.1f}%<br>\" +\n",
    "                \"Shot Volume: %{customdata[2]:.0f}%<br>\" +\n",
    "                \"Makes/Attempts: %{customdata[3]}/%{customdata[4]}<br>\" +\n",
    "                \"<extra></extra>\"\n",
    "            ),\n",
    "            customdata=[[\n",
    "                d['player_pct'],\n",
    "                d['league_pct'],\n",
    "                d['volume_pct'],\n",
    "                d['makes'],\n",
    "                d['attempts']\n",
    "            ] for d in overall_data],\n",
    "            visible=True\n",
    "        )\n",
    "    )\n",
    "    \n",
    "    # Add overall reference line\n",
    "    fig.add_trace(\n",
    "        go.Scatter(\n",
    "            x=[d['shot_description'] for d in overall_data],\n",
    "            y=[0] * len(overall_data),\n",
    "            mode='lines',\n",
    "            name='League Average',\n",
    "            line=dict(\n",
    "                color=colors['reference'],\n",
    "                width=1,\n",
    "                dash='dash'\n",
    "            ),\n",
    "            hoverinfo='skip',\n",
    "            visible=True\n",
    "        )\n",
    "    )\n",
    "    \n",
    "    # Create data for each shot group\n",
    "    for group in shot_groups:\n",
    "        shot_data = get_shot_data(group)\n",
    "     \n",
    "        \n",
    "        if shot_data:\n",
    "            # Add difference bars\n",
    "            fig.add_trace(\n",
    "                go.Bar(\n",
    "                    name=\"vs. League Average\",\n",
    "                    x=[d['shot_description'] for d in shot_data],\n",
    "                    y=[d['difference'] for d in shot_data],\n",
    "                    marker=dict(\n",
    "                        color=[colors['positive'] if d['difference'] >= 0 else colors['negative']\n",
    "                              for d in shot_data],\n",
    "                        line=dict(\n",
    "                            color=[colors['positive_border'] if d['difference'] >= 0 \n",
    "                                  else colors['negative_border'] for d in shot_data],\n",
    "                            width=1\n",
    "                        )\n",
    "                    ),\n",
    "                    text=[f\"{d['difference']:+.1f}%\" if abs(d['difference']) >= 2 else \"\"\n",
    "                          for d in shot_data],\n",
    "                    textposition='auto',\n",
    "                    textfont=dict(size=11, color=colors['text']),\n",
    "                    hovertemplate=(\n",
    "                        \"<b>%{x}</b><br>\" +\n",
    "                        \"Difference: %{y:+.1f}%<br>\" +\n",
    "                        \"Player: %{customdata[0]:.1f}%<br>\" +\n",
    "                        \"League: %{customdata[1]:.1f}%<br>\" +\n",
    "                        \"Shot Volume: %{customdata[2]:.0f}%<br>\" +\n",
    "                        \"Makes/Attempts: %{customdata[3]}/%{customdata[4]}<br>\" +\n",
    "                        \"<extra></extra>\"\n",
    "                    ),\n",
    "                    customdata=[[\n",
    "                        d['player_pct'],\n",
    "                        d['league_pct'],\n",
    "                        d['volume_pct'],\n",
    "                        d['makes'],\n",
    "                        d['attempts']\n",
    "                    ] for d in shot_data],\n",
    "                    visible=False\n",
    "                )\n",
    "            )\n",
    "            \n",
    "            # Add reference line\n",
    "            fig.add_trace(\n",
    "                go.Scatter(\n",
    "                    x=[d['shot_description'] for d in shot_data],\n",
    "                    y=[0] * len(shot_data),\n",
    "                    mode='lines',\n",
    "                    name='League Average',\n",
    "                    line=dict(\n",
    "                        color=colors['reference'],\n",
    "                        width=1,\n",
    "                        dash='dash'\n",
    "                    ),\n",
    "                    hoverinfo='skip',\n",
    "                    visible=False\n",
    "                )\n",
    "            )\n",
    "    \n",
    "    # Create buttons including Overall\n",
    "    buttons = [dict(\n",
    "        label=\"Overall\",\n",
    "        method=\"update\",\n",
    "        args=[\n",
    "            {\"visible\": [True, True] + [False] * (len(fig.data) - 2)},\n",
    "            {\"title\": \"Overall Shot Performance vs League Average\"}\n",
    "        ]\n",
    "    )]\n",
    "    \n",
    "    for idx, group in enumerate(shot_groups):\n",
    "     \n",
    "        visibility = [False] * (len(fig.data))\n",
    "        group_index = (idx + 1) * 2  # +1 because overall takes up first two traces\n",
    "        visibility[group_index] = True\n",
    "        visibility[group_index + 1] = True\n",
    "        \n",
    "        buttons.append(\n",
    "            dict(\n",
    "                label=group.replace('_', ' ').title(),\n",
    "                method=\"update\",\n",
    "                args=[\n",
    "                    {\"visible\": visibility},\n",
    "                    {\"title\": f\"Shot Performance vs League Average - {group.replace('_', ' ').title()}\"}\n",
    "                ]\n",
    "            )\n",
    "        )\n",
    "    \n",
    "    # Update layout\n",
    "    fig.update_layout(\n",
    "        title=dict(\n",
    "            text=player_name.title()+\" \"+str(selected_year)+\"<br>\"+\"Overall Shot Performance vs League Average\",\n",
    "            font=dict(size=24, color=colors['text']),\n",
    "            y=0.97,\n",
    "            x=0.5,\n",
    "            xanchor='center'\n",
    "        ),\n",
    "        showlegend=False,\n",
    "        xaxis=dict(\n",
    "            tickangle=45,\n",
    "            tickfont=dict(size=11, color=colors['text']),\n",
    "            gridcolor=\"rgba(148, 163, 184, 0.1)\"\n",
    "        ),\n",
    "        yaxis=dict(\n",
    "            title=dict(\n",
    "                text=\"% Above/Below League Average\",\n",
    "                font=dict(size=14, color=colors['text'])\n",
    "            ),\n",
    "            tickfont=dict(size=11, color=colors['text']),\n",
    "            gridcolor=\"rgba(148, 163, 184, 0.1)\",\n",
    "            zeroline=False,\n",
    "            range=[-20, 20]\n",
    "        ),\n",
    "        updatemenus=[\n",
    "            dict(\n",
    "                type=\"buttons\",\n",
    "                direction=\"right\",\n",
    "                x=0.5,\n",
    "                y=1.15,\n",
    "                xanchor='center',\n",
    "                yanchor='top',\n",
    "                showactive=True,\n",
    "                buttons=buttons,\n",
    "                font=dict(color=colors['text'], size=12),\n",
    "                bgcolor=colors['background'],\n",
    "                bordercolor='rgba(255, 255, 255, 0.2)',\n",
    "                #activecolor='rgba(59, 130, 246, 0.7)',\n",
    "                pad={\"r\": 10, \"t\": 10},\n",
    "            )\n",
    "        ],\n",
    "        width=1200,\n",
    "        height=700,\n",
    "        plot_bgcolor=\"rgba(0, 0, 0, 0)\",\n",
    "        paper_bgcolor=\"rgba(0, 0, 0, 0)\",\n",
    "        margin=dict(t=150, b=100, l=80, r=80)\n",
    "    )\n",
    "    \n",
    "    # Add performance bands\n",
    "    fig.add_hrect(y0=5, y1=20, fillcolor=\"rgba(34, 197, 94, 0.05)\", layer=\"below\", line_width=0)\n",
    "    fig.add_hrect(y0=-5, y1=5, fillcolor=\"rgba(226, 232, 240, 0.05)\", layer=\"below\", line_width=0)\n",
    "    fig.add_hrect(y0=-20, y1=-5, fillcolor=\"rgba(239, 68, 68, 0.05)\", layer=\"below\", line_width=0)\n",
    "    \n",
    "    return fig\n",
    "    # Render the figure\n",
    "fig = shot_performance(selected_player,selected_year)\n",
    "fig.show()"
   ]
  },
  {
   "cell_type": "code",
   "execution_count": 2,
   "id": "bf439f95-7540-4291-a9a1-b4fbde3378ac",
   "metadata": {},
   "outputs": [
    {
     "ename": "NameError",
     "evalue": "name 'avg_df' is not defined",
     "output_type": "error",
     "traceback": [
      "\u001b[0;31m---------------------------------------------------------------------------\u001b[0m",
      "\u001b[0;31mNameError\u001b[0m                                 Traceback (most recent call last)",
      "Cell \u001b[0;32mIn[2], line 1\u001b[0m\n\u001b[0;32m----> 1\u001b[0m \u001b[43mavg_df\u001b[49m[avg_df\u001b[38;5;241m.\u001b[39mshot_description\u001b[38;5;241m.\u001b[39misna()]\n",
      "\u001b[0;31mNameError\u001b[0m: name 'avg_df' is not defined"
     ]
    }
   ],
   "source": [
    "avg_df[avg_df.shot_description.isna()]"
   ]
  },
  {
   "cell_type": "code",
   "execution_count": null,
   "id": "8635a882-ca23-4956-8c4c-ae86f6dd6ec9",
   "metadata": {},
   "outputs": [],
   "source": []
  }
 ],
 "metadata": {
  "kernelspec": {
   "display_name": "Python 3 (ipykernel)",
   "language": "python",
   "name": "python3"
  },
  "language_info": {
   "codemirror_mode": {
    "name": "ipython",
    "version": 3
   },
   "file_extension": ".py",
   "mimetype": "text/x-python",
   "name": "python",
   "nbconvert_exporter": "python",
   "pygments_lexer": "ipython3",
   "version": "3.10.12"
  }
 },
 "nbformat": 4,
 "nbformat_minor": 5
}
