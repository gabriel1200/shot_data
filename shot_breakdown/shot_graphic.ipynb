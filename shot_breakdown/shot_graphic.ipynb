{
 "cells": [
  {
   "cell_type": "code",
   "execution_count": 53,
   "id": "b609c9f4-6fdf-4025-afd7-57479bbe9893",
   "metadata": {},
   "outputs": [
    {
     "name": "stdout",
     "output_type": "stream",
     "text": [
      "https://raw.githubusercontent.com/gabriel1200/shot_averages/refs/heads/main/2544.csv\n"
     ]
    },
    {
     "data": {
      "application/vnd.plotly.v1+json": {
       "config": {
        "plotlyServerURL": "https://plot.ly"
       },
       "data": [
        {
         "customdata": [
          [
           36.10842207163601,
           38.72954889839313,
           64.04215747055176,
           373,
           1033
          ],
          [
           66,
           58.204825388846196,
           24.798512089274645,
           264,
           400
          ],
          [
           95.52238805970148,
           91.69198278034354,
           8.307501549907006,
           128,
           134
          ],
          [
           50,
           52.238821089207754,
           1.8598884066955983,
           15,
           30
          ],
          [
           50,
           46.89296468655899,
           0.7439553626782394,
           6,
           12
          ],
          [
           75,
           65.39074960127593,
           0.24798512089274644,
           3,
           4
          ]
         ],
         "hovertemplate": "<b>%{x}</b><br>Difference: %{y:+.1f}%<br>Player: %{customdata[0]:.1f}%<br>League: %{customdata[1]:.1f}%<br>Shot Volume: %{customdata[2]:.0f}%<br>Makes/Attempts: %{customdata[3]}/%{customdata[4]}<br><extra></extra>",
         "marker": {
          "color": [
           "rgba(239, 68, 68, 0.7)",
           "rgba(34, 197, 94, 0.7)",
           "rgba(34, 197, 94, 0.7)",
           "rgba(239, 68, 68, 0.7)",
           "rgba(34, 197, 94, 0.7)",
           "rgba(34, 197, 94, 0.7)"
          ],
          "line": {
           "color": [
            "rgba(239, 68, 68, 1)",
            "rgba(34, 197, 94, 1)",
            "rgba(34, 197, 94, 1)",
            "rgba(239, 68, 68, 1)",
            "rgba(34, 197, 94, 1)",
            "rgba(34, 197, 94, 1)"
           ],
           "width": 1
          }
         },
         "name": "Overall Performance",
         "text": [
          "-2.6%",
          "+7.8%",
          "+3.8%",
          "-2.2%",
          "+3.1%",
          "+9.6%"
         ],
         "textfont": {
          "color": "#F8FAFC",
          "size": 11
         },
         "textposition": "auto",
         "type": "bar",
         "visible": false,
         "x": [
          "Jump Shots",
          "Layups",
          "Dunks",
          "Post Moves",
          "Tip Shots",
          "Floating Shots"
         ],
         "y": [
          -2.621126826757127,
          7.795174611153804,
          3.8304052793579473,
          -2.238821089207754,
          3.10703531344101,
          9.609250398724072
         ]
        },
        {
         "hoverinfo": "skip",
         "line": {
          "color": "rgba(226, 232, 240, 0.3)",
          "dash": "dash",
          "width": 1
         },
         "mode": "lines",
         "name": "League Average",
         "type": "scatter",
         "visible": false,
         "x": [
          "Jump Shots",
          "Layups",
          "Dunks",
          "Post Moves",
          "Tip Shots",
          "Floating Shots"
         ],
         "y": [
          0,
          0,
          0,
          0,
          0,
          0
         ]
        },
        {
         "customdata": [
          [
           95.16129032258065,
           90.74032820969778,
           46.26865671641791,
           59,
           62
          ],
          [
           100,
           93.00648882480172,
           31.343283582089555,
           42,
           42
          ],
          [
           86.95652173913044,
           91.46788990825688,
           17.16417910447761,
           20,
           23
          ],
          [
           100,
           94.2046855733662,
           2.9850746268656714,
           4,
           4
          ],
          [
           100,
           91.32420091324201,
           2.2388059701492535,
           3,
           3
          ]
         ],
         "hovertemplate": "<b>%{x}</b><br>Difference: %{y:+.1f}%<br>Player: %{customdata[0]:.1f}%<br>League: %{customdata[1]:.1f}%<br>Shot Volume: %{customdata[2]:.0f}%<br>Makes/Attempts: %{customdata[3]}/%{customdata[4]}<br><extra></extra>",
         "marker": {
          "color": [
           "rgba(34, 197, 94, 0.7)",
           "rgba(34, 197, 94, 0.7)",
           "rgba(239, 68, 68, 0.7)",
           "rgba(34, 197, 94, 0.7)",
           "rgba(34, 197, 94, 0.7)"
          ],
          "line": {
           "color": [
            "rgba(34, 197, 94, 1)",
            "rgba(34, 197, 94, 1)",
            "rgba(239, 68, 68, 1)",
            "rgba(34, 197, 94, 1)",
            "rgba(34, 197, 94, 1)"
           ],
           "width": 1
          }
         },
         "name": "vs. League Average",
         "text": [
          "+4.4%",
          "+7.0%",
          "-4.5%",
          "+5.8%",
          "+8.7%"
         ],
         "textfont": {
          "color": "#F8FAFC",
          "size": 11
         },
         "textposition": "auto",
         "type": "bar",
         "visible": false,
         "x": [
          "Standard Dunk",
          "Driving Dunk",
          "Alley Oop Dunk",
          "Putback Dunk",
          "Reverse Dunk"
         ],
         "y": [
          4.420962112882876,
          6.993511175198279,
          -4.511368169126442,
          5.795314426633794,
          8.67579908675799
         ]
        },
        {
         "hoverinfo": "skip",
         "line": {
          "color": "rgba(226, 232, 240, 0.3)",
          "dash": "dash",
          "width": 1
         },
         "mode": "lines",
         "name": "League Average",
         "type": "scatter",
         "visible": false,
         "x": [
          "Standard Dunk",
          "Driving Dunk",
          "Alley Oop Dunk",
          "Putback Dunk",
          "Reverse Dunk"
         ],
         "y": [
          0,
          0,
          0,
          0,
          0
         ]
        },
        {
         "customdata": [
          [
           75,
           65.39074960127593,
           100,
           3,
           4
          ]
         ],
         "hovertemplate": "<b>%{x}</b><br>Difference: %{y:+.1f}%<br>Player: %{customdata[0]:.1f}%<br>League: %{customdata[1]:.1f}%<br>Shot Volume: %{customdata[2]:.0f}%<br>Makes/Attempts: %{customdata[3]}/%{customdata[4]}<br><extra></extra>",
         "marker": {
          "color": [
           "rgba(34, 197, 94, 0.7)"
          ],
          "line": {
           "color": [
            "rgba(34, 197, 94, 1)"
           ],
           "width": 1
          }
         },
         "name": "vs. League Average",
         "text": [
          "+9.6%"
         ],
         "textfont": {
          "color": "#F8FAFC",
          "size": 11
         },
         "textposition": "auto",
         "type": "bar",
         "visible": false,
         "x": [
          "Floating Jump Shot"
         ],
         "y": [
          9.609250398724072
         ]
        },
        {
         "hoverinfo": "skip",
         "line": {
          "color": "rgba(226, 232, 240, 0.3)",
          "dash": "dash",
          "width": 1
         },
         "mode": "lines",
         "name": "League Average",
         "type": "scatter",
         "visible": false,
         "x": [
          "Floating Jump Shot"
         ],
         "y": [
          0
         ]
        },
        {
         "customdata": [
          [
           32.756489493201485,
           35.45219493526738,
           84.5111326234269,
           294,
           873
          ],
          [
           46.93877551020408,
           51.19273801984379,
           4.743465634075508,
           23,
           49
          ],
          [
           41.30434782608695,
           52.8082191780822,
           4.453049370764763,
           19,
           46
          ],
          [
           81.81818181818183,
           71.70474516695958,
           2.2265246853823815,
           18,
           23
          ],
          [
           35,
           53.71226124460875,
           1.9361084220716358,
           7,
           20
          ],
          [
           57.14285714285714,
           63.34325396825397,
           1.3552758954501452,
           8,
           14
          ],
          [
           50,
           63.74695863746959,
           0.7744433688286544,
           4,
           8
          ]
         ],
         "hovertemplate": "<b>%{x}</b><br>Difference: %{y:+.1f}%<br>Player: %{customdata[0]:.1f}%<br>League: %{customdata[1]:.1f}%<br>Shot Volume: %{customdata[2]:.0f}%<br>Makes/Attempts: %{customdata[3]}/%{customdata[4]}<br><extra></extra>",
         "marker": {
          "color": [
           "rgba(239, 68, 68, 0.7)",
           "rgba(239, 68, 68, 0.7)",
           "rgba(239, 68, 68, 0.7)",
           "rgba(34, 197, 94, 0.7)",
           "rgba(239, 68, 68, 0.7)",
           "rgba(239, 68, 68, 0.7)",
           "rgba(239, 68, 68, 0.7)"
          ],
          "line": {
           "color": [
            "rgba(239, 68, 68, 1)",
            "rgba(239, 68, 68, 1)",
            "rgba(239, 68, 68, 1)",
            "rgba(34, 197, 94, 1)",
            "rgba(239, 68, 68, 1)",
            "rgba(239, 68, 68, 1)",
            "rgba(239, 68, 68, 1)"
           ],
           "width": 1
          }
         },
         "name": "vs. League Average",
         "text": [
          "-2.7%",
          "-4.3%",
          "-11.5%",
          "+10.1%",
          "-18.7%",
          "-6.2%",
          "-13.7%"
         ],
         "textfont": {
          "color": "#F8FAFC",
          "size": 11
         },
         "textposition": "auto",
         "type": "bar",
         "visible": false,
         "x": [
          "Jump Shot",
          "Turnaround Jump Shot",
          "Running Jump Shot",
          "Pullup Jump Shot",
          "Fadeaway Jump Shot",
          "Step Back Jump Shot",
          "Driving Jump Shot"
         ],
         "y": [
          -2.6957054420658935,
          -4.253962509639706,
          -11.503871351995244,
          10.113436651222244,
          -18.712261244608747,
          -6.20039682539683,
          -13.74695863746959
         ]
        },
        {
         "hoverinfo": "skip",
         "line": {
          "color": "rgba(226, 232, 240, 0.3)",
          "dash": "dash",
          "width": 1
         },
         "mode": "lines",
         "name": "League Average",
         "type": "scatter",
         "visible": false,
         "x": [
          "Jump Shot",
          "Turnaround Jump Shot",
          "Running Jump Shot",
          "Pullup Jump Shot",
          "Fadeaway Jump Shot",
          "Step Back Jump Shot",
          "Driving Jump Shot"
         ],
         "y": [
          0,
          0,
          0,
          0,
          0,
          0,
          0
         ]
        },
        {
         "customdata": [
          [
           50.24154589371981,
           44.811818501582835,
           51.74999999999999,
           104,
           207
          ],
          [
           85.41666666666666,
           71.70025086995226,
           36,
           123,
           144
          ],
          [
           85,
           78.97623400365632,
           5,
           17,
           20
          ],
          [
           58.333333333333336,
           66.28420123565755,
           3,
           7,
           12
          ],
          [
           90,
           82.14971209213053,
           2.5,
           9,
           10
          ],
          [
           57.14285714285714,
           69.23076923076923,
           1.7500000000000002,
           4,
           7
          ]
         ],
         "hovertemplate": "<b>%{x}</b><br>Difference: %{y:+.1f}%<br>Player: %{customdata[0]:.1f}%<br>League: %{customdata[1]:.1f}%<br>Shot Volume: %{customdata[2]:.0f}%<br>Makes/Attempts: %{customdata[3]}/%{customdata[4]}<br><extra></extra>",
         "marker": {
          "color": [
           "rgba(34, 197, 94, 0.7)",
           "rgba(34, 197, 94, 0.7)",
           "rgba(34, 197, 94, 0.7)",
           "rgba(239, 68, 68, 0.7)",
           "rgba(34, 197, 94, 0.7)",
           "rgba(239, 68, 68, 0.7)"
          ],
          "line": {
           "color": [
            "rgba(34, 197, 94, 1)",
            "rgba(34, 197, 94, 1)",
            "rgba(34, 197, 94, 1)",
            "rgba(239, 68, 68, 1)",
            "rgba(34, 197, 94, 1)",
            "rgba(239, 68, 68, 1)"
           ],
           "width": 1
          }
         },
         "name": "vs. League Average",
         "text": [
          "+5.4%",
          "+13.7%",
          "+6.0%",
          "-8.0%",
          "+7.9%",
          "-12.1%"
         ],
         "textfont": {
          "color": "#F8FAFC",
          "size": 11
         },
         "textposition": "auto",
         "type": "bar",
         "visible": false,
         "x": [
          "Standard Layup",
          "Driving Layup",
          "Finger Roll",
          "Reverse Layup",
          "Putback Layup",
          "Alley Oop Layup"
         ],
         "y": [
          5.429727392136975,
          13.7164157967144,
          6.023765996343684,
          -7.950867902324212,
          7.850287907869472,
          -12.087912087912088
         ]
        },
        {
         "hoverinfo": "skip",
         "line": {
          "color": "rgba(226, 232, 240, 0.3)",
          "dash": "dash",
          "width": 1
         },
         "mode": "lines",
         "name": "League Average",
         "type": "scatter",
         "visible": false,
         "x": [
          "Standard Layup",
          "Driving Layup",
          "Finger Roll",
          "Reverse Layup",
          "Putback Layup",
          "Alley Oop Layup"
         ],
         "y": [
          0,
          0,
          0,
          0,
          0,
          0
         ]
        },
        {
         "customdata": [
          [
           55.00000000000001,
           49.316668613479735,
           66.66666666666666,
           11,
           20
          ],
          [
           33.33333333333333,
           58.6406362979031,
           20,
           2,
           6
          ],
          [
           33.33333333333333,
           57.25938009787929,
           10,
           1,
           3
          ],
          [
           100,
           57.20930232558139,
           3.3333333333333335,
           1,
           1
          ]
         ],
         "hovertemplate": "<b>%{x}</b><br>Difference: %{y:+.1f}%<br>Player: %{customdata[0]:.1f}%<br>League: %{customdata[1]:.1f}%<br>Shot Volume: %{customdata[2]:.0f}%<br>Makes/Attempts: %{customdata[3]}/%{customdata[4]}<br><extra></extra>",
         "marker": {
          "color": [
           "rgba(34, 197, 94, 0.7)",
           "rgba(239, 68, 68, 0.7)",
           "rgba(239, 68, 68, 0.7)",
           "rgba(34, 197, 94, 0.7)"
          ],
          "line": {
           "color": [
            "rgba(34, 197, 94, 1)",
            "rgba(239, 68, 68, 1)",
            "rgba(239, 68, 68, 1)",
            "rgba(34, 197, 94, 1)"
           ],
           "width": 1
          }
         },
         "name": "vs. League Average",
         "text": [
          "+5.7%",
          "-25.3%",
          "-23.9%",
          "+42.8%"
         ],
         "textfont": {
          "color": "#F8FAFC",
          "size": 11
         },
         "textposition": "auto",
         "type": "bar",
         "visible": true,
         "x": [
          "Hook Shot",
          "Running Hook Shot",
          "Turnaround Hook Shot",
          "Driving Hook Shot"
         ],
         "y": [
          5.683331386520273,
          -25.30730296456977,
          -23.92604676454596,
          42.79069767441861
         ]
        },
        {
         "hoverinfo": "skip",
         "line": {
          "color": "rgba(226, 232, 240, 0.3)",
          "dash": "dash",
          "width": 1
         },
         "mode": "lines",
         "name": "League Average",
         "type": "scatter",
         "visible": true,
         "x": [
          "Hook Shot",
          "Running Hook Shot",
          "Turnaround Hook Shot",
          "Driving Hook Shot"
         ],
         "y": [
          0,
          0,
          0,
          0
         ]
        },
        {
         "customdata": [
          [
           50,
           46.89296468655899,
           100,
           6,
           12
          ]
         ],
         "hovertemplate": "<b>%{x}</b><br>Difference: %{y:+.1f}%<br>Player: %{customdata[0]:.1f}%<br>League: %{customdata[1]:.1f}%<br>Shot Volume: %{customdata[2]:.0f}%<br>Makes/Attempts: %{customdata[3]}/%{customdata[4]}<br><extra></extra>",
         "marker": {
          "color": [
           "rgba(34, 197, 94, 0.7)"
          ],
          "line": {
           "color": [
            "rgba(34, 197, 94, 1)"
           ],
           "width": 1
          }
         },
         "name": "vs. League Average",
         "text": [
          "+3.1%"
         ],
         "textfont": {
          "color": "#F8FAFC",
          "size": 11
         },
         "textposition": "auto",
         "type": "bar",
         "visible": false,
         "x": [
          "Tip Shot"
         ],
         "y": [
          3.10703531344101
         ]
        },
        {
         "hoverinfo": "skip",
         "line": {
          "color": "rgba(226, 232, 240, 0.3)",
          "dash": "dash",
          "width": 1
         },
         "mode": "lines",
         "name": "League Average",
         "type": "scatter",
         "visible": false,
         "x": [
          "Tip Shot"
         ],
         "y": [
          0
         ]
        }
       ],
       "layout": {
        "height": 700,
        "margin": {
         "b": 100,
         "l": 80,
         "r": 80,
         "t": 150
        },
        "paper_bgcolor": "rgba(0, 0, 0, 0)",
        "plot_bgcolor": "rgba(0, 0, 0, 0)",
        "shapes": [
         {
          "fillcolor": "rgba(34, 197, 94, 0.05)",
          "layer": "below",
          "line": {
           "width": 0
          },
          "type": "rect",
          "x0": 0,
          "x1": 1,
          "xref": "x domain",
          "y0": 5,
          "y1": 20,
          "yref": "y"
         },
         {
          "fillcolor": "rgba(226, 232, 240, 0.05)",
          "layer": "below",
          "line": {
           "width": 0
          },
          "type": "rect",
          "x0": 0,
          "x1": 1,
          "xref": "x domain",
          "y0": -5,
          "y1": 5,
          "yref": "y"
         },
         {
          "fillcolor": "rgba(239, 68, 68, 0.05)",
          "layer": "below",
          "line": {
           "width": 0
          },
          "type": "rect",
          "x0": 0,
          "x1": 1,
          "xref": "x domain",
          "y0": -20,
          "y1": -5,
          "yref": "y"
         }
        ],
        "showlegend": false,
        "template": {
         "data": {
          "bar": [
           {
            "error_x": {
             "color": "#2a3f5f"
            },
            "error_y": {
             "color": "#2a3f5f"
            },
            "marker": {
             "line": {
              "color": "#E5ECF6",
              "width": 0.5
             },
             "pattern": {
              "fillmode": "overlay",
              "size": 10,
              "solidity": 0.2
             }
            },
            "type": "bar"
           }
          ],
          "barpolar": [
           {
            "marker": {
             "line": {
              "color": "#E5ECF6",
              "width": 0.5
             },
             "pattern": {
              "fillmode": "overlay",
              "size": 10,
              "solidity": 0.2
             }
            },
            "type": "barpolar"
           }
          ],
          "carpet": [
           {
            "aaxis": {
             "endlinecolor": "#2a3f5f",
             "gridcolor": "white",
             "linecolor": "white",
             "minorgridcolor": "white",
             "startlinecolor": "#2a3f5f"
            },
            "baxis": {
             "endlinecolor": "#2a3f5f",
             "gridcolor": "white",
             "linecolor": "white",
             "minorgridcolor": "white",
             "startlinecolor": "#2a3f5f"
            },
            "type": "carpet"
           }
          ],
          "choropleth": [
           {
            "colorbar": {
             "outlinewidth": 0,
             "ticks": ""
            },
            "type": "choropleth"
           }
          ],
          "contour": [
           {
            "colorbar": {
             "outlinewidth": 0,
             "ticks": ""
            },
            "colorscale": [
             [
              0,
              "#0d0887"
             ],
             [
              0.1111111111111111,
              "#46039f"
             ],
             [
              0.2222222222222222,
              "#7201a8"
             ],
             [
              0.3333333333333333,
              "#9c179e"
             ],
             [
              0.4444444444444444,
              "#bd3786"
             ],
             [
              0.5555555555555556,
              "#d8576b"
             ],
             [
              0.6666666666666666,
              "#ed7953"
             ],
             [
              0.7777777777777778,
              "#fb9f3a"
             ],
             [
              0.8888888888888888,
              "#fdca26"
             ],
             [
              1,
              "#f0f921"
             ]
            ],
            "type": "contour"
           }
          ],
          "contourcarpet": [
           {
            "colorbar": {
             "outlinewidth": 0,
             "ticks": ""
            },
            "type": "contourcarpet"
           }
          ],
          "heatmap": [
           {
            "colorbar": {
             "outlinewidth": 0,
             "ticks": ""
            },
            "colorscale": [
             [
              0,
              "#0d0887"
             ],
             [
              0.1111111111111111,
              "#46039f"
             ],
             [
              0.2222222222222222,
              "#7201a8"
             ],
             [
              0.3333333333333333,
              "#9c179e"
             ],
             [
              0.4444444444444444,
              "#bd3786"
             ],
             [
              0.5555555555555556,
              "#d8576b"
             ],
             [
              0.6666666666666666,
              "#ed7953"
             ],
             [
              0.7777777777777778,
              "#fb9f3a"
             ],
             [
              0.8888888888888888,
              "#fdca26"
             ],
             [
              1,
              "#f0f921"
             ]
            ],
            "type": "heatmap"
           }
          ],
          "heatmapgl": [
           {
            "colorbar": {
             "outlinewidth": 0,
             "ticks": ""
            },
            "colorscale": [
             [
              0,
              "#0d0887"
             ],
             [
              0.1111111111111111,
              "#46039f"
             ],
             [
              0.2222222222222222,
              "#7201a8"
             ],
             [
              0.3333333333333333,
              "#9c179e"
             ],
             [
              0.4444444444444444,
              "#bd3786"
             ],
             [
              0.5555555555555556,
              "#d8576b"
             ],
             [
              0.6666666666666666,
              "#ed7953"
             ],
             [
              0.7777777777777778,
              "#fb9f3a"
             ],
             [
              0.8888888888888888,
              "#fdca26"
             ],
             [
              1,
              "#f0f921"
             ]
            ],
            "type": "heatmapgl"
           }
          ],
          "histogram": [
           {
            "marker": {
             "pattern": {
              "fillmode": "overlay",
              "size": 10,
              "solidity": 0.2
             }
            },
            "type": "histogram"
           }
          ],
          "histogram2d": [
           {
            "colorbar": {
             "outlinewidth": 0,
             "ticks": ""
            },
            "colorscale": [
             [
              0,
              "#0d0887"
             ],
             [
              0.1111111111111111,
              "#46039f"
             ],
             [
              0.2222222222222222,
              "#7201a8"
             ],
             [
              0.3333333333333333,
              "#9c179e"
             ],
             [
              0.4444444444444444,
              "#bd3786"
             ],
             [
              0.5555555555555556,
              "#d8576b"
             ],
             [
              0.6666666666666666,
              "#ed7953"
             ],
             [
              0.7777777777777778,
              "#fb9f3a"
             ],
             [
              0.8888888888888888,
              "#fdca26"
             ],
             [
              1,
              "#f0f921"
             ]
            ],
            "type": "histogram2d"
           }
          ],
          "histogram2dcontour": [
           {
            "colorbar": {
             "outlinewidth": 0,
             "ticks": ""
            },
            "colorscale": [
             [
              0,
              "#0d0887"
             ],
             [
              0.1111111111111111,
              "#46039f"
             ],
             [
              0.2222222222222222,
              "#7201a8"
             ],
             [
              0.3333333333333333,
              "#9c179e"
             ],
             [
              0.4444444444444444,
              "#bd3786"
             ],
             [
              0.5555555555555556,
              "#d8576b"
             ],
             [
              0.6666666666666666,
              "#ed7953"
             ],
             [
              0.7777777777777778,
              "#fb9f3a"
             ],
             [
              0.8888888888888888,
              "#fdca26"
             ],
             [
              1,
              "#f0f921"
             ]
            ],
            "type": "histogram2dcontour"
           }
          ],
          "mesh3d": [
           {
            "colorbar": {
             "outlinewidth": 0,
             "ticks": ""
            },
            "type": "mesh3d"
           }
          ],
          "parcoords": [
           {
            "line": {
             "colorbar": {
              "outlinewidth": 0,
              "ticks": ""
             }
            },
            "type": "parcoords"
           }
          ],
          "pie": [
           {
            "automargin": true,
            "type": "pie"
           }
          ],
          "scatter": [
           {
            "fillpattern": {
             "fillmode": "overlay",
             "size": 10,
             "solidity": 0.2
            },
            "type": "scatter"
           }
          ],
          "scatter3d": [
           {
            "line": {
             "colorbar": {
              "outlinewidth": 0,
              "ticks": ""
             }
            },
            "marker": {
             "colorbar": {
              "outlinewidth": 0,
              "ticks": ""
             }
            },
            "type": "scatter3d"
           }
          ],
          "scattercarpet": [
           {
            "marker": {
             "colorbar": {
              "outlinewidth": 0,
              "ticks": ""
             }
            },
            "type": "scattercarpet"
           }
          ],
          "scattergeo": [
           {
            "marker": {
             "colorbar": {
              "outlinewidth": 0,
              "ticks": ""
             }
            },
            "type": "scattergeo"
           }
          ],
          "scattergl": [
           {
            "marker": {
             "colorbar": {
              "outlinewidth": 0,
              "ticks": ""
             }
            },
            "type": "scattergl"
           }
          ],
          "scattermapbox": [
           {
            "marker": {
             "colorbar": {
              "outlinewidth": 0,
              "ticks": ""
             }
            },
            "type": "scattermapbox"
           }
          ],
          "scatterpolar": [
           {
            "marker": {
             "colorbar": {
              "outlinewidth": 0,
              "ticks": ""
             }
            },
            "type": "scatterpolar"
           }
          ],
          "scatterpolargl": [
           {
            "marker": {
             "colorbar": {
              "outlinewidth": 0,
              "ticks": ""
             }
            },
            "type": "scatterpolargl"
           }
          ],
          "scatterternary": [
           {
            "marker": {
             "colorbar": {
              "outlinewidth": 0,
              "ticks": ""
             }
            },
            "type": "scatterternary"
           }
          ],
          "surface": [
           {
            "colorbar": {
             "outlinewidth": 0,
             "ticks": ""
            },
            "colorscale": [
             [
              0,
              "#0d0887"
             ],
             [
              0.1111111111111111,
              "#46039f"
             ],
             [
              0.2222222222222222,
              "#7201a8"
             ],
             [
              0.3333333333333333,
              "#9c179e"
             ],
             [
              0.4444444444444444,
              "#bd3786"
             ],
             [
              0.5555555555555556,
              "#d8576b"
             ],
             [
              0.6666666666666666,
              "#ed7953"
             ],
             [
              0.7777777777777778,
              "#fb9f3a"
             ],
             [
              0.8888888888888888,
              "#fdca26"
             ],
             [
              1,
              "#f0f921"
             ]
            ],
            "type": "surface"
           }
          ],
          "table": [
           {
            "cells": {
             "fill": {
              "color": "#EBF0F8"
             },
             "line": {
              "color": "white"
             }
            },
            "header": {
             "fill": {
              "color": "#C8D4E3"
             },
             "line": {
              "color": "white"
             }
            },
            "type": "table"
           }
          ]
         },
         "layout": {
          "annotationdefaults": {
           "arrowcolor": "#2a3f5f",
           "arrowhead": 0,
           "arrowwidth": 1
          },
          "autotypenumbers": "strict",
          "coloraxis": {
           "colorbar": {
            "outlinewidth": 0,
            "ticks": ""
           }
          },
          "colorscale": {
           "diverging": [
            [
             0,
             "#8e0152"
            ],
            [
             0.1,
             "#c51b7d"
            ],
            [
             0.2,
             "#de77ae"
            ],
            [
             0.3,
             "#f1b6da"
            ],
            [
             0.4,
             "#fde0ef"
            ],
            [
             0.5,
             "#f7f7f7"
            ],
            [
             0.6,
             "#e6f5d0"
            ],
            [
             0.7,
             "#b8e186"
            ],
            [
             0.8,
             "#7fbc41"
            ],
            [
             0.9,
             "#4d9221"
            ],
            [
             1,
             "#276419"
            ]
           ],
           "sequential": [
            [
             0,
             "#0d0887"
            ],
            [
             0.1111111111111111,
             "#46039f"
            ],
            [
             0.2222222222222222,
             "#7201a8"
            ],
            [
             0.3333333333333333,
             "#9c179e"
            ],
            [
             0.4444444444444444,
             "#bd3786"
            ],
            [
             0.5555555555555556,
             "#d8576b"
            ],
            [
             0.6666666666666666,
             "#ed7953"
            ],
            [
             0.7777777777777778,
             "#fb9f3a"
            ],
            [
             0.8888888888888888,
             "#fdca26"
            ],
            [
             1,
             "#f0f921"
            ]
           ],
           "sequentialminus": [
            [
             0,
             "#0d0887"
            ],
            [
             0.1111111111111111,
             "#46039f"
            ],
            [
             0.2222222222222222,
             "#7201a8"
            ],
            [
             0.3333333333333333,
             "#9c179e"
            ],
            [
             0.4444444444444444,
             "#bd3786"
            ],
            [
             0.5555555555555556,
             "#d8576b"
            ],
            [
             0.6666666666666666,
             "#ed7953"
            ],
            [
             0.7777777777777778,
             "#fb9f3a"
            ],
            [
             0.8888888888888888,
             "#fdca26"
            ],
            [
             1,
             "#f0f921"
            ]
           ]
          },
          "colorway": [
           "#636efa",
           "#EF553B",
           "#00cc96",
           "#ab63fa",
           "#FFA15A",
           "#19d3f3",
           "#FF6692",
           "#B6E880",
           "#FF97FF",
           "#FECB52"
          ],
          "font": {
           "color": "#2a3f5f"
          },
          "geo": {
           "bgcolor": "white",
           "lakecolor": "white",
           "landcolor": "#E5ECF6",
           "showlakes": true,
           "showland": true,
           "subunitcolor": "white"
          },
          "hoverlabel": {
           "align": "left"
          },
          "hovermode": "closest",
          "mapbox": {
           "style": "light"
          },
          "paper_bgcolor": "white",
          "plot_bgcolor": "#E5ECF6",
          "polar": {
           "angularaxis": {
            "gridcolor": "white",
            "linecolor": "white",
            "ticks": ""
           },
           "bgcolor": "#E5ECF6",
           "radialaxis": {
            "gridcolor": "white",
            "linecolor": "white",
            "ticks": ""
           }
          },
          "scene": {
           "xaxis": {
            "backgroundcolor": "#E5ECF6",
            "gridcolor": "white",
            "gridwidth": 2,
            "linecolor": "white",
            "showbackground": true,
            "ticks": "",
            "zerolinecolor": "white"
           },
           "yaxis": {
            "backgroundcolor": "#E5ECF6",
            "gridcolor": "white",
            "gridwidth": 2,
            "linecolor": "white",
            "showbackground": true,
            "ticks": "",
            "zerolinecolor": "white"
           },
           "zaxis": {
            "backgroundcolor": "#E5ECF6",
            "gridcolor": "white",
            "gridwidth": 2,
            "linecolor": "white",
            "showbackground": true,
            "ticks": "",
            "zerolinecolor": "white"
           }
          },
          "shapedefaults": {
           "line": {
            "color": "#2a3f5f"
           }
          },
          "ternary": {
           "aaxis": {
            "gridcolor": "white",
            "linecolor": "white",
            "ticks": ""
           },
           "baxis": {
            "gridcolor": "white",
            "linecolor": "white",
            "ticks": ""
           },
           "bgcolor": "#E5ECF6",
           "caxis": {
            "gridcolor": "white",
            "linecolor": "white",
            "ticks": ""
           }
          },
          "title": {
           "x": 0.05
          },
          "xaxis": {
           "automargin": true,
           "gridcolor": "white",
           "linecolor": "white",
           "ticks": "",
           "title": {
            "standoff": 15
           },
           "zerolinecolor": "white",
           "zerolinewidth": 2
          },
          "yaxis": {
           "automargin": true,
           "gridcolor": "white",
           "linecolor": "white",
           "ticks": "",
           "title": {
            "standoff": 15
           },
           "zerolinecolor": "white",
           "zerolinewidth": 2
          }
         }
        },
        "title": {
         "font": {
          "color": "#F8FAFC",
          "size": 24
         },
         "text": "Shot Performance vs League Average - Post Moves",
         "x": 0.5,
         "xanchor": "center",
         "y": 0.97
        },
        "updatemenus": [
         {
          "active": 5,
          "bgcolor": "rgba(15, 23, 42, 0.9)",
          "bordercolor": "rgba(255, 255, 255, 0.2)",
          "buttons": [
           {
            "args": [
             {
              "visible": [
               true,
               true,
               false,
               false,
               false,
               false,
               false,
               false,
               false,
               false,
               false,
               false,
               false,
               false
              ]
             },
             {
              "title": "Overall Shot Performance vs League Average"
             }
            ],
            "label": "Overall",
            "method": "update"
           },
           {
            "args": [
             {
              "visible": [
               false,
               false,
               true,
               true,
               false,
               false,
               false,
               false,
               false,
               false,
               false,
               false,
               false,
               false
              ]
             },
             {
              "title": "Shot Performance vs League Average - Dunks"
             }
            ],
            "label": "Dunks",
            "method": "update"
           },
           {
            "args": [
             {
              "visible": [
               false,
               false,
               false,
               false,
               true,
               true,
               false,
               false,
               false,
               false,
               false,
               false,
               false,
               false
              ]
             },
             {
              "title": "Shot Performance vs League Average - Floating Shots"
             }
            ],
            "label": "Floating Shots",
            "method": "update"
           },
           {
            "args": [
             {
              "visible": [
               false,
               false,
               false,
               false,
               false,
               false,
               true,
               true,
               false,
               false,
               false,
               false,
               false,
               false
              ]
             },
             {
              "title": "Shot Performance vs League Average - Jump Shots"
             }
            ],
            "label": "Jump Shots",
            "method": "update"
           },
           {
            "args": [
             {
              "visible": [
               false,
               false,
               false,
               false,
               false,
               false,
               false,
               false,
               true,
               true,
               false,
               false,
               false,
               false
              ]
             },
             {
              "title": "Shot Performance vs League Average - Layups"
             }
            ],
            "label": "Layups",
            "method": "update"
           },
           {
            "args": [
             {
              "visible": [
               false,
               false,
               false,
               false,
               false,
               false,
               false,
               false,
               false,
               false,
               true,
               true,
               false,
               false
              ]
             },
             {
              "title": "Shot Performance vs League Average - Post Moves"
             }
            ],
            "label": "Post Moves",
            "method": "update"
           },
           {
            "args": [
             {
              "visible": [
               false,
               false,
               false,
               false,
               false,
               false,
               false,
               false,
               false,
               false,
               false,
               false,
               true,
               true
              ]
             },
             {
              "title": "Shot Performance vs League Average - Tip Shots"
             }
            ],
            "label": "Tip Shots",
            "method": "update"
           }
          ],
          "direction": "right",
          "font": {
           "color": "#F8FAFC",
           "size": 12
          },
          "pad": {
           "r": 10,
           "t": 10
          },
          "showactive": true,
          "type": "buttons",
          "x": 0.5,
          "xanchor": "center",
          "y": 1.15,
          "yanchor": "top"
         }
        ],
        "width": 1200,
        "xaxis": {
         "autorange": true,
         "gridcolor": "rgba(148, 163, 184, 0.1)",
         "range": [
          -0.5,
          3.5
         ],
         "tickangle": 45,
         "tickfont": {
          "color": "#F8FAFC",
          "size": 11
         },
         "type": "category"
        },
        "yaxis": {
         "gridcolor": "rgba(148, 163, 184, 0.1)",
         "range": [
          -20,
          20
         ],
         "tickfont": {
          "color": "#F8FAFC",
          "size": 11
         },
         "title": {
          "font": {
           "color": "#F8FAFC",
           "size": 14
          },
          "text": "% Above/Below League Average"
         },
         "type": "linear",
         "zeroline": false
        }
       }
      },
      "image/png": "[encoded data removed]",
      "text/html": [
       "<div>                            <div id=\"4647fc20-cafa-4136-a2c1-a1574d8216db\" class=\"plotly-graph-div\" style=\"height:700px; width:1200px;\"></div>            <script type=\"text/javascript\">                require([\"plotly\"], function(Plotly) {                    window.PLOTLYENV=window.PLOTLYENV || {};                                    if (document.getElementById(\"4647fc20-cafa-4136-a2c1-a1574d8216db\")) {                    Plotly.newPlot(                        \"4647fc20-cafa-4136-a2c1-a1574d8216db\",                        [{\"customdata\":[[36.10842207163601,38.72954889839313,64.04215747055176,373,1033],[66.0,58.204825388846196,24.798512089274645,264,400],[95.52238805970148,91.69198278034354,8.307501549907006,128,134],[50.0,52.238821089207754,1.8598884066955983,15,30],[50.0,46.89296468655899,0.7439553626782394,6,12],[75.0,65.39074960127593,0.24798512089274644,3,4]],\"hovertemplate\":\"\\u003cb\\u003e%{x}\\u003c\\u002fb\\u003e\\u003cbr\\u003eDifference: %{y:+.1f}%\\u003cbr\\u003ePlayer: %{customdata[0]:.1f}%\\u003cbr\\u003eLeague: %{customdata[1]:.1f}%\\u003cbr\\u003eShot Volume: %{customdata[2]:.0f}%\\u003cbr\\u003eMakes\\u002fAttempts: %{customdata[3]}\\u002f%{customdata[4]}\\u003cbr\\u003e\\u003cextra\\u003e\\u003c\\u002fextra\\u003e\",\"marker\":{\"color\":[\"rgba(239, 68, 68, 0.7)\",\"rgba(34, 197, 94, 0.7)\",\"rgba(34, 197, 94, 0.7)\",\"rgba(239, 68, 68, 0.7)\",\"rgba(34, 197, 94, 0.7)\",\"rgba(34, 197, 94, 0.7)\"],\"line\":{\"color\":[\"rgba(239, 68, 68, 1)\",\"rgba(34, 197, 94, 1)\",\"rgba(34, 197, 94, 1)\",\"rgba(239, 68, 68, 1)\",\"rgba(34, 197, 94, 1)\",\"rgba(34, 197, 94, 1)\"],\"width\":1}},\"name\":\"Overall Performance\",\"text\":[\"-2.6%\",\"+7.8%\",\"+3.8%\",\"-2.2%\",\"+3.1%\",\"+9.6%\"],\"textfont\":{\"color\":\"#F8FAFC\",\"size\":11},\"textposition\":\"auto\",\"visible\":true,\"x\":[\"Jump Shots\",\"Layups\",\"Dunks\",\"Post Moves\",\"Tip Shots\",\"Floating Shots\"],\"y\":[-2.621126826757127,7.795174611153804,3.8304052793579473,-2.238821089207754,3.10703531344101,9.609250398724072],\"type\":\"bar\"},{\"hoverinfo\":\"skip\",\"line\":{\"color\":\"rgba(226, 232, 240, 0.3)\",\"dash\":\"dash\",\"width\":1},\"mode\":\"lines\",\"name\":\"League Average\",\"visible\":true,\"x\":[\"Jump Shots\",\"Layups\",\"Dunks\",\"Post Moves\",\"Tip Shots\",\"Floating Shots\"],\"y\":[0,0,0,0,0,0],\"type\":\"scatter\"},{\"customdata\":[[95.16129032258065,90.74032820969778,46.26865671641791,59,62],[100.0,93.00648882480172,31.343283582089555,42,42],[86.95652173913044,91.46788990825688,17.16417910447761,20,23],[100.0,94.2046855733662,2.9850746268656714,4,4],[100.0,91.32420091324201,2.2388059701492535,3,3]],\"hovertemplate\":\"\\u003cb\\u003e%{x}\\u003c\\u002fb\\u003e\\u003cbr\\u003eDifference: %{y:+.1f}%\\u003cbr\\u003ePlayer: %{customdata[0]:.1f}%\\u003cbr\\u003eLeague: %{customdata[1]:.1f}%\\u003cbr\\u003eShot Volume: %{customdata[2]:.0f}%\\u003cbr\\u003eMakes\\u002fAttempts: %{customdata[3]}\\u002f%{customdata[4]}\\u003cbr\\u003e\\u003cextra\\u003e\\u003c\\u002fextra\\u003e\",\"marker\":{\"color\":[\"rgba(34, 197, 94, 0.7)\",\"rgba(34, 197, 94, 0.7)\",\"rgba(239, 68, 68, 0.7)\",\"rgba(34, 197, 94, 0.7)\",\"rgba(34, 197, 94, 0.7)\"],\"line\":{\"color\":[\"rgba(34, 197, 94, 1)\",\"rgba(34, 197, 94, 1)\",\"rgba(239, 68, 68, 1)\",\"rgba(34, 197, 94, 1)\",\"rgba(34, 197, 94, 1)\"],\"width\":1}},\"name\":\"vs. League Average\",\"text\":[\"+4.4%\",\"+7.0%\",\"-4.5%\",\"+5.8%\",\"+8.7%\"],\"textfont\":{\"color\":\"#F8FAFC\",\"size\":11},\"textposition\":\"auto\",\"visible\":false,\"x\":[\"Standard Dunk\",\"Driving Dunk\",\"Alley Oop Dunk\",\"Putback Dunk\",\"Reverse Dunk\"],\"y\":[4.420962112882876,6.993511175198279,-4.511368169126442,5.795314426633794,8.67579908675799],\"type\":\"bar\"},{\"hoverinfo\":\"skip\",\"line\":{\"color\":\"rgba(226, 232, 240, 0.3)\",\"dash\":\"dash\",\"width\":1},\"mode\":\"lines\",\"name\":\"League Average\",\"visible\":false,\"x\":[\"Standard Dunk\",\"Driving Dunk\",\"Alley Oop Dunk\",\"Putback Dunk\",\"Reverse Dunk\"],\"y\":[0,0,0,0,0],\"type\":\"scatter\"},{\"customdata\":[[75.0,65.39074960127593,100.0,3,4]],\"hovertemplate\":\"\\u003cb\\u003e%{x}\\u003c\\u002fb\\u003e\\u003cbr\\u003eDifference: %{y:+.1f}%\\u003cbr\\u003ePlayer: %{customdata[0]:.1f}%\\u003cbr\\u003eLeague: %{customdata[1]:.1f}%\\u003cbr\\u003eShot Volume: %{customdata[2]:.0f}%\\u003cbr\\u003eMakes\\u002fAttempts: %{customdata[3]}\\u002f%{customdata[4]}\\u003cbr\\u003e\\u003cextra\\u003e\\u003c\\u002fextra\\u003e\",\"marker\":{\"color\":[\"rgba(34, 197, 94, 0.7)\"],\"line\":{\"color\":[\"rgba(34, 197, 94, 1)\"],\"width\":1}},\"name\":\"vs. League Average\",\"text\":[\"+9.6%\"],\"textfont\":{\"color\":\"#F8FAFC\",\"size\":11},\"textposition\":\"auto\",\"visible\":false,\"x\":[\"Floating Jump Shot\"],\"y\":[9.609250398724072],\"type\":\"bar\"},{\"hoverinfo\":\"skip\",\"line\":{\"color\":\"rgba(226, 232, 240, 0.3)\",\"dash\":\"dash\",\"width\":1},\"mode\":\"lines\",\"name\":\"League Average\",\"visible\":false,\"x\":[\"Floating Jump Shot\"],\"y\":[0],\"type\":\"scatter\"},{\"customdata\":[[32.756489493201485,35.45219493526738,84.5111326234269,294,873],[46.93877551020408,51.19273801984379,4.743465634075508,23,49],[41.30434782608695,52.8082191780822,4.453049370764763,19,46],[81.81818181818183,71.70474516695958,2.2265246853823815,18,23],[35.0,53.71226124460875,1.9361084220716358,7,20],[57.14285714285714,63.34325396825397,1.3552758954501452,8,14],[50.0,63.74695863746959,0.7744433688286544,4,8]],\"hovertemplate\":\"\\u003cb\\u003e%{x}\\u003c\\u002fb\\u003e\\u003cbr\\u003eDifference: %{y:+.1f}%\\u003cbr\\u003ePlayer: %{customdata[0]:.1f}%\\u003cbr\\u003eLeague: %{customdata[1]:.1f}%\\u003cbr\\u003eShot Volume: %{customdata[2]:.0f}%\\u003cbr\\u003eMakes\\u002fAttempts: %{customdata[3]}\\u002f%{customdata[4]}\\u003cbr\\u003e\\u003cextra\\u003e\\u003c\\u002fextra\\u003e\",\"marker\":{\"color\":[\"rgba(239, 68, 68, 0.7)\",\"rgba(239, 68, 68, 0.7)\",\"rgba(239, 68, 68, 0.7)\",\"rgba(34, 197, 94, 0.7)\",\"rgba(239, 68, 68, 0.7)\",\"rgba(239, 68, 68, 0.7)\",\"rgba(239, 68, 68, 0.7)\"],\"line\":{\"color\":[\"rgba(239, 68, 68, 1)\",\"rgba(239, 68, 68, 1)\",\"rgba(239, 68, 68, 1)\",\"rgba(34, 197, 94, 1)\",\"rgba(239, 68, 68, 1)\",\"rgba(239, 68, 68, 1)\",\"rgba(239, 68, 68, 1)\"],\"width\":1}},\"name\":\"vs. League Average\",\"text\":[\"-2.7%\",\"-4.3%\",\"-11.5%\",\"+10.1%\",\"-18.7%\",\"-6.2%\",\"-13.7%\"],\"textfont\":{\"color\":\"#F8FAFC\",\"size\":11},\"textposition\":\"auto\",\"visible\":false,\"x\":[\"Jump Shot\",\"Turnaround Jump Shot\",\"Running Jump Shot\",\"Pullup Jump Shot\",\"Fadeaway Jump Shot\",\"Step Back Jump Shot\",\"Driving Jump Shot\"],\"y\":[-2.6957054420658935,-4.253962509639706,-11.503871351995244,10.113436651222244,-18.712261244608747,-6.20039682539683,-13.74695863746959],\"type\":\"bar\"},{\"hoverinfo\":\"skip\",\"line\":{\"color\":\"rgba(226, 232, 240, 0.3)\",\"dash\":\"dash\",\"width\":1},\"mode\":\"lines\",\"name\":\"League Average\",\"visible\":false,\"x\":[\"Jump Shot\",\"Turnaround Jump Shot\",\"Running Jump Shot\",\"Pullup Jump Shot\",\"Fadeaway Jump Shot\",\"Step Back Jump Shot\",\"Driving Jump Shot\"],\"y\":[0,0,0,0,0,0,0],\"type\":\"scatter\"},{\"customdata\":[[50.24154589371981,44.811818501582835,51.74999999999999,104,207],[85.41666666666666,71.70025086995226,36.0,123,144],[85.0,78.97623400365632,5.0,17,20],[58.333333333333336,66.28420123565755,3.0,7,12],[90.0,82.14971209213053,2.5,9,10],[57.14285714285714,69.23076923076923,1.7500000000000002,4,7]],\"hovertemplate\":\"\\u003cb\\u003e%{x}\\u003c\\u002fb\\u003e\\u003cbr\\u003eDifference: %{y:+.1f}%\\u003cbr\\u003ePlayer: %{customdata[0]:.1f}%\\u003cbr\\u003eLeague: %{customdata[1]:.1f}%\\u003cbr\\u003eShot Volume: %{customdata[2]:.0f}%\\u003cbr\\u003eMakes\\u002fAttempts: %{customdata[3]}\\u002f%{customdata[4]}\\u003cbr\\u003e\\u003cextra\\u003e\\u003c\\u002fextra\\u003e\",\"marker\":{\"color\":[\"rgba(34, 197, 94, 0.7)\",\"rgba(34, 197, 94, 0.7)\",\"rgba(34, 197, 94, 0.7)\",\"rgba(239, 68, 68, 0.7)\",\"rgba(34, 197, 94, 0.7)\",\"rgba(239, 68, 68, 0.7)\"],\"line\":{\"color\":[\"rgba(34, 197, 94, 1)\",\"rgba(34, 197, 94, 1)\",\"rgba(34, 197, 94, 1)\",\"rgba(239, 68, 68, 1)\",\"rgba(34, 197, 94, 1)\",\"rgba(239, 68, 68, 1)\"],\"width\":1}},\"name\":\"vs. League Average\",\"text\":[\"+5.4%\",\"+13.7%\",\"+6.0%\",\"-8.0%\",\"+7.9%\",\"-12.1%\"],\"textfont\":{\"color\":\"#F8FAFC\",\"size\":11},\"textposition\":\"auto\",\"visible\":false,\"x\":[\"Standard Layup\",\"Driving Layup\",\"Finger Roll\",\"Reverse Layup\",\"Putback Layup\",\"Alley Oop Layup\"],\"y\":[5.429727392136975,13.7164157967144,6.023765996343684,-7.950867902324212,7.850287907869472,-12.087912087912088],\"type\":\"bar\"},{\"hoverinfo\":\"skip\",\"line\":{\"color\":\"rgba(226, 232, 240, 0.3)\",\"dash\":\"dash\",\"width\":1},\"mode\":\"lines\",\"name\":\"League Average\",\"visible\":false,\"x\":[\"Standard Layup\",\"Driving Layup\",\"Finger Roll\",\"Reverse Layup\",\"Putback Layup\",\"Alley Oop Layup\"],\"y\":[0,0,0,0,0,0],\"type\":\"scatter\"},{\"customdata\":[[55.00000000000001,49.316668613479735,66.66666666666666,11,20],[33.33333333333333,58.6406362979031,20.0,2,6],[33.33333333333333,57.25938009787929,10.0,1,3],[100.0,57.20930232558139,3.3333333333333335,1,1]],\"hovertemplate\":\"\\u003cb\\u003e%{x}\\u003c\\u002fb\\u003e\\u003cbr\\u003eDifference: %{y:+.1f}%\\u003cbr\\u003ePlayer: %{customdata[0]:.1f}%\\u003cbr\\u003eLeague: %{customdata[1]:.1f}%\\u003cbr\\u003eShot Volume: %{customdata[2]:.0f}%\\u003cbr\\u003eMakes\\u002fAttempts: %{customdata[3]}\\u002f%{customdata[4]}\\u003cbr\\u003e\\u003cextra\\u003e\\u003c\\u002fextra\\u003e\",\"marker\":{\"color\":[\"rgba(34, 197, 94, 0.7)\",\"rgba(239, 68, 68, 0.7)\",\"rgba(239, 68, 68, 0.7)\",\"rgba(34, 197, 94, 0.7)\"],\"line\":{\"color\":[\"rgba(34, 197, 94, 1)\",\"rgba(239, 68, 68, 1)\",\"rgba(239, 68, 68, 1)\",\"rgba(34, 197, 94, 1)\"],\"width\":1}},\"name\":\"vs. League Average\",\"text\":[\"+5.7%\",\"-25.3%\",\"-23.9%\",\"+42.8%\"],\"textfont\":{\"color\":\"#F8FAFC\",\"size\":11},\"textposition\":\"auto\",\"visible\":false,\"x\":[\"Hook Shot\",\"Running Hook Shot\",\"Turnaround Hook Shot\",\"Driving Hook Shot\"],\"y\":[5.683331386520273,-25.30730296456977,-23.92604676454596,42.79069767441861],\"type\":\"bar\"},{\"hoverinfo\":\"skip\",\"line\":{\"color\":\"rgba(226, 232, 240, 0.3)\",\"dash\":\"dash\",\"width\":1},\"mode\":\"lines\",\"name\":\"League Average\",\"visible\":false,\"x\":[\"Hook Shot\",\"Running Hook Shot\",\"Turnaround Hook Shot\",\"Driving Hook Shot\"],\"y\":[0,0,0,0],\"type\":\"scatter\"},{\"customdata\":[[50.0,46.89296468655899,100.0,6,12]],\"hovertemplate\":\"\\u003cb\\u003e%{x}\\u003c\\u002fb\\u003e\\u003cbr\\u003eDifference: %{y:+.1f}%\\u003cbr\\u003ePlayer: %{customdata[0]:.1f}%\\u003cbr\\u003eLeague: %{customdata[1]:.1f}%\\u003cbr\\u003eShot Volume: %{customdata[2]:.0f}%\\u003cbr\\u003eMakes\\u002fAttempts: %{customdata[3]}\\u002f%{customdata[4]}\\u003cbr\\u003e\\u003cextra\\u003e\\u003c\\u002fextra\\u003e\",\"marker\":{\"color\":[\"rgba(34, 197, 94, 0.7)\"],\"line\":{\"color\":[\"rgba(34, 197, 94, 1)\"],\"width\":1}},\"name\":\"vs. League Average\",\"text\":[\"+3.1%\"],\"textfont\":{\"color\":\"#F8FAFC\",\"size\":11},\"textposition\":\"auto\",\"visible\":false,\"x\":[\"Tip Shot\"],\"y\":[3.10703531344101],\"type\":\"bar\"},{\"hoverinfo\":\"skip\",\"line\":{\"color\":\"rgba(226, 232, 240, 0.3)\",\"dash\":\"dash\",\"width\":1},\"mode\":\"lines\",\"name\":\"League Average\",\"visible\":false,\"x\":[\"Tip Shot\"],\"y\":[0],\"type\":\"scatter\"}],                        {\"template\":{\"data\":{\"histogram2dcontour\":[{\"type\":\"histogram2dcontour\",\"colorbar\":{\"outlinewidth\":0,\"ticks\":\"\"},\"colorscale\":[[0.0,\"#0d0887\"],[0.1111111111111111,\"#46039f\"],[0.2222222222222222,\"#7201a8\"],[0.3333333333333333,\"#9c179e\"],[0.4444444444444444,\"#bd3786\"],[0.5555555555555556,\"#d8576b\"],[0.6666666666666666,\"#ed7953\"],[0.7777777777777778,\"#fb9f3a\"],[0.8888888888888888,\"#fdca26\"],[1.0,\"#f0f921\"]]}],\"choropleth\":[{\"type\":\"choropleth\",\"colorbar\":{\"outlinewidth\":0,\"ticks\":\"\"}}],\"histogram2d\":[{\"type\":\"histogram2d\",\"colorbar\":{\"outlinewidth\":0,\"ticks\":\"\"},\"colorscale\":[[0.0,\"#0d0887\"],[0.1111111111111111,\"#46039f\"],[0.2222222222222222,\"#7201a8\"],[0.3333333333333333,\"#9c179e\"],[0.4444444444444444,\"#bd3786\"],[0.5555555555555556,\"#d8576b\"],[0.6666666666666666,\"#ed7953\"],[0.7777777777777778,\"#fb9f3a\"],[0.8888888888888888,\"#fdca26\"],[1.0,\"#f0f921\"]]}],\"heatmap\":[{\"type\":\"heatmap\",\"colorbar\":{\"outlinewidth\":0,\"ticks\":\"\"},\"colorscale\":[[0.0,\"#0d0887\"],[0.1111111111111111,\"#46039f\"],[0.2222222222222222,\"#7201a8\"],[0.3333333333333333,\"#9c179e\"],[0.4444444444444444,\"#bd3786\"],[0.5555555555555556,\"#d8576b\"],[0.6666666666666666,\"#ed7953\"],[0.7777777777777778,\"#fb9f3a\"],[0.8888888888888888,\"#fdca26\"],[1.0,\"#f0f921\"]]}],\"heatmapgl\":[{\"type\":\"heatmapgl\",\"colorbar\":{\"outlinewidth\":0,\"ticks\":\"\"},\"colorscale\":[[0.0,\"#0d0887\"],[0.1111111111111111,\"#46039f\"],[0.2222222222222222,\"#7201a8\"],[0.3333333333333333,\"#9c179e\"],[0.4444444444444444,\"#bd3786\"],[0.5555555555555556,\"#d8576b\"],[0.6666666666666666,\"#ed7953\"],[0.7777777777777778,\"#fb9f3a\"],[0.8888888888888888,\"#fdca26\"],[1.0,\"#f0f921\"]]}],\"contourcarpet\":[{\"type\":\"contourcarpet\",\"colorbar\":{\"outlinewidth\":0,\"ticks\":\"\"}}],\"contour\":[{\"type\":\"contour\",\"colorbar\":{\"outlinewidth\":0,\"ticks\":\"\"},\"colorscale\":[[0.0,\"#0d0887\"],[0.1111111111111111,\"#46039f\"],[0.2222222222222222,\"#7201a8\"],[0.3333333333333333,\"#9c179e\"],[0.4444444444444444,\"#bd3786\"],[0.5555555555555556,\"#d8576b\"],[0.6666666666666666,\"#ed7953\"],[0.7777777777777778,\"#fb9f3a\"],[0.8888888888888888,\"#fdca26\"],[1.0,\"#f0f921\"]]}],\"surface\":[{\"type\":\"surface\",\"colorbar\":{\"outlinewidth\":0,\"ticks\":\"\"},\"colorscale\":[[0.0,\"#0d0887\"],[0.1111111111111111,\"#46039f\"],[0.2222222222222222,\"#7201a8\"],[0.3333333333333333,\"#9c179e\"],[0.4444444444444444,\"#bd3786\"],[0.5555555555555556,\"#d8576b\"],[0.6666666666666666,\"#ed7953\"],[0.7777777777777778,\"#fb9f3a\"],[0.8888888888888888,\"#fdca26\"],[1.0,\"#f0f921\"]]}],\"mesh3d\":[{\"type\":\"mesh3d\",\"colorbar\":{\"outlinewidth\":0,\"ticks\":\"\"}}],\"scatter\":[{\"fillpattern\":{\"fillmode\":\"overlay\",\"size\":10,\"solidity\":0.2},\"type\":\"scatter\"}],\"parcoords\":[{\"type\":\"parcoords\",\"line\":{\"colorbar\":{\"outlinewidth\":0,\"ticks\":\"\"}}}],\"scatterpolargl\":[{\"type\":\"scatterpolargl\",\"marker\":{\"colorbar\":{\"outlinewidth\":0,\"ticks\":\"\"}}}],\"bar\":[{\"error_x\":{\"color\":\"#2a3f5f\"},\"error_y\":{\"color\":\"#2a3f5f\"},\"marker\":{\"line\":{\"color\":\"#E5ECF6\",\"width\":0.5},\"pattern\":{\"fillmode\":\"overlay\",\"size\":10,\"solidity\":0.2}},\"type\":\"bar\"}],\"scattergeo\":[{\"type\":\"scattergeo\",\"marker\":{\"colorbar\":{\"outlinewidth\":0,\"ticks\":\"\"}}}],\"scatterpolar\":[{\"type\":\"scatterpolar\",\"marker\":{\"colorbar\":{\"outlinewidth\":0,\"ticks\":\"\"}}}],\"histogram\":[{\"marker\":{\"pattern\":{\"fillmode\":\"overlay\",\"size\":10,\"solidity\":0.2}},\"type\":\"histogram\"}],\"scattergl\":[{\"type\":\"scattergl\",\"marker\":{\"colorbar\":{\"outlinewidth\":0,\"ticks\":\"\"}}}],\"scatter3d\":[{\"type\":\"scatter3d\",\"line\":{\"colorbar\":{\"outlinewidth\":0,\"ticks\":\"\"}},\"marker\":{\"colorbar\":{\"outlinewidth\":0,\"ticks\":\"\"}}}],\"scattermapbox\":[{\"type\":\"scattermapbox\",\"marker\":{\"colorbar\":{\"outlinewidth\":0,\"ticks\":\"\"}}}],\"scatterternary\":[{\"type\":\"scatterternary\",\"marker\":{\"colorbar\":{\"outlinewidth\":0,\"ticks\":\"\"}}}],\"scattercarpet\":[{\"type\":\"scattercarpet\",\"marker\":{\"colorbar\":{\"outlinewidth\":0,\"ticks\":\"\"}}}],\"carpet\":[{\"aaxis\":{\"endlinecolor\":\"#2a3f5f\",\"gridcolor\":\"white\",\"linecolor\":\"white\",\"minorgridcolor\":\"white\",\"startlinecolor\":\"#2a3f5f\"},\"baxis\":{\"endlinecolor\":\"#2a3f5f\",\"gridcolor\":\"white\",\"linecolor\":\"white\",\"minorgridcolor\":\"white\",\"startlinecolor\":\"#2a3f5f\"},\"type\":\"carpet\"}],\"table\":[{\"cells\":{\"fill\":{\"color\":\"#EBF0F8\"},\"line\":{\"color\":\"white\"}},\"header\":{\"fill\":{\"color\":\"#C8D4E3\"},\"line\":{\"color\":\"white\"}},\"type\":\"table\"}],\"barpolar\":[{\"marker\":{\"line\":{\"color\":\"#E5ECF6\",\"width\":0.5},\"pattern\":{\"fillmode\":\"overlay\",\"size\":10,\"solidity\":0.2}},\"type\":\"barpolar\"}],\"pie\":[{\"automargin\":true,\"type\":\"pie\"}]},\"layout\":{\"autotypenumbers\":\"strict\",\"colorway\":[\"#636efa\",\"#EF553B\",\"#00cc96\",\"#ab63fa\",\"#FFA15A\",\"#19d3f3\",\"#FF6692\",\"#B6E880\",\"#FF97FF\",\"#FECB52\"],\"font\":{\"color\":\"#2a3f5f\"},\"hovermode\":\"closest\",\"hoverlabel\":{\"align\":\"left\"},\"paper_bgcolor\":\"white\",\"plot_bgcolor\":\"#E5ECF6\",\"polar\":{\"bgcolor\":\"#E5ECF6\",\"angularaxis\":{\"gridcolor\":\"white\",\"linecolor\":\"white\",\"ticks\":\"\"},\"radialaxis\":{\"gridcolor\":\"white\",\"linecolor\":\"white\",\"ticks\":\"\"}},\"ternary\":{\"bgcolor\":\"#E5ECF6\",\"aaxis\":{\"gridcolor\":\"white\",\"linecolor\":\"white\",\"ticks\":\"\"},\"baxis\":{\"gridcolor\":\"white\",\"linecolor\":\"white\",\"ticks\":\"\"},\"caxis\":{\"gridcolor\":\"white\",\"linecolor\":\"white\",\"ticks\":\"\"}},\"coloraxis\":{\"colorbar\":{\"outlinewidth\":0,\"ticks\":\"\"}},\"colorscale\":{\"sequential\":[[0.0,\"#0d0887\"],[0.1111111111111111,\"#46039f\"],[0.2222222222222222,\"#7201a8\"],[0.3333333333333333,\"#9c179e\"],[0.4444444444444444,\"#bd3786\"],[0.5555555555555556,\"#d8576b\"],[0.6666666666666666,\"#ed7953\"],[0.7777777777777778,\"#fb9f3a\"],[0.8888888888888888,\"#fdca26\"],[1.0,\"#f0f921\"]],\"sequentialminus\":[[0.0,\"#0d0887\"],[0.1111111111111111,\"#46039f\"],[0.2222222222222222,\"#7201a8\"],[0.3333333333333333,\"#9c179e\"],[0.4444444444444444,\"#bd3786\"],[0.5555555555555556,\"#d8576b\"],[0.6666666666666666,\"#ed7953\"],[0.7777777777777778,\"#fb9f3a\"],[0.8888888888888888,\"#fdca26\"],[1.0,\"#f0f921\"]],\"diverging\":[[0,\"#8e0152\"],[0.1,\"#c51b7d\"],[0.2,\"#de77ae\"],[0.3,\"#f1b6da\"],[0.4,\"#fde0ef\"],[0.5,\"#f7f7f7\"],[0.6,\"#e6f5d0\"],[0.7,\"#b8e186\"],[0.8,\"#7fbc41\"],[0.9,\"#4d9221\"],[1,\"#276419\"]]},\"xaxis\":{\"gridcolor\":\"white\",\"linecolor\":\"white\",\"ticks\":\"\",\"title\":{\"standoff\":15},\"zerolinecolor\":\"white\",\"automargin\":true,\"zerolinewidth\":2},\"yaxis\":{\"gridcolor\":\"white\",\"linecolor\":\"white\",\"ticks\":\"\",\"title\":{\"standoff\":15},\"zerolinecolor\":\"white\",\"automargin\":true,\"zerolinewidth\":2},\"scene\":{\"xaxis\":{\"backgroundcolor\":\"#E5ECF6\",\"gridcolor\":\"white\",\"linecolor\":\"white\",\"showbackground\":true,\"ticks\":\"\",\"zerolinecolor\":\"white\",\"gridwidth\":2},\"yaxis\":{\"backgroundcolor\":\"#E5ECF6\",\"gridcolor\":\"white\",\"linecolor\":\"white\",\"showbackground\":true,\"ticks\":\"\",\"zerolinecolor\":\"white\",\"gridwidth\":2},\"zaxis\":{\"backgroundcolor\":\"#E5ECF6\",\"gridcolor\":\"white\",\"linecolor\":\"white\",\"showbackground\":true,\"ticks\":\"\",\"zerolinecolor\":\"white\",\"gridwidth\":2}},\"shapedefaults\":{\"line\":{\"color\":\"#2a3f5f\"}},\"annotationdefaults\":{\"arrowcolor\":\"#2a3f5f\",\"arrowhead\":0,\"arrowwidth\":1},\"geo\":{\"bgcolor\":\"white\",\"landcolor\":\"#E5ECF6\",\"subunitcolor\":\"white\",\"showland\":true,\"showlakes\":true,\"lakecolor\":\"white\"},\"title\":{\"x\":0.05},\"mapbox\":{\"style\":\"light\"}}},\"title\":{\"font\":{\"size\":24,\"color\":\"#F8FAFC\"},\"text\":\"Overall Shot Performance vs League Average\",\"y\":0.97,\"x\":0.5,\"xanchor\":\"center\"},\"xaxis\":{\"tickfont\":{\"size\":11,\"color\":\"#F8FAFC\"},\"tickangle\":45,\"gridcolor\":\"rgba(148, 163, 184, 0.1)\"},\"yaxis\":{\"title\":{\"font\":{\"size\":14,\"color\":\"#F8FAFC\"},\"text\":\"% Above\\u002fBelow League Average\"},\"tickfont\":{\"size\":11,\"color\":\"#F8FAFC\"},\"gridcolor\":\"rgba(148, 163, 184, 0.1)\",\"zeroline\":false,\"range\":[-20,20]},\"margin\":{\"t\":150,\"b\":100,\"l\":80,\"r\":80},\"showlegend\":false,\"updatemenus\":[{\"bgcolor\":\"rgba(15, 23, 42, 0.9)\",\"bordercolor\":\"rgba(255, 255, 255, 0.2)\",\"buttons\":[{\"args\":[{\"visible\":[true,true,false,false,false,false,false,false,false,false,false,false,false,false]},{\"title\":\"Overall Shot Performance vs League Average\"}],\"label\":\"Overall\",\"method\":\"update\"},{\"args\":[{\"visible\":[false,false,true,true,false,false,false,false,false,false,false,false,false,false]},{\"title\":\"Shot Performance vs League Average - Dunks\"}],\"label\":\"Dunks\",\"method\":\"update\"},{\"args\":[{\"visible\":[false,false,false,false,true,true,false,false,false,false,false,false,false,false]},{\"title\":\"Shot Performance vs League Average - Floating Shots\"}],\"label\":\"Floating Shots\",\"method\":\"update\"},{\"args\":[{\"visible\":[false,false,false,false,false,false,true,true,false,false,false,false,false,false]},{\"title\":\"Shot Performance vs League Average - Jump Shots\"}],\"label\":\"Jump Shots\",\"method\":\"update\"},{\"args\":[{\"visible\":[false,false,false,false,false,false,false,false,true,true,false,false,false,false]},{\"title\":\"Shot Performance vs League Average - Layups\"}],\"label\":\"Layups\",\"method\":\"update\"},{\"args\":[{\"visible\":[false,false,false,false,false,false,false,false,false,false,true,true,false,false]},{\"title\":\"Shot Performance vs League Average - Post Moves\"}],\"label\":\"Post Moves\",\"method\":\"update\"},{\"args\":[{\"visible\":[false,false,false,false,false,false,false,false,false,false,false,false,true,true]},{\"title\":\"Shot Performance vs League Average - Tip Shots\"}],\"label\":\"Tip Shots\",\"method\":\"update\"}],\"direction\":\"right\",\"font\":{\"color\":\"#F8FAFC\",\"size\":12},\"pad\":{\"r\":10,\"t\":10},\"showactive\":true,\"type\":\"buttons\",\"x\":0.5,\"xanchor\":\"center\",\"y\":1.15,\"yanchor\":\"top\"}],\"width\":1200,\"height\":700,\"plot_bgcolor\":\"rgba(0, 0, 0, 0)\",\"paper_bgcolor\":\"rgba(0, 0, 0, 0)\",\"shapes\":[{\"fillcolor\":\"rgba(34, 197, 94, 0.05)\",\"layer\":\"below\",\"line\":{\"width\":0},\"type\":\"rect\",\"x0\":0,\"x1\":1,\"xref\":\"x domain\",\"y0\":5,\"y1\":20,\"yref\":\"y\"},{\"fillcolor\":\"rgba(226, 232, 240, 0.05)\",\"layer\":\"below\",\"line\":{\"width\":0},\"type\":\"rect\",\"x0\":0,\"x1\":1,\"xref\":\"x domain\",\"y0\":-5,\"y1\":5,\"yref\":\"y\"},{\"fillcolor\":\"rgba(239, 68, 68, 0.05)\",\"layer\":\"below\",\"line\":{\"width\":0},\"type\":\"rect\",\"x0\":0,\"x1\":1,\"xref\":\"x domain\",\"y0\":-20,\"y1\":-5,\"yref\":\"y\"}]},                        {\"responsive\": true}                    ).then(function(){\n",
       "                            \n",
       "var gd = document.getElementById('4647fc20-cafa-4136-a2c1-a1574d8216db');\n",
       "var x = new MutationObserver(function (mutations, observer) {{\n",
       "        var display = window.getComputedStyle(gd).display;\n",
       "        if (!display || display === 'none') {{\n",
       "            console.log([gd, 'removed!']);\n",
       "            Plotly.purge(gd);\n",
       "            observer.disconnect();\n",
       "        }}\n",
       "}});\n",
       "\n",
       "// Listen for the removal of the full notebook cells\n",
       "var notebookContainer = gd.closest('#notebook-container');\n",
       "if (notebookContainer) {{\n",
       "    x.observe(notebookContainer, {childList: true});\n",
       "}}\n",
       "\n",
       "// Listen for the clearing of the current output cell\n",
       "var outputEl = gd.closest('.output');\n",
       "if (outputEl) {{\n",
       "    x.observe(outputEl, {childList: true});\n",
       "}}\n",
       "\n",
       "                        })                };                });            </script>        </div>"
      ]
     },
     "metadata": {},
     "output_type": "display_data"
    }
   ],
   "source": [
    "import plotly.graph_objects as go\n",
    "import pandas as pd\n",
    "# Example data structure (replace with actual data passed in your Flask app)\n",
    "selected_player='2544'\n",
    "\n",
    "\n",
    "selected_year=2009\n",
    "def shot_performance(selected_player, selected_year, shot_range=2):\n",
    "    avg_df = pd.read_csv('https://raw.githubusercontent.com/gabriel1200/shot_data/refs/heads/master/shot_types.csv')\n",
    "    player_df = pd.read_csv(f'https://raw.githubusercontent.com/gabriel1200/shot_averages/refs/heads/main/{selected_player}.csv')\n",
    "    \n",
    "    player_df=player_df[player_df.year.astype(str)==str(selected_year)]\n",
    "    avg_df=avg_df[avg_df.year==selected_year]\n",
    "\n",
    "    print(f'https://raw.githubusercontent.com/gabriel1200/shot_averages/refs/heads/main/{selected_player}.csv')\n",
    "\n",
    "    player_df['shot_type'] = player_df.apply(\n",
    "        lambda row: '3PT Field Goal' if row['shot_group'] == '3PT' else '2PT Field Goal', axis=1\n",
    "    )\n",
    "    avg_df['shot_type'] = avg_df.apply(\n",
    "        lambda row: '3PT Field Goal' if row['shot_group'] == '3PT' else '2PT Field Goal', axis=1\n",
    "    )\n",
    "    value_map={'2PT Field Goal':1,'3PT Field Goal':1.5}\n",
    "    avg_df['shot_value']=avg_df['shot_type'].map(value_map)\n",
    "    player_df['shot_value']=player_df['shot_type'].map(value_map)\n",
    "\n",
    "\n",
    "    avg_df['efg%']=(avg_df['shot_makes']*avg_df['shot_value'])/avg_df['shot_count']\n",
    "    player_df['efg%']=(player_df['shot_makes']*player_df['shot_value'])/player_df['shot_count']\n",
    "\n",
    "    shot_groups = sorted(player_df['shot_group'].unique())\n",
    "\n",
    "    \n",
    "    def get_overall_data():\n",
    "        shot_type = '3PT Field Goal' if shot_range == 3 else '2PT Field Goal'\n",
    "        filtered_df = player_df[player_df['shot_type'] == shot_type]\n",
    "        avg_df_filtered = avg_df[avg_df['shot_type'] == shot_type]\n",
    "        \n",
    "        overall_data = []\n",
    "        total_shots = filtered_df['shot_count'].sum()\n",
    "        \n",
    "        for group in shot_groups:\n",
    "            group_shots = filtered_df[filtered_df['shot_group'] == group]\n",
    "            if not group_shots.empty:\n",
    "                attempts = group_shots['shot_count'].sum()\n",
    "                makes = group_shots['shot_makes'].sum()\n",
    "                player_pct = (makes / attempts) * 100 if attempts > 0 else 0\n",
    "                \n",
    "                # Calculate weighted league average for the category\n",
    "                group_league_pct = 0\n",
    "                total_group_attempts = 0\n",
    "                \n",
    "                for shot_desc in group_shots['shot_description'].unique():\n",
    "                    shot_attempts = group_shots[group_shots['shot_description'] == shot_desc]['shot_count'].sum()\n",
    "                    league_data = avg_df_filtered[\n",
    "                        (avg_df_filtered['shot_description'] == shot_desc) & \n",
    "                        (avg_df_filtered['year'] == int(selected_year))\n",
    "                    ]\n",
    "                    if not league_data.empty:\n",
    "                        group_league_pct += shot_attempts * league_data['efg%'].iloc[0]\n",
    "                        total_group_attempts += shot_attempts\n",
    "                \n",
    "                if total_group_attempts > 0:\n",
    "                    group_league_pct = (group_league_pct / total_group_attempts) * 100\n",
    "                    \n",
    "                    overall_data.append({\n",
    "                        'shot_description': group.replace('_', ' ').title(),\n",
    "                        'player_pct': player_pct,\n",
    "                        'league_pct': group_league_pct,\n",
    "                        'difference': player_pct - group_league_pct,\n",
    "                        'attempts': attempts,\n",
    "                        'makes': makes,\n",
    "                        'volume_pct': (attempts / total_shots) * 100\n",
    "                    })\n",
    "        \n",
    "        return sorted(overall_data, key=lambda x: x['attempts'], reverse=True)\n",
    "    \n",
    "    def get_shot_data(selected_group):\n",
    "        shot_type = '3PT Field Goal' if shot_range == 3 else '2PT Field Goal'\n",
    "        group_df = player_df[\n",
    "            (player_df['shot_group'] == selected_group) & \n",
    "            (player_df['shot_type'] == shot_type)\n",
    "        ]\n",
    "        avg_df_filtered = avg_df[avg_df['shot_type'] == shot_type]\n",
    "        \n",
    "        shot_data = []\n",
    "        for shot_desc in group_df['shot_description'].unique():\n",
    "            player_shots = group_df[group_df['shot_description'] == shot_desc]\n",
    "            league_avg = avg_df_filtered[\n",
    "                (avg_df_filtered['shot_description'] == shot_desc) & \n",
    "                (avg_df_filtered['year'] == int(selected_year))\n",
    "            ]\n",
    "\n",
    "            if not player_shots.empty and not league_avg.empty:\n",
    "                attempts = player_shots['shot_count'].sum()\n",
    "                makes = player_shots['shot_makes'].sum()\n",
    "                player_pct = player_shots['efg%'].iloc[0] * 100\n",
    "                league_pct = league_avg['efg%'].iloc[0] * 100\n",
    "                \n",
    "                shot_data.append({\n",
    "                    'shot_description': shot_desc,\n",
    "                    'player_pct': player_pct,\n",
    "                    'league_pct': league_pct,\n",
    "                    'difference': player_pct - league_pct,\n",
    "                    'attempts': attempts,\n",
    "                    'makes': makes,\n",
    "                    'volume_pct': attempts / group_df['shot_count'].sum() * 100\n",
    "                })\n",
    "       \n",
    "        return sorted(shot_data, key=lambda x: x['attempts'], reverse=True)\n",
    "    \n",
    "    # Create figure\n",
    "    fig = go.Figure()\n",
    "    \n",
    "    # Color scheme\n",
    "    colors = {\n",
    "        'positive': 'rgba(34, 197, 94, 0.7)',\n",
    "        'positive_border': 'rgba(34, 197, 94, 1)',\n",
    "        'negative': 'rgba(239, 68, 68, 0.7)',\n",
    "        'negative_border': 'rgba(239, 68, 68, 1)',\n",
    "        'reference': 'rgba(226, 232, 240, 0.3)',\n",
    "        'text': '#F8FAFC',\n",
    "        'background': 'rgba(15, 23, 42, 0.9)'\n",
    "    }\n",
    "    \n",
    "    # Add overall data first\n",
    "    overall_data = get_overall_data()\n",
    "\n",
    "    \n",
    "    # Add overall bars\n",
    "    fig.add_trace(\n",
    "        go.Bar(\n",
    "            name=\"Overall Performance\",\n",
    "            x=[d['shot_description'] for d in overall_data],\n",
    "            y=[d['difference'] for d in overall_data],\n",
    "            marker=dict(\n",
    "                color=[colors['positive'] if d['difference'] >= 0 else colors['negative']\n",
    "                      for d in overall_data],\n",
    "                line=dict(\n",
    "                    color=[colors['positive_border'] if d['difference'] >= 0 \n",
    "                          else colors['negative_border'] for d in overall_data],\n",
    "                    width=1\n",
    "                )\n",
    "            ),\n",
    "            text=[f\"{d['difference']:+.1f}%\" if abs(d['difference']) >= 2 else \"\"\n",
    "                  for d in overall_data],\n",
    "            textposition='auto',\n",
    "            textfont=dict(size=11, color=colors['text']),\n",
    "            hovertemplate=(\n",
    "                \"<b>%{x}</b><br>\" +\n",
    "                \"Difference: %{y:+.1f}%<br>\" +\n",
    "                \"Player: %{customdata[0]:.1f}%<br>\" +\n",
    "                \"League: %{customdata[1]:.1f}%<br>\" +\n",
    "                \"Shot Volume: %{customdata[2]:.0f}%<br>\" +\n",
    "                \"Makes/Attempts: %{customdata[3]}/%{customdata[4]}<br>\" +\n",
    "                \"<extra></extra>\"\n",
    "            ),\n",
    "            customdata=[[\n",
    "                d['player_pct'],\n",
    "                d['league_pct'],\n",
    "                d['volume_pct'],\n",
    "                d['makes'],\n",
    "                d['attempts']\n",
    "            ] for d in overall_data],\n",
    "            visible=True\n",
    "        )\n",
    "    )\n",
    "    \n",
    "    # Add overall reference line\n",
    "    fig.add_trace(\n",
    "        go.Scatter(\n",
    "            x=[d['shot_description'] for d in overall_data],\n",
    "            y=[0] * len(overall_data),\n",
    "            mode='lines',\n",
    "            name='League Average',\n",
    "            line=dict(\n",
    "                color=colors['reference'],\n",
    "                width=1,\n",
    "                dash='dash'\n",
    "            ),\n",
    "            hoverinfo='skip',\n",
    "            visible=True\n",
    "        )\n",
    "    )\n",
    "    \n",
    "    # Create data for each shot group\n",
    "    for group in shot_groups:\n",
    "        shot_data = get_shot_data(group)\n",
    "\n",
    "        \n",
    "        if shot_data:\n",
    "            # Add difference bars\n",
    "            fig.add_trace(\n",
    "                go.Bar(\n",
    "                    name=\"vs. League Average\",\n",
    "                    x=[d['shot_description'] for d in shot_data],\n",
    "                    y=[d['difference'] for d in shot_data],\n",
    "                    marker=dict(\n",
    "                        color=[colors['positive'] if d['difference'] >= 0 else colors['negative']\n",
    "                              for d in shot_data],\n",
    "                        line=dict(\n",
    "                            color=[colors['positive_border'] if d['difference'] >= 0 \n",
    "                                  else colors['negative_border'] for d in shot_data],\n",
    "                            width=1\n",
    "                        )\n",
    "                    ),\n",
    "                    text=[f\"{d['difference']:+.1f}%\" if abs(d['difference']) >= 2 else \"\"\n",
    "                          for d in shot_data],\n",
    "                    textposition='auto',\n",
    "                    textfont=dict(size=11, color=colors['text']),\n",
    "                    hovertemplate=(\n",
    "                        \"<b>%{x}</b><br>\" +\n",
    "                        \"Difference: %{y:+.1f}%<br>\" +\n",
    "                        \"Player: %{customdata[0]:.1f}%<br>\" +\n",
    "                        \"League: %{customdata[1]:.1f}%<br>\" +\n",
    "                        \"Shot Volume: %{customdata[2]:.0f}%<br>\" +\n",
    "                        \"Makes/Attempts: %{customdata[3]}/%{customdata[4]}<br>\" +\n",
    "                        \"<extra></extra>\"\n",
    "                    ),\n",
    "                    customdata=[[\n",
    "                        d['player_pct'],\n",
    "                        d['league_pct'],\n",
    "                        d['volume_pct'],\n",
    "                        d['makes'],\n",
    "                        d['attempts']\n",
    "                    ] for d in shot_data],\n",
    "                    visible=False\n",
    "                )\n",
    "            )\n",
    "            \n",
    "            # Add reference line\n",
    "            fig.add_trace(\n",
    "                go.Scatter(\n",
    "                    x=[d['shot_description'] for d in shot_data],\n",
    "                    y=[0] * len(shot_data),\n",
    "                    mode='lines',\n",
    "                    name='League Average',\n",
    "                    line=dict(\n",
    "                        color=colors['reference'],\n",
    "                        width=1,\n",
    "                        dash='dash'\n",
    "                    ),\n",
    "                    hoverinfo='skip',\n",
    "                    visible=False\n",
    "                )\n",
    "            )\n",
    "    \n",
    "    # Create buttons including Overall\n",
    "    buttons = [dict(\n",
    "        label=\"Overall\",\n",
    "        method=\"update\",\n",
    "        args=[\n",
    "            {\"visible\": [True, True] + [False] * (len(fig.data) - 2)},\n",
    "            {\"title\": \"Overall Shot Performance vs League Average\"}\n",
    "        ]\n",
    "    )]\n",
    "    \n",
    "    for idx, group in enumerate(shot_groups):\n",
    "        visibility = [False] * (len(fig.data))\n",
    "        group_index = (idx + 1) * 2  # +1 because overall takes up first two traces\n",
    "        visibility[group_index] = True\n",
    "        visibility[group_index + 1] = True\n",
    "        \n",
    "        buttons.append(\n",
    "            dict(\n",
    "                label=group.replace('_', ' ').title(),\n",
    "                method=\"update\",\n",
    "                args=[\n",
    "                    {\"visible\": visibility},\n",
    "                    {\"title\": f\"Shot Performance vs League Average - {group.replace('_', ' ').title()}\"}\n",
    "                ]\n",
    "            )\n",
    "        )\n",
    "    \n",
    "    # Update layout\n",
    "    fig.update_layout(\n",
    "        title=dict(\n",
    "            text=\"Overall Shot Performance vs League Average\",\n",
    "            font=dict(size=24, color=colors['text']),\n",
    "            y=0.97,\n",
    "            x=0.5,\n",
    "            xanchor='center'\n",
    "        ),\n",
    "        showlegend=False,\n",
    "        xaxis=dict(\n",
    "            tickangle=45,\n",
    "            tickfont=dict(size=11, color=colors['text']),\n",
    "            gridcolor=\"rgba(148, 163, 184, 0.1)\"\n",
    "        ),\n",
    "        yaxis=dict(\n",
    "            title=dict(\n",
    "                text=\"% Above/Below League Average\",\n",
    "                font=dict(size=14, color=colors['text'])\n",
    "            ),\n",
    "            tickfont=dict(size=11, color=colors['text']),\n",
    "            gridcolor=\"rgba(148, 163, 184, 0.1)\",\n",
    "            zeroline=False,\n",
    "            range=[-20, 20]\n",
    "        ),\n",
    "        updatemenus=[\n",
    "            dict(\n",
    "                type=\"buttons\",\n",
    "                direction=\"right\",\n",
    "                x=0.5,\n",
    "                y=1.15,\n",
    "                xanchor='center',\n",
    "                yanchor='top',\n",
    "                showactive=True,\n",
    "                buttons=buttons,\n",
    "                font=dict(color=colors['text'], size=12),\n",
    "                bgcolor=colors['background'],\n",
    "                bordercolor='rgba(255, 255, 255, 0.2)',\n",
    "                #activecolor='rgba(59, 130, 246, 0.7)',\n",
    "                pad={\"r\": 10, \"t\": 10},\n",
    "            )\n",
    "        ],\n",
    "        width=1200,\n",
    "        height=700,\n",
    "        plot_bgcolor=\"rgba(0, 0, 0, 0)\",\n",
    "        paper_bgcolor=\"rgba(0, 0, 0, 0)\",\n",
    "        margin=dict(t=150, b=100, l=80, r=80)\n",
    "    )\n",
    "    \n",
    "    # Add performance bands\n",
    "    fig.add_hrect(y0=5, y1=20, fillcolor=\"rgba(34, 197, 94, 0.05)\", layer=\"below\", line_width=0)\n",
    "    fig.add_hrect(y0=-5, y1=5, fillcolor=\"rgba(226, 232, 240, 0.05)\", layer=\"below\", line_width=0)\n",
    "    fig.add_hrect(y0=-20, y1=-5, fillcolor=\"rgba(239, 68, 68, 0.05)\", layer=\"below\", line_width=0)\n",
    "    \n",
    "    return fig\n",
    "    # Render the figure\n",
    "fig = shot_performance(selected_player,selected_year,shot_range=2)\n",
    "fig.show()"
   ]
  },
  {
   "cell_type": "code",
   "execution_count": 2,
   "id": "bf439f95-7540-4291-a9a1-b4fbde3378ac",
   "metadata": {},
   "outputs": [
    {
     "ename": "NameError",
     "evalue": "name 'avg_df' is not defined",
     "output_type": "error",
     "traceback": [
      "\u001b[0;31m---------------------------------------------------------------------------\u001b[0m",
      "\u001b[0;31mNameError\u001b[0m                                 Traceback (most recent call last)",
      "Cell \u001b[0;32mIn[2], line 1\u001b[0m\n\u001b[0;32m----> 1\u001b[0m \u001b[43mavg_df\u001b[49m[avg_df\u001b[38;5;241m.\u001b[39mshot_description\u001b[38;5;241m.\u001b[39misna()]\n",
      "\u001b[0;31mNameError\u001b[0m: name 'avg_df' is not defined"
     ]
    }
   ],
   "source": [
    "avg_df[avg_df.shot_description.isna()]"
   ]
  },
  {
   "cell_type": "code",
   "execution_count": null,
   "id": "8635a882-ca23-4956-8c4c-ae86f6dd6ec9",
   "metadata": {},
   "outputs": [],
   "source": []
  }
 ],
 "metadata": {
  "kernelspec": {
   "display_name": "Python 3 (ipykernel)",
   "language": "python",
   "name": "python3"
  },
  "language_info": {
   "codemirror_mode": {
    "name": "ipython",
    "version": 3
   },
   "file_extension": ".py",
   "mimetype": "text/x-python",
   "name": "python",
   "nbconvert_exporter": "python",
   "pygments_lexer": "ipython3",
   "version": "3.10.12"
  }
 },
 "nbformat": 4,
 "nbformat_minor": 5
}
