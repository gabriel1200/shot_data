{
 "cells": [
  {
   "cell_type": "code",
   "execution_count": 5,
   "id": "b609c9f4-6fdf-4025-afd7-57479bbe9893",
   "metadata": {},
   "outputs": [
    {
     "name": "stdout",
     "output_type": "stream",
     "text": [
      "https://raw.githubusercontent.com/gabriel1200/shot_averages/refs/heads/main/2544.csv\n",
      "      PLAYER_NAME  PLAYER_ID      shot_description       shot_type  \\\n",
      "0    LeBron James       2544          Driving Dunk  2PT Field Goal   \n",
      "1    LeBron James       2544         Driving Layup  2PT Field Goal   \n",
      "2    LeBron James       2544             Jump Shot  2PT Field Goal   \n",
      "3    LeBron James       2544             Jump Shot  2PT Field Goal   \n",
      "4    LeBron James       2544             Jump Shot  3PT Field Goal   \n",
      "..            ...        ...                   ...             ...   \n",
      "129  LeBron James       2544  Turnaround Hook Shot  2PT Field Goal   \n",
      "130  LeBron James       2544  Turnaround Jump Shot  2PT Field Goal   \n",
      "131  LeBron James       2544  Turnaround Jump Shot  2PT Field Goal   \n",
      "132  LeBron James       2544  Turnaround Jump Shot  2PT Field Goal   \n",
      "133  LeBron James       2544  Turnaround Jump Shot  2PT Field Goal   \n",
      "\n",
      "     shot_count  shot_makes                     old_description  shot_group  \\\n",
      "0             1           1                   Driving Dunk Shot       DUNKS   \n",
      "1             1           1                  Driving Layup Shot      LAYUPS   \n",
      "2             1           1                      Jump Bank Shot  JUMP_SHOTS   \n",
      "3             6           2                           Jump Shot  JUMP_SHOTS   \n",
      "4             1           0                           Jump Shot  JUMP_SHOTS   \n",
      "..          ...         ...                                 ...         ...   \n",
      "129           1           0           Turnaround Bank Hook Shot  POST_MOVES   \n",
      "130           2           2                Turnaround Bank shot  JUMP_SHOTS   \n",
      "131           2           0  Turnaround Fadeaway Bank Jump Shot  JUMP_SHOTS   \n",
      "132          29          15            Turnaround Fadeaway shot  JUMP_SHOTS   \n",
      "133           3           1                Turnaround Jump Shot  JUMP_SHOTS   \n",
      "\n",
      "         efg%  year  \n",
      "0    1.000000  2005  \n",
      "1    1.000000  2005  \n",
      "2    1.000000  2005  \n",
      "3    0.333333  2005  \n",
      "4    0.000000  2005  \n",
      "..        ...   ...  \n",
      "129  0.000000  2025  \n",
      "130  1.000000  2025  \n",
      "131  0.000000  2025  \n",
      "132  0.517241  2025  \n",
      "133  0.333333  2025  \n",
      "\n",
      "[134 rows x 10 columns]\n",
      "699\n",
      "1326\n",
      "1642\n"
     ]
    },
    {
     "data": {
      "application/vnd.plotly.v1+json": {
       "config": {
        "plotlyServerURL": "https://plot.ly"
       },
       "data": [
        {
         "customdata": [
          [
           62.396694214876035,
           64.56078916028973,
           53.01204819277109,
           302,
           484
          ],
          [
           38.63636363636363,
           88.86210590756046,
           28.915662650602407,
           102,
           264
          ],
          [
           94.84536082474226,
           88.83379754693121,
           10.624315443592552,
           92,
           97
          ],
          [
           47.91666666666667,
           68.42105263157895,
           5.257393209200438,
           23,
           48
          ],
          [
           45,
           100,
           2.190580503833516,
           9,
           20
          ]
         ],
         "hovertemplate": "<b>%{x}</b><br>Difference: %{y:+.1f}%<br>Player: %{customdata[0]:.1f}%<br>League: %{customdata[1]:.1f}%<br>Shot Volume: %{customdata[2]:.0f}%<br>Makes/Attempts: %{customdata[3]}/%{customdata[4]}<br><extra></extra>",
         "marker": {
          "color": [
           "rgba(239, 68, 68, 0.7)",
           "rgba(239, 68, 68, 0.7)",
           "rgba(34, 197, 94, 0.7)",
           "rgba(239, 68, 68, 0.7)",
           "rgba(239, 68, 68, 0.7)"
          ],
          "line": {
           "color": [
            "rgba(239, 68, 68, 1)",
            "rgba(239, 68, 68, 1)",
            "rgba(34, 197, 94, 1)",
            "rgba(239, 68, 68, 1)",
            "rgba(239, 68, 68, 1)"
           ],
           "width": 1
          }
         },
         "name": "Overall Performance",
         "text": [
          "-2.2%",
          "-50.2%",
          "+6.0%",
          "-20.5%",
          "-55.0%"
         ],
         "textfont": {
          "color": "#F8FAFC",
          "size": 11
         },
         "textposition": "auto",
         "type": "bar",
         "visible": true,
         "x": [
          "Layups",
          "Jump Shots",
          "Dunks",
          "Floating Shots",
          "Post Moves"
         ],
         "y": [
          -2.1640949454136944,
          -50.22574227119683,
          6.0115632778110495,
          -20.504385964912274,
          -55
         ]
        },
        {
         "hoverinfo": "skip",
         "line": {
          "color": "rgba(226, 232, 240, 0.3)",
          "dash": "dash",
          "width": 1
         },
         "mode": "lines",
         "name": "League Average",
         "type": "scatter",
         "visible": true,
         "x": [
          "Layups",
          "Jump Shots",
          "Dunks",
          "Floating Shots",
          "Post Moves"
         ],
         "y": [
          0,
          0,
          0,
          0,
          0
         ]
        },
        {
         "customdata": [
          [
           94.11764705882352,
           92.07920792079209,
           35.051546391752574,
           32,
           34
          ],
          [
           90.32258064516128,
           85.4389721627409,
           31.958762886597935,
           28,
           31
          ],
          [
           100,
           88.18181818181819,
           14.432989690721648,
           14,
           14
          ],
          [
           100,
           92.85714285714286,
           1.0309278350515463,
           1,
           1
          ]
         ],
         "hovertemplate": "<b>%{x}</b><br>Difference: %{y:+.1f}%<br>Player: %{customdata[0]:.1f}%<br>League: %{customdata[1]:.1f}%<br>Shot Volume: %{customdata[2]:.0f}%<br>Makes/Attempts: %{customdata[3]}/%{customdata[4]}<br><extra></extra>",
         "marker": {
          "color": [
           "rgba(34, 197, 94, 0.7)",
           "rgba(34, 197, 94, 0.7)",
           "rgba(34, 197, 94, 0.7)",
           "rgba(34, 197, 94, 0.7)"
          ],
          "line": {
           "color": [
            "rgba(34, 197, 94, 1)",
            "rgba(34, 197, 94, 1)",
            "rgba(34, 197, 94, 1)",
            "rgba(34, 197, 94, 1)"
           ],
           "width": 1
          }
         },
         "name": "vs. League Average",
         "text": [
          "+2.0%",
          "+4.9%",
          "+11.8%",
          "+7.1%"
         ],
         "textfont": {
          "color": "#F8FAFC",
          "size": 11
         },
         "textposition": "auto",
         "type": "bar",
         "visible": false,
         "x": [
          "Driving Dunk",
          "Standard Dunk",
          "Alley Oop Dunk",
          "Reverse Dunk"
         ],
         "y": [
          2.0384391380314355,
          4.883608482420385,
          11.818181818181813,
          7.142857142857139
         ]
        },
        {
         "hoverinfo": "skip",
         "line": {
          "color": "rgba(226, 232, 240, 0.3)",
          "dash": "dash",
          "width": 1
         },
         "mode": "lines",
         "name": "League Average",
         "type": "scatter",
         "visible": false,
         "x": [
          "Driving Dunk",
          "Standard Dunk",
          "Alley Oop Dunk",
          "Reverse Dunk"
         ],
         "y": [
          0,
          0,
          0,
          0
         ]
        },
        {
         "customdata": [
          [
           47.91666666666667,
           68.42105263157895,
           100,
           23,
           48
          ]
         ],
         "hovertemplate": "<b>%{x}</b><br>Difference: %{y:+.1f}%<br>Player: %{customdata[0]:.1f}%<br>League: %{customdata[1]:.1f}%<br>Shot Volume: %{customdata[2]:.0f}%<br>Makes/Attempts: %{customdata[3]}/%{customdata[4]}<br><extra></extra>",
         "marker": {
          "color": [
           "rgba(239, 68, 68, 0.7)"
          ],
          "line": {
           "color": [
            "rgba(239, 68, 68, 1)"
           ],
           "width": 1
          }
         },
         "name": "vs. League Average",
         "text": [
          "-20.5%"
         ],
         "textfont": {
          "color": "#F8FAFC",
          "size": 11
         },
         "textposition": "auto",
         "type": "bar",
         "visible": false,
         "x": [
          "Floating Jump Shot"
         ],
         "y": [
          -20.504385964912274
         ]
        },
        {
         "hoverinfo": "skip",
         "line": {
          "color": "rgba(226, 232, 240, 0.3)",
          "dash": "dash",
          "width": 1
         },
         "mode": "lines",
         "name": "League Average",
         "type": "scatter",
         "visible": false,
         "x": [
          "Floating Jump Shot"
         ],
         "y": [
          0
         ]
        },
        {
         "customdata": [
          [
           37.64705882352941,
           90.90909090909092,
           32.196969696969695,
           32,
           85
          ],
          [
           39.0625,
           100,
           24.242424242424242,
           25,
           64
          ],
          [
           38.88888888888889,
           68.68686868686868,
           20.454545454545457,
           21,
           54
          ],
          [
           43.24324324324324,
           100,
           14.015151515151514,
           16,
           37
          ],
          [
           37.5,
           86.11111111111111,
           6.0606060606060606,
           6,
           16
          ],
          [
           25,
           68.18181818181817,
           3.0303030303030303,
           2,
           8
          ]
         ],
         "hovertemplate": "<b>%{x}</b><br>Difference: %{y:+.1f}%<br>Player: %{customdata[0]:.1f}%<br>League: %{customdata[1]:.1f}%<br>Shot Volume: %{customdata[2]:.0f}%<br>Makes/Attempts: %{customdata[3]}/%{customdata[4]}<br><extra></extra>",
         "marker": {
          "color": [
           "rgba(239, 68, 68, 0.7)",
           "rgba(239, 68, 68, 0.7)",
           "rgba(239, 68, 68, 0.7)",
           "rgba(239, 68, 68, 0.7)",
           "rgba(239, 68, 68, 0.7)",
           "rgba(239, 68, 68, 0.7)"
          ],
          "line": {
           "color": [
            "rgba(239, 68, 68, 1)",
            "rgba(239, 68, 68, 1)",
            "rgba(239, 68, 68, 1)",
            "rgba(239, 68, 68, 1)",
            "rgba(239, 68, 68, 1)",
            "rgba(239, 68, 68, 1)"
           ],
           "width": 1
          }
         },
         "name": "vs. League Average",
         "text": [
          "-53.3%",
          "-60.9%",
          "-29.8%",
          "-56.8%",
          "-48.6%",
          "-43.2%"
         ],
         "textfont": {
          "color": "#F8FAFC",
          "size": 11
         },
         "textposition": "auto",
         "type": "bar",
         "visible": false,
         "x": [
          "Turnaround Jump Shot",
          "Fadeaway Jump Shot",
          "Jump Shot",
          "Pullup Jump Shot",
          "Running Jump Shot",
          "Step Back Jump Shot"
         ],
         "y": [
          -53.26203208556151,
          -60.9375,
          -29.797979797979785,
          -56.75675675675676,
          -48.611111111111114,
          -43.18181818181817
         ]
        },
        {
         "hoverinfo": "skip",
         "line": {
          "color": "rgba(226, 232, 240, 0.3)",
          "dash": "dash",
          "width": 1
         },
         "mode": "lines",
         "name": "League Average",
         "type": "scatter",
         "visible": false,
         "x": [
          "Turnaround Jump Shot",
          "Fadeaway Jump Shot",
          "Jump Shot",
          "Pullup Jump Shot",
          "Running Jump Shot",
          "Step Back Jump Shot"
         ],
         "y": [
          0,
          0,
          0,
          0,
          0,
          0
         ]
        },
        {
         "customdata": [
          [
           58.256880733944946,
           76.73649393605292,
           45.04132231404959,
           127,
           218
          ],
          [
           63.975155279503106,
           43.74505146476642,
           33.264462809917354,
           103,
           161
          ],
          [
           75.43859649122807,
           66.23376623376623,
           11.776859504132231,
           43,
           57
          ],
          [
           54.54545454545454,
           82.35294117647058,
           6.8181818181818175,
           18,
           33
          ],
          [
           76.92307692307693,
           64.16184971098265,
           2.6859504132231407,
           10,
           13
          ],
          [
           50,
           74.4186046511628,
           0.4132231404958678,
           1,
           2
          ]
         ],
         "hovertemplate": "<b>%{x}</b><br>Difference: %{y:+.1f}%<br>Player: %{customdata[0]:.1f}%<br>League: %{customdata[1]:.1f}%<br>Shot Volume: %{customdata[2]:.0f}%<br>Makes/Attempts: %{customdata[3]}/%{customdata[4]}<br><extra></extra>",
         "marker": {
          "color": [
           "rgba(239, 68, 68, 0.7)",
           "rgba(34, 197, 94, 0.7)",
           "rgba(34, 197, 94, 0.7)",
           "rgba(239, 68, 68, 0.7)",
           "rgba(34, 197, 94, 0.7)",
           "rgba(239, 68, 68, 0.7)"
          ],
          "line": {
           "color": [
            "rgba(239, 68, 68, 1)",
            "rgba(34, 197, 94, 1)",
            "rgba(34, 197, 94, 1)",
            "rgba(239, 68, 68, 1)",
            "rgba(34, 197, 94, 1)",
            "rgba(239, 68, 68, 1)"
           ],
           "width": 1
          }
         },
         "name": "vs. League Average",
         "text": [
          "-18.5%",
          "+20.2%",
          "+9.2%",
          "-27.8%",
          "+12.8%",
          "-24.4%"
         ],
         "textfont": {
          "color": "#F8FAFC",
          "size": 11
         },
         "textposition": "auto",
         "type": "bar",
         "visible": false,
         "x": [
          "Driving Layup",
          "Standard Layup",
          "Finger Roll",
          "Putback Layup",
          "Reverse Layup",
          "Alley Oop Layup"
         ],
         "y": [
          -18.479613202107977,
          20.230103814736687,
          9.204830257461836,
          -27.80748663101604,
          12.761227212094283,
          -24.418604651162795
         ]
        },
        {
         "hoverinfo": "skip",
         "line": {
          "color": "rgba(226, 232, 240, 0.3)",
          "dash": "dash",
          "width": 1
         },
         "mode": "lines",
         "name": "League Average",
         "type": "scatter",
         "visible": false,
         "x": [
          "Driving Layup",
          "Standard Layup",
          "Finger Roll",
          "Putback Layup",
          "Reverse Layup",
          "Alley Oop Layup"
         ],
         "y": [
          0,
          0,
          0,
          0,
          0,
          0
         ]
        },
        {
         "customdata": [
          [
           55.55555555555556,
           100,
           45,
           5,
           9
          ],
          [
           33.33333333333333,
           100,
           30,
           2,
           6
          ],
          [
           40,
           100,
           25,
           2,
           5
          ]
         ],
         "hovertemplate": "<b>%{x}</b><br>Difference: %{y:+.1f}%<br>Player: %{customdata[0]:.1f}%<br>League: %{customdata[1]:.1f}%<br>Shot Volume: %{customdata[2]:.0f}%<br>Makes/Attempts: %{customdata[3]}/%{customdata[4]}<br><extra></extra>",
         "marker": {
          "color": [
           "rgba(239, 68, 68, 0.7)",
           "rgba(239, 68, 68, 0.7)",
           "rgba(239, 68, 68, 0.7)"
          ],
          "line": {
           "color": [
            "rgba(239, 68, 68, 1)",
            "rgba(239, 68, 68, 1)",
            "rgba(239, 68, 68, 1)"
           ],
           "width": 1
          }
         },
         "name": "vs. League Average",
         "text": [
          "-44.4%",
          "-66.7%",
          "-60.0%"
         ],
         "textfont": {
          "color": "#F8FAFC",
          "size": 11
         },
         "textposition": "auto",
         "type": "bar",
         "visible": false,
         "x": [
          "Driving Hook Shot",
          "Turnaround Hook Shot",
          "Hook Shot"
         ],
         "y": [
          -44.44444444444444,
          -66.66666666666667,
          -60
         ]
        },
        {
         "hoverinfo": "skip",
         "line": {
          "color": "rgba(226, 232, 240, 0.3)",
          "dash": "dash",
          "width": 1
         },
         "mode": "lines",
         "name": "League Average",
         "type": "scatter",
         "visible": false,
         "x": [
          "Driving Hook Shot",
          "Turnaround Hook Shot",
          "Hook Shot"
         ],
         "y": [
          0,
          0,
          0
         ]
        }
       ],
       "layout": {
        "height": 700,
        "margin": {
         "b": 100,
         "l": 80,
         "r": 80,
         "t": 150
        },
        "paper_bgcolor": "rgba(0, 0, 0, 0)",
        "plot_bgcolor": "rgba(0, 0, 0, 0)",
        "shapes": [
         {
          "fillcolor": "rgba(34, 197, 94, 0.05)",
          "layer": "below",
          "line": {
           "width": 0
          },
          "type": "rect",
          "x0": 0,
          "x1": 1,
          "xref": "x domain",
          "y0": 5,
          "y1": 20,
          "yref": "y"
         },
         {
          "fillcolor": "rgba(226, 232, 240, 0.05)",
          "layer": "below",
          "line": {
           "width": 0
          },
          "type": "rect",
          "x0": 0,
          "x1": 1,
          "xref": "x domain",
          "y0": -5,
          "y1": 5,
          "yref": "y"
         },
         {
          "fillcolor": "rgba(239, 68, 68, 0.05)",
          "layer": "below",
          "line": {
           "width": 0
          },
          "type": "rect",
          "x0": 0,
          "x1": 1,
          "xref": "x domain",
          "y0": -20,
          "y1": -5,
          "yref": "y"
         }
        ],
        "showlegend": false,
        "template": {
         "data": {
          "bar": [
           {
            "error_x": {
             "color": "#2a3f5f"
            },
            "error_y": {
             "color": "#2a3f5f"
            },
            "marker": {
             "line": {
              "color": "#E5ECF6",
              "width": 0.5
             },
             "pattern": {
              "fillmode": "overlay",
              "size": 10,
              "solidity": 0.2
             }
            },
            "type": "bar"
           }
          ],
          "barpolar": [
           {
            "marker": {
             "line": {
              "color": "#E5ECF6",
              "width": 0.5
             },
             "pattern": {
              "fillmode": "overlay",
              "size": 10,
              "solidity": 0.2
             }
            },
            "type": "barpolar"
           }
          ],
          "carpet": [
           {
            "aaxis": {
             "endlinecolor": "#2a3f5f",
             "gridcolor": "white",
             "linecolor": "white",
             "minorgridcolor": "white",
             "startlinecolor": "#2a3f5f"
            },
            "baxis": {
             "endlinecolor": "#2a3f5f",
             "gridcolor": "white",
             "linecolor": "white",
             "minorgridcolor": "white",
             "startlinecolor": "#2a3f5f"
            },
            "type": "carpet"
           }
          ],
          "choropleth": [
           {
            "colorbar": {
             "outlinewidth": 0,
             "ticks": ""
            },
            "type": "choropleth"
           }
          ],
          "contour": [
           {
            "colorbar": {
             "outlinewidth": 0,
             "ticks": ""
            },
            "colorscale": [
             [
              0,
              "#0d0887"
             ],
             [
              0.1111111111111111,
              "#46039f"
             ],
             [
              0.2222222222222222,
              "#7201a8"
             ],
             [
              0.3333333333333333,
              "#9c179e"
             ],
             [
              0.4444444444444444,
              "#bd3786"
             ],
             [
              0.5555555555555556,
              "#d8576b"
             ],
             [
              0.6666666666666666,
              "#ed7953"
             ],
             [
              0.7777777777777778,
              "#fb9f3a"
             ],
             [
              0.8888888888888888,
              "#fdca26"
             ],
             [
              1,
              "#f0f921"
             ]
            ],
            "type": "contour"
           }
          ],
          "contourcarpet": [
           {
            "colorbar": {
             "outlinewidth": 0,
             "ticks": ""
            },
            "type": "contourcarpet"
           }
          ],
          "heatmap": [
           {
            "colorbar": {
             "outlinewidth": 0,
             "ticks": ""
            },
            "colorscale": [
             [
              0,
              "#0d0887"
             ],
             [
              0.1111111111111111,
              "#46039f"
             ],
             [
              0.2222222222222222,
              "#7201a8"
             ],
             [
              0.3333333333333333,
              "#9c179e"
             ],
             [
              0.4444444444444444,
              "#bd3786"
             ],
             [
              0.5555555555555556,
              "#d8576b"
             ],
             [
              0.6666666666666666,
              "#ed7953"
             ],
             [
              0.7777777777777778,
              "#fb9f3a"
             ],
             [
              0.8888888888888888,
              "#fdca26"
             ],
             [
              1,
              "#f0f921"
             ]
            ],
            "type": "heatmap"
           }
          ],
          "heatmapgl": [
           {
            "colorbar": {
             "outlinewidth": 0,
             "ticks": ""
            },
            "colorscale": [
             [
              0,
              "#0d0887"
             ],
             [
              0.1111111111111111,
              "#46039f"
             ],
             [
              0.2222222222222222,
              "#7201a8"
             ],
             [
              0.3333333333333333,
              "#9c179e"
             ],
             [
              0.4444444444444444,
              "#bd3786"
             ],
             [
              0.5555555555555556,
              "#d8576b"
             ],
             [
              0.6666666666666666,
              "#ed7953"
             ],
             [
              0.7777777777777778,
              "#fb9f3a"
             ],
             [
              0.8888888888888888,
              "#fdca26"
             ],
             [
              1,
              "#f0f921"
             ]
            ],
            "type": "heatmapgl"
           }
          ],
          "histogram": [
           {
            "marker": {
             "pattern": {
              "fillmode": "overlay",
              "size": 10,
              "solidity": 0.2
             }
            },
            "type": "histogram"
           }
          ],
          "histogram2d": [
           {
            "colorbar": {
             "outlinewidth": 0,
             "ticks": ""
            },
            "colorscale": [
             [
              0,
              "#0d0887"
             ],
             [
              0.1111111111111111,
              "#46039f"
             ],
             [
              0.2222222222222222,
              "#7201a8"
             ],
             [
              0.3333333333333333,
              "#9c179e"
             ],
             [
              0.4444444444444444,
              "#bd3786"
             ],
             [
              0.5555555555555556,
              "#d8576b"
             ],
             [
              0.6666666666666666,
              "#ed7953"
             ],
             [
              0.7777777777777778,
              "#fb9f3a"
             ],
             [
              0.8888888888888888,
              "#fdca26"
             ],
             [
              1,
              "#f0f921"
             ]
            ],
            "type": "histogram2d"
           }
          ],
          "histogram2dcontour": [
           {
            "colorbar": {
             "outlinewidth": 0,
             "ticks": ""
            },
            "colorscale": [
             [
              0,
              "#0d0887"
             ],
             [
              0.1111111111111111,
              "#46039f"
             ],
             [
              0.2222222222222222,
              "#7201a8"
             ],
             [
              0.3333333333333333,
              "#9c179e"
             ],
             [
              0.4444444444444444,
              "#bd3786"
             ],
             [
              0.5555555555555556,
              "#d8576b"
             ],
             [
              0.6666666666666666,
              "#ed7953"
             ],
             [
              0.7777777777777778,
              "#fb9f3a"
             ],
             [
              0.8888888888888888,
              "#fdca26"
             ],
             [
              1,
              "#f0f921"
             ]
            ],
            "type": "histogram2dcontour"
           }
          ],
          "mesh3d": [
           {
            "colorbar": {
             "outlinewidth": 0,
             "ticks": ""
            },
            "type": "mesh3d"
           }
          ],
          "parcoords": [
           {
            "line": {
             "colorbar": {
              "outlinewidth": 0,
              "ticks": ""
             }
            },
            "type": "parcoords"
           }
          ],
          "pie": [
           {
            "automargin": true,
            "type": "pie"
           }
          ],
          "scatter": [
           {
            "fillpattern": {
             "fillmode": "overlay",
             "size": 10,
             "solidity": 0.2
            },
            "type": "scatter"
           }
          ],
          "scatter3d": [
           {
            "line": {
             "colorbar": {
              "outlinewidth": 0,
              "ticks": ""
             }
            },
            "marker": {
             "colorbar": {
              "outlinewidth": 0,
              "ticks": ""
             }
            },
            "type": "scatter3d"
           }
          ],
          "scattercarpet": [
           {
            "marker": {
             "colorbar": {
              "outlinewidth": 0,
              "ticks": ""
             }
            },
            "type": "scattercarpet"
           }
          ],
          "scattergeo": [
           {
            "marker": {
             "colorbar": {
              "outlinewidth": 0,
              "ticks": ""
             }
            },
            "type": "scattergeo"
           }
          ],
          "scattergl": [
           {
            "marker": {
             "colorbar": {
              "outlinewidth": 0,
              "ticks": ""
             }
            },
            "type": "scattergl"
           }
          ],
          "scattermapbox": [
           {
            "marker": {
             "colorbar": {
              "outlinewidth": 0,
              "ticks": ""
             }
            },
            "type": "scattermapbox"
           }
          ],
          "scatterpolar": [
           {
            "marker": {
             "colorbar": {
              "outlinewidth": 0,
              "ticks": ""
             }
            },
            "type": "scatterpolar"
           }
          ],
          "scatterpolargl": [
           {
            "marker": {
             "colorbar": {
              "outlinewidth": 0,
              "ticks": ""
             }
            },
            "type": "scatterpolargl"
           }
          ],
          "scatterternary": [
           {
            "marker": {
             "colorbar": {
              "outlinewidth": 0,
              "ticks": ""
             }
            },
            "type": "scatterternary"
           }
          ],
          "surface": [
           {
            "colorbar": {
             "outlinewidth": 0,
             "ticks": ""
            },
            "colorscale": [
             [
              0,
              "#0d0887"
             ],
             [
              0.1111111111111111,
              "#46039f"
             ],
             [
              0.2222222222222222,
              "#7201a8"
             ],
             [
              0.3333333333333333,
              "#9c179e"
             ],
             [
              0.4444444444444444,
              "#bd3786"
             ],
             [
              0.5555555555555556,
              "#d8576b"
             ],
             [
              0.6666666666666666,
              "#ed7953"
             ],
             [
              0.7777777777777778,
              "#fb9f3a"
             ],
             [
              0.8888888888888888,
              "#fdca26"
             ],
             [
              1,
              "#f0f921"
             ]
            ],
            "type": "surface"
           }
          ],
          "table": [
           {
            "cells": {
             "fill": {
              "color": "#EBF0F8"
             },
             "line": {
              "color": "white"
             }
            },
            "header": {
             "fill": {
              "color": "#C8D4E3"
             },
             "line": {
              "color": "white"
             }
            },
            "type": "table"
           }
          ]
         },
         "layout": {
          "annotationdefaults": {
           "arrowcolor": "#2a3f5f",
           "arrowhead": 0,
           "arrowwidth": 1
          },
          "autotypenumbers": "strict",
          "coloraxis": {
           "colorbar": {
            "outlinewidth": 0,
            "ticks": ""
           }
          },
          "colorscale": {
           "diverging": [
            [
             0,
             "#8e0152"
            ],
            [
             0.1,
             "#c51b7d"
            ],
            [
             0.2,
             "#de77ae"
            ],
            [
             0.3,
             "#f1b6da"
            ],
            [
             0.4,
             "#fde0ef"
            ],
            [
             0.5,
             "#f7f7f7"
            ],
            [
             0.6,
             "#e6f5d0"
            ],
            [
             0.7,
             "#b8e186"
            ],
            [
             0.8,
             "#7fbc41"
            ],
            [
             0.9,
             "#4d9221"
            ],
            [
             1,
             "#276419"
            ]
           ],
           "sequential": [
            [
             0,
             "#0d0887"
            ],
            [
             0.1111111111111111,
             "#46039f"
            ],
            [
             0.2222222222222222,
             "#7201a8"
            ],
            [
             0.3333333333333333,
             "#9c179e"
            ],
            [
             0.4444444444444444,
             "#bd3786"
            ],
            [
             0.5555555555555556,
             "#d8576b"
            ],
            [
             0.6666666666666666,
             "#ed7953"
            ],
            [
             0.7777777777777778,
             "#fb9f3a"
            ],
            [
             0.8888888888888888,
             "#fdca26"
            ],
            [
             1,
             "#f0f921"
            ]
           ],
           "sequentialminus": [
            [
             0,
             "#0d0887"
            ],
            [
             0.1111111111111111,
             "#46039f"
            ],
            [
             0.2222222222222222,
             "#7201a8"
            ],
            [
             0.3333333333333333,
             "#9c179e"
            ],
            [
             0.4444444444444444,
             "#bd3786"
            ],
            [
             0.5555555555555556,
             "#d8576b"
            ],
            [
             0.6666666666666666,
             "#ed7953"
            ],
            [
             0.7777777777777778,
             "#fb9f3a"
            ],
            [
             0.8888888888888888,
             "#fdca26"
            ],
            [
             1,
             "#f0f921"
            ]
           ]
          },
          "colorway": [
           "#636efa",
           "#EF553B",
           "#00cc96",
           "#ab63fa",
           "#FFA15A",
           "#19d3f3",
           "#FF6692",
           "#B6E880",
           "#FF97FF",
           "#FECB52"
          ],
          "font": {
           "color": "#2a3f5f"
          },
          "geo": {
           "bgcolor": "white",
           "lakecolor": "white",
           "landcolor": "#E5ECF6",
           "showlakes": true,
           "showland": true,
           "subunitcolor": "white"
          },
          "hoverlabel": {
           "align": "left"
          },
          "hovermode": "closest",
          "mapbox": {
           "style": "light"
          },
          "paper_bgcolor": "white",
          "plot_bgcolor": "#E5ECF6",
          "polar": {
           "angularaxis": {
            "gridcolor": "white",
            "linecolor": "white",
            "ticks": ""
           },
           "bgcolor": "#E5ECF6",
           "radialaxis": {
            "gridcolor": "white",
            "linecolor": "white",
            "ticks": ""
           }
          },
          "scene": {
           "xaxis": {
            "backgroundcolor": "#E5ECF6",
            "gridcolor": "white",
            "gridwidth": 2,
            "linecolor": "white",
            "showbackground": true,
            "ticks": "",
            "zerolinecolor": "white"
           },
           "yaxis": {
            "backgroundcolor": "#E5ECF6",
            "gridcolor": "white",
            "gridwidth": 2,
            "linecolor": "white",
            "showbackground": true,
            "ticks": "",
            "zerolinecolor": "white"
           },
           "zaxis": {
            "backgroundcolor": "#E5ECF6",
            "gridcolor": "white",
            "gridwidth": 2,
            "linecolor": "white",
            "showbackground": true,
            "ticks": "",
            "zerolinecolor": "white"
           }
          },
          "shapedefaults": {
           "line": {
            "color": "#2a3f5f"
           }
          },
          "ternary": {
           "aaxis": {
            "gridcolor": "white",
            "linecolor": "white",
            "ticks": ""
           },
           "baxis": {
            "gridcolor": "white",
            "linecolor": "white",
            "ticks": ""
           },
           "bgcolor": "#E5ECF6",
           "caxis": {
            "gridcolor": "white",
            "linecolor": "white",
            "ticks": ""
           }
          },
          "title": {
           "x": 0.05
          },
          "xaxis": {
           "automargin": true,
           "gridcolor": "white",
           "linecolor": "white",
           "ticks": "",
           "title": {
            "standoff": 15
           },
           "zerolinecolor": "white",
           "zerolinewidth": 2
          },
          "yaxis": {
           "automargin": true,
           "gridcolor": "white",
           "linecolor": "white",
           "ticks": "",
           "title": {
            "standoff": 15
           },
           "zerolinecolor": "white",
           "zerolinewidth": 2
          }
         }
        },
        "title": {
         "font": {
          "color": "#F8FAFC",
          "size": 24
         },
         "text": "Overall Shot Performance vs League Average",
         "x": 0.5,
         "xanchor": "center",
         "y": 0.97
        },
        "updatemenus": [
         {
          "bgcolor": "rgba(15, 23, 42, 0.9)",
          "bordercolor": "rgba(255, 255, 255, 0.2)",
          "buttons": [
           {
            "args": [
             {
              "visible": [
               true,
               true,
               false,
               false,
               false,
               false,
               false,
               false,
               false,
               false,
               false,
               false
              ]
             },
             {
              "title": "Overall Shot Performance vs League Average"
             }
            ],
            "label": "Overall",
            "method": "update"
           },
           {
            "args": [
             {
              "visible": [
               false,
               false,
               true,
               true,
               false,
               false,
               false,
               false,
               false,
               false,
               false,
               false
              ]
             },
             {
              "title": "Shot Performance vs League Average - Dunks"
             }
            ],
            "label": "Dunks",
            "method": "update"
           },
           {
            "args": [
             {
              "visible": [
               false,
               false,
               false,
               false,
               true,
               true,
               false,
               false,
               false,
               false,
               false,
               false
              ]
             },
             {
              "title": "Shot Performance vs League Average - Floating Shots"
             }
            ],
            "label": "Floating Shots",
            "method": "update"
           },
           {
            "args": [
             {
              "visible": [
               false,
               false,
               false,
               false,
               false,
               false,
               true,
               true,
               false,
               false,
               false,
               false
              ]
             },
             {
              "title": "Shot Performance vs League Average - Jump Shots"
             }
            ],
            "label": "Jump Shots",
            "method": "update"
           },
           {
            "args": [
             {
              "visible": [
               false,
               false,
               false,
               false,
               false,
               false,
               false,
               false,
               true,
               true,
               false,
               false
              ]
             },
             {
              "title": "Shot Performance vs League Average - Layups"
             }
            ],
            "label": "Layups",
            "method": "update"
           },
           {
            "args": [
             {
              "visible": [
               false,
               false,
               false,
               false,
               false,
               false,
               false,
               false,
               false,
               false,
               true,
               true
              ]
             },
             {
              "title": "Shot Performance vs League Average - Post Moves"
             }
            ],
            "label": "Post Moves",
            "method": "update"
           }
          ],
          "direction": "right",
          "font": {
           "color": "#F8FAFC",
           "size": 12
          },
          "pad": {
           "r": 10,
           "t": 10
          },
          "showactive": true,
          "type": "buttons",
          "x": 0.5,
          "xanchor": "center",
          "y": 1.15,
          "yanchor": "top"
         }
        ],
        "width": 1200,
        "xaxis": {
         "autorange": true,
         "gridcolor": "rgba(148, 163, 184, 0.1)",
         "range": [
          -0.5,
          4.5
         ],
         "tickangle": 45,
         "tickfont": {
          "color": "#F8FAFC",
          "size": 11
         },
         "type": "category"
        },
        "yaxis": {
         "gridcolor": "rgba(148, 163, 184, 0.1)",
         "range": [
          -20,
          20
         ],
         "tickfont": {
          "color": "#F8FAFC",
          "size": 11
         },
         "title": {
          "font": {
           "color": "#F8FAFC",
           "size": 14
          },
          "text": "% Above/Below League Average"
         },
         "type": "linear",
         "zeroline": false
        }
       }
      },
      "image/png": "[encoded data removed]",
      "text/html": [
       "<div>                            <div id=\"196f5a08-8b8a-44b3-937d-f4b36ae43477\" class=\"plotly-graph-div\" style=\"height:700px; width:1200px;\"></div>            <script type=\"text/javascript\">                require([\"plotly\"], function(Plotly) {                    window.PLOTLYENV=window.PLOTLYENV || {};                                    if (document.getElementById(\"196f5a08-8b8a-44b3-937d-f4b36ae43477\")) {                    Plotly.newPlot(                        \"196f5a08-8b8a-44b3-937d-f4b36ae43477\",                        [{\"customdata\":[[62.396694214876035,64.56078916028973,53.01204819277109,302,484],[38.63636363636363,88.86210590756046,28.915662650602407,102,264],[94.84536082474226,88.83379754693121,10.624315443592552,92,97],[47.91666666666667,68.42105263157895,5.257393209200438,23,48],[45.0,100.0,2.190580503833516,9,20]],\"hovertemplate\":\"\\u003cb\\u003e%{x}\\u003c\\u002fb\\u003e\\u003cbr\\u003eDifference: %{y:+.1f}%\\u003cbr\\u003ePlayer: %{customdata[0]:.1f}%\\u003cbr\\u003eLeague: %{customdata[1]:.1f}%\\u003cbr\\u003eShot Volume: %{customdata[2]:.0f}%\\u003cbr\\u003eMakes\\u002fAttempts: %{customdata[3]}\\u002f%{customdata[4]}\\u003cbr\\u003e\\u003cextra\\u003e\\u003c\\u002fextra\\u003e\",\"marker\":{\"color\":[\"rgba(239, 68, 68, 0.7)\",\"rgba(239, 68, 68, 0.7)\",\"rgba(34, 197, 94, 0.7)\",\"rgba(239, 68, 68, 0.7)\",\"rgba(239, 68, 68, 0.7)\"],\"line\":{\"color\":[\"rgba(239, 68, 68, 1)\",\"rgba(239, 68, 68, 1)\",\"rgba(34, 197, 94, 1)\",\"rgba(239, 68, 68, 1)\",\"rgba(239, 68, 68, 1)\"],\"width\":1}},\"name\":\"Overall Performance\",\"text\":[\"-2.2%\",\"-50.2%\",\"+6.0%\",\"-20.5%\",\"-55.0%\"],\"textfont\":{\"color\":\"#F8FAFC\",\"size\":11},\"textposition\":\"auto\",\"visible\":true,\"x\":[\"Layups\",\"Jump Shots\",\"Dunks\",\"Floating Shots\",\"Post Moves\"],\"y\":[-2.1640949454136944,-50.22574227119683,6.0115632778110495,-20.504385964912274,-55.0],\"type\":\"bar\"},{\"hoverinfo\":\"skip\",\"line\":{\"color\":\"rgba(226, 232, 240, 0.3)\",\"dash\":\"dash\",\"width\":1},\"mode\":\"lines\",\"name\":\"League Average\",\"visible\":true,\"x\":[\"Layups\",\"Jump Shots\",\"Dunks\",\"Floating Shots\",\"Post Moves\"],\"y\":[0,0,0,0,0],\"type\":\"scatter\"},{\"customdata\":[[94.11764705882352,92.07920792079209,35.051546391752574,32,34],[90.32258064516128,85.4389721627409,31.958762886597935,28,31],[100.0,88.18181818181819,14.432989690721648,14,14],[100.0,92.85714285714286,1.0309278350515463,1,1]],\"hovertemplate\":\"\\u003cb\\u003e%{x}\\u003c\\u002fb\\u003e\\u003cbr\\u003eDifference: %{y:+.1f}%\\u003cbr\\u003ePlayer: %{customdata[0]:.1f}%\\u003cbr\\u003eLeague: %{customdata[1]:.1f}%\\u003cbr\\u003eShot Volume: %{customdata[2]:.0f}%\\u003cbr\\u003eMakes\\u002fAttempts: %{customdata[3]}\\u002f%{customdata[4]}\\u003cbr\\u003e\\u003cextra\\u003e\\u003c\\u002fextra\\u003e\",\"marker\":{\"color\":[\"rgba(34, 197, 94, 0.7)\",\"rgba(34, 197, 94, 0.7)\",\"rgba(34, 197, 94, 0.7)\",\"rgba(34, 197, 94, 0.7)\"],\"line\":{\"color\":[\"rgba(34, 197, 94, 1)\",\"rgba(34, 197, 94, 1)\",\"rgba(34, 197, 94, 1)\",\"rgba(34, 197, 94, 1)\"],\"width\":1}},\"name\":\"vs. League Average\",\"text\":[\"+2.0%\",\"+4.9%\",\"+11.8%\",\"+7.1%\"],\"textfont\":{\"color\":\"#F8FAFC\",\"size\":11},\"textposition\":\"auto\",\"visible\":false,\"x\":[\"Driving Dunk\",\"Standard Dunk\",\"Alley Oop Dunk\",\"Reverse Dunk\"],\"y\":[2.0384391380314355,4.883608482420385,11.818181818181813,7.142857142857139],\"type\":\"bar\"},{\"hoverinfo\":\"skip\",\"line\":{\"color\":\"rgba(226, 232, 240, 0.3)\",\"dash\":\"dash\",\"width\":1},\"mode\":\"lines\",\"name\":\"League Average\",\"visible\":false,\"x\":[\"Driving Dunk\",\"Standard Dunk\",\"Alley Oop Dunk\",\"Reverse Dunk\"],\"y\":[0,0,0,0],\"type\":\"scatter\"},{\"customdata\":[[47.91666666666667,68.42105263157895,100.0,23,48]],\"hovertemplate\":\"\\u003cb\\u003e%{x}\\u003c\\u002fb\\u003e\\u003cbr\\u003eDifference: %{y:+.1f}%\\u003cbr\\u003ePlayer: %{customdata[0]:.1f}%\\u003cbr\\u003eLeague: %{customdata[1]:.1f}%\\u003cbr\\u003eShot Volume: %{customdata[2]:.0f}%\\u003cbr\\u003eMakes\\u002fAttempts: %{customdata[3]}\\u002f%{customdata[4]}\\u003cbr\\u003e\\u003cextra\\u003e\\u003c\\u002fextra\\u003e\",\"marker\":{\"color\":[\"rgba(239, 68, 68, 0.7)\"],\"line\":{\"color\":[\"rgba(239, 68, 68, 1)\"],\"width\":1}},\"name\":\"vs. League Average\",\"text\":[\"-20.5%\"],\"textfont\":{\"color\":\"#F8FAFC\",\"size\":11},\"textposition\":\"auto\",\"visible\":false,\"x\":[\"Floating Jump Shot\"],\"y\":[-20.504385964912274],\"type\":\"bar\"},{\"hoverinfo\":\"skip\",\"line\":{\"color\":\"rgba(226, 232, 240, 0.3)\",\"dash\":\"dash\",\"width\":1},\"mode\":\"lines\",\"name\":\"League Average\",\"visible\":false,\"x\":[\"Floating Jump Shot\"],\"y\":[0],\"type\":\"scatter\"},{\"customdata\":[[37.64705882352941,90.90909090909092,32.196969696969695,32,85],[39.0625,100.0,24.242424242424242,25,64],[38.88888888888889,68.68686868686868,20.454545454545457,21,54],[43.24324324324324,100.0,14.015151515151514,16,37],[37.5,86.11111111111111,6.0606060606060606,6,16],[25.0,68.18181818181817,3.0303030303030303,2,8]],\"hovertemplate\":\"\\u003cb\\u003e%{x}\\u003c\\u002fb\\u003e\\u003cbr\\u003eDifference: %{y:+.1f}%\\u003cbr\\u003ePlayer: %{customdata[0]:.1f}%\\u003cbr\\u003eLeague: %{customdata[1]:.1f}%\\u003cbr\\u003eShot Volume: %{customdata[2]:.0f}%\\u003cbr\\u003eMakes\\u002fAttempts: %{customdata[3]}\\u002f%{customdata[4]}\\u003cbr\\u003e\\u003cextra\\u003e\\u003c\\u002fextra\\u003e\",\"marker\":{\"color\":[\"rgba(239, 68, 68, 0.7)\",\"rgba(239, 68, 68, 0.7)\",\"rgba(239, 68, 68, 0.7)\",\"rgba(239, 68, 68, 0.7)\",\"rgba(239, 68, 68, 0.7)\",\"rgba(239, 68, 68, 0.7)\"],\"line\":{\"color\":[\"rgba(239, 68, 68, 1)\",\"rgba(239, 68, 68, 1)\",\"rgba(239, 68, 68, 1)\",\"rgba(239, 68, 68, 1)\",\"rgba(239, 68, 68, 1)\",\"rgba(239, 68, 68, 1)\"],\"width\":1}},\"name\":\"vs. League Average\",\"text\":[\"-53.3%\",\"-60.9%\",\"-29.8%\",\"-56.8%\",\"-48.6%\",\"-43.2%\"],\"textfont\":{\"color\":\"#F8FAFC\",\"size\":11},\"textposition\":\"auto\",\"visible\":false,\"x\":[\"Turnaround Jump Shot\",\"Fadeaway Jump Shot\",\"Jump Shot\",\"Pullup Jump Shot\",\"Running Jump Shot\",\"Step Back Jump Shot\"],\"y\":[-53.26203208556151,-60.9375,-29.797979797979785,-56.75675675675676,-48.611111111111114,-43.18181818181817],\"type\":\"bar\"},{\"hoverinfo\":\"skip\",\"line\":{\"color\":\"rgba(226, 232, 240, 0.3)\",\"dash\":\"dash\",\"width\":1},\"mode\":\"lines\",\"name\":\"League Average\",\"visible\":false,\"x\":[\"Turnaround Jump Shot\",\"Fadeaway Jump Shot\",\"Jump Shot\",\"Pullup Jump Shot\",\"Running Jump Shot\",\"Step Back Jump Shot\"],\"y\":[0,0,0,0,0,0],\"type\":\"scatter\"},{\"customdata\":[[58.256880733944946,76.73649393605292,45.04132231404959,127,218],[63.975155279503106,43.74505146476642,33.264462809917354,103,161],[75.43859649122807,66.23376623376623,11.776859504132231,43,57],[54.54545454545454,82.35294117647058,6.8181818181818175,18,33],[76.92307692307693,64.16184971098265,2.6859504132231407,10,13],[50.0,74.4186046511628,0.4132231404958678,1,2]],\"hovertemplate\":\"\\u003cb\\u003e%{x}\\u003c\\u002fb\\u003e\\u003cbr\\u003eDifference: %{y:+.1f}%\\u003cbr\\u003ePlayer: %{customdata[0]:.1f}%\\u003cbr\\u003eLeague: %{customdata[1]:.1f}%\\u003cbr\\u003eShot Volume: %{customdata[2]:.0f}%\\u003cbr\\u003eMakes\\u002fAttempts: %{customdata[3]}\\u002f%{customdata[4]}\\u003cbr\\u003e\\u003cextra\\u003e\\u003c\\u002fextra\\u003e\",\"marker\":{\"color\":[\"rgba(239, 68, 68, 0.7)\",\"rgba(34, 197, 94, 0.7)\",\"rgba(34, 197, 94, 0.7)\",\"rgba(239, 68, 68, 0.7)\",\"rgba(34, 197, 94, 0.7)\",\"rgba(239, 68, 68, 0.7)\"],\"line\":{\"color\":[\"rgba(239, 68, 68, 1)\",\"rgba(34, 197, 94, 1)\",\"rgba(34, 197, 94, 1)\",\"rgba(239, 68, 68, 1)\",\"rgba(34, 197, 94, 1)\",\"rgba(239, 68, 68, 1)\"],\"width\":1}},\"name\":\"vs. League Average\",\"text\":[\"-18.5%\",\"+20.2%\",\"+9.2%\",\"-27.8%\",\"+12.8%\",\"-24.4%\"],\"textfont\":{\"color\":\"#F8FAFC\",\"size\":11},\"textposition\":\"auto\",\"visible\":false,\"x\":[\"Driving Layup\",\"Standard Layup\",\"Finger Roll\",\"Putback Layup\",\"Reverse Layup\",\"Alley Oop Layup\"],\"y\":[-18.479613202107977,20.230103814736687,9.204830257461836,-27.80748663101604,12.761227212094283,-24.418604651162795],\"type\":\"bar\"},{\"hoverinfo\":\"skip\",\"line\":{\"color\":\"rgba(226, 232, 240, 0.3)\",\"dash\":\"dash\",\"width\":1},\"mode\":\"lines\",\"name\":\"League Average\",\"visible\":false,\"x\":[\"Driving Layup\",\"Standard Layup\",\"Finger Roll\",\"Putback Layup\",\"Reverse Layup\",\"Alley Oop Layup\"],\"y\":[0,0,0,0,0,0],\"type\":\"scatter\"},{\"customdata\":[[55.55555555555556,100.0,45.0,5,9],[33.33333333333333,100.0,30.0,2,6],[40.0,100.0,25.0,2,5]],\"hovertemplate\":\"\\u003cb\\u003e%{x}\\u003c\\u002fb\\u003e\\u003cbr\\u003eDifference: %{y:+.1f}%\\u003cbr\\u003ePlayer: %{customdata[0]:.1f}%\\u003cbr\\u003eLeague: %{customdata[1]:.1f}%\\u003cbr\\u003eShot Volume: %{customdata[2]:.0f}%\\u003cbr\\u003eMakes\\u002fAttempts: %{customdata[3]}\\u002f%{customdata[4]}\\u003cbr\\u003e\\u003cextra\\u003e\\u003c\\u002fextra\\u003e\",\"marker\":{\"color\":[\"rgba(239, 68, 68, 0.7)\",\"rgba(239, 68, 68, 0.7)\",\"rgba(239, 68, 68, 0.7)\"],\"line\":{\"color\":[\"rgba(239, 68, 68, 1)\",\"rgba(239, 68, 68, 1)\",\"rgba(239, 68, 68, 1)\"],\"width\":1}},\"name\":\"vs. League Average\",\"text\":[\"-44.4%\",\"-66.7%\",\"-60.0%\"],\"textfont\":{\"color\":\"#F8FAFC\",\"size\":11},\"textposition\":\"auto\",\"visible\":false,\"x\":[\"Driving Hook Shot\",\"Turnaround Hook Shot\",\"Hook Shot\"],\"y\":[-44.44444444444444,-66.66666666666667,-60.0],\"type\":\"bar\"},{\"hoverinfo\":\"skip\",\"line\":{\"color\":\"rgba(226, 232, 240, 0.3)\",\"dash\":\"dash\",\"width\":1},\"mode\":\"lines\",\"name\":\"League Average\",\"visible\":false,\"x\":[\"Driving Hook Shot\",\"Turnaround Hook Shot\",\"Hook Shot\"],\"y\":[0,0,0],\"type\":\"scatter\"}],                        {\"template\":{\"data\":{\"histogram2dcontour\":[{\"type\":\"histogram2dcontour\",\"colorbar\":{\"outlinewidth\":0,\"ticks\":\"\"},\"colorscale\":[[0.0,\"#0d0887\"],[0.1111111111111111,\"#46039f\"],[0.2222222222222222,\"#7201a8\"],[0.3333333333333333,\"#9c179e\"],[0.4444444444444444,\"#bd3786\"],[0.5555555555555556,\"#d8576b\"],[0.6666666666666666,\"#ed7953\"],[0.7777777777777778,\"#fb9f3a\"],[0.8888888888888888,\"#fdca26\"],[1.0,\"#f0f921\"]]}],\"choropleth\":[{\"type\":\"choropleth\",\"colorbar\":{\"outlinewidth\":0,\"ticks\":\"\"}}],\"histogram2d\":[{\"type\":\"histogram2d\",\"colorbar\":{\"outlinewidth\":0,\"ticks\":\"\"},\"colorscale\":[[0.0,\"#0d0887\"],[0.1111111111111111,\"#46039f\"],[0.2222222222222222,\"#7201a8\"],[0.3333333333333333,\"#9c179e\"],[0.4444444444444444,\"#bd3786\"],[0.5555555555555556,\"#d8576b\"],[0.6666666666666666,\"#ed7953\"],[0.7777777777777778,\"#fb9f3a\"],[0.8888888888888888,\"#fdca26\"],[1.0,\"#f0f921\"]]}],\"heatmap\":[{\"type\":\"heatmap\",\"colorbar\":{\"outlinewidth\":0,\"ticks\":\"\"},\"colorscale\":[[0.0,\"#0d0887\"],[0.1111111111111111,\"#46039f\"],[0.2222222222222222,\"#7201a8\"],[0.3333333333333333,\"#9c179e\"],[0.4444444444444444,\"#bd3786\"],[0.5555555555555556,\"#d8576b\"],[0.6666666666666666,\"#ed7953\"],[0.7777777777777778,\"#fb9f3a\"],[0.8888888888888888,\"#fdca26\"],[1.0,\"#f0f921\"]]}],\"heatmapgl\":[{\"type\":\"heatmapgl\",\"colorbar\":{\"outlinewidth\":0,\"ticks\":\"\"},\"colorscale\":[[0.0,\"#0d0887\"],[0.1111111111111111,\"#46039f\"],[0.2222222222222222,\"#7201a8\"],[0.3333333333333333,\"#9c179e\"],[0.4444444444444444,\"#bd3786\"],[0.5555555555555556,\"#d8576b\"],[0.6666666666666666,\"#ed7953\"],[0.7777777777777778,\"#fb9f3a\"],[0.8888888888888888,\"#fdca26\"],[1.0,\"#f0f921\"]]}],\"contourcarpet\":[{\"type\":\"contourcarpet\",\"colorbar\":{\"outlinewidth\":0,\"ticks\":\"\"}}],\"contour\":[{\"type\":\"contour\",\"colorbar\":{\"outlinewidth\":0,\"ticks\":\"\"},\"colorscale\":[[0.0,\"#0d0887\"],[0.1111111111111111,\"#46039f\"],[0.2222222222222222,\"#7201a8\"],[0.3333333333333333,\"#9c179e\"],[0.4444444444444444,\"#bd3786\"],[0.5555555555555556,\"#d8576b\"],[0.6666666666666666,\"#ed7953\"],[0.7777777777777778,\"#fb9f3a\"],[0.8888888888888888,\"#fdca26\"],[1.0,\"#f0f921\"]]}],\"surface\":[{\"type\":\"surface\",\"colorbar\":{\"outlinewidth\":0,\"ticks\":\"\"},\"colorscale\":[[0.0,\"#0d0887\"],[0.1111111111111111,\"#46039f\"],[0.2222222222222222,\"#7201a8\"],[0.3333333333333333,\"#9c179e\"],[0.4444444444444444,\"#bd3786\"],[0.5555555555555556,\"#d8576b\"],[0.6666666666666666,\"#ed7953\"],[0.7777777777777778,\"#fb9f3a\"],[0.8888888888888888,\"#fdca26\"],[1.0,\"#f0f921\"]]}],\"mesh3d\":[{\"type\":\"mesh3d\",\"colorbar\":{\"outlinewidth\":0,\"ticks\":\"\"}}],\"scatter\":[{\"fillpattern\":{\"fillmode\":\"overlay\",\"size\":10,\"solidity\":0.2},\"type\":\"scatter\"}],\"parcoords\":[{\"type\":\"parcoords\",\"line\":{\"colorbar\":{\"outlinewidth\":0,\"ticks\":\"\"}}}],\"scatterpolargl\":[{\"type\":\"scatterpolargl\",\"marker\":{\"colorbar\":{\"outlinewidth\":0,\"ticks\":\"\"}}}],\"bar\":[{\"error_x\":{\"color\":\"#2a3f5f\"},\"error_y\":{\"color\":\"#2a3f5f\"},\"marker\":{\"line\":{\"color\":\"#E5ECF6\",\"width\":0.5},\"pattern\":{\"fillmode\":\"overlay\",\"size\":10,\"solidity\":0.2}},\"type\":\"bar\"}],\"scattergeo\":[{\"type\":\"scattergeo\",\"marker\":{\"colorbar\":{\"outlinewidth\":0,\"ticks\":\"\"}}}],\"scatterpolar\":[{\"type\":\"scatterpolar\",\"marker\":{\"colorbar\":{\"outlinewidth\":0,\"ticks\":\"\"}}}],\"histogram\":[{\"marker\":{\"pattern\":{\"fillmode\":\"overlay\",\"size\":10,\"solidity\":0.2}},\"type\":\"histogram\"}],\"scattergl\":[{\"type\":\"scattergl\",\"marker\":{\"colorbar\":{\"outlinewidth\":0,\"ticks\":\"\"}}}],\"scatter3d\":[{\"type\":\"scatter3d\",\"line\":{\"colorbar\":{\"outlinewidth\":0,\"ticks\":\"\"}},\"marker\":{\"colorbar\":{\"outlinewidth\":0,\"ticks\":\"\"}}}],\"scattermapbox\":[{\"type\":\"scattermapbox\",\"marker\":{\"colorbar\":{\"outlinewidth\":0,\"ticks\":\"\"}}}],\"scatterternary\":[{\"type\":\"scatterternary\",\"marker\":{\"colorbar\":{\"outlinewidth\":0,\"ticks\":\"\"}}}],\"scattercarpet\":[{\"type\":\"scattercarpet\",\"marker\":{\"colorbar\":{\"outlinewidth\":0,\"ticks\":\"\"}}}],\"carpet\":[{\"aaxis\":{\"endlinecolor\":\"#2a3f5f\",\"gridcolor\":\"white\",\"linecolor\":\"white\",\"minorgridcolor\":\"white\",\"startlinecolor\":\"#2a3f5f\"},\"baxis\":{\"endlinecolor\":\"#2a3f5f\",\"gridcolor\":\"white\",\"linecolor\":\"white\",\"minorgridcolor\":\"white\",\"startlinecolor\":\"#2a3f5f\"},\"type\":\"carpet\"}],\"table\":[{\"cells\":{\"fill\":{\"color\":\"#EBF0F8\"},\"line\":{\"color\":\"white\"}},\"header\":{\"fill\":{\"color\":\"#C8D4E3\"},\"line\":{\"color\":\"white\"}},\"type\":\"table\"}],\"barpolar\":[{\"marker\":{\"line\":{\"color\":\"#E5ECF6\",\"width\":0.5},\"pattern\":{\"fillmode\":\"overlay\",\"size\":10,\"solidity\":0.2}},\"type\":\"barpolar\"}],\"pie\":[{\"automargin\":true,\"type\":\"pie\"}]},\"layout\":{\"autotypenumbers\":\"strict\",\"colorway\":[\"#636efa\",\"#EF553B\",\"#00cc96\",\"#ab63fa\",\"#FFA15A\",\"#19d3f3\",\"#FF6692\",\"#B6E880\",\"#FF97FF\",\"#FECB52\"],\"font\":{\"color\":\"#2a3f5f\"},\"hovermode\":\"closest\",\"hoverlabel\":{\"align\":\"left\"},\"paper_bgcolor\":\"white\",\"plot_bgcolor\":\"#E5ECF6\",\"polar\":{\"bgcolor\":\"#E5ECF6\",\"angularaxis\":{\"gridcolor\":\"white\",\"linecolor\":\"white\",\"ticks\":\"\"},\"radialaxis\":{\"gridcolor\":\"white\",\"linecolor\":\"white\",\"ticks\":\"\"}},\"ternary\":{\"bgcolor\":\"#E5ECF6\",\"aaxis\":{\"gridcolor\":\"white\",\"linecolor\":\"white\",\"ticks\":\"\"},\"baxis\":{\"gridcolor\":\"white\",\"linecolor\":\"white\",\"ticks\":\"\"},\"caxis\":{\"gridcolor\":\"white\",\"linecolor\":\"white\",\"ticks\":\"\"}},\"coloraxis\":{\"colorbar\":{\"outlinewidth\":0,\"ticks\":\"\"}},\"colorscale\":{\"sequential\":[[0.0,\"#0d0887\"],[0.1111111111111111,\"#46039f\"],[0.2222222222222222,\"#7201a8\"],[0.3333333333333333,\"#9c179e\"],[0.4444444444444444,\"#bd3786\"],[0.5555555555555556,\"#d8576b\"],[0.6666666666666666,\"#ed7953\"],[0.7777777777777778,\"#fb9f3a\"],[0.8888888888888888,\"#fdca26\"],[1.0,\"#f0f921\"]],\"sequentialminus\":[[0.0,\"#0d0887\"],[0.1111111111111111,\"#46039f\"],[0.2222222222222222,\"#7201a8\"],[0.3333333333333333,\"#9c179e\"],[0.4444444444444444,\"#bd3786\"],[0.5555555555555556,\"#d8576b\"],[0.6666666666666666,\"#ed7953\"],[0.7777777777777778,\"#fb9f3a\"],[0.8888888888888888,\"#fdca26\"],[1.0,\"#f0f921\"]],\"diverging\":[[0,\"#8e0152\"],[0.1,\"#c51b7d\"],[0.2,\"#de77ae\"],[0.3,\"#f1b6da\"],[0.4,\"#fde0ef\"],[0.5,\"#f7f7f7\"],[0.6,\"#e6f5d0\"],[0.7,\"#b8e186\"],[0.8,\"#7fbc41\"],[0.9,\"#4d9221\"],[1,\"#276419\"]]},\"xaxis\":{\"gridcolor\":\"white\",\"linecolor\":\"white\",\"ticks\":\"\",\"title\":{\"standoff\":15},\"zerolinecolor\":\"white\",\"automargin\":true,\"zerolinewidth\":2},\"yaxis\":{\"gridcolor\":\"white\",\"linecolor\":\"white\",\"ticks\":\"\",\"title\":{\"standoff\":15},\"zerolinecolor\":\"white\",\"automargin\":true,\"zerolinewidth\":2},\"scene\":{\"xaxis\":{\"backgroundcolor\":\"#E5ECF6\",\"gridcolor\":\"white\",\"linecolor\":\"white\",\"showbackground\":true,\"ticks\":\"\",\"zerolinecolor\":\"white\",\"gridwidth\":2},\"yaxis\":{\"backgroundcolor\":\"#E5ECF6\",\"gridcolor\":\"white\",\"linecolor\":\"white\",\"showbackground\":true,\"ticks\":\"\",\"zerolinecolor\":\"white\",\"gridwidth\":2},\"zaxis\":{\"backgroundcolor\":\"#E5ECF6\",\"gridcolor\":\"white\",\"linecolor\":\"white\",\"showbackground\":true,\"ticks\":\"\",\"zerolinecolor\":\"white\",\"gridwidth\":2}},\"shapedefaults\":{\"line\":{\"color\":\"#2a3f5f\"}},\"annotationdefaults\":{\"arrowcolor\":\"#2a3f5f\",\"arrowhead\":0,\"arrowwidth\":1},\"geo\":{\"bgcolor\":\"white\",\"landcolor\":\"#E5ECF6\",\"subunitcolor\":\"white\",\"showland\":true,\"showlakes\":true,\"lakecolor\":\"white\"},\"title\":{\"x\":0.05},\"mapbox\":{\"style\":\"light\"}}},\"title\":{\"font\":{\"size\":24,\"color\":\"#F8FAFC\"},\"text\":\"Overall Shot Performance vs League Average\",\"y\":0.97,\"x\":0.5,\"xanchor\":\"center\"},\"xaxis\":{\"tickfont\":{\"size\":11,\"color\":\"#F8FAFC\"},\"tickangle\":45,\"gridcolor\":\"rgba(148, 163, 184, 0.1)\"},\"yaxis\":{\"title\":{\"font\":{\"size\":14,\"color\":\"#F8FAFC\"},\"text\":\"% Above\\u002fBelow League Average\"},\"tickfont\":{\"size\":11,\"color\":\"#F8FAFC\"},\"gridcolor\":\"rgba(148, 163, 184, 0.1)\",\"zeroline\":false,\"range\":[-20,20]},\"margin\":{\"t\":150,\"b\":100,\"l\":80,\"r\":80},\"showlegend\":false,\"updatemenus\":[{\"bgcolor\":\"rgba(15, 23, 42, 0.9)\",\"bordercolor\":\"rgba(255, 255, 255, 0.2)\",\"buttons\":[{\"args\":[{\"visible\":[true,true,false,false,false,false,false,false,false,false,false,false]},{\"title\":\"Overall Shot Performance vs League Average\"}],\"label\":\"Overall\",\"method\":\"update\"},{\"args\":[{\"visible\":[false,false,true,true,false,false,false,false,false,false,false,false]},{\"title\":\"Shot Performance vs League Average - Dunks\"}],\"label\":\"Dunks\",\"method\":\"update\"},{\"args\":[{\"visible\":[false,false,false,false,true,true,false,false,false,false,false,false]},{\"title\":\"Shot Performance vs League Average - Floating Shots\"}],\"label\":\"Floating Shots\",\"method\":\"update\"},{\"args\":[{\"visible\":[false,false,false,false,false,false,true,true,false,false,false,false]},{\"title\":\"Shot Performance vs League Average - Jump Shots\"}],\"label\":\"Jump Shots\",\"method\":\"update\"},{\"args\":[{\"visible\":[false,false,false,false,false,false,false,false,true,true,false,false]},{\"title\":\"Shot Performance vs League Average - Layups\"}],\"label\":\"Layups\",\"method\":\"update\"},{\"args\":[{\"visible\":[false,false,false,false,false,false,false,false,false,false,true,true]},{\"title\":\"Shot Performance vs League Average - Post Moves\"}],\"label\":\"Post Moves\",\"method\":\"update\"}],\"direction\":\"right\",\"font\":{\"color\":\"#F8FAFC\",\"size\":12},\"pad\":{\"r\":10,\"t\":10},\"showactive\":true,\"type\":\"buttons\",\"x\":0.5,\"xanchor\":\"center\",\"y\":1.15,\"yanchor\":\"top\"}],\"width\":1200,\"height\":700,\"plot_bgcolor\":\"rgba(0, 0, 0, 0)\",\"paper_bgcolor\":\"rgba(0, 0, 0, 0)\",\"shapes\":[{\"fillcolor\":\"rgba(34, 197, 94, 0.05)\",\"layer\":\"below\",\"line\":{\"width\":0},\"type\":\"rect\",\"x0\":0,\"x1\":1,\"xref\":\"x domain\",\"y0\":5,\"y1\":20,\"yref\":\"y\"},{\"fillcolor\":\"rgba(226, 232, 240, 0.05)\",\"layer\":\"below\",\"line\":{\"width\":0},\"type\":\"rect\",\"x0\":0,\"x1\":1,\"xref\":\"x domain\",\"y0\":-5,\"y1\":5,\"yref\":\"y\"},{\"fillcolor\":\"rgba(239, 68, 68, 0.05)\",\"layer\":\"below\",\"line\":{\"width\":0},\"type\":\"rect\",\"x0\":0,\"x1\":1,\"xref\":\"x domain\",\"y0\":-20,\"y1\":-5,\"yref\":\"y\"}]},                        {\"responsive\": true}                    ).then(function(){\n",
       "                            \n",
       "var gd = document.getElementById('196f5a08-8b8a-44b3-937d-f4b36ae43477');\n",
       "var x = new MutationObserver(function (mutations, observer) {{\n",
       "        var display = window.getComputedStyle(gd).display;\n",
       "        if (!display || display === 'none') {{\n",
       "            console.log([gd, 'removed!']);\n",
       "            Plotly.purge(gd);\n",
       "            observer.disconnect();\n",
       "        }}\n",
       "}});\n",
       "\n",
       "// Listen for the removal of the full notebook cells\n",
       "var notebookContainer = gd.closest('#notebook-container');\n",
       "if (notebookContainer) {{\n",
       "    x.observe(notebookContainer, {childList: true});\n",
       "}}\n",
       "\n",
       "// Listen for the clearing of the current output cell\n",
       "var outputEl = gd.closest('.output');\n",
       "if (outputEl) {{\n",
       "    x.observe(outputEl, {childList: true});\n",
       "}}\n",
       "\n",
       "                        })                };                });            </script>        </div>"
      ]
     },
     "metadata": {},
     "output_type": "display_data"
    }
   ],
   "source": [
    "import plotly.graph_objects as go\n",
    "import pandas as pd\n",
    "# Example data structure (replace with actual data passed in your Flask app)\n",
    "selected_player='2544'\n",
    "\n",
    "\n",
    "\n",
    "selected_year=2008\n",
    "def shot_performance(selected_player, selected_year, shot_range=2):\n",
    "    avg_df = pd.read_csv('https://raw.githubusercontent.com/gabriel1200/shot_data/refs/heads/master/shot_types.csv')\n",
    "    player_df = pd.read_csv(f'https://raw.githubusercontent.com/gabriel1200/shot_averages/refs/heads/main/{selected_player}.csv')\n",
    "    print(f'https://raw.githubusercontent.com/gabriel1200/shot_averages/refs/heads/main/{selected_player}.csv')\n",
    "    print(player_df)\n",
    "    print(player_df['shot_makes'].sum())    \n",
    "    print(player_df['shot_count'].sum())    \n",
    "    tempdf=pd.read_csv(f'https://raw.githubusercontent.com/gabriel1200/shot_data/refs/heads/master/{selected_year}/{selected_player}.csv')\n",
    "    print(len(tempdf))\n",
    "    shot_groups = sorted(player_df['shot_group'].unique())\n",
    "    \n",
    "    def get_overall_data():\n",
    "        shot_type = '3PT Field Goal' if shot_range == 3 else '2PT Field Goal'\n",
    "        filtered_df = player_df[player_df['shot_type'] == shot_type]\n",
    "        avg_df_filtered = avg_df[avg_df['shot_type'] == shot_type]\n",
    "        \n",
    "        overall_data = []\n",
    "        total_shots = filtered_df['shot_count'].sum()\n",
    "        \n",
    "        for group in shot_groups:\n",
    "            group_shots = filtered_df[filtered_df['shot_group'] == group]\n",
    "            if not group_shots.empty:\n",
    "                attempts = group_shots['shot_count'].sum()\n",
    "                makes = group_shots['shot_makes'].sum()\n",
    "                player_pct = (makes / attempts) * 100 if attempts > 0 else 0\n",
    "                \n",
    "                # Calculate weighted league average for the category\n",
    "                group_league_pct = 0\n",
    "                total_group_attempts = 0\n",
    "                \n",
    "                for shot_desc in group_shots['shot_description'].unique():\n",
    "                    shot_attempts = group_shots[group_shots['shot_description'] == shot_desc]['shot_count'].sum()\n",
    "                    league_data = avg_df_filtered[\n",
    "                        (avg_df_filtered['shot_description'] == shot_desc) & \n",
    "                        (avg_df_filtered['year'] == int(selected_year))\n",
    "                    ]\n",
    "                    if not league_data.empty:\n",
    "                        group_league_pct += shot_attempts * league_data['efg%'].iloc[0]\n",
    "                        total_group_attempts += shot_attempts\n",
    "                \n",
    "                if total_group_attempts > 0:\n",
    "                    group_league_pct = (group_league_pct / total_group_attempts) * 100\n",
    "                    \n",
    "                    overall_data.append({\n",
    "                        'shot_description': group.replace('_', ' ').title(),\n",
    "                        'player_pct': player_pct,\n",
    "                        'league_pct': group_league_pct,\n",
    "                        'difference': player_pct - group_league_pct,\n",
    "                        'attempts': attempts,\n",
    "                        'makes': makes,\n",
    "                        'volume_pct': (attempts / total_shots) * 100\n",
    "                    })\n",
    "        \n",
    "        return sorted(overall_data, key=lambda x: x['attempts'], reverse=True)\n",
    "    \n",
    "    def get_shot_data(selected_group):\n",
    "        shot_type = '3PT Field Goal' if shot_range == 3 else '2PT Field Goal'\n",
    "        group_df = player_df[\n",
    "            (player_df['shot_group'] == selected_group) & \n",
    "            (player_df['shot_type'] == shot_type)\n",
    "        ]\n",
    "        avg_df_filtered = avg_df[avg_df['shot_type'] == shot_type]\n",
    "        \n",
    "        shot_data = []\n",
    "        for shot_desc in group_df['shot_description'].unique():\n",
    "            player_shots = group_df[group_df['shot_description'] == shot_desc]\n",
    "            league_avg = avg_df_filtered[\n",
    "                (avg_df_filtered['shot_description'] == shot_desc) & \n",
    "                (avg_df_filtered['year'] == int(selected_year))\n",
    "            ]\n",
    "            \n",
    "            if not player_shots.empty and not league_avg.empty:\n",
    "                attempts = player_shots['shot_count'].sum()\n",
    "                makes = player_shots['shot_makes'].sum()\n",
    "                player_pct = (makes / attempts) * 100\n",
    "                league_pct = league_avg['efg%'].iloc[0] * 100\n",
    "                \n",
    "                shot_data.append({\n",
    "                    'shot_description': shot_desc,\n",
    "                    'player_pct': player_pct,\n",
    "                    'league_pct': league_pct,\n",
    "                    'difference': player_pct - league_pct,\n",
    "                    'attempts': attempts,\n",
    "                    'makes': makes,\n",
    "                    'volume_pct': attempts / group_df['shot_count'].sum() * 100\n",
    "                })\n",
    "        \n",
    "        return sorted(shot_data, key=lambda x: x['attempts'], reverse=True)\n",
    "    \n",
    "    # Create figure\n",
    "    fig = go.Figure()\n",
    "    \n",
    "    # Color scheme\n",
    "    colors = {\n",
    "        'positive': 'rgba(34, 197, 94, 0.7)',\n",
    "        'positive_border': 'rgba(34, 197, 94, 1)',\n",
    "        'negative': 'rgba(239, 68, 68, 0.7)',\n",
    "        'negative_border': 'rgba(239, 68, 68, 1)',\n",
    "        'reference': 'rgba(226, 232, 240, 0.3)',\n",
    "        'text': '#F8FAFC',\n",
    "        'background': 'rgba(15, 23, 42, 0.9)'\n",
    "    }\n",
    "    \n",
    "    # Add overall data first\n",
    "    overall_data = get_overall_data()\n",
    "    \n",
    "    # Add overall bars\n",
    "    fig.add_trace(\n",
    "        go.Bar(\n",
    "            name=\"Overall Performance\",\n",
    "            x=[d['shot_description'] for d in overall_data],\n",
    "            y=[d['difference'] for d in overall_data],\n",
    "            marker=dict(\n",
    "                color=[colors['positive'] if d['difference'] >= 0 else colors['negative']\n",
    "                      for d in overall_data],\n",
    "                line=dict(\n",
    "                    color=[colors['positive_border'] if d['difference'] >= 0 \n",
    "                          else colors['negative_border'] for d in overall_data],\n",
    "                    width=1\n",
    "                )\n",
    "            ),\n",
    "            text=[f\"{d['difference']:+.1f}%\" if abs(d['difference']) >= 2 else \"\"\n",
    "                  for d in overall_data],\n",
    "            textposition='auto',\n",
    "            textfont=dict(size=11, color=colors['text']),\n",
    "            hovertemplate=(\n",
    "                \"<b>%{x}</b><br>\" +\n",
    "                \"Difference: %{y:+.1f}%<br>\" +\n",
    "                \"Player: %{customdata[0]:.1f}%<br>\" +\n",
    "                \"League: %{customdata[1]:.1f}%<br>\" +\n",
    "                \"Shot Volume: %{customdata[2]:.0f}%<br>\" +\n",
    "                \"Makes/Attempts: %{customdata[3]}/%{customdata[4]}<br>\" +\n",
    "                \"<extra></extra>\"\n",
    "            ),\n",
    "            customdata=[[\n",
    "                d['player_pct'],\n",
    "                d['league_pct'],\n",
    "                d['volume_pct'],\n",
    "                d['makes'],\n",
    "                d['attempts']\n",
    "            ] for d in overall_data],\n",
    "            visible=True\n",
    "        )\n",
    "    )\n",
    "    \n",
    "    # Add overall reference line\n",
    "    fig.add_trace(\n",
    "        go.Scatter(\n",
    "            x=[d['shot_description'] for d in overall_data],\n",
    "            y=[0] * len(overall_data),\n",
    "            mode='lines',\n",
    "            name='League Average',\n",
    "            line=dict(\n",
    "                color=colors['reference'],\n",
    "                width=1,\n",
    "                dash='dash'\n",
    "            ),\n",
    "            hoverinfo='skip',\n",
    "            visible=True\n",
    "        )\n",
    "    )\n",
    "    \n",
    "    # Create data for each shot group\n",
    "    for group in shot_groups:\n",
    "        shot_data = get_shot_data(group)\n",
    "        \n",
    "        if shot_data:\n",
    "            # Add difference bars\n",
    "            fig.add_trace(\n",
    "                go.Bar(\n",
    "                    name=\"vs. League Average\",\n",
    "                    x=[d['shot_description'] for d in shot_data],\n",
    "                    y=[d['difference'] for d in shot_data],\n",
    "                    marker=dict(\n",
    "                        color=[colors['positive'] if d['difference'] >= 0 else colors['negative']\n",
    "                              for d in shot_data],\n",
    "                        line=dict(\n",
    "                            color=[colors['positive_border'] if d['difference'] >= 0 \n",
    "                                  else colors['negative_border'] for d in shot_data],\n",
    "                            width=1\n",
    "                        )\n",
    "                    ),\n",
    "                    text=[f\"{d['difference']:+.1f}%\" if abs(d['difference']) >= 2 else \"\"\n",
    "                          for d in shot_data],\n",
    "                    textposition='auto',\n",
    "                    textfont=dict(size=11, color=colors['text']),\n",
    "                    hovertemplate=(\n",
    "                        \"<b>%{x}</b><br>\" +\n",
    "                        \"Difference: %{y:+.1f}%<br>\" +\n",
    "                        \"Player: %{customdata[0]:.1f}%<br>\" +\n",
    "                        \"League: %{customdata[1]:.1f}%<br>\" +\n",
    "                        \"Shot Volume: %{customdata[2]:.0f}%<br>\" +\n",
    "                        \"Makes/Attempts: %{customdata[3]}/%{customdata[4]}<br>\" +\n",
    "                        \"<extra></extra>\"\n",
    "                    ),\n",
    "                    customdata=[[\n",
    "                        d['player_pct'],\n",
    "                        d['league_pct'],\n",
    "                        d['volume_pct'],\n",
    "                        d['makes'],\n",
    "                        d['attempts']\n",
    "                    ] for d in shot_data],\n",
    "                    visible=False\n",
    "                )\n",
    "            )\n",
    "            \n",
    "            # Add reference line\n",
    "            fig.add_trace(\n",
    "                go.Scatter(\n",
    "                    x=[d['shot_description'] for d in shot_data],\n",
    "                    y=[0] * len(shot_data),\n",
    "                    mode='lines',\n",
    "                    name='League Average',\n",
    "                    line=dict(\n",
    "                        color=colors['reference'],\n",
    "                        width=1,\n",
    "                        dash='dash'\n",
    "                    ),\n",
    "                    hoverinfo='skip',\n",
    "                    visible=False\n",
    "                )\n",
    "            )\n",
    "    \n",
    "    # Create buttons including Overall\n",
    "    buttons = [dict(\n",
    "        label=\"Overall\",\n",
    "        method=\"update\",\n",
    "        args=[\n",
    "            {\"visible\": [True, True] + [False] * (len(fig.data) - 2)},\n",
    "            {\"title\": \"Overall Shot Performance vs League Average\"}\n",
    "        ]\n",
    "    )]\n",
    "    \n",
    "    for idx, group in enumerate(shot_groups):\n",
    "        visibility = [False] * len(fig.data)\n",
    "        group_index = (idx + 1) * 2  # +1 because overall takes up first two traces\n",
    "        visibility[group_index] = True\n",
    "        visibility[group_index + 1] = True\n",
    "        \n",
    "        buttons.append(\n",
    "            dict(\n",
    "                label=group.replace('_', ' ').title(),\n",
    "                method=\"update\",\n",
    "                args=[\n",
    "                    {\"visible\": visibility},\n",
    "                    {\"title\": f\"Shot Performance vs League Average - {group.replace('_', ' ').title()}\"}\n",
    "                ]\n",
    "            )\n",
    "        )\n",
    "    \n",
    "    # Update layout\n",
    "    fig.update_layout(\n",
    "        title=dict(\n",
    "            text=\"Overall Shot Performance vs League Average\",\n",
    "            font=dict(size=24, color=colors['text']),\n",
    "            y=0.97,\n",
    "            x=0.5,\n",
    "            xanchor='center'\n",
    "        ),\n",
    "        showlegend=False,\n",
    "        xaxis=dict(\n",
    "            tickangle=45,\n",
    "            tickfont=dict(size=11, color=colors['text']),\n",
    "            gridcolor=\"rgba(148, 163, 184, 0.1)\"\n",
    "        ),\n",
    "        yaxis=dict(\n",
    "            title=dict(\n",
    "                text=\"% Above/Below League Average\",\n",
    "                font=dict(size=14, color=colors['text'])\n",
    "            ),\n",
    "            tickfont=dict(size=11, color=colors['text']),\n",
    "            gridcolor=\"rgba(148, 163, 184, 0.1)\",\n",
    "            zeroline=False,\n",
    "            range=[-20, 20]\n",
    "        ),\n",
    "        updatemenus=[\n",
    "            dict(\n",
    "                type=\"buttons\",\n",
    "                direction=\"right\",\n",
    "                x=0.5,\n",
    "                y=1.15,\n",
    "                xanchor='center',\n",
    "                yanchor='top',\n",
    "                showactive=True,\n",
    "                buttons=buttons,\n",
    "                font=dict(color=colors['text'], size=12),\n",
    "                bgcolor=colors['background'],\n",
    "                bordercolor='rgba(255, 255, 255, 0.2)',\n",
    "                #activecolor='rgba(59, 130, 246, 0.7)',\n",
    "                pad={\"r\": 10, \"t\": 10},\n",
    "            )\n",
    "        ],\n",
    "        width=1200,\n",
    "        height=700,\n",
    "        plot_bgcolor=\"rgba(0, 0, 0, 0)\",\n",
    "        paper_bgcolor=\"rgba(0, 0, 0, 0)\",\n",
    "        margin=dict(t=150, b=100, l=80, r=80)\n",
    "    )\n",
    "    \n",
    "    # Add performance bands\n",
    "    fig.add_hrect(y0=5, y1=20, fillcolor=\"rgba(34, 197, 94, 0.05)\", layer=\"below\", line_width=0)\n",
    "    fig.add_hrect(y0=-5, y1=5, fillcolor=\"rgba(226, 232, 240, 0.05)\", layer=\"below\", line_width=0)\n",
    "    fig.add_hrect(y0=-20, y1=-5, fillcolor=\"rgba(239, 68, 68, 0.05)\", layer=\"below\", line_width=0)\n",
    "    \n",
    "    return fig\n",
    "    # Render the figure\n",
    "fig = shot_performance(selected_player,selected_year)\n",
    "fig.show()"
   ]
  },
  {
   "cell_type": "code",
   "execution_count": 2,
   "id": "bf439f95-7540-4291-a9a1-b4fbde3378ac",
   "metadata": {},
   "outputs": [
    {
     "ename": "NameError",
     "evalue": "name 'avg_df' is not defined",
     "output_type": "error",
     "traceback": [
      "\u001b[0;31m---------------------------------------------------------------------------\u001b[0m",
      "\u001b[0;31mNameError\u001b[0m                                 Traceback (most recent call last)",
      "Cell \u001b[0;32mIn[2], line 1\u001b[0m\n\u001b[0;32m----> 1\u001b[0m \u001b[43mavg_df\u001b[49m[avg_df\u001b[38;5;241m.\u001b[39mshot_description\u001b[38;5;241m.\u001b[39misna()]\n",
      "\u001b[0;31mNameError\u001b[0m: name 'avg_df' is not defined"
     ]
    }
   ],
   "source": [
    "avg_df[avg_df.shot_description.isna()]"
   ]
  },
  {
   "cell_type": "code",
   "execution_count": null,
   "id": "8635a882-ca23-4956-8c4c-ae86f6dd6ec9",
   "metadata": {},
   "outputs": [],
   "source": []
  }
 ],
 "metadata": {
  "kernelspec": {
   "display_name": "Python 3 (ipykernel)",
   "language": "python",
   "name": "python3"
  },
  "language_info": {
   "codemirror_mode": {
    "name": "ipython",
    "version": 3
   },
   "file_extension": ".py",
   "mimetype": "text/x-python",
   "name": "python",
   "nbconvert_exporter": "python",
   "pygments_lexer": "ipython3",
   "version": "3.10.12"
  }
 },
 "nbformat": 4,
 "nbformat_minor": 5
}
