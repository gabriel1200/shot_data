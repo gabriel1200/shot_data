{
 "cells": [
  {
   "cell_type": "code",
   "execution_count": 3,
   "id": "1e421797-3505-468e-bf23-7ad3a51d45f0",
   "metadata": {},
   "outputs": [],
   "source": [
    "import pandas as pd\n",
    "import requests\n",
    "import os\n",
    "from nba_api.stats.static import players,teams\n",
    "\n",
    "\n",
    "start_year=1997\n",
    "end_year=2025\n",
    "\n",
    "def get_dates(start_year,end_year):\n",
    "    dates=[]\n",
    "    for year in range(start_year,end_year):\n",
    "    \n",
    "        for team in teams.get_teams():\n",
    "            team_id=team['id']\n",
    "            path = '../team/'+str(year)+'ps/'+str(team_id)+'.csv'\n",
    "            if os.path.exists(path):\n",
    "                df=pd.read_csv(path)\n",
    "    \n",
    "                df=df[['GAME_ID','TEAM_ID','HTM','VTM','GAME_DATE']]\n",
    "                df.rename(columns={'GAME_DATE':'date'},inplace=True)\n",
    "                df.drop_duplicates(inplace=True)\n",
    "                df['season']=str(year-1)+'-'+str(year)[-2:]\n",
    "                df['playoffs']=True\n",
    "                dates.append(df)\n",
    "        for team in teams.get_teams():\n",
    "            team_id=team['id']\n",
    "            path = '../team/'+str(year)+'/'+str(team_id)+'.csv'\n",
    "            if os.path.exists(path):\n",
    "                df=pd.read_csv(path)\n",
    "    \n",
    "                df=df[['GAME_ID','TEAM_ID','HTM','VTM','GAME_DATE']]\n",
    "                df.rename(columns={'GAME_DATE':'date'},inplace=True)\n",
    "                df.drop_duplicates(inplace=True)\n",
    "                df['season']=str(year-1)+'-'+str(year)[-2:]\n",
    "                df['playoffs']=False\n",
    "                dates.append(df)\n",
    "                \n",
    "    return pd.concat(dates)\n",
    "\n",
    "\n",
    "dates=get_dates(start_year,end_year)\n"
   ]
  },
  {
   "cell_type": "code",
   "execution_count": 4,
   "id": "73f320cd-b82f-4cd1-b061-02ea9e74534e",
   "metadata": {},
   "outputs": [],
   "source": [
    "dates[dates.playoffs==False]\n",
    "name_map={}\n",
    "for team in teams.get_teams():\n",
    "\n",
    "    name_map[team['id']]= team['abbreviation']\n",
    "\n",
    "dates['team']=dates['TEAM_ID'].map(name_map)\n",
    "acronym_changes = {\n",
    "    \"CHH\": \"CHA\",\n",
    "    \"NOH\": \"NOP\",\n",
    "    \"NJN\": \"BKN\",\n",
    "    \"SEA\": \"OKC\",\n",
    "    \"WSB\": \"WAS\",\n",
    "    \"VAN\": \"MEM\",\n",
    "    \"SDC\": \"LAC\",\n",
    "    \"KCK\": \"SAC\",\n",
    "    \"FTW\": \"DET\",\n",
    "    \"SFW\": \"GSW\",\n",
    "    \"STL\": \"ATL\"\n",
    "}\n",
    "dates['team'] = dates['team'].replace(acronym_changes)\n",
    "\n",
    "\n",
    "dates['opp_team'] = dates.apply(lambda row: row['VTM'] if row['team'] == row['HTM'] else row['HTM'], axis=1)\n",
    "\n",
    "\n",
    "dates.to_csv('game_dates.csv',index=False)"
   ]
  },
  {
   "cell_type": "code",
   "execution_count": null,
   "id": "e3d9e6ed-b68c-404e-8c58-eda750dc816f",
   "metadata": {},
   "outputs": [],
   "source": []
  },
  {
   "cell_type": "code",
   "execution_count": null,
   "id": "ffa81d2e-e608-4f91-95f8-e7cf58aa92cc",
   "metadata": {},
   "outputs": [],
   "source": []
  }
 ],
 "metadata": {
  "kernelspec": {
   "display_name": "Python 3 (ipykernel)",
   "language": "python",
   "name": "python3"
  },
  "language_info": {
   "codemirror_mode": {
    "name": "ipython",
    "version": 3
   },
   "file_extension": ".py",
   "mimetype": "text/x-python",
   "name": "python",
   "nbconvert_exporter": "python",
   "pygments_lexer": "ipython3",
   "version": "3.10.12"
  }
 },
 "nbformat": 4,
 "nbformat_minor": 5
}
