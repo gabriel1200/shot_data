{
 "cells": [
  {
   "cell_type": "code",
   "execution_count": 7,
   "id": "f10b887a-089b-4156-94c4-33a414251fde",
   "metadata": {},
   "outputs": [
    {
     "data": {
      "application/vnd.plotly.v1+json": {
       "config": {
        "plotlyServerURL": "https://plot.ly"
       },
       "data": [
        {
         "line": {
          "color": "#1f77b4",
          "shape": "spline",
          "width": 2
         },
         "mode": "lines+markers",
         "name": "Time of Possession",
         "showlegend": false,
         "type": "scatter",
         "x": [
          1,
          2,
          3,
          4,
          5,
          6
         ],
         "xaxis": "x3",
         "y": [
          7.694805194805195,
          6.574074074074074,
          7.672413793103448,
          7.5,
          9.018987341772151,
          8.647058823529411
         ],
         "yaxis": "y3"
        },
        {
         "line": {
          "color": "#1f77b4",
          "dash": "dot",
          "width": 2
         },
         "mode": "lines",
         "showlegend": false,
         "type": "scatter",
         "x": [
          1,
          2,
          3,
          4,
          5,
          6
         ],
         "xaxis": "x3",
         "y": [
          7.000183587295759,
          7.000183587295759,
          7.000183587295759,
          7.000183587295759,
          7.000183587295759,
          7.000183587295759
         ],
         "yaxis": "y3"
        },
        {
         "marker": {
          "color": "#2ca02c"
         },
         "name": "Turnovers",
         "showlegend": false,
         "type": "bar",
         "x": [
          1,
          2,
          3,
          4,
          5,
          6
         ],
         "xaxis": "x3",
         "y": [
          1.948051948051948,
          1.8518518518518519,
          4.310344827586207,
          0,
          2.848101265822785,
          0
         ],
         "yaxis": "y3"
        },
        {
         "line": {
          "color": "#2ca02c",
          "dash": "dot",
          "width": 2
         },
         "mode": "lines",
         "showlegend": false,
         "type": "scatter",
         "x": [
          1,
          2,
          3,
          4,
          5,
          6
         ],
         "xaxis": "x3",
         "y": [
          2.2305856434734714,
          2.2305856434734714,
          2.2305856434734714,
          2.2305856434734714,
          2.2305856434734714,
          2.2305856434734714
         ],
         "yaxis": "y3"
        },
        {
         "line": {
          "color": "#ff7f0e",
          "shape": "spline",
          "width": 2
         },
         "mode": "lines+markers",
         "name": "Points",
         "showlegend": false,
         "type": "scatter",
         "x": [
          1,
          2,
          3,
          4,
          5,
          6
         ],
         "xaxis": "x5",
         "y": [
          28.246753246753247,
          30.555555555555557,
          26.724137931034484,
          30.357142857142858,
          28.481012658227847,
          31.764705882352942
         ],
         "yaxis": "y5"
        },
        {
         "line": {
          "color": "#ff7f0e",
          "dash": "dot",
          "width": 2
         },
         "mode": "lines",
         "showlegend": false,
         "type": "scatter",
         "x": [
          1,
          2,
          3,
          4,
          5,
          6
         ],
         "xaxis": "x5",
         "y": [
          31.035432348081514,
          31.035432348081514,
          31.035432348081514,
          31.035432348081514,
          31.035432348081514,
          31.035432348081514
         ],
         "yaxis": "y5"
        },
        {
         "name": "Potential Assists",
         "showlegend": false,
         "type": "bar",
         "x": [
          1,
          2,
          3,
          4,
          5,
          6
         ],
         "xaxis": "x4",
         "y": [
          12.662337662337663,
          12.962962962962964,
          12.068965517241379,
          13.392857142857142,
          15.189873417721518,
          15.882352941176471
         ],
         "yaxis": "y4"
        },
        {
         "line": {
          "color": "#d62728",
          "dash": "dot",
          "width": 2
         },
         "mode": "lines",
         "showlegend": false,
         "type": "scatter",
         "x": [
          1,
          2,
          3,
          4,
          5,
          6
         ],
         "xaxis": "x4",
         "y": [
          12.309528180649899,
          12.309528180649899,
          12.309528180649899,
          12.309528180649899,
          12.309528180649899,
          12.309528180649899
         ],
         "yaxis": "y4"
        },
        {
         "line": {
          "color": "#8B0000",
          "shape": "spline",
          "width": 2
         },
         "mode": "lines+markers",
         "name": "Pullups",
         "type": "scatter",
         "x": [
          1,
          2,
          3,
          4,
          5,
          6
         ],
         "xaxis": "x2",
         "y": [
          10.714285714285714,
          13.88888888888889,
          15.517241379310345,
          17.857142857142858,
          10.443037974683545,
          17.647058823529413
         ],
         "yaxis": "y2"
        },
        {
         "line": {
          "color": "#8B0000",
          "dash": "dot",
          "width": 2
         },
         "mode": "lines",
         "showlegend": false,
         "type": "scatter",
         "x": [
          1,
          2,
          3,
          4,
          5,
          6
         ],
         "xaxis": "x2",
         "y": [
          10.299247292087388,
          10.299247292087388,
          10.299247292087388,
          10.299247292087388,
          10.299247292087388,
          10.299247292087388
         ],
         "yaxis": "y2"
        },
        {
         "line": {
          "color": "#8B0000",
          "shape": "spline",
          "width": 2
         },
         "mode": "lines+markers",
         "name": "Pullups",
         "type": "scatter",
         "x": [
          1,
          2,
          3,
          4,
          5,
          6
         ],
         "xaxis": "x2",
         "y": [
          1.2987012987012987,
          0,
          0,
          1.1904761904761905,
          1.2658227848101267,
          1.1764705882352942
         ],
         "yaxis": "y2"
        },
        {
         "line": {
          "color": "#8B0000",
          "dash": "dot",
          "width": 2
         },
         "mode": "lines",
         "showlegend": false,
         "type": "scatter",
         "x": [
          1,
          2,
          3,
          4,
          5,
          6
         ],
         "xaxis": "x2",
         "y": [
          1.542133284376721,
          1.542133284376721,
          1.542133284376721,
          1.542133284376721,
          1.542133284376721,
          1.542133284376721
         ],
         "yaxis": "y2"
        },
        {
         "line": {
          "color": "#4B006E",
          "shape": "spline",
          "width": 2
         },
         "mode": "lines",
         "name": "Rim Attempts",
         "type": "scatter",
         "x": [
          1,
          2,
          3,
          4,
          5,
          6
         ],
         "xaxis": "x",
         "y": [
          5.8441558441558445,
          7.407407407407407,
          1.7241379310344827,
          2.6785714285714284,
          6.6455696202531644,
          1.7647058823529411
         ],
         "yaxis": "y"
        },
        {
         "line": {
          "color": "#4B006E",
          "dash": "dot",
          "width": 2
         },
         "mode": "lines",
         "showlegend": false,
         "type": "scatter",
         "x": [
          1,
          2,
          3,
          4,
          5,
          6
         ],
         "xaxis": "x",
         "y": [
          6.856985496603635,
          6.856985496603635,
          6.856985496603635,
          6.856985496603635,
          6.856985496603635,
          6.856985496603635
         ],
         "yaxis": "y"
        },
        {
         "line": {
          "color": "#8B8000",
          "shape": "spline",
          "width": 2
         },
         "mode": "lines",
         "name": "Free Throws",
         "type": "scatter",
         "x": [
          1,
          2,
          3,
          4,
          5,
          6
         ],
         "xaxis": "x",
         "y": [
          12.662337662337663,
          5.555555555555555,
          8.620689655172415,
          5.357142857142857,
          5.69620253164557,
          6.176470588235294
         ],
         "yaxis": "y"
        },
        {
         "line": {
          "color": "#8B8000",
          "dash": "dot",
          "width": 2
         },
         "mode": "lines",
         "showlegend": false,
         "type": "scatter",
         "x": [
          1,
          2,
          3,
          4,
          5,
          6
         ],
         "xaxis": "x",
         "y": [
          8.936111621075822,
          8.936111621075822,
          8.936111621075822,
          8.936111621075822,
          8.936111621075822,
          8.936111621075822
         ],
         "yaxis": "y"
        },
        {
         "line": {
          "color": "#7f7f7f",
          "shape": "spline",
          "width": 2
         },
         "mode": "lines+markers",
         "name": "True Shooting",
         "showlegend": false,
         "type": "scatter",
         "x": [
          1,
          2,
          3,
          4,
          5,
          6
         ],
         "xaxis": "x6",
         "y": [
          58.699999999999996,
          61.9,
          56.599999999999994,
          57.4,
          60.9,
          64.1
         ],
         "yaxis": "y6"
        },
        {
         "line": {
          "color": "#7f7f7f",
          "dash": "dot",
          "width": 2
         },
         "mode": "lines",
         "showlegend": false,
         "type": "scatter",
         "x": [
          1,
          2,
          3,
          4,
          5,
          6
         ],
         "xaxis": "x6",
         "y": [
          63.6,
          63.6,
          63.6,
          63.6,
          63.6,
          63.6
         ],
         "yaxis": "y6"
        }
       ],
       "layout": {
        "annotations": [
         {
          "font": {
           "size": 16
          },
          "showarrow": false,
          "text": "Type of Scoring",
          "x": 0.225,
          "xanchor": "center",
          "xref": "paper",
          "y": 1,
          "yanchor": "bottom",
          "yref": "paper"
         },
         {
          "font": {
           "size": 16
          },
          "showarrow": false,
          "text": "Pullups & Catch and Shoot",
          "x": 0.775,
          "xanchor": "center",
          "xref": "paper",
          "y": 1,
          "yanchor": "bottom",
          "yref": "paper"
         },
         {
          "font": {
           "size": 16
          },
          "showarrow": false,
          "text": "On Ball Time & Turnovers",
          "x": 0.225,
          "xanchor": "center",
          "xref": "paper",
          "y": 0.6111111111111112,
          "yanchor": "bottom",
          "yref": "paper"
         },
         {
          "font": {
           "size": 16
          },
          "showarrow": false,
          "text": "Potential Assists",
          "x": 0.775,
          "xanchor": "center",
          "xref": "paper",
          "y": 0.6111111111111112,
          "yanchor": "bottom",
          "yref": "paper"
         },
         {
          "font": {
           "size": 16
          },
          "showarrow": false,
          "text": "Scoring Rate",
          "x": 0.225,
          "xanchor": "center",
          "xref": "paper",
          "y": 0.22222222222222224,
          "yanchor": "bottom",
          "yref": "paper"
         },
         {
          "font": {
           "size": 16
          },
          "showarrow": false,
          "text": "True Shooting",
          "x": 0.775,
          "xanchor": "center",
          "xref": "paper",
          "y": 0.22222222222222224,
          "yanchor": "bottom",
          "yref": "paper"
         },
         {
          "showarrow": false,
          "text": "lines based on rs averages*",
          "x": 1.1,
          "xref": "paper",
          "y": 1.07,
          "yref": "paper"
         }
        ],
        "font": {
         "color": "#ffffff",
         "family": "Malgun Gothic",
         "size": 16
        },
        "height": 1200,
        "paper_bgcolor": "#211a1d",
        "plot_bgcolor": "#211a1d",
        "template": {
         "data": {
          "bar": [
           {
            "error_x": {
             "color": "#2a3f5f"
            },
            "error_y": {
             "color": "#2a3f5f"
            },
            "marker": {
             "line": {
              "color": "#E5ECF6",
              "width": 0.5
             },
             "pattern": {
              "fillmode": "overlay",
              "size": 10,
              "solidity": 0.2
             }
            },
            "type": "bar"
           }
          ],
          "barpolar": [
           {
            "marker": {
             "line": {
              "color": "#E5ECF6",
              "width": 0.5
             },
             "pattern": {
              "fillmode": "overlay",
              "size": 10,
              "solidity": 0.2
             }
            },
            "type": "barpolar"
           }
          ],
          "carpet": [
           {
            "aaxis": {
             "endlinecolor": "#2a3f5f",
             "gridcolor": "white",
             "linecolor": "white",
             "minorgridcolor": "white",
             "startlinecolor": "#2a3f5f"
            },
            "baxis": {
             "endlinecolor": "#2a3f5f",
             "gridcolor": "white",
             "linecolor": "white",
             "minorgridcolor": "white",
             "startlinecolor": "#2a3f5f"
            },
            "type": "carpet"
           }
          ],
          "choropleth": [
           {
            "colorbar": {
             "outlinewidth": 0,
             "ticks": ""
            },
            "type": "choropleth"
           }
          ],
          "contour": [
           {
            "colorbar": {
             "outlinewidth": 0,
             "ticks": ""
            },
            "colorscale": [
             [
              0,
              "#0d0887"
             ],
             [
              0.1111111111111111,
              "#46039f"
             ],
             [
              0.2222222222222222,
              "#7201a8"
             ],
             [
              0.3333333333333333,
              "#9c179e"
             ],
             [
              0.4444444444444444,
              "#bd3786"
             ],
             [
              0.5555555555555556,
              "#d8576b"
             ],
             [
              0.6666666666666666,
              "#ed7953"
             ],
             [
              0.7777777777777778,
              "#fb9f3a"
             ],
             [
              0.8888888888888888,
              "#fdca26"
             ],
             [
              1,
              "#f0f921"
             ]
            ],
            "type": "contour"
           }
          ],
          "contourcarpet": [
           {
            "colorbar": {
             "outlinewidth": 0,
             "ticks": ""
            },
            "type": "contourcarpet"
           }
          ],
          "heatmap": [
           {
            "colorbar": {
             "outlinewidth": 0,
             "ticks": ""
            },
            "colorscale": [
             [
              0,
              "#0d0887"
             ],
             [
              0.1111111111111111,
              "#46039f"
             ],
             [
              0.2222222222222222,
              "#7201a8"
             ],
             [
              0.3333333333333333,
              "#9c179e"
             ],
             [
              0.4444444444444444,
              "#bd3786"
             ],
             [
              0.5555555555555556,
              "#d8576b"
             ],
             [
              0.6666666666666666,
              "#ed7953"
             ],
             [
              0.7777777777777778,
              "#fb9f3a"
             ],
             [
              0.8888888888888888,
              "#fdca26"
             ],
             [
              1,
              "#f0f921"
             ]
            ],
            "type": "heatmap"
           }
          ],
          "heatmapgl": [
           {
            "colorbar": {
             "outlinewidth": 0,
             "ticks": ""
            },
            "colorscale": [
             [
              0,
              "#0d0887"
             ],
             [
              0.1111111111111111,
              "#46039f"
             ],
             [
              0.2222222222222222,
              "#7201a8"
             ],
             [
              0.3333333333333333,
              "#9c179e"
             ],
             [
              0.4444444444444444,
              "#bd3786"
             ],
             [
              0.5555555555555556,
              "#d8576b"
             ],
             [
              0.6666666666666666,
              "#ed7953"
             ],
             [
              0.7777777777777778,
              "#fb9f3a"
             ],
             [
              0.8888888888888888,
              "#fdca26"
             ],
             [
              1,
              "#f0f921"
             ]
            ],
            "type": "heatmapgl"
           }
          ],
          "histogram": [
           {
            "marker": {
             "pattern": {
              "fillmode": "overlay",
              "size": 10,
              "solidity": 0.2
             }
            },
            "type": "histogram"
           }
          ],
          "histogram2d": [
           {
            "colorbar": {
             "outlinewidth": 0,
             "ticks": ""
            },
            "colorscale": [
             [
              0,
              "#0d0887"
             ],
             [
              0.1111111111111111,
              "#46039f"
             ],
             [
              0.2222222222222222,
              "#7201a8"
             ],
             [
              0.3333333333333333,
              "#9c179e"
             ],
             [
              0.4444444444444444,
              "#bd3786"
             ],
             [
              0.5555555555555556,
              "#d8576b"
             ],
             [
              0.6666666666666666,
              "#ed7953"
             ],
             [
              0.7777777777777778,
              "#fb9f3a"
             ],
             [
              0.8888888888888888,
              "#fdca26"
             ],
             [
              1,
              "#f0f921"
             ]
            ],
            "type": "histogram2d"
           }
          ],
          "histogram2dcontour": [
           {
            "colorbar": {
             "outlinewidth": 0,
             "ticks": ""
            },
            "colorscale": [
             [
              0,
              "#0d0887"
             ],
             [
              0.1111111111111111,
              "#46039f"
             ],
             [
              0.2222222222222222,
              "#7201a8"
             ],
             [
              0.3333333333333333,
              "#9c179e"
             ],
             [
              0.4444444444444444,
              "#bd3786"
             ],
             [
              0.5555555555555556,
              "#d8576b"
             ],
             [
              0.6666666666666666,
              "#ed7953"
             ],
             [
              0.7777777777777778,
              "#fb9f3a"
             ],
             [
              0.8888888888888888,
              "#fdca26"
             ],
             [
              1,
              "#f0f921"
             ]
            ],
            "type": "histogram2dcontour"
           }
          ],
          "mesh3d": [
           {
            "colorbar": {
             "outlinewidth": 0,
             "ticks": ""
            },
            "type": "mesh3d"
           }
          ],
          "parcoords": [
           {
            "line": {
             "colorbar": {
              "outlinewidth": 0,
              "ticks": ""
             }
            },
            "type": "parcoords"
           }
          ],
          "pie": [
           {
            "automargin": true,
            "type": "pie"
           }
          ],
          "scatter": [
           {
            "fillpattern": {
             "fillmode": "overlay",
             "size": 10,
             "solidity": 0.2
            },
            "type": "scatter"
           }
          ],
          "scatter3d": [
           {
            "line": {
             "colorbar": {
              "outlinewidth": 0,
              "ticks": ""
             }
            },
            "marker": {
             "colorbar": {
              "outlinewidth": 0,
              "ticks": ""
             }
            },
            "type": "scatter3d"
           }
          ],
          "scattercarpet": [
           {
            "marker": {
             "colorbar": {
              "outlinewidth": 0,
              "ticks": ""
             }
            },
            "type": "scattercarpet"
           }
          ],
          "scattergeo": [
           {
            "marker": {
             "colorbar": {
              "outlinewidth": 0,
              "ticks": ""
             }
            },
            "type": "scattergeo"
           }
          ],
          "scattergl": [
           {
            "marker": {
             "colorbar": {
              "outlinewidth": 0,
              "ticks": ""
             }
            },
            "type": "scattergl"
           }
          ],
          "scattermapbox": [
           {
            "marker": {
             "colorbar": {
              "outlinewidth": 0,
              "ticks": ""
             }
            },
            "type": "scattermapbox"
           }
          ],
          "scatterpolar": [
           {
            "marker": {
             "colorbar": {
              "outlinewidth": 0,
              "ticks": ""
             }
            },
            "type": "scatterpolar"
           }
          ],
          "scatterpolargl": [
           {
            "marker": {
             "colorbar": {
              "outlinewidth": 0,
              "ticks": ""
             }
            },
            "type": "scatterpolargl"
           }
          ],
          "scatterternary": [
           {
            "marker": {
             "colorbar": {
              "outlinewidth": 0,
              "ticks": ""
             }
            },
            "type": "scatterternary"
           }
          ],
          "surface": [
           {
            "colorbar": {
             "outlinewidth": 0,
             "ticks": ""
            },
            "colorscale": [
             [
              0,
              "#0d0887"
             ],
             [
              0.1111111111111111,
              "#46039f"
             ],
             [
              0.2222222222222222,
              "#7201a8"
             ],
             [
              0.3333333333333333,
              "#9c179e"
             ],
             [
              0.4444444444444444,
              "#bd3786"
             ],
             [
              0.5555555555555556,
              "#d8576b"
             ],
             [
              0.6666666666666666,
              "#ed7953"
             ],
             [
              0.7777777777777778,
              "#fb9f3a"
             ],
             [
              0.8888888888888888,
              "#fdca26"
             ],
             [
              1,
              "#f0f921"
             ]
            ],
            "type": "surface"
           }
          ],
          "table": [
           {
            "cells": {
             "fill": {
              "color": "#EBF0F8"
             },
             "line": {
              "color": "white"
             }
            },
            "header": {
             "fill": {
              "color": "#C8D4E3"
             },
             "line": {
              "color": "white"
             }
            },
            "type": "table"
           }
          ]
         },
         "layout": {
          "annotationdefaults": {
           "arrowcolor": "#2a3f5f",
           "arrowhead": 0,
           "arrowwidth": 1
          },
          "autotypenumbers": "strict",
          "coloraxis": {
           "colorbar": {
            "outlinewidth": 0,
            "ticks": ""
           }
          },
          "colorscale": {
           "diverging": [
            [
             0,
             "#8e0152"
            ],
            [
             0.1,
             "#c51b7d"
            ],
            [
             0.2,
             "#de77ae"
            ],
            [
             0.3,
             "#f1b6da"
            ],
            [
             0.4,
             "#fde0ef"
            ],
            [
             0.5,
             "#f7f7f7"
            ],
            [
             0.6,
             "#e6f5d0"
            ],
            [
             0.7,
             "#b8e186"
            ],
            [
             0.8,
             "#7fbc41"
            ],
            [
             0.9,
             "#4d9221"
            ],
            [
             1,
             "#276419"
            ]
           ],
           "sequential": [
            [
             0,
             "#0d0887"
            ],
            [
             0.1111111111111111,
             "#46039f"
            ],
            [
             0.2222222222222222,
             "#7201a8"
            ],
            [
             0.3333333333333333,
             "#9c179e"
            ],
            [
             0.4444444444444444,
             "#bd3786"
            ],
            [
             0.5555555555555556,
             "#d8576b"
            ],
            [
             0.6666666666666666,
             "#ed7953"
            ],
            [
             0.7777777777777778,
             "#fb9f3a"
            ],
            [
             0.8888888888888888,
             "#fdca26"
            ],
            [
             1,
             "#f0f921"
            ]
           ],
           "sequentialminus": [
            [
             0,
             "#0d0887"
            ],
            [
             0.1111111111111111,
             "#46039f"
            ],
            [
             0.2222222222222222,
             "#7201a8"
            ],
            [
             0.3333333333333333,
             "#9c179e"
            ],
            [
             0.4444444444444444,
             "#bd3786"
            ],
            [
             0.5555555555555556,
             "#d8576b"
            ],
            [
             0.6666666666666666,
             "#ed7953"
            ],
            [
             0.7777777777777778,
             "#fb9f3a"
            ],
            [
             0.8888888888888888,
             "#fdca26"
            ],
            [
             1,
             "#f0f921"
            ]
           ]
          },
          "colorway": [
           "#636efa",
           "#EF553B",
           "#00cc96",
           "#ab63fa",
           "#FFA15A",
           "#19d3f3",
           "#FF6692",
           "#B6E880",
           "#FF97FF",
           "#FECB52"
          ],
          "font": {
           "color": "#2a3f5f"
          },
          "geo": {
           "bgcolor": "white",
           "lakecolor": "white",
           "landcolor": "#E5ECF6",
           "showlakes": true,
           "showland": true,
           "subunitcolor": "white"
          },
          "hoverlabel": {
           "align": "left"
          },
          "hovermode": "closest",
          "mapbox": {
           "style": "light"
          },
          "paper_bgcolor": "white",
          "plot_bgcolor": "#E5ECF6",
          "polar": {
           "angularaxis": {
            "gridcolor": "white",
            "linecolor": "white",
            "ticks": ""
           },
           "bgcolor": "#E5ECF6",
           "radialaxis": {
            "gridcolor": "white",
            "linecolor": "white",
            "ticks": ""
           }
          },
          "scene": {
           "xaxis": {
            "backgroundcolor": "#E5ECF6",
            "gridcolor": "white",
            "gridwidth": 2,
            "linecolor": "white",
            "showbackground": true,
            "ticks": "",
            "zerolinecolor": "white"
           },
           "yaxis": {
            "backgroundcolor": "#E5ECF6",
            "gridcolor": "white",
            "gridwidth": 2,
            "linecolor": "white",
            "showbackground": true,
            "ticks": "",
            "zerolinecolor": "white"
           },
           "zaxis": {
            "backgroundcolor": "#E5ECF6",
            "gridcolor": "white",
            "gridwidth": 2,
            "linecolor": "white",
            "showbackground": true,
            "ticks": "",
            "zerolinecolor": "white"
           }
          },
          "shapedefaults": {
           "line": {
            "color": "#2a3f5f"
           }
          },
          "ternary": {
           "aaxis": {
            "gridcolor": "white",
            "linecolor": "white",
            "ticks": ""
           },
           "baxis": {
            "gridcolor": "white",
            "linecolor": "white",
            "ticks": ""
           },
           "bgcolor": "#E5ECF6",
           "caxis": {
            "gridcolor": "white",
            "linecolor": "white",
            "ticks": ""
           }
          },
          "title": {
           "x": 0.05
          },
          "xaxis": {
           "automargin": true,
           "gridcolor": "white",
           "linecolor": "white",
           "ticks": "",
           "title": {
            "standoff": 15
           },
           "zerolinecolor": "white",
           "zerolinewidth": 2
          },
          "yaxis": {
           "automargin": true,
           "gridcolor": "white",
           "linecolor": "white",
           "ticks": "",
           "title": {
            "standoff": 15
           },
           "zerolinecolor": "white",
           "zerolinewidth": 2
          }
         }
        },
        "title": {
         "font": {
          "size": 22
         },
         "text": "Shai Gilgeous-Alexander vs DAL 2024",
         "x": 0.5
        },
        "width": 1200,
        "xaxis": {
         "anchor": "y",
         "autorange": true,
         "domain": [
          0,
          0.45
         ],
         "range": [
          1,
          6
         ],
         "showgrid": false,
         "showline": false,
         "tickvals": [
          1,
          2,
          3,
          4,
          5,
          6
         ],
         "title": {
          "text": "Game Number"
         },
         "type": "linear",
         "zeroline": false
        },
        "xaxis2": {
         "anchor": "y2",
         "autorange": true,
         "domain": [
          0.55,
          1
         ],
         "range": [
          0.6666399871938531,
          6.333360012806147
         ],
         "showgrid": false,
         "showline": false,
         "tickvals": [
          1,
          2,
          3,
          4,
          5,
          6
         ],
         "title": {
          "text": "Game Number"
         },
         "type": "linear",
         "zeroline": false
        },
        "xaxis3": {
         "anchor": "y3",
         "autorange": true,
         "domain": [
          0,
          0.45
         ],
         "range": [
          0.5,
          6.5
         ],
         "showgrid": false,
         "showline": false,
         "tickvals": [
          1,
          2,
          3,
          4,
          5,
          6
         ],
         "title": {
          "text": "Game Number"
         },
         "type": "linear",
         "zeroline": false
        },
        "xaxis4": {
         "anchor": "y4",
         "autorange": true,
         "domain": [
          0.55,
          1
         ],
         "range": [
          0.5,
          6.5
         ],
         "showgrid": false,
         "showline": false,
         "tickvals": [
          1,
          2,
          3,
          4,
          5,
          6
         ],
         "title": {
          "text": "Game Number"
         },
         "type": "linear",
         "zeroline": false
        },
        "xaxis5": {
         "anchor": "y5",
         "autorange": true,
         "domain": [
          0,
          0.45
         ],
         "range": [
          0.6666399871938531,
          6.333360012806147
         ],
         "showgrid": false,
         "showline": false,
         "tickvals": [
          1,
          2,
          3,
          4,
          5,
          6
         ],
         "title": {
          "text": "Game Number"
         },
         "type": "linear",
         "zeroline": false
        },
        "xaxis6": {
         "anchor": "y6",
         "autorange": true,
         "domain": [
          0.55,
          1
         ],
         "range": [
          0.6666399871938531,
          6.333360012806147
         ],
         "showgrid": false,
         "showline": false,
         "tickvals": [
          1,
          2,
          3,
          4,
          5,
          6
         ],
         "title": {
          "text": "Game Number"
         },
         "type": "linear",
         "zeroline": false
        },
        "yaxis": {
         "anchor": "x",
         "autorange": true,
         "domain": [
          0.7777777777777778,
          1
         ],
         "range": [
          1.1164601681843058,
          13.27001542518784
         ],
         "showgrid": false,
         "title": {
          "text": "Per 75"
         },
         "type": "linear",
         "zeroline": false
        },
        "yaxis2": {
         "anchor": "x2",
         "autorange": true,
         "domain": [
          0.7777777777777778,
          1
         ],
         "range": [
          -1.3707136798739854,
          19.227856537016844
         ],
         "showgrid": false,
         "title": {
          "text": "Per 75"
         },
         "type": "linear",
         "zeroline": false
        },
        "yaxis3": {
         "anchor": "x3",
         "autorange": true,
         "domain": [
          0.3888888888888889,
          0.6111111111111112
         ],
         "range": [
          0,
          9.661932087286432
         ],
         "showgrid": false,
         "title": {
          "text": "On Ball Time"
         },
         "type": "linear",
         "zeroline": false
        },
        "yaxis4": {
         "anchor": "x4",
         "autorange": true,
         "domain": [
          0.3888888888888889,
          0.6111111111111112
         ],
         "range": [
          0,
          16.71826625386997
         ],
         "showgrid": false,
         "title": {
          "text": "Per 75"
         },
         "type": "linear",
         "zeroline": false
        },
        "yaxis5": {
         "anchor": "x5",
         "autorange": true,
         "domain": [
          0,
          0.22222222222222224
         ],
         "range": [
          26.337224106102916,
          32.15161970728451
         ],
         "showgrid": false,
         "title": {
          "text": "Per 75"
         },
         "type": "linear",
         "zeroline": false
        },
        "yaxis6": {
         "anchor": "x6",
         "autorange": true,
         "domain": [
          0,
          0.22222222222222224
         ],
         "range": [
          56.02430025445292,
          64.67569974554706
         ],
         "showgrid": false,
         "title": {
          "text": "TS%"
         },
         "type": "linear",
         "zeroline": false
        }
       }
      },
      "image/png": "[encoded data removed]",
      "text/html": [
       "<div>                            <div id=\"d64fabaa-2a4e-4031-a04f-95bcc4ddaf7e\" class=\"plotly-graph-div\" style=\"height:1200px; width:1200px;\"></div>            <script type=\"text/javascript\">                require([\"plotly\"], function(Plotly) {                    window.PLOTLYENV=window.PLOTLYENV || {};                                    if (document.getElementById(\"d64fabaa-2a4e-4031-a04f-95bcc4ddaf7e\")) {                    Plotly.newPlot(                        \"d64fabaa-2a4e-4031-a04f-95bcc4ddaf7e\",                        [{\"line\":{\"color\":\"#1f77b4\",\"shape\":\"spline\",\"width\":2},\"mode\":\"lines+markers\",\"name\":\"Time of Possession\",\"showlegend\":false,\"x\":[1,2,3,4,5,6],\"y\":[7.694805194805195,6.574074074074074,7.672413793103448,7.5,9.018987341772151,8.647058823529411],\"type\":\"scatter\",\"xaxis\":\"x3\",\"yaxis\":\"y3\"},{\"line\":{\"color\":\"#1f77b4\",\"dash\":\"dot\",\"width\":2},\"mode\":\"lines\",\"showlegend\":false,\"x\":[1,2,3,4,5,6],\"y\":[7.000183587295759,7.000183587295759,7.000183587295759,7.000183587295759,7.000183587295759,7.000183587295759],\"type\":\"scatter\",\"xaxis\":\"x3\",\"yaxis\":\"y3\"},{\"marker\":{\"color\":\"#2ca02c\"},\"name\":\"Turnovers\",\"showlegend\":false,\"x\":[1,2,3,4,5,6],\"y\":[1.948051948051948,1.8518518518518519,4.310344827586207,0.0,2.848101265822785,0.0],\"type\":\"bar\",\"xaxis\":\"x3\",\"yaxis\":\"y3\"},{\"line\":{\"color\":\"#2ca02c\",\"dash\":\"dot\",\"width\":2},\"mode\":\"lines\",\"showlegend\":false,\"x\":[1,2,3,4,5,6],\"y\":[2.2305856434734714,2.2305856434734714,2.2305856434734714,2.2305856434734714,2.2305856434734714,2.2305856434734714],\"type\":\"scatter\",\"xaxis\":\"x3\",\"yaxis\":\"y3\"},{\"line\":{\"color\":\"#ff7f0e\",\"shape\":\"spline\",\"width\":2},\"mode\":\"lines+markers\",\"name\":\"Points\",\"showlegend\":false,\"x\":[1,2,3,4,5,6],\"y\":[28.246753246753247,30.555555555555557,26.724137931034484,30.357142857142858,28.481012658227847,31.764705882352942],\"type\":\"scatter\",\"xaxis\":\"x5\",\"yaxis\":\"y5\"},{\"line\":{\"color\":\"#ff7f0e\",\"dash\":\"dot\",\"width\":2},\"mode\":\"lines\",\"showlegend\":false,\"x\":[1,2,3,4,5,6],\"y\":[31.035432348081514,31.035432348081514,31.035432348081514,31.035432348081514,31.035432348081514,31.035432348081514],\"type\":\"scatter\",\"xaxis\":\"x5\",\"yaxis\":\"y5\"},{\"name\":\"Potential Assists\",\"showlegend\":false,\"x\":[1,2,3,4,5,6],\"y\":[12.662337662337663,12.962962962962964,12.068965517241379,13.392857142857142,15.189873417721518,15.882352941176471],\"type\":\"bar\",\"xaxis\":\"x4\",\"yaxis\":\"y4\"},{\"line\":{\"color\":\"#d62728\",\"dash\":\"dot\",\"width\":2},\"mode\":\"lines\",\"showlegend\":false,\"x\":[1,2,3,4,5,6],\"y\":[12.309528180649899,12.309528180649899,12.309528180649899,12.309528180649899,12.309528180649899,12.309528180649899],\"type\":\"scatter\",\"xaxis\":\"x4\",\"yaxis\":\"y4\"},{\"line\":{\"color\":\"#8B0000\",\"shape\":\"spline\",\"width\":2},\"mode\":\"lines+markers\",\"name\":\"Pullups\",\"x\":[1,2,3,4,5,6],\"y\":[10.714285714285714,13.88888888888889,15.517241379310345,17.857142857142858,10.443037974683545,17.647058823529413],\"type\":\"scatter\",\"xaxis\":\"x2\",\"yaxis\":\"y2\"},{\"line\":{\"color\":\"#8B0000\",\"dash\":\"dot\",\"width\":2},\"mode\":\"lines\",\"showlegend\":false,\"x\":[1,2,3,4,5,6],\"y\":[10.299247292087388,10.299247292087388,10.299247292087388,10.299247292087388,10.299247292087388,10.299247292087388],\"type\":\"scatter\",\"xaxis\":\"x2\",\"yaxis\":\"y2\"},{\"line\":{\"color\":\"#8B0000\",\"shape\":\"spline\",\"width\":2},\"mode\":\"lines+markers\",\"name\":\"Pullups\",\"x\":[1,2,3,4,5,6],\"y\":[1.2987012987012987,0.0,0.0,1.1904761904761905,1.2658227848101267,1.1764705882352942],\"type\":\"scatter\",\"xaxis\":\"x2\",\"yaxis\":\"y2\"},{\"line\":{\"color\":\"#8B0000\",\"dash\":\"dot\",\"width\":2},\"mode\":\"lines\",\"showlegend\":false,\"x\":[1,2,3,4,5,6],\"y\":[1.542133284376721,1.542133284376721,1.542133284376721,1.542133284376721,1.542133284376721,1.542133284376721],\"type\":\"scatter\",\"xaxis\":\"x2\",\"yaxis\":\"y2\"},{\"line\":{\"color\":\"#4B006E\",\"shape\":\"spline\",\"width\":2},\"mode\":\"lines\",\"name\":\"Rim Attempts\",\"x\":[1,2,3,4,5,6],\"y\":[5.8441558441558445,7.407407407407407,1.7241379310344827,2.6785714285714284,6.6455696202531644,1.7647058823529411],\"type\":\"scatter\",\"xaxis\":\"x\",\"yaxis\":\"y\"},{\"line\":{\"color\":\"#4B006E\",\"dash\":\"dot\",\"width\":2},\"mode\":\"lines\",\"showlegend\":false,\"x\":[1,2,3,4,5,6],\"y\":[6.856985496603635,6.856985496603635,6.856985496603635,6.856985496603635,6.856985496603635,6.856985496603635],\"type\":\"scatter\",\"xaxis\":\"x\",\"yaxis\":\"y\"},{\"line\":{\"color\":\"#8B8000\",\"shape\":\"spline\",\"width\":2},\"mode\":\"lines\",\"name\":\"Free Throws\",\"x\":[1,2,3,4,5,6],\"y\":[12.662337662337663,5.555555555555555,8.620689655172415,5.357142857142857,5.69620253164557,6.176470588235294],\"type\":\"scatter\",\"xaxis\":\"x\",\"yaxis\":\"y\"},{\"line\":{\"color\":\"#8B8000\",\"dash\":\"dot\",\"width\":2},\"mode\":\"lines\",\"showlegend\":false,\"x\":[1,2,3,4,5,6],\"y\":[8.936111621075822,8.936111621075822,8.936111621075822,8.936111621075822,8.936111621075822,8.936111621075822],\"type\":\"scatter\",\"xaxis\":\"x\",\"yaxis\":\"y\"},{\"line\":{\"color\":\"#7f7f7f\",\"shape\":\"spline\",\"width\":2},\"mode\":\"lines+markers\",\"name\":\"True Shooting\",\"showlegend\":false,\"x\":[1,2,3,4,5,6],\"y\":[58.699999999999996,61.9,56.599999999999994,57.4,60.9,64.1],\"type\":\"scatter\",\"xaxis\":\"x6\",\"yaxis\":\"y6\"},{\"line\":{\"color\":\"#7f7f7f\",\"dash\":\"dot\",\"width\":2},\"mode\":\"lines\",\"showlegend\":false,\"x\":[1,2,3,4,5,6],\"y\":[63.6,63.6,63.6,63.6,63.6,63.6],\"type\":\"scatter\",\"xaxis\":\"x6\",\"yaxis\":\"y6\"}],                        {\"template\":{\"data\":{\"histogram2dcontour\":[{\"type\":\"histogram2dcontour\",\"colorbar\":{\"outlinewidth\":0,\"ticks\":\"\"},\"colorscale\":[[0.0,\"#0d0887\"],[0.1111111111111111,\"#46039f\"],[0.2222222222222222,\"#7201a8\"],[0.3333333333333333,\"#9c179e\"],[0.4444444444444444,\"#bd3786\"],[0.5555555555555556,\"#d8576b\"],[0.6666666666666666,\"#ed7953\"],[0.7777777777777778,\"#fb9f3a\"],[0.8888888888888888,\"#fdca26\"],[1.0,\"#f0f921\"]]}],\"choropleth\":[{\"type\":\"choropleth\",\"colorbar\":{\"outlinewidth\":0,\"ticks\":\"\"}}],\"histogram2d\":[{\"type\":\"histogram2d\",\"colorbar\":{\"outlinewidth\":0,\"ticks\":\"\"},\"colorscale\":[[0.0,\"#0d0887\"],[0.1111111111111111,\"#46039f\"],[0.2222222222222222,\"#7201a8\"],[0.3333333333333333,\"#9c179e\"],[0.4444444444444444,\"#bd3786\"],[0.5555555555555556,\"#d8576b\"],[0.6666666666666666,\"#ed7953\"],[0.7777777777777778,\"#fb9f3a\"],[0.8888888888888888,\"#fdca26\"],[1.0,\"#f0f921\"]]}],\"heatmap\":[{\"type\":\"heatmap\",\"colorbar\":{\"outlinewidth\":0,\"ticks\":\"\"},\"colorscale\":[[0.0,\"#0d0887\"],[0.1111111111111111,\"#46039f\"],[0.2222222222222222,\"#7201a8\"],[0.3333333333333333,\"#9c179e\"],[0.4444444444444444,\"#bd3786\"],[0.5555555555555556,\"#d8576b\"],[0.6666666666666666,\"#ed7953\"],[0.7777777777777778,\"#fb9f3a\"],[0.8888888888888888,\"#fdca26\"],[1.0,\"#f0f921\"]]}],\"heatmapgl\":[{\"type\":\"heatmapgl\",\"colorbar\":{\"outlinewidth\":0,\"ticks\":\"\"},\"colorscale\":[[0.0,\"#0d0887\"],[0.1111111111111111,\"#46039f\"],[0.2222222222222222,\"#7201a8\"],[0.3333333333333333,\"#9c179e\"],[0.4444444444444444,\"#bd3786\"],[0.5555555555555556,\"#d8576b\"],[0.6666666666666666,\"#ed7953\"],[0.7777777777777778,\"#fb9f3a\"],[0.8888888888888888,\"#fdca26\"],[1.0,\"#f0f921\"]]}],\"contourcarpet\":[{\"type\":\"contourcarpet\",\"colorbar\":{\"outlinewidth\":0,\"ticks\":\"\"}}],\"contour\":[{\"type\":\"contour\",\"colorbar\":{\"outlinewidth\":0,\"ticks\":\"\"},\"colorscale\":[[0.0,\"#0d0887\"],[0.1111111111111111,\"#46039f\"],[0.2222222222222222,\"#7201a8\"],[0.3333333333333333,\"#9c179e\"],[0.4444444444444444,\"#bd3786\"],[0.5555555555555556,\"#d8576b\"],[0.6666666666666666,\"#ed7953\"],[0.7777777777777778,\"#fb9f3a\"],[0.8888888888888888,\"#fdca26\"],[1.0,\"#f0f921\"]]}],\"surface\":[{\"type\":\"surface\",\"colorbar\":{\"outlinewidth\":0,\"ticks\":\"\"},\"colorscale\":[[0.0,\"#0d0887\"],[0.1111111111111111,\"#46039f\"],[0.2222222222222222,\"#7201a8\"],[0.3333333333333333,\"#9c179e\"],[0.4444444444444444,\"#bd3786\"],[0.5555555555555556,\"#d8576b\"],[0.6666666666666666,\"#ed7953\"],[0.7777777777777778,\"#fb9f3a\"],[0.8888888888888888,\"#fdca26\"],[1.0,\"#f0f921\"]]}],\"mesh3d\":[{\"type\":\"mesh3d\",\"colorbar\":{\"outlinewidth\":0,\"ticks\":\"\"}}],\"scatter\":[{\"fillpattern\":{\"fillmode\":\"overlay\",\"size\":10,\"solidity\":0.2},\"type\":\"scatter\"}],\"parcoords\":[{\"type\":\"parcoords\",\"line\":{\"colorbar\":{\"outlinewidth\":0,\"ticks\":\"\"}}}],\"scatterpolargl\":[{\"type\":\"scatterpolargl\",\"marker\":{\"colorbar\":{\"outlinewidth\":0,\"ticks\":\"\"}}}],\"bar\":[{\"error_x\":{\"color\":\"#2a3f5f\"},\"error_y\":{\"color\":\"#2a3f5f\"},\"marker\":{\"line\":{\"color\":\"#E5ECF6\",\"width\":0.5},\"pattern\":{\"fillmode\":\"overlay\",\"size\":10,\"solidity\":0.2}},\"type\":\"bar\"}],\"scattergeo\":[{\"type\":\"scattergeo\",\"marker\":{\"colorbar\":{\"outlinewidth\":0,\"ticks\":\"\"}}}],\"scatterpolar\":[{\"type\":\"scatterpolar\",\"marker\":{\"colorbar\":{\"outlinewidth\":0,\"ticks\":\"\"}}}],\"histogram\":[{\"marker\":{\"pattern\":{\"fillmode\":\"overlay\",\"size\":10,\"solidity\":0.2}},\"type\":\"histogram\"}],\"scattergl\":[{\"type\":\"scattergl\",\"marker\":{\"colorbar\":{\"outlinewidth\":0,\"ticks\":\"\"}}}],\"scatter3d\":[{\"type\":\"scatter3d\",\"line\":{\"colorbar\":{\"outlinewidth\":0,\"ticks\":\"\"}},\"marker\":{\"colorbar\":{\"outlinewidth\":0,\"ticks\":\"\"}}}],\"scattermapbox\":[{\"type\":\"scattermapbox\",\"marker\":{\"colorbar\":{\"outlinewidth\":0,\"ticks\":\"\"}}}],\"scatterternary\":[{\"type\":\"scatterternary\",\"marker\":{\"colorbar\":{\"outlinewidth\":0,\"ticks\":\"\"}}}],\"scattercarpet\":[{\"type\":\"scattercarpet\",\"marker\":{\"colorbar\":{\"outlinewidth\":0,\"ticks\":\"\"}}}],\"carpet\":[{\"aaxis\":{\"endlinecolor\":\"#2a3f5f\",\"gridcolor\":\"white\",\"linecolor\":\"white\",\"minorgridcolor\":\"white\",\"startlinecolor\":\"#2a3f5f\"},\"baxis\":{\"endlinecolor\":\"#2a3f5f\",\"gridcolor\":\"white\",\"linecolor\":\"white\",\"minorgridcolor\":\"white\",\"startlinecolor\":\"#2a3f5f\"},\"type\":\"carpet\"}],\"table\":[{\"cells\":{\"fill\":{\"color\":\"#EBF0F8\"},\"line\":{\"color\":\"white\"}},\"header\":{\"fill\":{\"color\":\"#C8D4E3\"},\"line\":{\"color\":\"white\"}},\"type\":\"table\"}],\"barpolar\":[{\"marker\":{\"line\":{\"color\":\"#E5ECF6\",\"width\":0.5},\"pattern\":{\"fillmode\":\"overlay\",\"size\":10,\"solidity\":0.2}},\"type\":\"barpolar\"}],\"pie\":[{\"automargin\":true,\"type\":\"pie\"}]},\"layout\":{\"autotypenumbers\":\"strict\",\"colorway\":[\"#636efa\",\"#EF553B\",\"#00cc96\",\"#ab63fa\",\"#FFA15A\",\"#19d3f3\",\"#FF6692\",\"#B6E880\",\"#FF97FF\",\"#FECB52\"],\"font\":{\"color\":\"#2a3f5f\"},\"hovermode\":\"closest\",\"hoverlabel\":{\"align\":\"left\"},\"paper_bgcolor\":\"white\",\"plot_bgcolor\":\"#E5ECF6\",\"polar\":{\"bgcolor\":\"#E5ECF6\",\"angularaxis\":{\"gridcolor\":\"white\",\"linecolor\":\"white\",\"ticks\":\"\"},\"radialaxis\":{\"gridcolor\":\"white\",\"linecolor\":\"white\",\"ticks\":\"\"}},\"ternary\":{\"bgcolor\":\"#E5ECF6\",\"aaxis\":{\"gridcolor\":\"white\",\"linecolor\":\"white\",\"ticks\":\"\"},\"baxis\":{\"gridcolor\":\"white\",\"linecolor\":\"white\",\"ticks\":\"\"},\"caxis\":{\"gridcolor\":\"white\",\"linecolor\":\"white\",\"ticks\":\"\"}},\"coloraxis\":{\"colorbar\":{\"outlinewidth\":0,\"ticks\":\"\"}},\"colorscale\":{\"sequential\":[[0.0,\"#0d0887\"],[0.1111111111111111,\"#46039f\"],[0.2222222222222222,\"#7201a8\"],[0.3333333333333333,\"#9c179e\"],[0.4444444444444444,\"#bd3786\"],[0.5555555555555556,\"#d8576b\"],[0.6666666666666666,\"#ed7953\"],[0.7777777777777778,\"#fb9f3a\"],[0.8888888888888888,\"#fdca26\"],[1.0,\"#f0f921\"]],\"sequentialminus\":[[0.0,\"#0d0887\"],[0.1111111111111111,\"#46039f\"],[0.2222222222222222,\"#7201a8\"],[0.3333333333333333,\"#9c179e\"],[0.4444444444444444,\"#bd3786\"],[0.5555555555555556,\"#d8576b\"],[0.6666666666666666,\"#ed7953\"],[0.7777777777777778,\"#fb9f3a\"],[0.8888888888888888,\"#fdca26\"],[1.0,\"#f0f921\"]],\"diverging\":[[0,\"#8e0152\"],[0.1,\"#c51b7d\"],[0.2,\"#de77ae\"],[0.3,\"#f1b6da\"],[0.4,\"#fde0ef\"],[0.5,\"#f7f7f7\"],[0.6,\"#e6f5d0\"],[0.7,\"#b8e186\"],[0.8,\"#7fbc41\"],[0.9,\"#4d9221\"],[1,\"#276419\"]]},\"xaxis\":{\"gridcolor\":\"white\",\"linecolor\":\"white\",\"ticks\":\"\",\"title\":{\"standoff\":15},\"zerolinecolor\":\"white\",\"automargin\":true,\"zerolinewidth\":2},\"yaxis\":{\"gridcolor\":\"white\",\"linecolor\":\"white\",\"ticks\":\"\",\"title\":{\"standoff\":15},\"zerolinecolor\":\"white\",\"automargin\":true,\"zerolinewidth\":2},\"scene\":{\"xaxis\":{\"backgroundcolor\":\"#E5ECF6\",\"gridcolor\":\"white\",\"linecolor\":\"white\",\"showbackground\":true,\"ticks\":\"\",\"zerolinecolor\":\"white\",\"gridwidth\":2},\"yaxis\":{\"backgroundcolor\":\"#E5ECF6\",\"gridcolor\":\"white\",\"linecolor\":\"white\",\"showbackground\":true,\"ticks\":\"\",\"zerolinecolor\":\"white\",\"gridwidth\":2},\"zaxis\":{\"backgroundcolor\":\"#E5ECF6\",\"gridcolor\":\"white\",\"linecolor\":\"white\",\"showbackground\":true,\"ticks\":\"\",\"zerolinecolor\":\"white\",\"gridwidth\":2}},\"shapedefaults\":{\"line\":{\"color\":\"#2a3f5f\"}},\"annotationdefaults\":{\"arrowcolor\":\"#2a3f5f\",\"arrowhead\":0,\"arrowwidth\":1},\"geo\":{\"bgcolor\":\"white\",\"landcolor\":\"#E5ECF6\",\"subunitcolor\":\"white\",\"showland\":true,\"showlakes\":true,\"lakecolor\":\"white\"},\"title\":{\"x\":0.05},\"mapbox\":{\"style\":\"light\"}}},\"xaxis\":{\"anchor\":\"y\",\"domain\":[0.0,0.45],\"title\":{\"text\":\"Game Number\"},\"showgrid\":false,\"tickvals\":[1,2,3,4,5,6],\"showline\":false,\"zeroline\":false},\"yaxis\":{\"anchor\":\"x\",\"domain\":[0.7777777777777778,1.0],\"title\":{\"text\":\"Per 75\"},\"showgrid\":false,\"zeroline\":false},\"xaxis2\":{\"anchor\":\"y2\",\"domain\":[0.55,1.0],\"title\":{\"text\":\"Game Number\"},\"showgrid\":false,\"tickvals\":[1,2,3,4,5,6],\"showline\":false,\"zeroline\":false},\"yaxis2\":{\"anchor\":\"x2\",\"domain\":[0.7777777777777778,1.0],\"title\":{\"text\":\"Per 75\"},\"showgrid\":false,\"zeroline\":false},\"xaxis3\":{\"anchor\":\"y3\",\"domain\":[0.0,0.45],\"title\":{\"text\":\"Game Number\"},\"showgrid\":false,\"tickvals\":[1,2,3,4,5,6],\"showline\":false,\"zeroline\":false},\"yaxis3\":{\"anchor\":\"x3\",\"domain\":[0.3888888888888889,0.6111111111111112],\"title\":{\"text\":\"On Ball Time\"},\"showgrid\":false,\"zeroline\":false},\"xaxis4\":{\"anchor\":\"y4\",\"domain\":[0.55,1.0],\"title\":{\"text\":\"Game Number\"},\"showgrid\":false,\"tickvals\":[1,2,3,4,5,6],\"showline\":false,\"zeroline\":false},\"yaxis4\":{\"anchor\":\"x4\",\"domain\":[0.3888888888888889,0.6111111111111112],\"title\":{\"text\":\"Per 75\"},\"showgrid\":false,\"zeroline\":false},\"xaxis5\":{\"anchor\":\"y5\",\"domain\":[0.0,0.45],\"title\":{\"text\":\"Game Number\"},\"showgrid\":false,\"tickvals\":[1,2,3,4,5,6],\"showline\":false,\"zeroline\":false},\"yaxis5\":{\"anchor\":\"x5\",\"domain\":[0.0,0.22222222222222224],\"title\":{\"text\":\"Per 75\"},\"showgrid\":false,\"zeroline\":false},\"xaxis6\":{\"anchor\":\"y6\",\"domain\":[0.55,1.0],\"title\":{\"text\":\"Game Number\"},\"showgrid\":false,\"tickvals\":[1,2,3,4,5,6],\"showline\":false,\"zeroline\":false},\"yaxis6\":{\"anchor\":\"x6\",\"domain\":[0.0,0.22222222222222224],\"title\":{\"text\":\"TS%\"},\"showgrid\":false,\"zeroline\":false},\"annotations\":[{\"font\":{\"size\":16},\"showarrow\":false,\"text\":\"Type of Scoring\",\"x\":0.225,\"xanchor\":\"center\",\"xref\":\"paper\",\"y\":1.0,\"yanchor\":\"bottom\",\"yref\":\"paper\"},{\"font\":{\"size\":16},\"showarrow\":false,\"text\":\"Pullups & Catch and Shoot\",\"x\":0.775,\"xanchor\":\"center\",\"xref\":\"paper\",\"y\":1.0,\"yanchor\":\"bottom\",\"yref\":\"paper\"},{\"font\":{\"size\":16},\"showarrow\":false,\"text\":\"On Ball Time & Turnovers\",\"x\":0.225,\"xanchor\":\"center\",\"xref\":\"paper\",\"y\":0.6111111111111112,\"yanchor\":\"bottom\",\"yref\":\"paper\"},{\"font\":{\"size\":16},\"showarrow\":false,\"text\":\"Potential Assists\",\"x\":0.775,\"xanchor\":\"center\",\"xref\":\"paper\",\"y\":0.6111111111111112,\"yanchor\":\"bottom\",\"yref\":\"paper\"},{\"font\":{\"size\":16},\"showarrow\":false,\"text\":\"Scoring Rate\",\"x\":0.225,\"xanchor\":\"center\",\"xref\":\"paper\",\"y\":0.22222222222222224,\"yanchor\":\"bottom\",\"yref\":\"paper\"},{\"font\":{\"size\":16},\"showarrow\":false,\"text\":\"True Shooting\",\"x\":0.775,\"xanchor\":\"center\",\"xref\":\"paper\",\"y\":0.22222222222222224,\"yanchor\":\"bottom\",\"yref\":\"paper\"},{\"showarrow\":false,\"text\":\"lines based on rs averages*\",\"x\":1.1,\"xref\":\"paper\",\"y\":1.07,\"yref\":\"paper\"}],\"title\":{\"font\":{\"size\":22},\"text\":\"Shai Gilgeous-Alexander vs DAL 2024\",\"x\":0.5},\"font\":{\"family\":\"Malgun Gothic\",\"size\":16,\"color\":\"#ffffff\"},\"height\":1200,\"width\":1200,\"paper_bgcolor\":\"#211a1d\",\"plot_bgcolor\":\"#211a1d\"},                        {\"responsive\": true}                    ).then(function(){\n",
       "                            \n",
       "var gd = document.getElementById('d64fabaa-2a4e-4031-a04f-95bcc4ddaf7e');\n",
       "var x = new MutationObserver(function (mutations, observer) {{\n",
       "        var display = window.getComputedStyle(gd).display;\n",
       "        if (!display || display === 'none') {{\n",
       "            console.log([gd, 'removed!']);\n",
       "            Plotly.purge(gd);\n",
       "            observer.disconnect();\n",
       "        }}\n",
       "}});\n",
       "\n",
       "// Listen for the removal of the full notebook cells\n",
       "var notebookContainer = gd.closest('#notebook-container');\n",
       "if (notebookContainer) {{\n",
       "    x.observe(notebookContainer, {childList: true});\n",
       "}}\n",
       "\n",
       "// Listen for the clearing of the current output cell\n",
       "var outputEl = gd.closest('.output');\n",
       "if (outputEl) {{\n",
       "    x.observe(outputEl, {childList: true});\n",
       "}}\n",
       "\n",
       "                        })                };                });            </script>        </div>"
      ]
     },
     "metadata": {},
     "output_type": "display_data"
    }
   ],
   "source": [
    "import pandas as pd\n",
    "import plotly.graph_objects as go\n",
    "from plotly.subplots import make_subplots\n",
    "\n",
    "def convert_to_full_team_names(team_string):\n",
    "    # Dictionary mapping abbreviations to full NBA team names\n",
    "    team_map = {\n",
    "        'ATL': 'Atlanta Hawks',\n",
    "        'BOS': 'Boston Celtics',\n",
    "        'BKN': 'Brooklyn Nets',\n",
    "        'CHA': 'Charlotte Hornets',\n",
    "        'CHI': 'Chicago Bulls',\n",
    "        'CLE': 'Cleveland Cavaliers',\n",
    "        'DAL': 'Dallas Mavericks',\n",
    "        'DEN': 'Denver Nuggets',\n",
    "        'DET': 'Detroit Pistons',\n",
    "        'GSW': 'Golden State Warriors',\n",
    "        'HOU': 'Houston Rockets',\n",
    "        'IND': 'Indiana Pacers',\n",
    "        'LAC': 'Los Angeles Clippers',\n",
    "        'LAL': 'Los Angeles Lakers',\n",
    "        'MEM': 'Memphis Grizzlies',\n",
    "        'MIA': 'Miami Heat',\n",
    "        'MIL': 'Milwaukee Bucks',\n",
    "        'MIN': 'Minnesota Timberwolves',\n",
    "        'NOP': 'New Orleans Pelicans',\n",
    "        'NYK': 'New York Knicks',\n",
    "        'OKC': 'Oklahoma City Thunder',\n",
    "        'ORL': 'Orlando Magic',\n",
    "        'PHI': 'Philadelphia 76ers',\n",
    "        'PHX': 'Phoenix Suns',\n",
    "        'POR': 'Portland Trail Blazers',\n",
    "        'SAC': 'Sacramento Kings',\n",
    "        'SAS': 'San Antonio Spurs',\n",
    "        'TOR': 'Toronto Raptors',\n",
    "        'UTA': 'Utah Jazz',\n",
    "        'WAS': 'Washington Wizards'\n",
    "    }\n",
    "\n",
    "\n",
    "    # Split the input string into parts (team abbreviations and year)\n",
    "    parts = team_string.split('_')\n",
    "\n",
    "    # Extract team abbreviations (OKC, DAL) and ignore the year (2024)\n",
    "    teams = parts[:-1]\n",
    "    \n",
    "    # Get the full team names using the dictionary\n",
    "    full_team_names = [team_map.get(team, team) for team in teams]\n",
    "\n",
    "    # Underline the first team name and join the rest with <br>\n",
    "    full_team_names[0] = f\"<span style='text-decoration:underline;'>{full_team_names[0]}</span>\"\n",
    "\n",
    "    full_team_names[0]= parts[-1]+' '+ full_team_names[0]\n",
    "\n",
    "\n",
    "    full_team_names[1]= 'vs ' +full_team_names[1]\n",
    "    \n",
    "    \n",
    "    # Join the full names with <br> and return\n",
    "    return '<br>'.join(full_team_names)\n",
    "def format_data(series_data):\n",
    "    series_data['rimfga']=series_data['RA_FGA']\n",
    "    series_data['TSA']=series_data['FGA']+(series_data['FTA']*.44)\n",
    "    series_data['ft_freq']=100* series_data['FTA']/series_data['TSA']\n",
    "    series_data['rim_freq']=100* series_data['FGA_LT_5']/series_data['TSA']\n",
    "    series_data['pullup_freq']=100* series_data['PULL_UP_FGA']/series_data['TSA']\n",
    "    \n",
    "    series_data['ft_rate']=75* series_data['FTA']/series_data['POSS']\n",
    "    series_data['rim_rate']=75* series_data['FGA_LT_5']/series_data['POSS']\n",
    "    series_data['pullup_rate']=75* series_data['PULL_UP_FGA']/series_data['POSS']   \n",
    "    #series_data['open_FG3_freq']=100* series_data['open_FG3A']/series_data['TSA']\n",
    "    #series_data['tight_FG3_freq']=100* (series_data['tight_FG3A']+series_data['very_tight_FG3A'])/series_data['TSA']\n",
    "    #series_data['wide_open_FG3_freq']=100* series_data['wide_open_FG3A']/series_data['TSA']\n",
    "\n",
    "    series_data['on_ball_time']=75*series_data['TIME_OF_POSS']/series_data['POSS']\n",
    "    \n",
    "    series_data['pullup_fg%']=100* series_data['PULL_UP_FGM']/series_data['PULL_UP_FGA']\n",
    "    \n",
    "    series_data['PULL_UP_EFG'] =100* (series_data['PULL_UP_FGM'] + 0.5 * series_data['PULL_UP_FG3M']) / series_data['PULL_UP_FGA']\n",
    "    series_data['TS_PCT']*=100\n",
    "    series_data['TOV_freq']=75* series_data['TOV']/series_data['POSS']\n",
    "    series_data['score_rate']=75* series_data['PTS']/series_data['POSS']\n",
    "    series_data['pot_ast_rate']= 75* series_data['POTENTIAL_AST']/series_data['POSS']\n",
    "    \n",
    "    series_data['open_FG3%']=100* series_data['open_FG3M']/series_data['open_FG3A']\n",
    "    series_data['tight_FG3%']=100* series_data['tight_FG3M']/series_data['tight_FG3A']\n",
    "    series_data['wide_open_FG3%']=100* series_data['wide_open_FG3M']/series_data['wide_open_FG3A']\n",
    "    series_data['cs_rate']=100* series_data['CATCH_SHOOT_FGA']/series_data['POSS']   \n",
    "    return series_data\n",
    "def series_scoring(player_id,team,opp,year):\n",
    "    player_id=int(player_id)\n",
    "    file_name=team.upper()+'_'+opp.upper()+'_'+str(year)\n",
    "    url_base='https://raw.githubusercontent.com/gabriel1200/shot_data/refs/heads/master/series/'\n",
    "\n",
    "    df =pd.read_csv(url_base+'data/'+file_name+'.csv')\n",
    "\n",
    "    avg=pd.read_csv(url_base+str(year)+'_avg.csv')\n",
    "\n",
    "\n",
    "    \n",
    "    series_data=df[df['PLAYER_ID']==player_id].reset_index(drop=True)\n",
    "\n",
    "    avg_data= avg[avg['PLAYER_ID']==player_id].reset_index(drop=True)\n",
    "    name = series_data['PLAYER_NAME'].iloc[0]\n",
    "    \n",
    "    series_data['game_number']=[i for i in range(1, len(series_data)+1)]\n",
    "    series_data=format_data(series_data)\n",
    "    avg_data=format_data(avg_data)\n",
    "    \n",
    "\n",
    "    \n",
    "    fig = make_subplots(rows=3, cols=2, subplot_titles=(\n",
    "            \"Rim & FT Attempts\",\n",
    "            \"Pullups & Catch and Shoot\",\n",
    "        \"On Ball Time & Turnovers\",\n",
    "\n",
    "        \"Potential Assists\",\n",
    "            \"Scoring Rate\",\n",
    "        \"True Shooting\"\n",
    "    ))\n",
    "    \n",
    "        # 1. Line Chart for Wide Open Three Point Shots (Time of Possession)\n",
    "    # 1. Line Chart for Wide Open Three Point Shots (Time of Possession)\n",
    "    fig.add_trace(\n",
    "        go.Scatter(x=series_data['game_number'], y=series_data['on_ball_time'], showlegend=False,\n",
    "                   mode='lines+markers', name='Time of Possession', line=dict(shape='spline', width=2, color='#1f77b4')),\n",
    "        row=2, col=1\n",
    "    )\n",
    "    # Horizontal line for the average of Time of Possession (same color, no legend)\n",
    "    fig.add_trace(\n",
    "        go.Scatter(x=series_data['game_number'], y=[avg_data['on_ball_time'].mean()] * len(series_data['game_number']),\n",
    "                   mode='lines', showlegend=False, line=dict(dash='dot', width=2, color='#1f77b4')),\n",
    "        row=2, col=1\n",
    "    )\n",
    "    fig.add_trace(\n",
    "        go.Bar(x=series_data['game_number'], y=series_data['TOV_freq'], name='Turnovers',marker_color='#2ca02c', showlegend=False),\n",
    "        row=2, col=1\n",
    "    )\n",
    "    # Horizontal line for the average of Turnovers (same color, no legend)\n",
    "    fig.add_trace(\n",
    "        go.Scatter(x=series_data['game_number'], y=[avg_data['TOV_freq'].mean()] * len(series_data['game_number']),\n",
    "                   mode='lines', showlegend=False, line=dict(dash='dot', width=2, color='#2ca02c')),\n",
    "        row=2, col=1\n",
    "    )\n",
    "    \n",
    "    # 2. Points (Score Rate)\n",
    "    fig.add_trace(\n",
    "        go.Scatter(x=series_data['game_number'], y=series_data['score_rate'], showlegend=False,\n",
    "                   mode='lines+markers', name='Points', line=dict(shape='spline', width=2, color='#ff7f0e')),\n",
    "        row=3, col=1\n",
    "    )\n",
    "    # Horizontal line for the average of Points (same color, no legend)\n",
    "    fig.add_trace(\n",
    "        go.Scatter(x=series_data['game_number'], y=[avg_data['score_rate'].mean()] * len(series_data['game_number']),\n",
    "                   mode='lines', showlegend=False, line=dict(dash='dot', width=2, color='#ff7f0e')),\n",
    "        row=3, col=1\n",
    "    )\n",
    "    \n",
    "    # 3. Turnovers (TOV_freq)\n",
    "\n",
    "    # 4. Potential Assists (pot_ast_rate)\n",
    "    fig.add_trace(\n",
    "        go.Bar(x=series_data['game_number'], y=series_data['pot_ast_rate'], name='Potential Assists', showlegend=False),\n",
    "        row=2, col=2\n",
    "    )\n",
    "    # Horizontal line for the average of Potential Assists (same color, no legend)\n",
    "    fig.add_trace(\n",
    "        go.Scatter(x=series_data['game_number'], y=[avg_data['pot_ast_rate'].mean()] * len(series_data['game_number']),\n",
    "                   mode='lines', showlegend=False, line=dict(dash='dot', width=2, color='#d62728')),\n",
    "        row=2, col=2\n",
    "    )\n",
    "    \n",
    "    # 5. Pullups (pullup_rate)\n",
    "    fig.add_trace(\n",
    "        go.Scatter(x=series_data['game_number'], y=series_data['pullup_rate'],\n",
    "                   mode='lines+markers', name='Pullups', line=dict(shape='spline', width=2, color='#8B0000')),\n",
    "        row=1, col=2\n",
    "    )\n",
    "    # Horizontal line for the average of Pullups (same color, no legend)\n",
    "    fig.add_trace(\n",
    "        go.Scatter(x=series_data['game_number'], y=[avg_data['pullup_rate'].mean()] * len(series_data['game_number']),\n",
    "                   mode='lines', showlegend=False, line=dict(dash='dot', width=2, color='#8B0000')),\n",
    "        row=1, col=2\n",
    "    )\n",
    "\n",
    "    fig.add_trace(\n",
    "        go.Scatter(x=series_data['game_number'], y=series_data['cs_rate'],\n",
    "                   mode='lines+markers', name='Catch & Shoot', line=dict(shape='spline', width=2, color='#ffffff')),\n",
    "        row=1, col=2\n",
    "    )\n",
    "    # Horizontal line for the average of Pullups (same color, no legend)\n",
    "    fig.add_trace(\n",
    "        go.Scatter(x=series_data['game_number'], y=[avg_data['cs_rate'].mean()] * len(series_data['game_number']),\n",
    "                   mode='lines', showlegend=False, line=dict(dash='dot', width=2, color='#ffffff')),\n",
    "        row=1, col=2\n",
    "    )\n",
    "    \n",
    "    \n",
    "    # 6. Rim Attempts (rim_rate)\n",
    "    fig.add_trace(\n",
    "        go.Scatter(x=series_data['game_number'], y=series_data['rim_rate'],\n",
    "                   mode='lines', name='Rim Attempts', line=dict(shape='spline', width=2, color='#4B006E')),\n",
    "        row=1, col=1\n",
    "    )\n",
    "    # Horizontal line for the average of Rim Attempts (same color, no legend)\n",
    "    fig.add_trace(\n",
    "        go.Scatter(x=series_data['game_number'], y=[avg_data['rim_rate'].mean()] * len(series_data['game_number']),\n",
    "                   mode='lines', showlegend=False, line=dict(dash='dot', width=2, color='#4B006E')),\n",
    "        row=1, col=1\n",
    "    )\n",
    "    \n",
    "    # 7. Free Throws (ft_rate)\n",
    "    fig.add_trace(\n",
    "        go.Scatter(x=series_data['game_number'], y=series_data['ft_rate'],\n",
    "                   mode='lines', name='Free Throws', line=dict(shape='spline', width=2, color='#8B8000')),\n",
    "        row=1, col=1\n",
    "    )\n",
    "    # Horizontal line for the average of Free Throws (same color, no legend)\n",
    "    fig.add_trace(\n",
    "        go.Scatter(x=series_data['game_number'], y=[avg_data['ft_rate'].mean()] * len(series_data['game_number']),\n",
    "                   mode='lines', showlegend=False, line=dict(dash='dot', width=2, color='#8B8000')),\n",
    "        row=1, col=1\n",
    "    )\n",
    "    \n",
    "    # 8. True Shooting (TS_PCT)\n",
    "    fig.add_trace(\n",
    "        go.Scatter(x=series_data['game_number'], y=series_data['TS_PCT'], showlegend=False,\n",
    "                   mode='lines+markers', name='True Shooting', line=dict(shape='spline', width=2, color='#7f7f7f')),\n",
    "        row=3, col=2\n",
    "    )\n",
    "    # Horizontal line for the average of True Shooting (same color, no legend)f\n",
    "    fig.add_trace(\n",
    "        go.Scatter(x=series_data['game_number'], y=[avg_data['TS_PCT'].mean()] * len(series_data['game_number']),\n",
    "                   mode='lines', showlegend=False, line=dict(dash='dot', width=2, color='#7f7f7f')),\n",
    "        row=3, col=2\n",
    "    )\n",
    "\n",
    "    \n",
    "    # Update layout\n",
    "    fig.update_layout(height=1200, width=1200, title_text=name+ ' vs '+opp.upper() + ' '+str(year),title_x=.5,title_font_size=22,\n",
    "                      paper_bgcolor='#211a1d',plot_bgcolor='#211a1d', font=dict(\n",
    "                family=\"Malgun Gothic\",\n",
    "                          size=16,\n",
    "                color=\"#ffffff\"\n",
    "                ))\n",
    "    tickvals=[i for i in range(1,series_data['game_number'].max()+1)]\n",
    "    fig.update_yaxes(title_text=\"On Ball Time\",row=2,col=1,showgrid=False)\n",
    "    fig.update_yaxes(title_text=\"Per 75\",row=1,col=1,showgrid=False)\n",
    "    \n",
    "    fig.update_yaxes(title_text=\"TS%\",row=3,col=2,showgrid=False)\n",
    "    \n",
    "    fig.update_yaxes(title_text=\"Per 75\",row=3,col=1,showgrid=False)\n",
    "    \n",
    "    fig.update_yaxes(title_text=\"Per 75\",row=1,col=2,showgrid=False)\n",
    "    \n",
    "    fig.update_annotations(font_size=16)\n",
    "    fig.update_yaxes(title_text=\"Per 75\",row=2,col=2,showgrid=False)\n",
    "    fig.update_xaxes(title_text=\"Game Number\",showgrid=False,tickvals=tickvals,showline=False,zeroline=False)\n",
    "    fig.update_yaxes(zeroline=False)\n",
    "    fig.add_annotation(text=\"lines based on rs averages*\",\n",
    "                       \n",
    "                      xref=\"paper\", yref=\"paper\",\n",
    "                      x=1.1, y=1.07, showarrow=False)\n",
    "    # Show the plot\n",
    "    return fig\n",
    "fig=series_scoring(1628983,'okc','dal',2024)\n",
    "fig.show()"
   ]
  },
  {
   "cell_type": "code",
   "execution_count": null,
   "id": "34d24f60-adb2-4694-ab9e-5f39fbfa2622",
   "metadata": {},
   "outputs": [],
   "source": []
  }
 ],
 "metadata": {
  "kernelspec": {
   "display_name": "Python 3 (ipykernel)",
   "language": "python",
   "name": "python3"
  },
  "language_info": {
   "codemirror_mode": {
    "name": "ipython",
    "version": 3
   },
   "file_extension": ".py",
   "mimetype": "text/x-python",
   "name": "python",
   "nbconvert_exporter": "python",
   "pygments_lexer": "ipython3",
   "version": "3.10.12"
  }
 },
 "nbformat": 4,
 "nbformat_minor": 5
}
