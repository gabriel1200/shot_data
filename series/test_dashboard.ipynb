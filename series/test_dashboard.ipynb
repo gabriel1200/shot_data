{
 "cells": [
  {
   "cell_type": "code",
   "execution_count": 61,
   "id": "14ee3773-7616-4c62-95fc-fd6e5588bdfc",
   "metadata": {},
   "outputs": [],
   "source": [
    "import pandas as pd\n",
    "import plotly.graph_objects as go\n",
    "from plotly.subplots import make_subplots\n",
    "\n"
   ]
  },
  {
   "cell_type": "code",
   "execution_count": 112,
   "id": "202bcaf0-fb52-446e-b529-9b481b88e42a",
   "metadata": {},
   "outputs": [
    {
     "data": {
      "application/vnd.plotly.v1+json": {
       "config": {
        "plotlyServerURL": "https://plot.ly"
       },
       "data": [
        {
         "line": {
          "color": "#1f77b4",
          "shape": "spline",
          "width": 2
         },
         "mode": "lines+markers",
         "name": "Wide Open Threes",
         "type": "scatter",
         "x": [
          1,
          2,
          3,
          4,
          5,
          6
         ],
         "xaxis": "x3",
         "y": [
          17.76549545992894,
          16.58374792703151,
          19.024171888988363,
          11.700468018720748,
          19.693654266958422,
          27.141133896260556
         ],
         "yaxis": "y3"
        },
        {
         "legendgroup": "threes",
         "line": {
          "color": "#ff7f0e",
          "shape": "spline",
          "width": 2
         },
         "mode": "lines+markers",
         "name": "Open Threes",
         "type": "scatter",
         "x": [
          1,
          2,
          3,
          4,
          5,
          6
         ],
         "xaxis": "x3",
         "y": [
          12.83063560994868,
          13.4742951907131,
          13.42882721575649,
          13.650546021840873,
          22.97592997811816,
          12.062726176115802
         ],
         "yaxis": "y3"
        },
        {
         "legendgroup": "threes",
         "line": {
          "color": "#2ca02c",
          "shape": "spline",
          "width": 2
         },
         "mode": "lines+markers",
         "name": "Tight Threes",
         "type": "scatter",
         "x": [
          1,
          2,
          3,
          4,
          5,
          6
         ],
         "xaxis": "x3",
         "y": [
          3.9478878799842088,
          1.0364842454394694,
          1.1190689346463742,
          0.9750390015600624,
          1.0940919037199124,
          2.010454362685967
         ],
         "yaxis": "y3"
        },
        {
         "line": {
          "color": "#1f77b4",
          "shape": "spline",
          "width": 2
         },
         "mode": "lines+markers",
         "name": "Wide Open %",
         "showlegend": false,
         "type": "scatter",
         "x": [
          1,
          2,
          3,
          4,
          5,
          6
         ],
         "xaxis": "x5",
         "y": [
          50,
          50,
          35.294117647058826,
          41.666666666666664,
          33.333333333333336,
          37.03703703703704
         ],
         "yaxis": "y5"
        },
        {
         "line": {
          "color": "#ff7f0e",
          "shape": "spline",
          "width": 2
         },
         "mode": "lines+markers",
         "name": "Open %",
         "showlegend": false,
         "type": "scatter",
         "x": [
          1,
          2,
          3,
          4,
          5,
          6
         ],
         "xaxis": "x5",
         "y": [
          46.15384615384615,
          15.384615384615385,
          33.333333333333336,
          14.285714285714286,
          19.047619047619047,
          41.666666666666664
         ],
         "yaxis": "y5"
        },
        {
         "line": {
          "color": "#2ca02c",
          "shape": "spline",
          "width": 2
         },
         "mode": "lines+markers",
         "name": "Tight %",
         "showlegend": false,
         "type": "scatter",
         "x": [
          1,
          2,
          3,
          4,
          5,
          6
         ],
         "xaxis": "x5",
         "y": [
          33.333333333333336,
          0,
          0,
          0,
          0,
          0
         ],
         "yaxis": "y5"
        },
        {
         "name": "Turnovers",
         "showlegend": false,
         "type": "bar",
         "x": [
          1,
          2,
          3,
          4,
          5,
          6
         ],
         "xaxis": "x2",
         "y": [
          9,
          10,
          13,
          7,
          6,
          8
         ],
         "yaxis": "y2"
        },
        {
         "line": {
          "shape": "spline",
          "width": 2
         },
         "mode": "lines+markers",
         "name": "Pullups",
         "showlegend": false,
         "type": "scatter",
         "x": [
          1,
          2,
          3,
          4,
          5,
          6
         ],
         "xaxis": "x",
         "y": [
          26.64824318989341,
          25.912106135986733,
          34.6911369740376,
          38.026521060842434,
          25.164113785557987,
          29.15158825894652
         ],
         "yaxis": "y"
        },
        {
         "line": {
          "shape": "spline",
          "width": 2
         },
         "mode": "lines+markers",
         "name": "Pullups",
         "showlegend": false,
         "type": "scatter",
         "x": [
          1,
          2,
          3,
          4,
          5,
          6
         ],
         "xaxis": "x6",
         "y": [
          50,
          54,
          46.774193548387096,
          48.717948717948715,
          36.95652173913044,
          56.89655172413793
         ],
         "yaxis": "y6"
        },
        {
         "line": {
          "shape": "spline",
          "width": 2
         },
         "mode": "lines",
         "name": "Free Throws",
         "type": "scatter",
         "x": [
          1,
          2,
          3,
          4,
          5,
          6
         ],
         "xaxis": "x4",
         "y": [
          27.635215159889462,
          17.620232172470978,
          21.26230975828111,
          23.400936037441497,
          10.940919037199125,
          17.08886208283072
         ],
         "yaxis": "y4"
        },
        {
         "line": {
          "shape": "spline",
          "width": 2
         },
         "mode": "lines",
         "name": "Rim Attempts",
         "type": "scatter",
         "x": [
          1,
          2,
          3,
          4,
          5,
          6
         ],
         "xaxis": "x4",
         "y": [
          27.635215159889462,
          32.131011608623545,
          16.786034019695613,
          16.57566302652106,
          22.97592997811816,
          21.109770808202654
         ],
         "yaxis": "y4"
        }
       ],
       "layout": {
        "annotations": [
         {
          "font": {
           "size": 16
          },
          "showarrow": false,
          "text": "Pullups",
          "x": 0.225,
          "xanchor": "center",
          "xref": "paper",
          "y": 1,
          "yanchor": "bottom",
          "yref": "paper"
         },
         {
          "font": {
           "size": 16
          },
          "showarrow": false,
          "text": "Turnovers",
          "x": 0.775,
          "xanchor": "center",
          "xref": "paper",
          "y": 1,
          "yanchor": "bottom",
          "yref": "paper"
         },
         {
          "font": {
           "size": 16
          },
          "showarrow": false,
          "text": "Three Point Quality",
          "x": 0.225,
          "xanchor": "center",
          "xref": "paper",
          "y": 0.6111111111111112,
          "yanchor": "bottom",
          "yref": "paper"
         },
         {
          "font": {
           "size": 16
          },
          "showarrow": false,
          "text": "Rim & FT Frequency",
          "x": 0.775,
          "xanchor": "center",
          "xref": "paper",
          "y": 0.6111111111111112,
          "yanchor": "bottom",
          "yref": "paper"
         },
         {
          "font": {
           "size": 16
          },
          "showarrow": false,
          "text": "Three Point %",
          "x": 0.225,
          "xanchor": "center",
          "xref": "paper",
          "y": 0.22222222222222224,
          "yanchor": "bottom",
          "yref": "paper"
         },
         {
          "font": {
           "size": 16
          },
          "showarrow": false,
          "text": "Pull Up %",
          "x": 0.775,
          "xanchor": "center",
          "xref": "paper",
          "y": 0.22222222222222224,
          "yanchor": "bottom",
          "yref": "paper"
         }
        ],
        "font": {
         "color": "#ffffff",
         "family": "Malgun Gothic",
         "size": 16
        },
        "height": 1200,
        "paper_bgcolor": "#211a1d",
        "plot_bgcolor": "#211a1d",
        "template": {
         "data": {
          "bar": [
           {
            "error_x": {
             "color": "#2a3f5f"
            },
            "error_y": {
             "color": "#2a3f5f"
            },
            "marker": {
             "line": {
              "color": "#E5ECF6",
              "width": 0.5
             },
             "pattern": {
              "fillmode": "overlay",
              "size": 10,
              "solidity": 0.2
             }
            },
            "type": "bar"
           }
          ],
          "barpolar": [
           {
            "marker": {
             "line": {
              "color": "#E5ECF6",
              "width": 0.5
             },
             "pattern": {
              "fillmode": "overlay",
              "size": 10,
              "solidity": 0.2
             }
            },
            "type": "barpolar"
           }
          ],
          "carpet": [
           {
            "aaxis": {
             "endlinecolor": "#2a3f5f",
             "gridcolor": "white",
             "linecolor": "white",
             "minorgridcolor": "white",
             "startlinecolor": "#2a3f5f"
            },
            "baxis": {
             "endlinecolor": "#2a3f5f",
             "gridcolor": "white",
             "linecolor": "white",
             "minorgridcolor": "white",
             "startlinecolor": "#2a3f5f"
            },
            "type": "carpet"
           }
          ],
          "choropleth": [
           {
            "colorbar": {
             "outlinewidth": 0,
             "ticks": ""
            },
            "type": "choropleth"
           }
          ],
          "contour": [
           {
            "colorbar": {
             "outlinewidth": 0,
             "ticks": ""
            },
            "colorscale": [
             [
              0,
              "#0d0887"
             ],
             [
              0.1111111111111111,
              "#46039f"
             ],
             [
              0.2222222222222222,
              "#7201a8"
             ],
             [
              0.3333333333333333,
              "#9c179e"
             ],
             [
              0.4444444444444444,
              "#bd3786"
             ],
             [
              0.5555555555555556,
              "#d8576b"
             ],
             [
              0.6666666666666666,
              "#ed7953"
             ],
             [
              0.7777777777777778,
              "#fb9f3a"
             ],
             [
              0.8888888888888888,
              "#fdca26"
             ],
             [
              1,
              "#f0f921"
             ]
            ],
            "type": "contour"
           }
          ],
          "contourcarpet": [
           {
            "colorbar": {
             "outlinewidth": 0,
             "ticks": ""
            },
            "type": "contourcarpet"
           }
          ],
          "heatmap": [
           {
            "colorbar": {
             "outlinewidth": 0,
             "ticks": ""
            },
            "colorscale": [
             [
              0,
              "#0d0887"
             ],
             [
              0.1111111111111111,
              "#46039f"
             ],
             [
              0.2222222222222222,
              "#7201a8"
             ],
             [
              0.3333333333333333,
              "#9c179e"
             ],
             [
              0.4444444444444444,
              "#bd3786"
             ],
             [
              0.5555555555555556,
              "#d8576b"
             ],
             [
              0.6666666666666666,
              "#ed7953"
             ],
             [
              0.7777777777777778,
              "#fb9f3a"
             ],
             [
              0.8888888888888888,
              "#fdca26"
             ],
             [
              1,
              "#f0f921"
             ]
            ],
            "type": "heatmap"
           }
          ],
          "heatmapgl": [
           {
            "colorbar": {
             "outlinewidth": 0,
             "ticks": ""
            },
            "colorscale": [
             [
              0,
              "#0d0887"
             ],
             [
              0.1111111111111111,
              "#46039f"
             ],
             [
              0.2222222222222222,
              "#7201a8"
             ],
             [
              0.3333333333333333,
              "#9c179e"
             ],
             [
              0.4444444444444444,
              "#bd3786"
             ],
             [
              0.5555555555555556,
              "#d8576b"
             ],
             [
              0.6666666666666666,
              "#ed7953"
             ],
             [
              0.7777777777777778,
              "#fb9f3a"
             ],
             [
              0.8888888888888888,
              "#fdca26"
             ],
             [
              1,
              "#f0f921"
             ]
            ],
            "type": "heatmapgl"
           }
          ],
          "histogram": [
           {
            "marker": {
             "pattern": {
              "fillmode": "overlay",
              "size": 10,
              "solidity": 0.2
             }
            },
            "type": "histogram"
           }
          ],
          "histogram2d": [
           {
            "colorbar": {
             "outlinewidth": 0,
             "ticks": ""
            },
            "colorscale": [
             [
              0,
              "#0d0887"
             ],
             [
              0.1111111111111111,
              "#46039f"
             ],
             [
              0.2222222222222222,
              "#7201a8"
             ],
             [
              0.3333333333333333,
              "#9c179e"
             ],
             [
              0.4444444444444444,
              "#bd3786"
             ],
             [
              0.5555555555555556,
              "#d8576b"
             ],
             [
              0.6666666666666666,
              "#ed7953"
             ],
             [
              0.7777777777777778,
              "#fb9f3a"
             ],
             [
              0.8888888888888888,
              "#fdca26"
             ],
             [
              1,
              "#f0f921"
             ]
            ],
            "type": "histogram2d"
           }
          ],
          "histogram2dcontour": [
           {
            "colorbar": {
             "outlinewidth": 0,
             "ticks": ""
            },
            "colorscale": [
             [
              0,
              "#0d0887"
             ],
             [
              0.1111111111111111,
              "#46039f"
             ],
             [
              0.2222222222222222,
              "#7201a8"
             ],
             [
              0.3333333333333333,
              "#9c179e"
             ],
             [
              0.4444444444444444,
              "#bd3786"
             ],
             [
              0.5555555555555556,
              "#d8576b"
             ],
             [
              0.6666666666666666,
              "#ed7953"
             ],
             [
              0.7777777777777778,
              "#fb9f3a"
             ],
             [
              0.8888888888888888,
              "#fdca26"
             ],
             [
              1,
              "#f0f921"
             ]
            ],
            "type": "histogram2dcontour"
           }
          ],
          "mesh3d": [
           {
            "colorbar": {
             "outlinewidth": 0,
             "ticks": ""
            },
            "type": "mesh3d"
           }
          ],
          "parcoords": [
           {
            "line": {
             "colorbar": {
              "outlinewidth": 0,
              "ticks": ""
             }
            },
            "type": "parcoords"
           }
          ],
          "pie": [
           {
            "automargin": true,
            "type": "pie"
           }
          ],
          "scatter": [
           {
            "fillpattern": {
             "fillmode": "overlay",
             "size": 10,
             "solidity": 0.2
            },
            "type": "scatter"
           }
          ],
          "scatter3d": [
           {
            "line": {
             "colorbar": {
              "outlinewidth": 0,
              "ticks": ""
             }
            },
            "marker": {
             "colorbar": {
              "outlinewidth": 0,
              "ticks": ""
             }
            },
            "type": "scatter3d"
           }
          ],
          "scattercarpet": [
           {
            "marker": {
             "colorbar": {
              "outlinewidth": 0,
              "ticks": ""
             }
            },
            "type": "scattercarpet"
           }
          ],
          "scattergeo": [
           {
            "marker": {
             "colorbar": {
              "outlinewidth": 0,
              "ticks": ""
             }
            },
            "type": "scattergeo"
           }
          ],
          "scattergl": [
           {
            "marker": {
             "colorbar": {
              "outlinewidth": 0,
              "ticks": ""
             }
            },
            "type": "scattergl"
           }
          ],
          "scattermapbox": [
           {
            "marker": {
             "colorbar": {
              "outlinewidth": 0,
              "ticks": ""
             }
            },
            "type": "scattermapbox"
           }
          ],
          "scatterpolar": [
           {
            "marker": {
             "colorbar": {
              "outlinewidth": 0,
              "ticks": ""
             }
            },
            "type": "scatterpolar"
           }
          ],
          "scatterpolargl": [
           {
            "marker": {
             "colorbar": {
              "outlinewidth": 0,
              "ticks": ""
             }
            },
            "type": "scatterpolargl"
           }
          ],
          "scatterternary": [
           {
            "marker": {
             "colorbar": {
              "outlinewidth": 0,
              "ticks": ""
             }
            },
            "type": "scatterternary"
           }
          ],
          "surface": [
           {
            "colorbar": {
             "outlinewidth": 0,
             "ticks": ""
            },
            "colorscale": [
             [
              0,
              "#0d0887"
             ],
             [
              0.1111111111111111,
              "#46039f"
             ],
             [
              0.2222222222222222,
              "#7201a8"
             ],
             [
              0.3333333333333333,
              "#9c179e"
             ],
             [
              0.4444444444444444,
              "#bd3786"
             ],
             [
              0.5555555555555556,
              "#d8576b"
             ],
             [
              0.6666666666666666,
              "#ed7953"
             ],
             [
              0.7777777777777778,
              "#fb9f3a"
             ],
             [
              0.8888888888888888,
              "#fdca26"
             ],
             [
              1,
              "#f0f921"
             ]
            ],
            "type": "surface"
           }
          ],
          "table": [
           {
            "cells": {
             "fill": {
              "color": "#EBF0F8"
             },
             "line": {
              "color": "white"
             }
            },
            "header": {
             "fill": {
              "color": "#C8D4E3"
             },
             "line": {
              "color": "white"
             }
            },
            "type": "table"
           }
          ]
         },
         "layout": {
          "annotationdefaults": {
           "arrowcolor": "#2a3f5f",
           "arrowhead": 0,
           "arrowwidth": 1
          },
          "autotypenumbers": "strict",
          "coloraxis": {
           "colorbar": {
            "outlinewidth": 0,
            "ticks": ""
           }
          },
          "colorscale": {
           "diverging": [
            [
             0,
             "#8e0152"
            ],
            [
             0.1,
             "#c51b7d"
            ],
            [
             0.2,
             "#de77ae"
            ],
            [
             0.3,
             "#f1b6da"
            ],
            [
             0.4,
             "#fde0ef"
            ],
            [
             0.5,
             "#f7f7f7"
            ],
            [
             0.6,
             "#e6f5d0"
            ],
            [
             0.7,
             "#b8e186"
            ],
            [
             0.8,
             "#7fbc41"
            ],
            [
             0.9,
             "#4d9221"
            ],
            [
             1,
             "#276419"
            ]
           ],
           "sequential": [
            [
             0,
             "#0d0887"
            ],
            [
             0.1111111111111111,
             "#46039f"
            ],
            [
             0.2222222222222222,
             "#7201a8"
            ],
            [
             0.3333333333333333,
             "#9c179e"
            ],
            [
             0.4444444444444444,
             "#bd3786"
            ],
            [
             0.5555555555555556,
             "#d8576b"
            ],
            [
             0.6666666666666666,
             "#ed7953"
            ],
            [
             0.7777777777777778,
             "#fb9f3a"
            ],
            [
             0.8888888888888888,
             "#fdca26"
            ],
            [
             1,
             "#f0f921"
            ]
           ],
           "sequentialminus": [
            [
             0,
             "#0d0887"
            ],
            [
             0.1111111111111111,
             "#46039f"
            ],
            [
             0.2222222222222222,
             "#7201a8"
            ],
            [
             0.3333333333333333,
             "#9c179e"
            ],
            [
             0.4444444444444444,
             "#bd3786"
            ],
            [
             0.5555555555555556,
             "#d8576b"
            ],
            [
             0.6666666666666666,
             "#ed7953"
            ],
            [
             0.7777777777777778,
             "#fb9f3a"
            ],
            [
             0.8888888888888888,
             "#fdca26"
            ],
            [
             1,
             "#f0f921"
            ]
           ]
          },
          "colorway": [
           "#636efa",
           "#EF553B",
           "#00cc96",
           "#ab63fa",
           "#FFA15A",
           "#19d3f3",
           "#FF6692",
           "#B6E880",
           "#FF97FF",
           "#FECB52"
          ],
          "font": {
           "color": "#2a3f5f"
          },
          "geo": {
           "bgcolor": "white",
           "lakecolor": "white",
           "landcolor": "#E5ECF6",
           "showlakes": true,
           "showland": true,
           "subunitcolor": "white"
          },
          "hoverlabel": {
           "align": "left"
          },
          "hovermode": "closest",
          "mapbox": {
           "style": "light"
          },
          "paper_bgcolor": "white",
          "plot_bgcolor": "#E5ECF6",
          "polar": {
           "angularaxis": {
            "gridcolor": "white",
            "linecolor": "white",
            "ticks": ""
           },
           "bgcolor": "#E5ECF6",
           "radialaxis": {
            "gridcolor": "white",
            "linecolor": "white",
            "ticks": ""
           }
          },
          "scene": {
           "xaxis": {
            "backgroundcolor": "#E5ECF6",
            "gridcolor": "white",
            "gridwidth": 2,
            "linecolor": "white",
            "showbackground": true,
            "ticks": "",
            "zerolinecolor": "white"
           },
           "yaxis": {
            "backgroundcolor": "#E5ECF6",
            "gridcolor": "white",
            "gridwidth": 2,
            "linecolor": "white",
            "showbackground": true,
            "ticks": "",
            "zerolinecolor": "white"
           },
           "zaxis": {
            "backgroundcolor": "#E5ECF6",
            "gridcolor": "white",
            "gridwidth": 2,
            "linecolor": "white",
            "showbackground": true,
            "ticks": "",
            "zerolinecolor": "white"
           }
          },
          "shapedefaults": {
           "line": {
            "color": "#2a3f5f"
           }
          },
          "ternary": {
           "aaxis": {
            "gridcolor": "white",
            "linecolor": "white",
            "ticks": ""
           },
           "baxis": {
            "gridcolor": "white",
            "linecolor": "white",
            "ticks": ""
           },
           "bgcolor": "#E5ECF6",
           "caxis": {
            "gridcolor": "white",
            "linecolor": "white",
            "ticks": ""
           }
          },
          "title": {
           "x": 0.05
          },
          "xaxis": {
           "automargin": true,
           "gridcolor": "white",
           "linecolor": "white",
           "ticks": "",
           "title": {
            "standoff": 15
           },
           "zerolinecolor": "white",
           "zerolinewidth": 2
          },
          "yaxis": {
           "automargin": true,
           "gridcolor": "white",
           "linecolor": "white",
           "ticks": "",
           "title": {
            "standoff": 15
           },
           "zerolinecolor": "white",
           "zerolinewidth": 2
          }
         }
        },
        "title": {
         "font": {
          "size": 22
         },
         "text": "2024 <span style='text-decoration:underline;'>Oklahoma City Thunder</span><br>vs Dallas Mavericks",
         "x": 0.5
        },
        "width": 1200,
        "xaxis": {
         "anchor": "y",
         "autorange": true,
         "domain": [
          0,
          0.45
         ],
         "range": [
          0.6643253157697278,
          6.3356746842302725
         ],
         "showgrid": false,
         "showline": false,
         "tickvals": [
          1,
          2,
          3,
          4,
          5,
          6
         ],
         "title": {
          "text": "Game Number"
         },
         "type": "linear",
         "zeroline": false
        },
        "xaxis2": {
         "anchor": "y2",
         "autorange": true,
         "domain": [
          0.55,
          1
         ],
         "range": [
          0.5,
          6.5
         ],
         "showgrid": false,
         "showline": false,
         "tickvals": [
          1,
          2,
          3,
          4,
          5,
          6
         ],
         "title": {
          "text": "Game Number"
         },
         "type": "linear",
         "zeroline": false
        },
        "xaxis3": {
         "anchor": "y3",
         "autorange": true,
         "domain": [
          0,
          0.45
         ],
         "range": [
          0.6643253157697278,
          6.3356746842302725
         ],
         "showgrid": false,
         "showline": false,
         "tickvals": [
          1,
          2,
          3,
          4,
          5,
          6
         ],
         "title": {
          "text": "Game Number"
         },
         "type": "linear",
         "zeroline": false
        },
        "xaxis4": {
         "anchor": "y4",
         "autorange": true,
         "domain": [
          0.55,
          1
         ],
         "range": [
          1,
          6
         ],
         "showgrid": false,
         "showline": false,
         "tickvals": [
          1,
          2,
          3,
          4,
          5,
          6
         ],
         "title": {
          "text": "Game Number"
         },
         "type": "linear",
         "zeroline": false
        },
        "xaxis5": {
         "anchor": "y5",
         "autorange": true,
         "domain": [
          0,
          0.45
         ],
         "range": [
          0.6643253157697278,
          6.3356746842302725
         ],
         "showgrid": false,
         "showline": false,
         "tickvals": [
          1,
          2,
          3,
          4,
          5,
          6
         ],
         "title": {
          "text": "Game Number"
         },
         "type": "linear",
         "zeroline": false
        },
        "xaxis6": {
         "anchor": "y6",
         "autorange": true,
         "domain": [
          0.55,
          1
         ],
         "range": [
          0.6643253157697278,
          6.3356746842302725
         ],
         "showgrid": false,
         "showline": false,
         "tickvals": [
          1,
          2,
          3,
          4,
          5,
          6
         ],
         "title": {
          "text": "Game Number"
         },
         "type": "linear",
         "zeroline": false
        },
        "yaxis": {
         "anchor": "x",
         "autorange": true,
         "domain": [
          0.7777777777777778,
          1
         ],
         "range": [
          24.176795839490776,
          39.01383900690965
         ],
         "showgrid": false,
         "title": {
          "text": "% of TSA"
         },
         "type": "linear",
         "zeroline": false
        },
        "yaxis2": {
         "anchor": "x2",
         "autorange": true,
         "domain": [
          0.7777777777777778,
          1
         ],
         "range": [
          0,
          13.68421052631579
         ],
         "showgrid": false,
         "title": {
          "text": "Per Game"
         },
         "type": "linear",
         "zeroline": false
        },
        "yaxis3": {
         "anchor": "x3",
         "autorange": true,
         "domain": [
          0.3888888888888889,
          0.6111111111111112
         ],
         "range": [
          -1.0334695548185588,
          29.149642452639178
         ],
         "showgrid": false,
         "title": {
          "text": "% of TSA"
         },
         "type": "linear",
         "zeroline": false
        },
        "yaxis4": {
         "anchor": "x4",
         "autorange": true,
         "domain": [
          0.3888888888888889,
          0.6111111111111112
         ],
         "range": [
          9.76369167211999,
          33.30823897370268
         ],
         "showgrid": false,
         "title": {
          "text": "% of TSA"
         },
         "type": "linear",
         "zeroline": false
        },
        "yaxis5": {
         "anchor": "x5",
         "autorange": true,
         "domain": [
          0,
          0.22222222222222224
         ],
         "range": [
          -3.837998303647159,
          53.83799830364716
         ],
         "showgrid": false,
         "title": {
          "text": "%"
         },
         "type": "linear",
         "zeroline": false
        },
        "yaxis6": {
         "anchor": "x6",
         "autorange": true,
         "domain": [
          0,
          0.22222222222222224
         ],
         "range": [
          35.425925713987795,
          58.42714774928057
         ],
         "showgrid": false,
         "title": {
          "text": "efg%"
         },
         "type": "linear",
         "zeroline": false
        }
       }
      },
      "image/png": "[encoded data removed]",
      "text/html": [
       "<div>                            <div id=\"80c5100b-5c91-44ff-9613-552706036770\" class=\"plotly-graph-div\" style=\"height:1200px; width:1200px;\"></div>            <script type=\"text/javascript\">                require([\"plotly\"], function(Plotly) {                    window.PLOTLYENV=window.PLOTLYENV || {};                                    if (document.getElementById(\"80c5100b-5c91-44ff-9613-552706036770\")) {                    Plotly.newPlot(                        \"80c5100b-5c91-44ff-9613-552706036770\",                        [{\"line\":{\"color\":\"#1f77b4\",\"shape\":\"spline\",\"width\":2},\"mode\":\"lines+markers\",\"name\":\"Wide Open Threes\",\"x\":[1,2,3,4,5,6],\"y\":[17.76549545992894,16.58374792703151,19.024171888988363,11.700468018720748,19.693654266958422,27.141133896260556],\"type\":\"scatter\",\"xaxis\":\"x3\",\"yaxis\":\"y3\"},{\"legendgroup\":\"threes\",\"line\":{\"color\":\"#ff7f0e\",\"shape\":\"spline\",\"width\":2},\"mode\":\"lines+markers\",\"name\":\"Open Threes\",\"x\":[1,2,3,4,5,6],\"y\":[12.83063560994868,13.4742951907131,13.42882721575649,13.650546021840873,22.97592997811816,12.062726176115802],\"type\":\"scatter\",\"xaxis\":\"x3\",\"yaxis\":\"y3\"},{\"legendgroup\":\"threes\",\"line\":{\"color\":\"#2ca02c\",\"shape\":\"spline\",\"width\":2},\"mode\":\"lines+markers\",\"name\":\"Tight Threes\",\"x\":[1,2,3,4,5,6],\"y\":[3.9478878799842088,1.0364842454394694,1.1190689346463742,0.9750390015600624,1.0940919037199124,2.010454362685967],\"type\":\"scatter\",\"xaxis\":\"x3\",\"yaxis\":\"y3\"},{\"line\":{\"color\":\"#1f77b4\",\"shape\":\"spline\",\"width\":2},\"mode\":\"lines+markers\",\"name\":\"Wide Open %\",\"showlegend\":false,\"x\":[1,2,3,4,5,6],\"y\":[50.0,50.0,35.294117647058826,41.666666666666664,33.333333333333336,37.03703703703704],\"type\":\"scatter\",\"xaxis\":\"x5\",\"yaxis\":\"y5\"},{\"line\":{\"color\":\"#ff7f0e\",\"shape\":\"spline\",\"width\":2},\"mode\":\"lines+markers\",\"name\":\"Open %\",\"showlegend\":false,\"x\":[1,2,3,4,5,6],\"y\":[46.15384615384615,15.384615384615385,33.333333333333336,14.285714285714286,19.047619047619047,41.666666666666664],\"type\":\"scatter\",\"xaxis\":\"x5\",\"yaxis\":\"y5\"},{\"line\":{\"color\":\"#2ca02c\",\"shape\":\"spline\",\"width\":2},\"mode\":\"lines+markers\",\"name\":\"Tight %\",\"showlegend\":false,\"x\":[1,2,3,4,5,6],\"y\":[33.333333333333336,0.0,0.0,0.0,0.0,0.0],\"type\":\"scatter\",\"xaxis\":\"x5\",\"yaxis\":\"y5\"},{\"name\":\"Turnovers\",\"showlegend\":false,\"x\":[1,2,3,4,5,6],\"y\":[9,10,13,7,6,8],\"type\":\"bar\",\"xaxis\":\"x2\",\"yaxis\":\"y2\"},{\"line\":{\"shape\":\"spline\",\"width\":2},\"mode\":\"lines+markers\",\"name\":\"Pullups\",\"showlegend\":false,\"x\":[1,2,3,4,5,6],\"y\":[26.64824318989341,25.912106135986733,34.6911369740376,38.026521060842434,25.164113785557987,29.15158825894652],\"type\":\"scatter\",\"xaxis\":\"x\",\"yaxis\":\"y\"},{\"line\":{\"shape\":\"spline\",\"width\":2},\"mode\":\"lines+markers\",\"name\":\"Pullups\",\"showlegend\":false,\"x\":[1,2,3,4,5,6],\"y\":[50.0,54.0,46.774193548387096,48.717948717948715,36.95652173913044,56.89655172413793],\"type\":\"scatter\",\"xaxis\":\"x6\",\"yaxis\":\"y6\"},{\"line\":{\"shape\":\"spline\",\"width\":2},\"mode\":\"lines\",\"name\":\"Free Throws\",\"x\":[1,2,3,4,5,6],\"y\":[27.635215159889462,17.620232172470978,21.26230975828111,23.400936037441497,10.940919037199125,17.08886208283072],\"type\":\"scatter\",\"xaxis\":\"x4\",\"yaxis\":\"y4\"},{\"line\":{\"shape\":\"spline\",\"width\":2},\"mode\":\"lines\",\"name\":\"Rim Attempts\",\"x\":[1,2,3,4,5,6],\"y\":[27.635215159889462,32.131011608623545,16.786034019695613,16.57566302652106,22.97592997811816,21.109770808202654],\"type\":\"scatter\",\"xaxis\":\"x4\",\"yaxis\":\"y4\"}],                        {\"template\":{\"data\":{\"histogram2dcontour\":[{\"type\":\"histogram2dcontour\",\"colorbar\":{\"outlinewidth\":0,\"ticks\":\"\"},\"colorscale\":[[0.0,\"#0d0887\"],[0.1111111111111111,\"#46039f\"],[0.2222222222222222,\"#7201a8\"],[0.3333333333333333,\"#9c179e\"],[0.4444444444444444,\"#bd3786\"],[0.5555555555555556,\"#d8576b\"],[0.6666666666666666,\"#ed7953\"],[0.7777777777777778,\"#fb9f3a\"],[0.8888888888888888,\"#fdca26\"],[1.0,\"#f0f921\"]]}],\"choropleth\":[{\"type\":\"choropleth\",\"colorbar\":{\"outlinewidth\":0,\"ticks\":\"\"}}],\"histogram2d\":[{\"type\":\"histogram2d\",\"colorbar\":{\"outlinewidth\":0,\"ticks\":\"\"},\"colorscale\":[[0.0,\"#0d0887\"],[0.1111111111111111,\"#46039f\"],[0.2222222222222222,\"#7201a8\"],[0.3333333333333333,\"#9c179e\"],[0.4444444444444444,\"#bd3786\"],[0.5555555555555556,\"#d8576b\"],[0.6666666666666666,\"#ed7953\"],[0.7777777777777778,\"#fb9f3a\"],[0.8888888888888888,\"#fdca26\"],[1.0,\"#f0f921\"]]}],\"heatmap\":[{\"type\":\"heatmap\",\"colorbar\":{\"outlinewidth\":0,\"ticks\":\"\"},\"colorscale\":[[0.0,\"#0d0887\"],[0.1111111111111111,\"#46039f\"],[0.2222222222222222,\"#7201a8\"],[0.3333333333333333,\"#9c179e\"],[0.4444444444444444,\"#bd3786\"],[0.5555555555555556,\"#d8576b\"],[0.6666666666666666,\"#ed7953\"],[0.7777777777777778,\"#fb9f3a\"],[0.8888888888888888,\"#fdca26\"],[1.0,\"#f0f921\"]]}],\"heatmapgl\":[{\"type\":\"heatmapgl\",\"colorbar\":{\"outlinewidth\":0,\"ticks\":\"\"},\"colorscale\":[[0.0,\"#0d0887\"],[0.1111111111111111,\"#46039f\"],[0.2222222222222222,\"#7201a8\"],[0.3333333333333333,\"#9c179e\"],[0.4444444444444444,\"#bd3786\"],[0.5555555555555556,\"#d8576b\"],[0.6666666666666666,\"#ed7953\"],[0.7777777777777778,\"#fb9f3a\"],[0.8888888888888888,\"#fdca26\"],[1.0,\"#f0f921\"]]}],\"contourcarpet\":[{\"type\":\"contourcarpet\",\"colorbar\":{\"outlinewidth\":0,\"ticks\":\"\"}}],\"contour\":[{\"type\":\"contour\",\"colorbar\":{\"outlinewidth\":0,\"ticks\":\"\"},\"colorscale\":[[0.0,\"#0d0887\"],[0.1111111111111111,\"#46039f\"],[0.2222222222222222,\"#7201a8\"],[0.3333333333333333,\"#9c179e\"],[0.4444444444444444,\"#bd3786\"],[0.5555555555555556,\"#d8576b\"],[0.6666666666666666,\"#ed7953\"],[0.7777777777777778,\"#fb9f3a\"],[0.8888888888888888,\"#fdca26\"],[1.0,\"#f0f921\"]]}],\"surface\":[{\"type\":\"surface\",\"colorbar\":{\"outlinewidth\":0,\"ticks\":\"\"},\"colorscale\":[[0.0,\"#0d0887\"],[0.1111111111111111,\"#46039f\"],[0.2222222222222222,\"#7201a8\"],[0.3333333333333333,\"#9c179e\"],[0.4444444444444444,\"#bd3786\"],[0.5555555555555556,\"#d8576b\"],[0.6666666666666666,\"#ed7953\"],[0.7777777777777778,\"#fb9f3a\"],[0.8888888888888888,\"#fdca26\"],[1.0,\"#f0f921\"]]}],\"mesh3d\":[{\"type\":\"mesh3d\",\"colorbar\":{\"outlinewidth\":0,\"ticks\":\"\"}}],\"scatter\":[{\"fillpattern\":{\"fillmode\":\"overlay\",\"size\":10,\"solidity\":0.2},\"type\":\"scatter\"}],\"parcoords\":[{\"type\":\"parcoords\",\"line\":{\"colorbar\":{\"outlinewidth\":0,\"ticks\":\"\"}}}],\"scatterpolargl\":[{\"type\":\"scatterpolargl\",\"marker\":{\"colorbar\":{\"outlinewidth\":0,\"ticks\":\"\"}}}],\"bar\":[{\"error_x\":{\"color\":\"#2a3f5f\"},\"error_y\":{\"color\":\"#2a3f5f\"},\"marker\":{\"line\":{\"color\":\"#E5ECF6\",\"width\":0.5},\"pattern\":{\"fillmode\":\"overlay\",\"size\":10,\"solidity\":0.2}},\"type\":\"bar\"}],\"scattergeo\":[{\"type\":\"scattergeo\",\"marker\":{\"colorbar\":{\"outlinewidth\":0,\"ticks\":\"\"}}}],\"scatterpolar\":[{\"type\":\"scatterpolar\",\"marker\":{\"colorbar\":{\"outlinewidth\":0,\"ticks\":\"\"}}}],\"histogram\":[{\"marker\":{\"pattern\":{\"fillmode\":\"overlay\",\"size\":10,\"solidity\":0.2}},\"type\":\"histogram\"}],\"scattergl\":[{\"type\":\"scattergl\",\"marker\":{\"colorbar\":{\"outlinewidth\":0,\"ticks\":\"\"}}}],\"scatter3d\":[{\"type\":\"scatter3d\",\"line\":{\"colorbar\":{\"outlinewidth\":0,\"ticks\":\"\"}},\"marker\":{\"colorbar\":{\"outlinewidth\":0,\"ticks\":\"\"}}}],\"scattermapbox\":[{\"type\":\"scattermapbox\",\"marker\":{\"colorbar\":{\"outlinewidth\":0,\"ticks\":\"\"}}}],\"scatterternary\":[{\"type\":\"scatterternary\",\"marker\":{\"colorbar\":{\"outlinewidth\":0,\"ticks\":\"\"}}}],\"scattercarpet\":[{\"type\":\"scattercarpet\",\"marker\":{\"colorbar\":{\"outlinewidth\":0,\"ticks\":\"\"}}}],\"carpet\":[{\"aaxis\":{\"endlinecolor\":\"#2a3f5f\",\"gridcolor\":\"white\",\"linecolor\":\"white\",\"minorgridcolor\":\"white\",\"startlinecolor\":\"#2a3f5f\"},\"baxis\":{\"endlinecolor\":\"#2a3f5f\",\"gridcolor\":\"white\",\"linecolor\":\"white\",\"minorgridcolor\":\"white\",\"startlinecolor\":\"#2a3f5f\"},\"type\":\"carpet\"}],\"table\":[{\"cells\":{\"fill\":{\"color\":\"#EBF0F8\"},\"line\":{\"color\":\"white\"}},\"header\":{\"fill\":{\"color\":\"#C8D4E3\"},\"line\":{\"color\":\"white\"}},\"type\":\"table\"}],\"barpolar\":[{\"marker\":{\"line\":{\"color\":\"#E5ECF6\",\"width\":0.5},\"pattern\":{\"fillmode\":\"overlay\",\"size\":10,\"solidity\":0.2}},\"type\":\"barpolar\"}],\"pie\":[{\"automargin\":true,\"type\":\"pie\"}]},\"layout\":{\"autotypenumbers\":\"strict\",\"colorway\":[\"#636efa\",\"#EF553B\",\"#00cc96\",\"#ab63fa\",\"#FFA15A\",\"#19d3f3\",\"#FF6692\",\"#B6E880\",\"#FF97FF\",\"#FECB52\"],\"font\":{\"color\":\"#2a3f5f\"},\"hovermode\":\"closest\",\"hoverlabel\":{\"align\":\"left\"},\"paper_bgcolor\":\"white\",\"plot_bgcolor\":\"#E5ECF6\",\"polar\":{\"bgcolor\":\"#E5ECF6\",\"angularaxis\":{\"gridcolor\":\"white\",\"linecolor\":\"white\",\"ticks\":\"\"},\"radialaxis\":{\"gridcolor\":\"white\",\"linecolor\":\"white\",\"ticks\":\"\"}},\"ternary\":{\"bgcolor\":\"#E5ECF6\",\"aaxis\":{\"gridcolor\":\"white\",\"linecolor\":\"white\",\"ticks\":\"\"},\"baxis\":{\"gridcolor\":\"white\",\"linecolor\":\"white\",\"ticks\":\"\"},\"caxis\":{\"gridcolor\":\"white\",\"linecolor\":\"white\",\"ticks\":\"\"}},\"coloraxis\":{\"colorbar\":{\"outlinewidth\":0,\"ticks\":\"\"}},\"colorscale\":{\"sequential\":[[0.0,\"#0d0887\"],[0.1111111111111111,\"#46039f\"],[0.2222222222222222,\"#7201a8\"],[0.3333333333333333,\"#9c179e\"],[0.4444444444444444,\"#bd3786\"],[0.5555555555555556,\"#d8576b\"],[0.6666666666666666,\"#ed7953\"],[0.7777777777777778,\"#fb9f3a\"],[0.8888888888888888,\"#fdca26\"],[1.0,\"#f0f921\"]],\"sequentialminus\":[[0.0,\"#0d0887\"],[0.1111111111111111,\"#46039f\"],[0.2222222222222222,\"#7201a8\"],[0.3333333333333333,\"#9c179e\"],[0.4444444444444444,\"#bd3786\"],[0.5555555555555556,\"#d8576b\"],[0.6666666666666666,\"#ed7953\"],[0.7777777777777778,\"#fb9f3a\"],[0.8888888888888888,\"#fdca26\"],[1.0,\"#f0f921\"]],\"diverging\":[[0,\"#8e0152\"],[0.1,\"#c51b7d\"],[0.2,\"#de77ae\"],[0.3,\"#f1b6da\"],[0.4,\"#fde0ef\"],[0.5,\"#f7f7f7\"],[0.6,\"#e6f5d0\"],[0.7,\"#b8e186\"],[0.8,\"#7fbc41\"],[0.9,\"#4d9221\"],[1,\"#276419\"]]},\"xaxis\":{\"gridcolor\":\"white\",\"linecolor\":\"white\",\"ticks\":\"\",\"title\":{\"standoff\":15},\"zerolinecolor\":\"white\",\"automargin\":true,\"zerolinewidth\":2},\"yaxis\":{\"gridcolor\":\"white\",\"linecolor\":\"white\",\"ticks\":\"\",\"title\":{\"standoff\":15},\"zerolinecolor\":\"white\",\"automargin\":true,\"zerolinewidth\":2},\"scene\":{\"xaxis\":{\"backgroundcolor\":\"#E5ECF6\",\"gridcolor\":\"white\",\"linecolor\":\"white\",\"showbackground\":true,\"ticks\":\"\",\"zerolinecolor\":\"white\",\"gridwidth\":2},\"yaxis\":{\"backgroundcolor\":\"#E5ECF6\",\"gridcolor\":\"white\",\"linecolor\":\"white\",\"showbackground\":true,\"ticks\":\"\",\"zerolinecolor\":\"white\",\"gridwidth\":2},\"zaxis\":{\"backgroundcolor\":\"#E5ECF6\",\"gridcolor\":\"white\",\"linecolor\":\"white\",\"showbackground\":true,\"ticks\":\"\",\"zerolinecolor\":\"white\",\"gridwidth\":2}},\"shapedefaults\":{\"line\":{\"color\":\"#2a3f5f\"}},\"annotationdefaults\":{\"arrowcolor\":\"#2a3f5f\",\"arrowhead\":0,\"arrowwidth\":1},\"geo\":{\"bgcolor\":\"white\",\"landcolor\":\"#E5ECF6\",\"subunitcolor\":\"white\",\"showland\":true,\"showlakes\":true,\"lakecolor\":\"white\"},\"title\":{\"x\":0.05},\"mapbox\":{\"style\":\"light\"}}},\"xaxis\":{\"anchor\":\"y\",\"domain\":[0.0,0.45],\"title\":{\"text\":\"Game Number\"},\"showgrid\":false,\"tickvals\":[1,2,3,4,5,6],\"showline\":false,\"zeroline\":false},\"yaxis\":{\"anchor\":\"x\",\"domain\":[0.7777777777777778,1.0],\"title\":{\"text\":\"% of TSA\"},\"showgrid\":false,\"zeroline\":false},\"xaxis2\":{\"anchor\":\"y2\",\"domain\":[0.55,1.0],\"title\":{\"text\":\"Game Number\"},\"showgrid\":false,\"tickvals\":[1,2,3,4,5,6],\"showline\":false,\"zeroline\":false},\"yaxis2\":{\"anchor\":\"x2\",\"domain\":[0.7777777777777778,1.0],\"title\":{\"text\":\"Per Game\"},\"showgrid\":false,\"zeroline\":false},\"xaxis3\":{\"anchor\":\"y3\",\"domain\":[0.0,0.45],\"title\":{\"text\":\"Game Number\"},\"showgrid\":false,\"tickvals\":[1,2,3,4,5,6],\"showline\":false,\"zeroline\":false},\"yaxis3\":{\"anchor\":\"x3\",\"domain\":[0.3888888888888889,0.6111111111111112],\"title\":{\"text\":\"% of TSA\"},\"showgrid\":false,\"zeroline\":false},\"xaxis4\":{\"anchor\":\"y4\",\"domain\":[0.55,1.0],\"title\":{\"text\":\"Game Number\"},\"showgrid\":false,\"tickvals\":[1,2,3,4,5,6],\"showline\":false,\"zeroline\":false},\"yaxis4\":{\"anchor\":\"x4\",\"domain\":[0.3888888888888889,0.6111111111111112],\"title\":{\"text\":\"% of TSA\"},\"showgrid\":false,\"zeroline\":false},\"xaxis5\":{\"anchor\":\"y5\",\"domain\":[0.0,0.45],\"title\":{\"text\":\"Game Number\"},\"showgrid\":false,\"tickvals\":[1,2,3,4,5,6],\"showline\":false,\"zeroline\":false},\"yaxis5\":{\"anchor\":\"x5\",\"domain\":[0.0,0.22222222222222224],\"title\":{\"text\":\"%\"},\"showgrid\":false,\"zeroline\":false},\"xaxis6\":{\"anchor\":\"y6\",\"domain\":[0.55,1.0],\"title\":{\"text\":\"Game Number\"},\"showgrid\":false,\"tickvals\":[1,2,3,4,5,6],\"showline\":false,\"zeroline\":false},\"yaxis6\":{\"anchor\":\"x6\",\"domain\":[0.0,0.22222222222222224],\"title\":{\"text\":\"efg%\"},\"showgrid\":false,\"zeroline\":false},\"annotations\":[{\"font\":{\"size\":16},\"showarrow\":false,\"text\":\"Pullups\",\"x\":0.225,\"xanchor\":\"center\",\"xref\":\"paper\",\"y\":1.0,\"yanchor\":\"bottom\",\"yref\":\"paper\"},{\"font\":{\"size\":16},\"showarrow\":false,\"text\":\"Turnovers\",\"x\":0.775,\"xanchor\":\"center\",\"xref\":\"paper\",\"y\":1.0,\"yanchor\":\"bottom\",\"yref\":\"paper\"},{\"font\":{\"size\":16},\"showarrow\":false,\"text\":\"Three Point Quality\",\"x\":0.225,\"xanchor\":\"center\",\"xref\":\"paper\",\"y\":0.6111111111111112,\"yanchor\":\"bottom\",\"yref\":\"paper\"},{\"font\":{\"size\":16},\"showarrow\":false,\"text\":\"Rim & FT Frequency\",\"x\":0.775,\"xanchor\":\"center\",\"xref\":\"paper\",\"y\":0.6111111111111112,\"yanchor\":\"bottom\",\"yref\":\"paper\"},{\"font\":{\"size\":16},\"showarrow\":false,\"text\":\"Three Point %\",\"x\":0.225,\"xanchor\":\"center\",\"xref\":\"paper\",\"y\":0.22222222222222224,\"yanchor\":\"bottom\",\"yref\":\"paper\"},{\"font\":{\"size\":16},\"showarrow\":false,\"text\":\"Pull Up %\",\"x\":0.775,\"xanchor\":\"center\",\"xref\":\"paper\",\"y\":0.22222222222222224,\"yanchor\":\"bottom\",\"yref\":\"paper\"}],\"title\":{\"font\":{\"size\":22},\"text\":\"2024 \\u003cspan style='text-decoration:underline;'\\u003eOklahoma City Thunder\\u003c\\u002fspan\\u003e\\u003cbr\\u003evs Dallas Mavericks\",\"x\":0.5},\"font\":{\"family\":\"Malgun Gothic\",\"size\":16,\"color\":\"#ffffff\"},\"height\":1200,\"width\":1200,\"paper_bgcolor\":\"#211a1d\",\"plot_bgcolor\":\"#211a1d\"},                        {\"responsive\": true}                    ).then(function(){\n",
       "                            \n",
       "var gd = document.getElementById('80c5100b-5c91-44ff-9613-552706036770');\n",
       "var x = new MutationObserver(function (mutations, observer) {{\n",
       "        var display = window.getComputedStyle(gd).display;\n",
       "        if (!display || display === 'none') {{\n",
       "            console.log([gd, 'removed!']);\n",
       "            Plotly.purge(gd);\n",
       "            observer.disconnect();\n",
       "        }}\n",
       "}});\n",
       "\n",
       "// Listen for the removal of the full notebook cells\n",
       "var notebookContainer = gd.closest('#notebook-container');\n",
       "if (notebookContainer) {{\n",
       "    x.observe(notebookContainer, {childList: true});\n",
       "}}\n",
       "\n",
       "// Listen for the clearing of the current output cell\n",
       "var outputEl = gd.closest('.output');\n",
       "if (outputEl) {{\n",
       "    x.observe(outputEl, {childList: true});\n",
       "}}\n",
       "\n",
       "                        })                };                });            </script>        </div>"
      ]
     },
     "metadata": {},
     "output_type": "display_data"
    }
   ],
   "source": [
    "file_name='OKC_DAL_2024'\n",
    "df =pd.read_csv('data/'+file_name+'.csv')\n",
    "\n",
    "series_data=df.groupby(['TEAM_ID','date']).sum(numeric_only=True)[['very_tight_FG3A','wide_open_FG3A','open_FG3A','tight_FG3A','very_tight_FG3M','wide_open_FG3M','open_FG3M','tight_FG3M',\n",
    "                                                                   'FGA','FTA','PULL_UP_FGA','PULL_UP_FGM','PULL_UP_FG3M','DRIVES','POTENTIAL_AST','TOV','RA_FGA']].reset_index()\n",
    "\n",
    "series_data['game_number']=[i for i in range(1, len(series_data)+1)]\n",
    "\n",
    "series_data['rimfga']=series_data['RA_FGA']\n",
    "series_data['TSA']=series_data['FGA']+(series_data['FTA']*.44)\n",
    "series_data['ft_freq']=100* series_data['FTA']/series_data['TSA']\n",
    "\n",
    "series_data['rim_freq']=100* series_data['rimfga']/series_data['TSA']\n",
    "series_data['pullup_freq']=100* series_data['PULL_UP_FGA']/series_data['TSA']\n",
    "\n",
    "series_data['open_FG3_freq']=100* series_data['open_FG3A']/series_data['TSA']\n",
    "series_data['tight_FG3_freq']=100* (series_data['tight_FG3A']+series_data['very_tight_FG3A'])/series_data['TSA']\n",
    "series_data['wide_open_FG3_freq']=100* series_data['wide_open_FG3A']/series_data['TSA']\n",
    "\n",
    "series_data['pullup_fg%']=100* series_data['PULL_UP_FGM']/series_data['PULL_UP_FGA']\n",
    "\n",
    "series_data['PULL_UP_EFG'] =100* (series_data['PULL_UP_FGM'] + 0.5 * series_data['PULL_UP_FG3M']) / series_data['PULL_UP_FGA']\n",
    "\n",
    "\n",
    "series_data['open_FG3%']=100* series_data['open_FG3M']/series_data['open_FG3A']\n",
    "series_data['tight_FG3%']=100* series_data['tight_FG3M']/series_data['tight_FG3A']\n",
    "series_data['wide_open_FG3%']=100* series_data['wide_open_FG3M']/series_data['wide_open_FG3A']\n",
    "\n",
    "def convert_to_full_team_names(team_string):\n",
    "    # Dictionary mapping abbreviations to full NBA team names\n",
    "    team_map = {\n",
    "        'ATL': 'Atlanta Hawks',\n",
    "        'BOS': 'Boston Celtics',\n",
    "        'BKN': 'Brooklyn Nets',\n",
    "        'CHA': 'Charlotte Hornets',\n",
    "        'CHI': 'Chicago Bulls',\n",
    "        'CLE': 'Cleveland Cavaliers',\n",
    "        'DAL': 'Dallas Mavericks',\n",
    "        'DEN': 'Denver Nuggets',\n",
    "        'DET': 'Detroit Pistons',\n",
    "        'GSW': 'Golden State Warriors',\n",
    "        'HOU': 'Houston Rockets',\n",
    "        'IND': 'Indiana Pacers',\n",
    "        'LAC': 'Los Angeles Clippers',\n",
    "        'LAL': 'Los Angeles Lakers',\n",
    "        'MEM': 'Memphis Grizzlies',\n",
    "        'MIA': 'Miami Heat',\n",
    "        'MIL': 'Milwaukee Bucks',\n",
    "        'MIN': 'Minnesota Timberwolves',\n",
    "        'NOP': 'New Orleans Pelicans',\n",
    "        'NYK': 'New York Knicks',\n",
    "        'OKC': 'Oklahoma City Thunder',\n",
    "        'ORL': 'Orlando Magic',\n",
    "        'PHI': 'Philadelphia 76ers',\n",
    "        'PHX': 'Phoenix Suns',\n",
    "        'POR': 'Portland Trail Blazers',\n",
    "        'SAC': 'Sacramento Kings',\n",
    "        'SAS': 'San Antonio Spurs',\n",
    "        'TOR': 'Toronto Raptors',\n",
    "        'UTA': 'Utah Jazz',\n",
    "        'WAS': 'Washington Wizards'\n",
    "    }\n",
    "\n",
    "\n",
    "    # Split the input string into parts (team abbreviations and year)\n",
    "    parts = team_string.split('_')\n",
    "\n",
    "    # Extract team abbreviations (OKC, DAL) and ignore the year (2024)\n",
    "    teams = parts[:-1]\n",
    "    \n",
    "    # Get the full team names using the dictionary\n",
    "    full_team_names = [team_map.get(team, team) for team in teams]\n",
    "\n",
    "    # Underline the first team name and join the rest with <br>\n",
    "    full_team_names[0] = f\"<span style='text-decoration:underline;'>{full_team_names[0]}</span>\"\n",
    "\n",
    "    full_team_names[0]= parts[-1]+' '+ full_team_names[0]\n",
    "\n",
    "\n",
    "    full_team_names[1]= 'vs ' +full_team_names[1]\n",
    "    \n",
    "    \n",
    "    # Join the full names with <br> and return\n",
    "    return '<br>'.join(full_team_names)\n",
    "\n",
    "fig = make_subplots(rows=3, cols=2, subplot_titles=(\n",
    "        \"Pullups\",\n",
    "\n",
    "    \"Turnovers\",\n",
    "    \"Three Point Quality\",\n",
    "    \"Rim & FT Frequency\",\n",
    "        \"Three Point %\",\n",
    "    \"Pull Up %\"\n",
    "))\n",
    "\n",
    "# 1. Line Chart for Wide Open Three Point Shots\n",
    "fig.add_trace(\n",
    "    go.Scatter(x=series_data['game_number'], y=series_data['wide_open_FG3_freq'],\n",
    "               mode='lines+markers', name='Wide Open Threes',line=dict(shape='spline',width=2,color='#1f77b4')),\n",
    "    row=2, col=1\n",
    ")\n",
    "\n",
    "fig.add_trace(\n",
    "    go.Scatter(x=series_data['game_number'], y=series_data['open_FG3_freq'],legendgroup='threes',\n",
    "               mode='lines+markers', name='Open Threes',line=dict(shape='spline',width=2,color='#ff7f0e')),\n",
    "    row=2, col=1\n",
    ")\n",
    "fig.add_trace(\n",
    "    go.Scatter(x=series_data['game_number'], y=series_data['tight_FG3_freq'],legendgroup='threes',\n",
    "               mode='lines+markers', name='Tight Threes',line=dict(shape='spline',width=2,color='#2ca02c')),\n",
    "    row=2, col=1\n",
    ")\n",
    "\n",
    "\n",
    "\n",
    "fig.add_trace(\n",
    "    go.Scatter(x=series_data['game_number'], y=series_data['wide_open_FG3%'],showlegend=False,\n",
    "               mode='lines+markers', name='Wide Open %',line=dict(shape='spline',width=2,color='#1f77b4')),\n",
    "    row=3, col=1\n",
    ")\n",
    "\n",
    "fig.add_trace(\n",
    "    go.Scatter(x=series_data['game_number'], y=series_data['open_FG3%'],showlegend=False,\n",
    "               mode='lines+markers', name='Open %',line=dict(shape='spline',width=2,color='#ff7f0e')),\n",
    "    row=3, col=1\n",
    ")\n",
    "fig.add_trace(\n",
    "    go.Scatter(x=series_data['game_number'], y=series_data['tight_FG3%'],showlegend=False,\n",
    "               mode='lines+markers', name='Tight %',line=dict(shape='spline',width=2,color='#2ca02c')),\n",
    "    row=3, col=1\n",
    ")\n",
    "\n",
    "# 2. Bar Chart for Turnovers\n",
    "fig.add_trace(\n",
    "    go.Bar(x=series_data['game_number'], y=series_data['TOV'], name='Turnovers',showlegend=False),\n",
    "    row=1, col=2\n",
    ")\n",
    "\n",
    "# 3. Spline Chart for Rim Attempts\n",
    "fig.add_trace(\n",
    "    go.Scatter(x=series_data['game_number'], y=series_data['pullup_freq'],showlegend=False,\n",
    "               mode='lines+markers', name='Pullups', line=dict(shape='spline',width=2)),\n",
    "    row=1, col=1\n",
    ")\n",
    "\n",
    "fig.add_trace(\n",
    "    go.Scatter(x=series_data['game_number'], y=series_data['PULL_UP_EFG'],showlegend=False,\n",
    "               mode='lines+markers', name='Pullups', line=dict(shape='spline',width=2)),\n",
    "    row=3, col=2\n",
    ")\n",
    "# 4. Multi-line Chart comparing Wide Open Threes and Rim Attempts\n",
    "fig.add_trace(\n",
    "    go.Scatter(x=series_data['game_number'], y=series_data['ft_freq'],\n",
    "               mode='lines', name='Free Throws',line=dict(shape='spline',width=2)),\n",
    "    row=2, col=2\n",
    ")\n",
    "fig.add_trace(\n",
    "    go.Scatter(x=series_data['game_number'], y=series_data['rim_freq'],\n",
    "               mode='lines', name='Rim Attempts',line=dict(shape='spline',width=2)),\n",
    "    row=2, col=2\n",
    ")\n",
    "\n",
    "# Update layout\n",
    "fig.update_layout(height=1200, width=1200, title_text=convert_to_full_team_names(file_name),title_x=.5,title_font_size=22,\n",
    "                  paper_bgcolor='#211a1d',plot_bgcolor='#211a1d', font=dict(\n",
    "            family=\"Malgun Gothic\",\n",
    "                      size=16,\n",
    "            color=\"#ffffff\"\n",
    "            ))\n",
    "tickvals=[i for i in range(1,series_data['game_number'].max()+1)]\n",
    "fig.update_yaxes(title_text=\"% of TSA\",row=2,col=1,showgrid=False)\n",
    "fig.update_yaxes(title_text=\"% of TSA\",row=1,col=1,showgrid=False)\n",
    "\n",
    "fig.update_yaxes(title_text=\"efg%\",row=3,col=2,showgrid=False)\n",
    "\n",
    "fig.update_yaxes(title_text=\"%\",row=3,col=1,showgrid=False)\n",
    "\n",
    "fig.update_yaxes(title_text=\"Per Game\",row=1,col=2,showgrid=False)\n",
    "\n",
    "fig.update_annotations(font_size=16)\n",
    "fig.update_yaxes(title_text=\"% of TSA\",row=2,col=2,showgrid=False)\n",
    "fig.update_xaxes(title_text=\"Game Number\",showgrid=False,tickvals=tickvals,showline=False,zeroline=False)\n",
    "fig.update_yaxes(zeroline=False)\n",
    "# Show the plot\n",
    "fig.show()\n"
   ]
  },
  {
   "cell_type": "code",
   "execution_count": 89,
   "id": "aaff1c0e-8417-4c58-af30-b4c7d0528af1",
   "metadata": {},
   "outputs": [
    {
     "name": "stdout",
     "output_type": "stream",
     "text": [
      "PULL_UP_FG3M\n",
      "PULL_UP_FGM\n",
      "PULL_UP_FG3A\n",
      "PULL_UP_FG3_PCT\n",
      "PULL_UP_PTS\n",
      "PULL_UP_FG_PCT\n",
      "PULL_UP_FGA\n",
      "PULL_UP_EFG_PCT\n"
     ]
    }
   ],
   "source": [
    "for col in df.columns:\n",
    "    if 'pull_up' in col.lower():\n",
    "        print(col)"
   ]
  },
  {
   "cell_type": "code",
   "execution_count": 9,
   "id": "000d1f0a-3037-46b1-907c-372c45f0f717",
   "metadata": {},
   "outputs": [
    {
     "name": "stdout",
     "output_type": "stream",
     "text": [
      "324\n"
     ]
    }
   ],
   "source": [
    "print (len(df.columns))"
   ]
  },
  {
   "cell_type": "code",
   "execution_count": null,
   "id": "1f787056-44cd-448d-b3ac-1adb5682cc4e",
   "metadata": {},
   "outputs": [],
   "source": []
  }
 ],
 "metadata": {
  "kernelspec": {
   "display_name": "Python 3 (ipykernel)",
   "language": "python",
   "name": "python3"
  },
  "language_info": {
   "codemirror_mode": {
    "name": "ipython",
    "version": 3
   },
   "file_extension": ".py",
   "mimetype": "text/x-python",
   "name": "python",
   "nbconvert_exporter": "python",
   "pygments_lexer": "ipython3",
   "version": "3.10.12"
  }
 },
 "nbformat": 4,
 "nbformat_minor": 5
}
