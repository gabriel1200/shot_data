{
 "cells": [
  {
   "cell_type": "code",
   "execution_count": 29,
   "id": "e2e3b318-05cf-423f-9381-207b6aba226a",
   "metadata": {},
   "outputs": [
    {
     "data": {
      "application/vnd.plotly.v1+json": {
       "config": {
        "plotlyServerURL": "https://plot.ly"
       },
       "data": [
        {
         "line": {
          "color": "#1f77b4",
          "shape": "spline",
          "width": 2
         },
         "mode": "lines+markers",
         "name": "Wide Open 3P%",
         "showlegend": false,
         "type": "scatter",
         "x": [
          1,
          2,
          3,
          4,
          5,
          6,
          7
         ],
         "xaxis": "x",
         "y": [
          0.9146341463414634,
          1.0273972602739727,
          3.125,
          0.8333333333333334,
          1.8072289156626506,
          3.3582089552238807,
          2.7777777777777777
         ],
         "yaxis": "y"
        },
        {
         "line": {
          "color": "#1f77b4",
          "dash": "dot",
          "width": 2
         },
         "mode": "lines",
         "showlegend": false,
         "type": "scatter",
         "x": [
          1,
          2,
          3,
          4,
          5,
          6,
          7
         ],
         "xaxis": "x",
         "y": [
          2.405286343612335,
          2.405286343612335,
          2.405286343612335,
          2.405286343612335,
          2.405286343612335,
          2.405286343612335,
          2.405286343612335
         ],
         "yaxis": "y"
        },
        {
         "line": {
          "color": "#1f77b4",
          "shape": "spline",
          "width": 2
         },
         "mode": "lines+markers",
         "name": "Wide Open 3P%",
         "showlegend": false,
         "type": "scatter",
         "x": [
          1,
          2,
          3,
          4,
          5,
          6,
          7
         ],
         "xaxis": "x2",
         "y": [
          0,
          0,
          100,
          150,
          0,
          50,
          50
         ],
         "yaxis": "y2"
        },
        {
         "line": {
          "color": "#1f77b4",
          "dash": "dot",
          "width": 2
         },
         "mode": "lines",
         "showlegend": false,
         "type": "scatter",
         "x": [
          1,
          2,
          3,
          4,
          5,
          6,
          7
         ],
         "xaxis": "x2",
         "y": [
          59.099999999999994,
          59.099999999999994,
          59.099999999999994,
          59.099999999999994,
          59.099999999999994,
          59.099999999999994,
          59.099999999999994
         ],
         "yaxis": "y2"
        },
        {
         "line": {
          "color": "#9467bd",
          "shape": "spline",
          "width": 2
         },
         "mode": "lines+markers",
         "name": "Pull-Up Frequency",
         "showlegend": false,
         "type": "scatter",
         "x": [
          1,
          2,
          3,
          4,
          5,
          6,
          7
         ],
         "xaxis": "x3",
         "y": [
          35.556257901390644,
          11.205179282868526,
          30,
          31.55680224403927,
          32.39740820734341,
          32.89473684210527,
          42.20257234726688
         ],
         "yaxis": "y3"
        },
        {
         "line": {
          "color": "#9467bd",
          "dash": "dot",
          "width": 2
         },
         "mode": "lines",
         "showlegend": false,
         "type": "scatter",
         "x": [
          1,
          2,
          3,
          4,
          5,
          6,
          7
         ],
         "xaxis": "x3",
         "y": [
          31.21068829185012,
          31.21068829185012,
          31.21068829185012,
          31.21068829185012,
          31.21068829185012,
          31.21068829185012,
          31.21068829185012
         ],
         "yaxis": "y3"
        },
        {
         "line": {
          "color": "#8c564b",
          "shape": "spline",
          "width": 2
         },
         "mode": "lines+markers",
         "name": "Pull-Up eFG%",
         "showlegend": false,
         "type": "scatter",
         "x": [
          1,
          2,
          3,
          4,
          5,
          6,
          7
         ],
         "xaxis": "x4",
         "y": [
          76.66666666666667,
          33.333333333333336,
          41.666666666666664,
          66.66666666666667,
          43.75,
          61.111111111111114,
          17.857142857142858
         ],
         "yaxis": "y4"
        },
        {
         "line": {
          "color": "#8c564b",
          "dash": "dot",
          "width": 2
         },
         "mode": "lines",
         "showlegend": false,
         "type": "scatter",
         "x": [
          1,
          2,
          3,
          4,
          5,
          6,
          7
         ],
         "xaxis": "x4",
         "y": [
          44.26450742240216,
          44.26450742240216,
          44.26450742240216,
          44.26450742240216,
          44.26450742240216,
          44.26450742240216,
          44.26450742240216
         ],
         "yaxis": "y4"
        },
        {
         "line": {
          "color": "#1f77b4",
          "shape": "spline",
          "width": 2
         },
         "mode": "lines+markers",
         "name": "RA Frequency",
         "showlegend": false,
         "type": "scatter",
         "x": [
          1,
          2,
          3,
          4,
          5,
          6,
          7
         ],
         "xaxis": "x5",
         "y": [
          7.317073170731708,
          12.32876712328767,
          5.208333333333334,
          9.166666666666666,
          3.6144578313253013,
          4.477611940298507,
          5.555555555555555
         ],
         "yaxis": "y5"
        },
        {
         "line": {
          "color": "#2ca02c",
          "shape": "spline",
          "width": 2
         },
         "mode": "lines+markers",
         "name": "SMR Frequency",
         "showlegend": false,
         "type": "scatter",
         "x": [
          1,
          2,
          3,
          4,
          5,
          6,
          7
         ],
         "xaxis": "x5",
         "y": [
          7.317073170731708,
          1.0273972602739725,
          1.0416666666666665,
          5,
          4.518072289156627,
          3.3582089552238803,
          2.7777777777777777
         ],
         "yaxis": "y5"
        },
        {
         "line": {
          "color": "#d62728",
          "shape": "spline",
          "width": 2
         },
         "mode": "lines+markers",
         "name": "LMR Frequency",
         "showlegend": false,
         "type": "scatter",
         "x": [
          1,
          2,
          3,
          4,
          5,
          6,
          7
         ],
         "xaxis": "x5",
         "y": [
          8.231707317073171,
          0,
          2.083333333333333,
          0.8333333333333334,
          2.710843373493976,
          5.597014925373134,
          10.185185185185185
         ],
         "yaxis": "y5"
        },
        {
         "line": {
          "color": "#9467bd",
          "shape": "spline",
          "width": 2
         },
         "mode": "lines+markers",
         "name": "3PA Frequency",
         "showlegend": false,
         "type": "scatter",
         "x": [
          1,
          2,
          3,
          4,
          5,
          6,
          7
         ],
         "xaxis": "x5",
         "y": [
          null,
          null,
          null,
          5.833333333333333,
          2.710843373493976,
          5.597014925373134,
          null
         ],
         "yaxis": "y5"
        },
        {
         "line": {
          "color": "#1f77b4",
          "dash": "dot",
          "width": 2
         },
         "mode": "lines",
         "showlegend": false,
         "type": "scatter",
         "x": [
          1,
          2,
          3,
          4,
          5,
          6,
          7
         ],
         "xaxis": "x5",
         "y": [
          6.290748898678414,
          6.290748898678414,
          6.290748898678414,
          6.290748898678414,
          6.290748898678414,
          6.290748898678414,
          6.290748898678414
         ],
         "yaxis": "y5"
        },
        {
         "line": {
          "color": "#2ca02c",
          "dash": "dot",
          "width": 2
         },
         "mode": "lines",
         "showlegend": false,
         "type": "scatter",
         "x": [
          1,
          2,
          3,
          4,
          5,
          6,
          7
         ],
         "xaxis": "x5",
         "y": [
          4.4801762114537445,
          4.4801762114537445,
          4.4801762114537445,
          4.4801762114537445,
          4.4801762114537445,
          4.4801762114537445,
          4.4801762114537445
         ],
         "yaxis": "y5"
        },
        {
         "line": {
          "color": "#d62728",
          "dash": "dot",
          "width": 2
         },
         "mode": "lines",
         "showlegend": false,
         "type": "scatter",
         "x": [
          1,
          2,
          3,
          4,
          5,
          6,
          7
         ],
         "xaxis": "x5",
         "y": [
          4.982378854625551,
          4.982378854625551,
          4.982378854625551,
          4.982378854625551,
          4.982378854625551,
          4.982378854625551,
          4.982378854625551
         ],
         "yaxis": "y5"
        },
        {
         "line": {
          "color": "#9467bd",
          "dash": "dot",
          "width": 2
         },
         "mode": "lines",
         "showlegend": false,
         "type": "scatter",
         "x": [
          1,
          2,
          3,
          4,
          5,
          6,
          7
         ],
         "xaxis": "x5",
         "y": [
          4.837004405286344,
          4.837004405286344,
          4.837004405286344,
          4.837004405286344,
          4.837004405286344,
          4.837004405286344,
          4.837004405286344
         ],
         "yaxis": "y5"
        },
        {
         "line": {
          "color": "#1f77b4",
          "shape": "spline",
          "width": 2
         },
         "mode": "lines+markers",
         "name": "RA",
         "showlegend": true,
         "type": "scatter",
         "x": [
          1,
          2,
          3,
          4,
          5,
          6,
          7
         ],
         "xaxis": "x6",
         "y": [
          87.5,
          75,
          80,
          81.81818181818181,
          50,
          75,
          50
         ],
         "yaxis": "y6"
        },
        {
         "line": {
          "color": "#2ca02c",
          "shape": "spline",
          "width": 2
         },
         "mode": "lines+markers",
         "name": "SMR",
         "showlegend": true,
         "type": "scatter",
         "x": [
          1,
          2,
          3,
          4,
          5,
          6,
          7
         ],
         "xaxis": "x6",
         "y": [
          37.5,
          100,
          0,
          33.333333333333336,
          40,
          33.333333333333336,
          0
         ],
         "yaxis": "y6"
        },
        {
         "line": {
          "color": "#d62728",
          "shape": "spline",
          "width": 2
         },
         "mode": "lines+markers",
         "name": "LMR",
         "showlegend": true,
         "type": "scatter",
         "x": [
          1,
          2,
          3,
          4,
          5,
          6,
          7
         ],
         "xaxis": "x6",
         "y": [
          55.55555555555556,
          null,
          100,
          100,
          0,
          60,
          18.181818181818183
         ],
         "yaxis": "y6"
        },
        {
         "line": {
          "color": "#9467bd",
          "shape": "spline",
          "width": 2
         },
         "mode": "lines+markers",
         "name": "3P",
         "showlegend": true,
         "type": "scatter",
         "x": [
          1,
          2,
          3,
          4,
          5,
          6,
          7
         ],
         "xaxis": "x6",
         "y": [
          null,
          null,
          null,
          57.142857142857146,
          33.333333333333336,
          20,
          null
         ],
         "yaxis": "y6"
        },
        {
         "line": {
          "color": "#1f77b4",
          "dash": "dot",
          "width": 2
         },
         "mode": "lines",
         "showlegend": false,
         "type": "scatter",
         "x": [
          1,
          2,
          3,
          4,
          5,
          6,
          7
         ],
         "xaxis": "x6",
         "y": [
          64.70588235294117,
          64.70588235294117,
          64.70588235294117,
          64.70588235294117,
          64.70588235294117,
          64.70588235294117,
          64.70588235294117
         ],
         "yaxis": "y6"
        },
        {
         "line": {
          "color": "#2ca02c",
          "dash": "dot",
          "width": 2
         },
         "mode": "lines",
         "showlegend": false,
         "type": "scatter",
         "x": [
          1,
          2,
          3,
          4,
          5,
          6,
          7
         ],
         "xaxis": "x6",
         "y": [
          42.182890855457224,
          42.182890855457224,
          42.182890855457224,
          42.182890855457224,
          42.182890855457224,
          42.182890855457224,
          42.182890855457224
         ],
         "yaxis": "y6"
        },
        {
         "line": {
          "color": "#d62728",
          "dash": "dot",
          "width": 2
         },
         "mode": "lines",
         "showlegend": false,
         "type": "scatter",
         "x": [
          1,
          2,
          3,
          4,
          5,
          6,
          7
         ],
         "xaxis": "x6",
         "y": [
          35.278514588859416,
          35.278514588859416,
          35.278514588859416,
          35.278514588859416,
          35.278514588859416,
          35.278514588859416,
          35.278514588859416
         ],
         "yaxis": "y6"
        },
        {
         "line": {
          "color": "#9467bd",
          "dash": "dot",
          "width": 2
         },
         "mode": "lines",
         "showlegend": false,
         "type": "scatter",
         "x": [
          1,
          2,
          3,
          4,
          5,
          6,
          7
         ],
         "xaxis": "x6",
         "y": [
          36.612021857923494,
          36.612021857923494,
          36.612021857923494,
          36.612021857923494,
          36.612021857923494,
          36.612021857923494,
          36.612021857923494
         ],
         "yaxis": "y6"
        }
       ],
       "layout": {
        "annotations": [
         {
          "font": {
           "size": 16
          },
          "showarrow": false,
          "text": "Catch and Shoot Frequency",
          "x": 0.225,
          "xanchor": "center",
          "xref": "paper",
          "y": 1,
          "yanchor": "bottom",
          "yref": "paper"
         },
         {
          "font": {
           "size": 16
          },
          "showarrow": false,
          "text": "Catch and Shoot Percentage",
          "x": 0.775,
          "xanchor": "center",
          "xref": "paper",
          "y": 1,
          "yanchor": "bottom",
          "yref": "paper"
         },
         {
          "font": {
           "size": 16
          },
          "showarrow": false,
          "text": "Pull-Up Frequency",
          "x": 0.225,
          "xanchor": "center",
          "xref": "paper",
          "y": 0.6111111111111112,
          "yanchor": "bottom",
          "yref": "paper"
         },
         {
          "font": {
           "size": 16
          },
          "showarrow": false,
          "text": "Pull-Up Percentage",
          "x": 0.775,
          "xanchor": "center",
          "xref": "paper",
          "y": 0.6111111111111112,
          "yanchor": "bottom",
          "yref": "paper"
         },
         {
          "font": {
           "size": 16
          },
          "showarrow": false,
          "text": "Shooting Location Frequency",
          "x": 0.225,
          "xanchor": "center",
          "xref": "paper",
          "y": 0.22222222222222224,
          "yanchor": "bottom",
          "yref": "paper"
         },
         {
          "font": {
           "size": 16
          },
          "showarrow": false,
          "text": "Shooting Location FG%",
          "x": 0.775,
          "xanchor": "center",
          "xref": "paper",
          "y": 0.22222222222222224,
          "yanchor": "bottom",
          "yref": "paper"
         }
        ],
        "font": {
         "color": "#ffffff",
         "family": "Malgun Gothic",
         "size": 16
        },
        "height": 1200,
        "paper_bgcolor": "#211a1d",
        "plot_bgcolor": "#211a1d",
        "template": {
         "data": {
          "bar": [
           {
            "error_x": {
             "color": "#2a3f5f"
            },
            "error_y": {
             "color": "#2a3f5f"
            },
            "marker": {
             "line": {
              "color": "#E5ECF6",
              "width": 0.5
             },
             "pattern": {
              "fillmode": "overlay",
              "size": 10,
              "solidity": 0.2
             }
            },
            "type": "bar"
           }
          ],
          "barpolar": [
           {
            "marker": {
             "line": {
              "color": "#E5ECF6",
              "width": 0.5
             },
             "pattern": {
              "fillmode": "overlay",
              "size": 10,
              "solidity": 0.2
             }
            },
            "type": "barpolar"
           }
          ],
          "carpet": [
           {
            "aaxis": {
             "endlinecolor": "#2a3f5f",
             "gridcolor": "white",
             "linecolor": "white",
             "minorgridcolor": "white",
             "startlinecolor": "#2a3f5f"
            },
            "baxis": {
             "endlinecolor": "#2a3f5f",
             "gridcolor": "white",
             "linecolor": "white",
             "minorgridcolor": "white",
             "startlinecolor": "#2a3f5f"
            },
            "type": "carpet"
           }
          ],
          "choropleth": [
           {
            "colorbar": {
             "outlinewidth": 0,
             "ticks": ""
            },
            "type": "choropleth"
           }
          ],
          "contour": [
           {
            "colorbar": {
             "outlinewidth": 0,
             "ticks": ""
            },
            "colorscale": [
             [
              0,
              "#0d0887"
             ],
             [
              0.1111111111111111,
              "#46039f"
             ],
             [
              0.2222222222222222,
              "#7201a8"
             ],
             [
              0.3333333333333333,
              "#9c179e"
             ],
             [
              0.4444444444444444,
              "#bd3786"
             ],
             [
              0.5555555555555556,
              "#d8576b"
             ],
             [
              0.6666666666666666,
              "#ed7953"
             ],
             [
              0.7777777777777778,
              "#fb9f3a"
             ],
             [
              0.8888888888888888,
              "#fdca26"
             ],
             [
              1,
              "#f0f921"
             ]
            ],
            "type": "contour"
           }
          ],
          "contourcarpet": [
           {
            "colorbar": {
             "outlinewidth": 0,
             "ticks": ""
            },
            "type": "contourcarpet"
           }
          ],
          "heatmap": [
           {
            "colorbar": {
             "outlinewidth": 0,
             "ticks": ""
            },
            "colorscale": [
             [
              0,
              "#0d0887"
             ],
             [
              0.1111111111111111,
              "#46039f"
             ],
             [
              0.2222222222222222,
              "#7201a8"
             ],
             [
              0.3333333333333333,
              "#9c179e"
             ],
             [
              0.4444444444444444,
              "#bd3786"
             ],
             [
              0.5555555555555556,
              "#d8576b"
             ],
             [
              0.6666666666666666,
              "#ed7953"
             ],
             [
              0.7777777777777778,
              "#fb9f3a"
             ],
             [
              0.8888888888888888,
              "#fdca26"
             ],
             [
              1,
              "#f0f921"
             ]
            ],
            "type": "heatmap"
           }
          ],
          "heatmapgl": [
           {
            "colorbar": {
             "outlinewidth": 0,
             "ticks": ""
            },
            "colorscale": [
             [
              0,
              "#0d0887"
             ],
             [
              0.1111111111111111,
              "#46039f"
             ],
             [
              0.2222222222222222,
              "#7201a8"
             ],
             [
              0.3333333333333333,
              "#9c179e"
             ],
             [
              0.4444444444444444,
              "#bd3786"
             ],
             [
              0.5555555555555556,
              "#d8576b"
             ],
             [
              0.6666666666666666,
              "#ed7953"
             ],
             [
              0.7777777777777778,
              "#fb9f3a"
             ],
             [
              0.8888888888888888,
              "#fdca26"
             ],
             [
              1,
              "#f0f921"
             ]
            ],
            "type": "heatmapgl"
           }
          ],
          "histogram": [
           {
            "marker": {
             "pattern": {
              "fillmode": "overlay",
              "size": 10,
              "solidity": 0.2
             }
            },
            "type": "histogram"
           }
          ],
          "histogram2d": [
           {
            "colorbar": {
             "outlinewidth": 0,
             "ticks": ""
            },
            "colorscale": [
             [
              0,
              "#0d0887"
             ],
             [
              0.1111111111111111,
              "#46039f"
             ],
             [
              0.2222222222222222,
              "#7201a8"
             ],
             [
              0.3333333333333333,
              "#9c179e"
             ],
             [
              0.4444444444444444,
              "#bd3786"
             ],
             [
              0.5555555555555556,
              "#d8576b"
             ],
             [
              0.6666666666666666,
              "#ed7953"
             ],
             [
              0.7777777777777778,
              "#fb9f3a"
             ],
             [
              0.8888888888888888,
              "#fdca26"
             ],
             [
              1,
              "#f0f921"
             ]
            ],
            "type": "histogram2d"
           }
          ],
          "histogram2dcontour": [
           {
            "colorbar": {
             "outlinewidth": 0,
             "ticks": ""
            },
            "colorscale": [
             [
              0,
              "#0d0887"
             ],
             [
              0.1111111111111111,
              "#46039f"
             ],
             [
              0.2222222222222222,
              "#7201a8"
             ],
             [
              0.3333333333333333,
              "#9c179e"
             ],
             [
              0.4444444444444444,
              "#bd3786"
             ],
             [
              0.5555555555555556,
              "#d8576b"
             ],
             [
              0.6666666666666666,
              "#ed7953"
             ],
             [
              0.7777777777777778,
              "#fb9f3a"
             ],
             [
              0.8888888888888888,
              "#fdca26"
             ],
             [
              1,
              "#f0f921"
             ]
            ],
            "type": "histogram2dcontour"
           }
          ],
          "mesh3d": [
           {
            "colorbar": {
             "outlinewidth": 0,
             "ticks": ""
            },
            "type": "mesh3d"
           }
          ],
          "parcoords": [
           {
            "line": {
             "colorbar": {
              "outlinewidth": 0,
              "ticks": ""
             }
            },
            "type": "parcoords"
           }
          ],
          "pie": [
           {
            "automargin": true,
            "type": "pie"
           }
          ],
          "scatter": [
           {
            "fillpattern": {
             "fillmode": "overlay",
             "size": 10,
             "solidity": 0.2
            },
            "type": "scatter"
           }
          ],
          "scatter3d": [
           {
            "line": {
             "colorbar": {
              "outlinewidth": 0,
              "ticks": ""
             }
            },
            "marker": {
             "colorbar": {
              "outlinewidth": 0,
              "ticks": ""
             }
            },
            "type": "scatter3d"
           }
          ],
          "scattercarpet": [
           {
            "marker": {
             "colorbar": {
              "outlinewidth": 0,
              "ticks": ""
             }
            },
            "type": "scattercarpet"
           }
          ],
          "scattergeo": [
           {
            "marker": {
             "colorbar": {
              "outlinewidth": 0,
              "ticks": ""
             }
            },
            "type": "scattergeo"
           }
          ],
          "scattergl": [
           {
            "marker": {
             "colorbar": {
              "outlinewidth": 0,
              "ticks": ""
             }
            },
            "type": "scattergl"
           }
          ],
          "scattermapbox": [
           {
            "marker": {
             "colorbar": {
              "outlinewidth": 0,
              "ticks": ""
             }
            },
            "type": "scattermapbox"
           }
          ],
          "scatterpolar": [
           {
            "marker": {
             "colorbar": {
              "outlinewidth": 0,
              "ticks": ""
             }
            },
            "type": "scatterpolar"
           }
          ],
          "scatterpolargl": [
           {
            "marker": {
             "colorbar": {
              "outlinewidth": 0,
              "ticks": ""
             }
            },
            "type": "scatterpolargl"
           }
          ],
          "scatterternary": [
           {
            "marker": {
             "colorbar": {
              "outlinewidth": 0,
              "ticks": ""
             }
            },
            "type": "scatterternary"
           }
          ],
          "surface": [
           {
            "colorbar": {
             "outlinewidth": 0,
             "ticks": ""
            },
            "colorscale": [
             [
              0,
              "#0d0887"
             ],
             [
              0.1111111111111111,
              "#46039f"
             ],
             [
              0.2222222222222222,
              "#7201a8"
             ],
             [
              0.3333333333333333,
              "#9c179e"
             ],
             [
              0.4444444444444444,
              "#bd3786"
             ],
             [
              0.5555555555555556,
              "#d8576b"
             ],
             [
              0.6666666666666666,
              "#ed7953"
             ],
             [
              0.7777777777777778,
              "#fb9f3a"
             ],
             [
              0.8888888888888888,
              "#fdca26"
             ],
             [
              1,
              "#f0f921"
             ]
            ],
            "type": "surface"
           }
          ],
          "table": [
           {
            "cells": {
             "fill": {
              "color": "#EBF0F8"
             },
             "line": {
              "color": "white"
             }
            },
            "header": {
             "fill": {
              "color": "#C8D4E3"
             },
             "line": {
              "color": "white"
             }
            },
            "type": "table"
           }
          ]
         },
         "layout": {
          "annotationdefaults": {
           "arrowcolor": "#2a3f5f",
           "arrowhead": 0,
           "arrowwidth": 1
          },
          "autotypenumbers": "strict",
          "coloraxis": {
           "colorbar": {
            "outlinewidth": 0,
            "ticks": ""
           }
          },
          "colorscale": {
           "diverging": [
            [
             0,
             "#8e0152"
            ],
            [
             0.1,
             "#c51b7d"
            ],
            [
             0.2,
             "#de77ae"
            ],
            [
             0.3,
             "#f1b6da"
            ],
            [
             0.4,
             "#fde0ef"
            ],
            [
             0.5,
             "#f7f7f7"
            ],
            [
             0.6,
             "#e6f5d0"
            ],
            [
             0.7,
             "#b8e186"
            ],
            [
             0.8,
             "#7fbc41"
            ],
            [
             0.9,
             "#4d9221"
            ],
            [
             1,
             "#276419"
            ]
           ],
           "sequential": [
            [
             0,
             "#0d0887"
            ],
            [
             0.1111111111111111,
             "#46039f"
            ],
            [
             0.2222222222222222,
             "#7201a8"
            ],
            [
             0.3333333333333333,
             "#9c179e"
            ],
            [
             0.4444444444444444,
             "#bd3786"
            ],
            [
             0.5555555555555556,
             "#d8576b"
            ],
            [
             0.6666666666666666,
             "#ed7953"
            ],
            [
             0.7777777777777778,
             "#fb9f3a"
            ],
            [
             0.8888888888888888,
             "#fdca26"
            ],
            [
             1,
             "#f0f921"
            ]
           ],
           "sequentialminus": [
            [
             0,
             "#0d0887"
            ],
            [
             0.1111111111111111,
             "#46039f"
            ],
            [
             0.2222222222222222,
             "#7201a8"
            ],
            [
             0.3333333333333333,
             "#9c179e"
            ],
            [
             0.4444444444444444,
             "#bd3786"
            ],
            [
             0.5555555555555556,
             "#d8576b"
            ],
            [
             0.6666666666666666,
             "#ed7953"
            ],
            [
             0.7777777777777778,
             "#fb9f3a"
            ],
            [
             0.8888888888888888,
             "#fdca26"
            ],
            [
             1,
             "#f0f921"
            ]
           ]
          },
          "colorway": [
           "#636efa",
           "#EF553B",
           "#00cc96",
           "#ab63fa",
           "#FFA15A",
           "#19d3f3",
           "#FF6692",
           "#B6E880",
           "#FF97FF",
           "#FECB52"
          ],
          "font": {
           "color": "#2a3f5f"
          },
          "geo": {
           "bgcolor": "white",
           "lakecolor": "white",
           "landcolor": "#E5ECF6",
           "showlakes": true,
           "showland": true,
           "subunitcolor": "white"
          },
          "hoverlabel": {
           "align": "left"
          },
          "hovermode": "closest",
          "mapbox": {
           "style": "light"
          },
          "paper_bgcolor": "white",
          "plot_bgcolor": "#E5ECF6",
          "polar": {
           "angularaxis": {
            "gridcolor": "white",
            "linecolor": "white",
            "ticks": ""
           },
           "bgcolor": "#E5ECF6",
           "radialaxis": {
            "gridcolor": "white",
            "linecolor": "white",
            "ticks": ""
           }
          },
          "scene": {
           "xaxis": {
            "backgroundcolor": "#E5ECF6",
            "gridcolor": "white",
            "gridwidth": 2,
            "linecolor": "white",
            "showbackground": true,
            "ticks": "",
            "zerolinecolor": "white"
           },
           "yaxis": {
            "backgroundcolor": "#E5ECF6",
            "gridcolor": "white",
            "gridwidth": 2,
            "linecolor": "white",
            "showbackground": true,
            "ticks": "",
            "zerolinecolor": "white"
           },
           "zaxis": {
            "backgroundcolor": "#E5ECF6",
            "gridcolor": "white",
            "gridwidth": 2,
            "linecolor": "white",
            "showbackground": true,
            "ticks": "",
            "zerolinecolor": "white"
           }
          },
          "shapedefaults": {
           "line": {
            "color": "#2a3f5f"
           }
          },
          "ternary": {
           "aaxis": {
            "gridcolor": "white",
            "linecolor": "white",
            "ticks": ""
           },
           "baxis": {
            "gridcolor": "white",
            "linecolor": "white",
            "ticks": ""
           },
           "bgcolor": "#E5ECF6",
           "caxis": {
            "gridcolor": "white",
            "linecolor": "white",
            "ticks": ""
           }
          },
          "title": {
           "x": 0.05
          },
          "xaxis": {
           "automargin": true,
           "gridcolor": "white",
           "linecolor": "white",
           "ticks": "",
           "title": {
            "standoff": 15
           },
           "zerolinecolor": "white",
           "zerolinewidth": 2
          },
          "yaxis": {
           "automargin": true,
           "gridcolor": "white",
           "linecolor": "white",
           "ticks": "",
           "title": {
            "standoff": 15
           },
           "zerolinecolor": "white",
           "zerolinewidth": 2
          }
         }
        },
        "title": {
         "font": {
          "size": 22
         },
         "text": "Anthony Edwards vs DEN 2024",
         "x": 0.5
        },
        "width": 1200,
        "xaxis": {
         "anchor": "y",
         "autorange": true,
         "domain": [
          0,
          0.45
         ],
         "range": [
          0.6042820781554125,
          7.395717921844588
         ],
         "showgrid": false,
         "type": "linear"
        },
        "xaxis2": {
         "anchor": "y2",
         "autorange": true,
         "domain": [
          0.55,
          1
         ],
         "range": [
          0.6042820781554123,
          7.395717921844588
         ],
         "showgrid": false,
         "type": "linear"
        },
        "xaxis3": {
         "anchor": "y3",
         "autorange": true,
         "domain": [
          0,
          0.45
         ],
         "range": [
          0.6042820781554125,
          7.395717921844588
         ],
         "showgrid": false,
         "type": "linear"
        },
        "xaxis4": {
         "anchor": "y4",
         "autorange": true,
         "domain": [
          0.55,
          1
         ],
         "range": [
          0.6042820781554123,
          7.395717921844588
         ],
         "showgrid": false,
         "type": "linear"
        },
        "xaxis5": {
         "anchor": "y5",
         "autorange": true,
         "domain": [
          0,
          0.45
         ],
         "range": [
          0.6042820781554125,
          7.395717921844588
         ],
         "showgrid": false,
         "type": "linear"
        },
        "xaxis6": {
         "anchor": "y6",
         "autorange": true,
         "domain": [
          0.55,
          1
         ],
         "range": [
          0.6042820781554123,
          7.395717921844588
         ],
         "showgrid": false,
         "type": "linear"
        },
        "yaxis": {
         "anchor": "x",
         "autorange": true,
         "domain": [
          0.7777777777777778,
          1
         ],
         "range": [
          0.6395239662586136,
          3.5520183222986006
         ],
         "showgrid": false,
         "type": "linear"
        },
        "yaxis2": {
         "anchor": "x2",
         "autorange": true,
         "domain": [
          0.7777777777777778,
          1
         ],
         "range": [
          -11.513994910941479,
          161.51399491094148
         ],
         "showgrid": false,
         "type": "linear"
        },
        "yaxis3": {
         "anchor": "x3",
         "autorange": true,
         "domain": [
          0.3888888888888889,
          0.6111111111111112
         ],
         "range": [
          8.825820442895624,
          44.58193118723978
         ],
         "showgrid": false,
         "type": "linear"
        },
        "yaxis4": {
         "anchor": "x4",
         "autorange": true,
         "domain": [
          0.3888888888888889,
          0.6111111111111112
         ],
         "range": [
          13.342925804757867,
          81.18088371905166
         ],
         "showgrid": false,
         "type": "linear"
        },
        "yaxis5": {
         "anchor": "x5",
         "autorange": true,
         "domain": [
          0,
          0.22222222222222224
         ],
         "range": [
          -0.9463557461047789,
          13.27512286939245
         ],
         "showgrid": false,
         "type": "linear"
        },
        "yaxis6": {
         "anchor": "x6",
         "autorange": true,
         "domain": [
          0,
          0.22222222222222224
         ],
         "range": [
          -7.675996607294318,
          107.67599660729432
         ],
         "showgrid": false,
         "type": "linear"
        }
       }
      },
      "image/png": "[encoded data removed]",
      "text/html": [
       "<div>                            <div id=\"e1b6eec2-106d-4703-8acf-7a4ceea21199\" class=\"plotly-graph-div\" style=\"height:1200px; width:1200px;\"></div>            <script type=\"text/javascript\">                require([\"plotly\"], function(Plotly) {                    window.PLOTLYENV=window.PLOTLYENV || {};                                    if (document.getElementById(\"e1b6eec2-106d-4703-8acf-7a4ceea21199\")) {                    Plotly.newPlot(                        \"e1b6eec2-106d-4703-8acf-7a4ceea21199\",                        [{\"line\":{\"color\":\"#1f77b4\",\"shape\":\"spline\",\"width\":2},\"mode\":\"lines+markers\",\"name\":\"Wide Open 3P%\",\"showlegend\":false,\"x\":[1,2,3,4,5,6,7],\"y\":[0.9146341463414634,1.0273972602739727,3.125,0.8333333333333334,1.8072289156626506,3.3582089552238807,2.7777777777777777],\"type\":\"scatter\",\"xaxis\":\"x\",\"yaxis\":\"y\"},{\"line\":{\"color\":\"#1f77b4\",\"dash\":\"dot\",\"width\":2},\"mode\":\"lines\",\"showlegend\":false,\"x\":[1,2,3,4,5,6,7],\"y\":[2.405286343612335,2.405286343612335,2.405286343612335,2.405286343612335,2.405286343612335,2.405286343612335,2.405286343612335],\"type\":\"scatter\",\"xaxis\":\"x\",\"yaxis\":\"y\"},{\"line\":{\"color\":\"#1f77b4\",\"shape\":\"spline\",\"width\":2},\"mode\":\"lines+markers\",\"name\":\"Wide Open 3P%\",\"showlegend\":false,\"x\":[1,2,3,4,5,6,7],\"y\":[0.0,0.0,100.0,150.0,0.0,50.0,50.0],\"type\":\"scatter\",\"xaxis\":\"x2\",\"yaxis\":\"y2\"},{\"line\":{\"color\":\"#1f77b4\",\"dash\":\"dot\",\"width\":2},\"mode\":\"lines\",\"showlegend\":false,\"x\":[1,2,3,4,5,6,7],\"y\":[59.099999999999994,59.099999999999994,59.099999999999994,59.099999999999994,59.099999999999994,59.099999999999994,59.099999999999994],\"type\":\"scatter\",\"xaxis\":\"x2\",\"yaxis\":\"y2\"},{\"line\":{\"color\":\"#9467bd\",\"shape\":\"spline\",\"width\":2},\"mode\":\"lines+markers\",\"name\":\"Pull-Up Frequency\",\"showlegend\":false,\"x\":[1,2,3,4,5,6,7],\"y\":[35.556257901390644,11.205179282868526,30.0,31.55680224403927,32.39740820734341,32.89473684210527,42.20257234726688],\"type\":\"scatter\",\"xaxis\":\"x3\",\"yaxis\":\"y3\"},{\"line\":{\"color\":\"#9467bd\",\"dash\":\"dot\",\"width\":2},\"mode\":\"lines\",\"showlegend\":false,\"x\":[1,2,3,4,5,6,7],\"y\":[31.21068829185012,31.21068829185012,31.21068829185012,31.21068829185012,31.21068829185012,31.21068829185012,31.21068829185012],\"type\":\"scatter\",\"xaxis\":\"x3\",\"yaxis\":\"y3\"},{\"line\":{\"color\":\"#8c564b\",\"shape\":\"spline\",\"width\":2},\"mode\":\"lines+markers\",\"name\":\"Pull-Up eFG%\",\"showlegend\":false,\"x\":[1,2,3,4,5,6,7],\"y\":[76.66666666666667,33.333333333333336,41.666666666666664,66.66666666666667,43.75,61.111111111111114,17.857142857142858],\"type\":\"scatter\",\"xaxis\":\"x4\",\"yaxis\":\"y4\"},{\"line\":{\"color\":\"#8c564b\",\"dash\":\"dot\",\"width\":2},\"mode\":\"lines\",\"showlegend\":false,\"x\":[1,2,3,4,5,6,7],\"y\":[44.26450742240216,44.26450742240216,44.26450742240216,44.26450742240216,44.26450742240216,44.26450742240216,44.26450742240216],\"type\":\"scatter\",\"xaxis\":\"x4\",\"yaxis\":\"y4\"},{\"line\":{\"color\":\"#1f77b4\",\"shape\":\"spline\",\"width\":2},\"mode\":\"lines+markers\",\"name\":\"RA Frequency\",\"showlegend\":false,\"x\":[1,2,3,4,5,6,7],\"y\":[7.317073170731708,12.32876712328767,5.208333333333334,9.166666666666666,3.6144578313253013,4.477611940298507,5.555555555555555],\"type\":\"scatter\",\"xaxis\":\"x5\",\"yaxis\":\"y5\"},{\"line\":{\"color\":\"#2ca02c\",\"shape\":\"spline\",\"width\":2},\"mode\":\"lines+markers\",\"name\":\"SMR Frequency\",\"showlegend\":false,\"x\":[1,2,3,4,5,6,7],\"y\":[7.317073170731708,1.0273972602739725,1.0416666666666665,5.0,4.518072289156627,3.3582089552238803,2.7777777777777777],\"type\":\"scatter\",\"xaxis\":\"x5\",\"yaxis\":\"y5\"},{\"line\":{\"color\":\"#d62728\",\"shape\":\"spline\",\"width\":2},\"mode\":\"lines+markers\",\"name\":\"LMR Frequency\",\"showlegend\":false,\"x\":[1,2,3,4,5,6,7],\"y\":[8.231707317073171,0.0,2.083333333333333,0.8333333333333334,2.710843373493976,5.597014925373134,10.185185185185185],\"type\":\"scatter\",\"xaxis\":\"x5\",\"yaxis\":\"y5\"},{\"line\":{\"color\":\"#9467bd\",\"shape\":\"spline\",\"width\":2},\"mode\":\"lines+markers\",\"name\":\"3PA Frequency\",\"showlegend\":false,\"x\":[1,2,3,4,5,6,7],\"y\":[null,null,null,5.833333333333333,2.710843373493976,5.597014925373134,null],\"type\":\"scatter\",\"xaxis\":\"x5\",\"yaxis\":\"y5\"},{\"line\":{\"color\":\"#1f77b4\",\"dash\":\"dot\",\"width\":2},\"mode\":\"lines\",\"showlegend\":false,\"x\":[1,2,3,4,5,6,7],\"y\":[6.290748898678414,6.290748898678414,6.290748898678414,6.290748898678414,6.290748898678414,6.290748898678414,6.290748898678414],\"type\":\"scatter\",\"xaxis\":\"x5\",\"yaxis\":\"y5\"},{\"line\":{\"color\":\"#2ca02c\",\"dash\":\"dot\",\"width\":2},\"mode\":\"lines\",\"showlegend\":false,\"x\":[1,2,3,4,5,6,7],\"y\":[4.4801762114537445,4.4801762114537445,4.4801762114537445,4.4801762114537445,4.4801762114537445,4.4801762114537445,4.4801762114537445],\"type\":\"scatter\",\"xaxis\":\"x5\",\"yaxis\":\"y5\"},{\"line\":{\"color\":\"#d62728\",\"dash\":\"dot\",\"width\":2},\"mode\":\"lines\",\"showlegend\":false,\"x\":[1,2,3,4,5,6,7],\"y\":[4.982378854625551,4.982378854625551,4.982378854625551,4.982378854625551,4.982378854625551,4.982378854625551,4.982378854625551],\"type\":\"scatter\",\"xaxis\":\"x5\",\"yaxis\":\"y5\"},{\"line\":{\"color\":\"#9467bd\",\"dash\":\"dot\",\"width\":2},\"mode\":\"lines\",\"showlegend\":false,\"x\":[1,2,3,4,5,6,7],\"y\":[4.837004405286344,4.837004405286344,4.837004405286344,4.837004405286344,4.837004405286344,4.837004405286344,4.837004405286344],\"type\":\"scatter\",\"xaxis\":\"x5\",\"yaxis\":\"y5\"},{\"line\":{\"color\":\"#1f77b4\",\"shape\":\"spline\",\"width\":2},\"mode\":\"lines+markers\",\"name\":\"RA\",\"showlegend\":true,\"x\":[1,2,3,4,5,6,7],\"y\":[87.5,75.0,80.0,81.81818181818181,50.0,75.0,50.0],\"type\":\"scatter\",\"xaxis\":\"x6\",\"yaxis\":\"y6\"},{\"line\":{\"color\":\"#2ca02c\",\"shape\":\"spline\",\"width\":2},\"mode\":\"lines+markers\",\"name\":\"SMR\",\"showlegend\":true,\"x\":[1,2,3,4,5,6,7],\"y\":[37.5,100.0,0.0,33.333333333333336,40.0,33.333333333333336,0.0],\"type\":\"scatter\",\"xaxis\":\"x6\",\"yaxis\":\"y6\"},{\"line\":{\"color\":\"#d62728\",\"shape\":\"spline\",\"width\":2},\"mode\":\"lines+markers\",\"name\":\"LMR\",\"showlegend\":true,\"x\":[1,2,3,4,5,6,7],\"y\":[55.55555555555556,null,100.0,100.0,0.0,60.0,18.181818181818183],\"type\":\"scatter\",\"xaxis\":\"x6\",\"yaxis\":\"y6\"},{\"line\":{\"color\":\"#9467bd\",\"shape\":\"spline\",\"width\":2},\"mode\":\"lines+markers\",\"name\":\"3P\",\"showlegend\":true,\"x\":[1,2,3,4,5,6,7],\"y\":[null,null,null,57.142857142857146,33.333333333333336,20.0,null],\"type\":\"scatter\",\"xaxis\":\"x6\",\"yaxis\":\"y6\"},{\"line\":{\"color\":\"#1f77b4\",\"dash\":\"dot\",\"width\":2},\"mode\":\"lines\",\"showlegend\":false,\"x\":[1,2,3,4,5,6,7],\"y\":[64.70588235294117,64.70588235294117,64.70588235294117,64.70588235294117,64.70588235294117,64.70588235294117,64.70588235294117],\"type\":\"scatter\",\"xaxis\":\"x6\",\"yaxis\":\"y6\"},{\"line\":{\"color\":\"#2ca02c\",\"dash\":\"dot\",\"width\":2},\"mode\":\"lines\",\"showlegend\":false,\"x\":[1,2,3,4,5,6,7],\"y\":[42.182890855457224,42.182890855457224,42.182890855457224,42.182890855457224,42.182890855457224,42.182890855457224,42.182890855457224],\"type\":\"scatter\",\"xaxis\":\"x6\",\"yaxis\":\"y6\"},{\"line\":{\"color\":\"#d62728\",\"dash\":\"dot\",\"width\":2},\"mode\":\"lines\",\"showlegend\":false,\"x\":[1,2,3,4,5,6,7],\"y\":[35.278514588859416,35.278514588859416,35.278514588859416,35.278514588859416,35.278514588859416,35.278514588859416,35.278514588859416],\"type\":\"scatter\",\"xaxis\":\"x6\",\"yaxis\":\"y6\"},{\"line\":{\"color\":\"#9467bd\",\"dash\":\"dot\",\"width\":2},\"mode\":\"lines\",\"showlegend\":false,\"x\":[1,2,3,4,5,6,7],\"y\":[36.612021857923494,36.612021857923494,36.612021857923494,36.612021857923494,36.612021857923494,36.612021857923494,36.612021857923494],\"type\":\"scatter\",\"xaxis\":\"x6\",\"yaxis\":\"y6\"}],                        {\"template\":{\"data\":{\"histogram2dcontour\":[{\"type\":\"histogram2dcontour\",\"colorbar\":{\"outlinewidth\":0,\"ticks\":\"\"},\"colorscale\":[[0.0,\"#0d0887\"],[0.1111111111111111,\"#46039f\"],[0.2222222222222222,\"#7201a8\"],[0.3333333333333333,\"#9c179e\"],[0.4444444444444444,\"#bd3786\"],[0.5555555555555556,\"#d8576b\"],[0.6666666666666666,\"#ed7953\"],[0.7777777777777778,\"#fb9f3a\"],[0.8888888888888888,\"#fdca26\"],[1.0,\"#f0f921\"]]}],\"choropleth\":[{\"type\":\"choropleth\",\"colorbar\":{\"outlinewidth\":0,\"ticks\":\"\"}}],\"histogram2d\":[{\"type\":\"histogram2d\",\"colorbar\":{\"outlinewidth\":0,\"ticks\":\"\"},\"colorscale\":[[0.0,\"#0d0887\"],[0.1111111111111111,\"#46039f\"],[0.2222222222222222,\"#7201a8\"],[0.3333333333333333,\"#9c179e\"],[0.4444444444444444,\"#bd3786\"],[0.5555555555555556,\"#d8576b\"],[0.6666666666666666,\"#ed7953\"],[0.7777777777777778,\"#fb9f3a\"],[0.8888888888888888,\"#fdca26\"],[1.0,\"#f0f921\"]]}],\"heatmap\":[{\"type\":\"heatmap\",\"colorbar\":{\"outlinewidth\":0,\"ticks\":\"\"},\"colorscale\":[[0.0,\"#0d0887\"],[0.1111111111111111,\"#46039f\"],[0.2222222222222222,\"#7201a8\"],[0.3333333333333333,\"#9c179e\"],[0.4444444444444444,\"#bd3786\"],[0.5555555555555556,\"#d8576b\"],[0.6666666666666666,\"#ed7953\"],[0.7777777777777778,\"#fb9f3a\"],[0.8888888888888888,\"#fdca26\"],[1.0,\"#f0f921\"]]}],\"heatmapgl\":[{\"type\":\"heatmapgl\",\"colorbar\":{\"outlinewidth\":0,\"ticks\":\"\"},\"colorscale\":[[0.0,\"#0d0887\"],[0.1111111111111111,\"#46039f\"],[0.2222222222222222,\"#7201a8\"],[0.3333333333333333,\"#9c179e\"],[0.4444444444444444,\"#bd3786\"],[0.5555555555555556,\"#d8576b\"],[0.6666666666666666,\"#ed7953\"],[0.7777777777777778,\"#fb9f3a\"],[0.8888888888888888,\"#fdca26\"],[1.0,\"#f0f921\"]]}],\"contourcarpet\":[{\"type\":\"contourcarpet\",\"colorbar\":{\"outlinewidth\":0,\"ticks\":\"\"}}],\"contour\":[{\"type\":\"contour\",\"colorbar\":{\"outlinewidth\":0,\"ticks\":\"\"},\"colorscale\":[[0.0,\"#0d0887\"],[0.1111111111111111,\"#46039f\"],[0.2222222222222222,\"#7201a8\"],[0.3333333333333333,\"#9c179e\"],[0.4444444444444444,\"#bd3786\"],[0.5555555555555556,\"#d8576b\"],[0.6666666666666666,\"#ed7953\"],[0.7777777777777778,\"#fb9f3a\"],[0.8888888888888888,\"#fdca26\"],[1.0,\"#f0f921\"]]}],\"surface\":[{\"type\":\"surface\",\"colorbar\":{\"outlinewidth\":0,\"ticks\":\"\"},\"colorscale\":[[0.0,\"#0d0887\"],[0.1111111111111111,\"#46039f\"],[0.2222222222222222,\"#7201a8\"],[0.3333333333333333,\"#9c179e\"],[0.4444444444444444,\"#bd3786\"],[0.5555555555555556,\"#d8576b\"],[0.6666666666666666,\"#ed7953\"],[0.7777777777777778,\"#fb9f3a\"],[0.8888888888888888,\"#fdca26\"],[1.0,\"#f0f921\"]]}],\"mesh3d\":[{\"type\":\"mesh3d\",\"colorbar\":{\"outlinewidth\":0,\"ticks\":\"\"}}],\"scatter\":[{\"fillpattern\":{\"fillmode\":\"overlay\",\"size\":10,\"solidity\":0.2},\"type\":\"scatter\"}],\"parcoords\":[{\"type\":\"parcoords\",\"line\":{\"colorbar\":{\"outlinewidth\":0,\"ticks\":\"\"}}}],\"scatterpolargl\":[{\"type\":\"scatterpolargl\",\"marker\":{\"colorbar\":{\"outlinewidth\":0,\"ticks\":\"\"}}}],\"bar\":[{\"error_x\":{\"color\":\"#2a3f5f\"},\"error_y\":{\"color\":\"#2a3f5f\"},\"marker\":{\"line\":{\"color\":\"#E5ECF6\",\"width\":0.5},\"pattern\":{\"fillmode\":\"overlay\",\"size\":10,\"solidity\":0.2}},\"type\":\"bar\"}],\"scattergeo\":[{\"type\":\"scattergeo\",\"marker\":{\"colorbar\":{\"outlinewidth\":0,\"ticks\":\"\"}}}],\"scatterpolar\":[{\"type\":\"scatterpolar\",\"marker\":{\"colorbar\":{\"outlinewidth\":0,\"ticks\":\"\"}}}],\"histogram\":[{\"marker\":{\"pattern\":{\"fillmode\":\"overlay\",\"size\":10,\"solidity\":0.2}},\"type\":\"histogram\"}],\"scattergl\":[{\"type\":\"scattergl\",\"marker\":{\"colorbar\":{\"outlinewidth\":0,\"ticks\":\"\"}}}],\"scatter3d\":[{\"type\":\"scatter3d\",\"line\":{\"colorbar\":{\"outlinewidth\":0,\"ticks\":\"\"}},\"marker\":{\"colorbar\":{\"outlinewidth\":0,\"ticks\":\"\"}}}],\"scattermapbox\":[{\"type\":\"scattermapbox\",\"marker\":{\"colorbar\":{\"outlinewidth\":0,\"ticks\":\"\"}}}],\"scatterternary\":[{\"type\":\"scatterternary\",\"marker\":{\"colorbar\":{\"outlinewidth\":0,\"ticks\":\"\"}}}],\"scattercarpet\":[{\"type\":\"scattercarpet\",\"marker\":{\"colorbar\":{\"outlinewidth\":0,\"ticks\":\"\"}}}],\"carpet\":[{\"aaxis\":{\"endlinecolor\":\"#2a3f5f\",\"gridcolor\":\"white\",\"linecolor\":\"white\",\"minorgridcolor\":\"white\",\"startlinecolor\":\"#2a3f5f\"},\"baxis\":{\"endlinecolor\":\"#2a3f5f\",\"gridcolor\":\"white\",\"linecolor\":\"white\",\"minorgridcolor\":\"white\",\"startlinecolor\":\"#2a3f5f\"},\"type\":\"carpet\"}],\"table\":[{\"cells\":{\"fill\":{\"color\":\"#EBF0F8\"},\"line\":{\"color\":\"white\"}},\"header\":{\"fill\":{\"color\":\"#C8D4E3\"},\"line\":{\"color\":\"white\"}},\"type\":\"table\"}],\"barpolar\":[{\"marker\":{\"line\":{\"color\":\"#E5ECF6\",\"width\":0.5},\"pattern\":{\"fillmode\":\"overlay\",\"size\":10,\"solidity\":0.2}},\"type\":\"barpolar\"}],\"pie\":[{\"automargin\":true,\"type\":\"pie\"}]},\"layout\":{\"autotypenumbers\":\"strict\",\"colorway\":[\"#636efa\",\"#EF553B\",\"#00cc96\",\"#ab63fa\",\"#FFA15A\",\"#19d3f3\",\"#FF6692\",\"#B6E880\",\"#FF97FF\",\"#FECB52\"],\"font\":{\"color\":\"#2a3f5f\"},\"hovermode\":\"closest\",\"hoverlabel\":{\"align\":\"left\"},\"paper_bgcolor\":\"white\",\"plot_bgcolor\":\"#E5ECF6\",\"polar\":{\"bgcolor\":\"#E5ECF6\",\"angularaxis\":{\"gridcolor\":\"white\",\"linecolor\":\"white\",\"ticks\":\"\"},\"radialaxis\":{\"gridcolor\":\"white\",\"linecolor\":\"white\",\"ticks\":\"\"}},\"ternary\":{\"bgcolor\":\"#E5ECF6\",\"aaxis\":{\"gridcolor\":\"white\",\"linecolor\":\"white\",\"ticks\":\"\"},\"baxis\":{\"gridcolor\":\"white\",\"linecolor\":\"white\",\"ticks\":\"\"},\"caxis\":{\"gridcolor\":\"white\",\"linecolor\":\"white\",\"ticks\":\"\"}},\"coloraxis\":{\"colorbar\":{\"outlinewidth\":0,\"ticks\":\"\"}},\"colorscale\":{\"sequential\":[[0.0,\"#0d0887\"],[0.1111111111111111,\"#46039f\"],[0.2222222222222222,\"#7201a8\"],[0.3333333333333333,\"#9c179e\"],[0.4444444444444444,\"#bd3786\"],[0.5555555555555556,\"#d8576b\"],[0.6666666666666666,\"#ed7953\"],[0.7777777777777778,\"#fb9f3a\"],[0.8888888888888888,\"#fdca26\"],[1.0,\"#f0f921\"]],\"sequentialminus\":[[0.0,\"#0d0887\"],[0.1111111111111111,\"#46039f\"],[0.2222222222222222,\"#7201a8\"],[0.3333333333333333,\"#9c179e\"],[0.4444444444444444,\"#bd3786\"],[0.5555555555555556,\"#d8576b\"],[0.6666666666666666,\"#ed7953\"],[0.7777777777777778,\"#fb9f3a\"],[0.8888888888888888,\"#fdca26\"],[1.0,\"#f0f921\"]],\"diverging\":[[0,\"#8e0152\"],[0.1,\"#c51b7d\"],[0.2,\"#de77ae\"],[0.3,\"#f1b6da\"],[0.4,\"#fde0ef\"],[0.5,\"#f7f7f7\"],[0.6,\"#e6f5d0\"],[0.7,\"#b8e186\"],[0.8,\"#7fbc41\"],[0.9,\"#4d9221\"],[1,\"#276419\"]]},\"xaxis\":{\"gridcolor\":\"white\",\"linecolor\":\"white\",\"ticks\":\"\",\"title\":{\"standoff\":15},\"zerolinecolor\":\"white\",\"automargin\":true,\"zerolinewidth\":2},\"yaxis\":{\"gridcolor\":\"white\",\"linecolor\":\"white\",\"ticks\":\"\",\"title\":{\"standoff\":15},\"zerolinecolor\":\"white\",\"automargin\":true,\"zerolinewidth\":2},\"scene\":{\"xaxis\":{\"backgroundcolor\":\"#E5ECF6\",\"gridcolor\":\"white\",\"linecolor\":\"white\",\"showbackground\":true,\"ticks\":\"\",\"zerolinecolor\":\"white\",\"gridwidth\":2},\"yaxis\":{\"backgroundcolor\":\"#E5ECF6\",\"gridcolor\":\"white\",\"linecolor\":\"white\",\"showbackground\":true,\"ticks\":\"\",\"zerolinecolor\":\"white\",\"gridwidth\":2},\"zaxis\":{\"backgroundcolor\":\"#E5ECF6\",\"gridcolor\":\"white\",\"linecolor\":\"white\",\"showbackground\":true,\"ticks\":\"\",\"zerolinecolor\":\"white\",\"gridwidth\":2}},\"shapedefaults\":{\"line\":{\"color\":\"#2a3f5f\"}},\"annotationdefaults\":{\"arrowcolor\":\"#2a3f5f\",\"arrowhead\":0,\"arrowwidth\":1},\"geo\":{\"bgcolor\":\"white\",\"landcolor\":\"#E5ECF6\",\"subunitcolor\":\"white\",\"showland\":true,\"showlakes\":true,\"lakecolor\":\"white\"},\"title\":{\"x\":0.05},\"mapbox\":{\"style\":\"light\"}}},\"xaxis\":{\"anchor\":\"y\",\"domain\":[0.0,0.45],\"showgrid\":false},\"yaxis\":{\"anchor\":\"x\",\"domain\":[0.7777777777777778,1.0],\"showgrid\":false},\"xaxis2\":{\"anchor\":\"y2\",\"domain\":[0.55,1.0],\"showgrid\":false},\"yaxis2\":{\"anchor\":\"x2\",\"domain\":[0.7777777777777778,1.0],\"showgrid\":false},\"xaxis3\":{\"anchor\":\"y3\",\"domain\":[0.0,0.45],\"showgrid\":false},\"yaxis3\":{\"anchor\":\"x3\",\"domain\":[0.3888888888888889,0.6111111111111112],\"showgrid\":false},\"xaxis4\":{\"anchor\":\"y4\",\"domain\":[0.55,1.0],\"showgrid\":false},\"yaxis4\":{\"anchor\":\"x4\",\"domain\":[0.3888888888888889,0.6111111111111112],\"showgrid\":false},\"xaxis5\":{\"anchor\":\"y5\",\"domain\":[0.0,0.45],\"showgrid\":false},\"yaxis5\":{\"anchor\":\"x5\",\"domain\":[0.0,0.22222222222222224],\"showgrid\":false},\"xaxis6\":{\"anchor\":\"y6\",\"domain\":[0.55,1.0],\"showgrid\":false},\"yaxis6\":{\"anchor\":\"x6\",\"domain\":[0.0,0.22222222222222224],\"showgrid\":false},\"annotations\":[{\"font\":{\"size\":16},\"showarrow\":false,\"text\":\"Catch and Shoot Frequency\",\"x\":0.225,\"xanchor\":\"center\",\"xref\":\"paper\",\"y\":1.0,\"yanchor\":\"bottom\",\"yref\":\"paper\"},{\"font\":{\"size\":16},\"showarrow\":false,\"text\":\"Catch and Shoot Percentage\",\"x\":0.775,\"xanchor\":\"center\",\"xref\":\"paper\",\"y\":1.0,\"yanchor\":\"bottom\",\"yref\":\"paper\"},{\"font\":{\"size\":16},\"showarrow\":false,\"text\":\"Pull-Up Frequency\",\"x\":0.225,\"xanchor\":\"center\",\"xref\":\"paper\",\"y\":0.6111111111111112,\"yanchor\":\"bottom\",\"yref\":\"paper\"},{\"font\":{\"size\":16},\"showarrow\":false,\"text\":\"Pull-Up Percentage\",\"x\":0.775,\"xanchor\":\"center\",\"xref\":\"paper\",\"y\":0.6111111111111112,\"yanchor\":\"bottom\",\"yref\":\"paper\"},{\"font\":{\"size\":16},\"showarrow\":false,\"text\":\"Shooting Location Frequency\",\"x\":0.225,\"xanchor\":\"center\",\"xref\":\"paper\",\"y\":0.22222222222222224,\"yanchor\":\"bottom\",\"yref\":\"paper\"},{\"font\":{\"size\":16},\"showarrow\":false,\"text\":\"Shooting Location FG%\",\"x\":0.775,\"xanchor\":\"center\",\"xref\":\"paper\",\"y\":0.22222222222222224,\"yanchor\":\"bottom\",\"yref\":\"paper\"}],\"title\":{\"font\":{\"size\":22},\"text\":\"Anthony Edwards vs DEN 2024\",\"x\":0.5},\"font\":{\"family\":\"Malgun Gothic\",\"size\":16,\"color\":\"#ffffff\"},\"height\":1200,\"width\":1200,\"paper_bgcolor\":\"#211a1d\",\"plot_bgcolor\":\"#211a1d\"},                        {\"responsive\": true}                    ).then(function(){\n",
       "                            \n",
       "var gd = document.getElementById('e1b6eec2-106d-4703-8acf-7a4ceea21199');\n",
       "var x = new MutationObserver(function (mutations, observer) {{\n",
       "        var display = window.getComputedStyle(gd).display;\n",
       "        if (!display || display === 'none') {{\n",
       "            console.log([gd, 'removed!']);\n",
       "            Plotly.purge(gd);\n",
       "            observer.disconnect();\n",
       "        }}\n",
       "}});\n",
       "\n",
       "// Listen for the removal of the full notebook cells\n",
       "var notebookContainer = gd.closest('#notebook-container');\n",
       "if (notebookContainer) {{\n",
       "    x.observe(notebookContainer, {childList: true});\n",
       "}}\n",
       "\n",
       "// Listen for the clearing of the current output cell\n",
       "var outputEl = gd.closest('.output');\n",
       "if (outputEl) {{\n",
       "    x.observe(outputEl, {childList: true});\n",
       "}}\n",
       "\n",
       "                        })                };                });            </script>        </div>"
      ]
     },
     "metadata": {},
     "output_type": "display_data"
    }
   ],
   "source": [
    "import pandas as pd\n",
    "import plotly.graph_objects as go\n",
    "from plotly.subplots import make_subplots\n",
    "\n",
    "def convert_to_full_team_names(team_string):\n",
    "    # Dictionary mapping abbreviations to full NBA team names\n",
    "    team_map = {\n",
    "        'ATL': 'Atlanta Hawks',\n",
    "        'BOS': 'Boston Celtics',\n",
    "        'BKN': 'Brooklyn Nets',\n",
    "        'CHA': 'Charlotte Hornets',\n",
    "        'CHI': 'Chicago Bulls',\n",
    "        'CLE': 'Cleveland Cavaliers',\n",
    "        'DAL': 'Dallas Mavericks',\n",
    "        'DEN': 'Denver Nuggets',\n",
    "        'DET': 'Detroit Pistons',\n",
    "        'GSW': 'Golden State Warriors',\n",
    "        'HOU': 'Houston Rockets',\n",
    "        'IND': 'Indiana Pacers',\n",
    "        'LAC': 'Los Angeles Clippers',\n",
    "        'LAL': 'Los Angeles Lakers',\n",
    "        'MEM': 'Memphis Grizzlies',\n",
    "        'MIA': 'Miami Heat',\n",
    "        'MIL': 'Milwaukee Bucks',\n",
    "        'MIN': 'Minnesota Timberwolves',\n",
    "        'NOP': 'New Orleans Pelicans',\n",
    "        'NYK': 'New York Knicks',\n",
    "        'OKC': 'Oklahoma City Thunder',\n",
    "        'ORL': 'Orlando Magic',\n",
    "        'PHI': 'Philadelphia 76ers',\n",
    "        'PHX': 'Phoenix Suns',\n",
    "        'POR': 'Portland Trail Blazers',\n",
    "        'SAC': 'Sacramento Kings',\n",
    "        'SAS': 'San Antonio Spurs',\n",
    "        'TOR': 'Toronto Raptors',\n",
    "        'UTA': 'Utah Jazz',\n",
    "        'WAS': 'Washington Wizards'\n",
    "    }\n",
    "\n",
    "\n",
    "    # Split the input string into parts (team abbreviations and year)\n",
    "    parts = team_string.split('_')\n",
    "\n",
    "    # Extract team abbreviations (OKC, DAL) and ignore the year (2024)\n",
    "    teams = parts[:-1]\n",
    "    \n",
    "    # Get the full team names using the dictionary\n",
    "    full_team_names = [team_map.get(team, team) for team in teams]\n",
    "\n",
    "    # Underline the first team name and join the rest with <br>\n",
    "    full_team_names[0] = f\"<span style='text-decoration:underline;'>{full_team_names[0]}</span>\"\n",
    "\n",
    "    full_team_names[0]= parts[-1]+' '+ full_team_names[0]\n",
    "\n",
    "\n",
    "    full_team_names[1]= 'vs ' +full_team_names[1]\n",
    "    \n",
    "    \n",
    "    # Join the full names with <br> and return\n",
    "    return '<br>'.join(full_team_names)\n",
    "\n",
    "\n",
    "def format_data_shot(series_data):\n",
    "    series_data['rimfga']=series_data['RA_FGA']\n",
    "    series_data['TSA']=series_data['FGA']+(series_data['FTA']*.44)\n",
    "    series_data['ft_freq']=100* series_data['FTA']/series_data['TSA']\n",
    "    series_data['rim_freq']=100* series_data['FGA_LT_5']/series_data['TSA']\n",
    "    series_data['pullup_freq']=75* series_data['PULL_UP_FGA']/series_data['TSA']\n",
    "    \n",
    "    series_data['ft_rate']=75* series_data['FTA']/series_data['POSS']\n",
    "    series_data['rim_rate']=75* series_data['FGA_LT_5']/series_data['POSS']\n",
    "    series_data['pullup_rate']=75* series_data['PULL_UP_FGA']/series_data['POSS']   \n",
    "    series_data['open_FG3_freq']=100* series_data['open_FG3A']/series_data['POSS']\n",
    "    series_data['tight_FG3_freq']=100* (series_data['tight_FG3A']+series_data['very_tight_FG3A'])/series_data['POSS']\n",
    "    series_data['wide_open_FG3_freq']=100* series_data['wide_open_FG3A']/series_data['POSS']\n",
    "\n",
    "    series_data['on_ball_time']=75*series_data['TIME_OF_POSS']/series_data['POSS']\n",
    "    \n",
    "    series_data['catch_rate']=75*series_data['PASSES_RECEIVED']/series_data['POSS']\n",
    "    series_data['pass_rate']=75*series_data['PASSES_MADE']/series_data['POSS']\n",
    "    series_data['touch_rate']=75*series_data['TOUCHES']/series_data['POSS']   \n",
    "    series_data['PULL_UP_EFG'] =100* (series_data['PULL_UP_FGM'] + 0.5 * series_data['PULL_UP_FG3M']) / series_data['PULL_UP_FGA']\n",
    "    series_data['TS_PCT']*=100\n",
    "    series_data['TOV_freq']=75* series_data['TOV']/series_data['POSS']\n",
    "    series_data['score_rate']=75* series_data['PTS']/series_data['POSS']\n",
    "    series_data['pot_ast_rate']= 75* series_data['POTENTIAL_AST']/series_data['POSS']\n",
    "    \n",
    "    series_data['open_FG3%']=100* series_data['open_FG3M']/series_data['open_FG3A']\n",
    "    series_data['tight_FG3%']=100* series_data['tight_FG3M']/series_data['tight_FG3A']\n",
    "    series_data['wide_open_FG3%']=100* series_data['wide_open_FG3M']/series_data['wide_open_FG3A']\n",
    "    series_data['catch_shoot_vol']=75* series_data['CATCH_SHOOT_FGA']/series_data['POSS']\n",
    "    series_data['catch_shoot_pct']=100*series_data['CATCH_SHOOT_EFG_PCT']\n",
    "    series_data['ra_FGA_per75'] = (series_data['FGA_LT_5'] / series_data['POSS']) * 75\n",
    "    series_data['ra_FG%'] = 100*series_data['FGM_LT_5'] / series_data['FGA_LT_5']\n",
    "\n",
    "    # Short Mid-Range (SMR): 5-14 feet\n",
    "    series_data['smr_FGA_per75'] = ((series_data['FGA_5_9'] + series_data['FGA_10_14']) / series_data['POSS']) * 75\n",
    "    series_data['smr_FG%'] = 100*(series_data['FGM_5_9'] + series_data['FGM_10_14']) / (series_data['FGA_5_9'] + series_data['FGA_10_14'])\n",
    "\n",
    "    # Long Mid-Range (LMR): 15-24 feet\n",
    "    series_data['lmr_FGA_per75'] = ((series_data['FGA_15_19'] + series_data['FGA_20_24']) / series_data['POSS']) * 75\n",
    "    series_data['lmr_FG%'] = 100*(series_data['FGM_15_19'] + series_data['FGM_20_24']) / (series_data['FGA_15_19'] + series_data['FGA_20_24'])\n",
    "\n",
    "    # Three-Point Line (3PA): 25+ feet\n",
    "    series_data['3PA_per75'] = ((series_data['FGA_25_29'] + series_data['FGA_30_34'] + series_data['FGA_35_39'] + series_data['FGA_40_PLUS']) / series_data['POSS']) * 75\n",
    "    series_data['3PA_FG%'] = 100* (series_data['FGM_25_29'] + series_data['FGM_30_34'] + series_data['FGM_35_39'] + series_data['FGM_40_PLUS']) / (\n",
    "                    series_data['FGA_25_29'] + series_data['FGA_30_34'] + series_data['FGA_35_39'] + series_data['FGA_40_PLUS'])\n",
    "    \n",
    "\n",
    "    return series_data\n",
    "\n",
    "def player_series_shot(player_id, team, opp, year):\n",
    "    player_id = int(player_id)\n",
    "    file_name = team.upper() + '_' + opp.upper() + '_' + str(year)\n",
    "    url_base = 'https://raw.githubusercontent.com/gabriel1200/shot_data/refs/heads/master/series/'\n",
    "\n",
    "    df = pd.read_csv(url_base + 'data/' + file_name + '.csv')\n",
    "    avg = pd.read_csv(url_base + str(year) + '_avg.csv')\n",
    "    series_data = df[df['PLAYER_ID'] == player_id].reset_index(drop=True)\n",
    "    avg_data = avg[avg['PLAYER_ID'] == player_id].reset_index(drop=True)\n",
    "    name = series_data['PLAYER_NAME'].iloc[0]\n",
    "\n",
    "    series_data['game_number'] = [i for i in range(1, len(series_data) + 1)]\n",
    "    series_data = format_data_shot(series_data)\n",
    "    avg_data = format_data_shot(avg_data)\n",
    "\n",
    "    # Create a 2x3 subplot grid\n",
    "    fig = make_subplots(rows=3, cols=2, subplot_titles=(\n",
    "        \"Catch and Shoot Frequency\", \"Catch and Shoot Percentage\",\n",
    "        \"Pull-Up Frequency\", \"Pull-Up Percentage\",\n",
    "        \"Shooting Location Frequency\", \"Shooting Location FG%\"\n",
    "    ))\n",
    "\n",
    "    # 1. Three-Point Type Frequency (Wide Open, Open, Tight)\n",
    "\n",
    "\n",
    "    # 2. Three-Point Percentages (Wide Open, Open, Tight)\n",
    "    fig.add_trace(\n",
    "        go.Scatter(x=series_data['game_number'], y=series_data['catch_shoot_vol'], showlegend=False,\n",
    "                   mode='lines+markers', name='Wide Open 3P%', line=dict(shape='spline', width=2, color='#1f77b4')),\n",
    "        row=1, col=1\n",
    "    )\n",
    "\n",
    "    # Horizontal line for season averages (dotted lines, no legend)\n",
    "    fig.add_trace(\n",
    "        go.Scatter(x=series_data['game_number'], y=[avg_data['catch_shoot_vol'].mean()] * len(series_data['game_number']),\n",
    "                   mode='lines', showlegend=False, line=dict(dash='dot', width=2, color='#1f77b4')),\n",
    "        row=1, col=1\n",
    "    )\n",
    "\n",
    "    fig.add_trace(\n",
    "        go.Scatter(x=series_data['game_number'], y=series_data['catch_shoot_pct'], showlegend=False,\n",
    "                   mode='lines+markers', name='Wide Open 3P%', line=dict(shape='spline', width=2, color='#1f77b4')),\n",
    "        row=1, col=2\n",
    "    )\n",
    "\n",
    "    # Horizontal line for season averages (dotted lines, no legend)\n",
    "    fig.add_trace(\n",
    "        go.Scatter(x=series_data['game_number'], y=[avg_data['catch_shoot_pct'].mean()] * len(series_data['game_number']),\n",
    "                   mode='lines', showlegend=False, line=dict(dash='dot', width=2, color='#1f77b4')),\n",
    "        row=1, col=2\n",
    "    )\n",
    "\n",
    "    # 3. Pull-Up Frequency\n",
    "    fig.add_trace(\n",
    "        go.Scatter(x=series_data['game_number'], y=series_data['pullup_freq'], showlegend=False,\n",
    "                   mode='lines+markers', name='Pull-Up Frequency', line=dict(shape='spline', width=2, color='#9467bd')),\n",
    "        row=2, col=1\n",
    "    )\n",
    "    # Horizontal line for season average (dotted line, no legend)\n",
    "    fig.add_trace(\n",
    "        go.Scatter(x=series_data['game_number'], y=[avg_data['pullup_freq'].mean()] * len(series_data['game_number']),\n",
    "                   mode='lines', showlegend=False, line=dict(dash='dot', width=2, color='#9467bd')),\n",
    "        row=2, col=1\n",
    "    )\n",
    "\n",
    "    # 4. Pull-Up Percentage (eFG%)\n",
    "    fig.add_trace(\n",
    "        go.Scatter(x=series_data['game_number'], y=series_data['PULL_UP_EFG'], showlegend=False,\n",
    "                   mode='lines+markers', name='Pull-Up eFG%', line=dict(shape='spline', width=2, color='#8c564b')),\n",
    "        row=2, col=2\n",
    "    )\n",
    "    # Horizontal line for season average (dotted line, no legend)\n",
    "    fig.add_trace(\n",
    "        go.Scatter(x=series_data['game_number'], y=[avg_data['PULL_UP_EFG'].mean()] * len(series_data['game_number']),\n",
    "                   mode='lines', showlegend=False, line=dict(dash='dot', width=2, color='#8c564b')),\n",
    "        row=2, col=2\n",
    "    )\n",
    "\n",
    "    fig.add_trace(\n",
    "        go.Scatter(x=series_data['game_number'], y=series_data['ra_FGA_per75'], showlegend=False,\n",
    "                   mode='lines+markers', name='RA Frequency', line=dict(shape='spline', width=2, color='#1f77b4')),\n",
    "        row=3, col=1\n",
    "    )\n",
    "    fig.add_trace(\n",
    "        go.Scatter(x=series_data['game_number'], y=series_data['smr_FGA_per75'], showlegend=False,\n",
    "                   mode='lines+markers', name='SMR Frequency', line=dict(shape='spline', width=2, color='#2ca02c')),\n",
    "        row=3, col=1\n",
    "    )\n",
    "    fig.add_trace(\n",
    "        go.Scatter(x=series_data['game_number'], y=series_data['lmr_FGA_per75'], showlegend=False,\n",
    "                   mode='lines+markers', name='LMR Frequency', line=dict(shape='spline', width=2, color='#d62728')),\n",
    "        row=3, col=1\n",
    "    )\n",
    "    fig.add_trace(\n",
    "        go.Scatter(x=series_data['game_number'], y=series_data['3PA_per75'], showlegend=False,\n",
    "                   mode='lines+markers', name='3PA Frequency', line=dict(shape='spline', width=2, color='#9467bd')),\n",
    "        row=3, col=1\n",
    "    )\n",
    "    # Horizontal dotted lines for shooting location frequency season averages\n",
    "    fig.add_trace(\n",
    "        go.Scatter(x=series_data['game_number'], y=[avg_data['ra_FGA_per75'].mean()] * len(series_data['game_number']),\n",
    "                   mode='lines', showlegend=False, line=dict(dash='dot', width=2, color='#1f77b4')),\n",
    "        row=3, col=1\n",
    "    )\n",
    "    fig.add_trace(\n",
    "        go.Scatter(x=series_data['game_number'], y=[avg_data['smr_FGA_per75'].mean()] * len(series_data['game_number']),\n",
    "                   mode='lines', showlegend=False, line=dict(dash='dot', width=2, color='#2ca02c')),\n",
    "        row=3, col=1\n",
    "    )\n",
    "    fig.add_trace(\n",
    "        go.Scatter(x=series_data['game_number'], y=[avg_data['lmr_FGA_per75'].mean()] * len(series_data['game_number']),\n",
    "                   mode='lines', showlegend=False, line=dict(dash='dot', width=2, color='#d62728')),\n",
    "        row=3, col=1\n",
    "    )\n",
    "    fig.add_trace(\n",
    "        go.Scatter(x=series_data['game_number'], y=[avg_data['3PA_per75'].mean()] * len(series_data['game_number']),\n",
    "                   mode='lines', showlegend=False, line=dict(dash='dot', width=2, color='#9467bd')),\n",
    "        row=3, col=1\n",
    "    )\n",
    "\n",
    "    # 6. Shooting Location FG% (RA, SMR, LMR, 3PA)\n",
    "    fig.add_trace(\n",
    "        go.Scatter(x=series_data['game_number'], y=series_data['ra_FG%'], showlegend=True,\n",
    "                   mode='lines+markers', name='RA', line=dict(shape='spline', width=2, color='#1f77b4')),\n",
    "        row=3, col=2\n",
    "    )\n",
    "    fig.add_trace(\n",
    "        go.Scatter(x=series_data['game_number'], y=series_data['smr_FG%'], showlegend=True,\n",
    "                   mode='lines+markers', name='SMR', line=dict(shape='spline', width=2, color='#2ca02c')),\n",
    "        row=3, col=2\n",
    "    )\n",
    "    fig.add_trace(\n",
    "        go.Scatter(x=series_data['game_number'], y=series_data['lmr_FG%'], showlegend=True,\n",
    "                   mode='lines+markers', name='LMR', line=dict(shape='spline', width=2, color='#d62728')),\n",
    "        row=3, col=2\n",
    "    )\n",
    "    fig.add_trace(\n",
    "        go.Scatter(x=series_data['game_number'], y=series_data['3PA_FG%'], showlegend=True,\n",
    "                   mode='lines+markers', name='3P', line=dict(shape='spline', width=2, color='#9467bd')),\n",
    "        row=3, col=2\n",
    "    )\n",
    "    # Horizontal dotted lines for shooting location FG% season averages\n",
    "    fig.add_trace(\n",
    "        go.Scatter(x=series_data['game_number'], y=[avg_data['ra_FG%'].mean()] * len(series_data['game_number']),\n",
    "                   mode='lines', showlegend=False, line=dict(dash='dot', width=2, color='#1f77b4')),\n",
    "        row=3, col=2\n",
    "    )\n",
    "    fig.add_trace(\n",
    "        go.Scatter(x=series_data['game_number'], y=[avg_data['smr_FG%'].mean()] * len(series_data['game_number']),\n",
    "                   mode='lines', showlegend=False, line=dict(dash='dot', width=2, color='#2ca02c')),\n",
    "        row=3, col=2\n",
    "    )\n",
    "    fig.add_trace(\n",
    "        go.Scatter(x=series_data['game_number'], y=[avg_data['lmr_FG%'].mean()] * len(series_data['game_number']),\n",
    "                   mode='lines', showlegend=False, line=dict(dash='dot', width=2, color='#d62728')),\n",
    "        row=3, col=2\n",
    "    )\n",
    "    fig.add_trace(\n",
    "        go.Scatter(x=series_data['game_number'], y=[avg_data['3PA_FG%'].mean()] * len(series_data['game_number']),\n",
    "                   mode='lines', showlegend=False, line=dict(dash='dot', width=2, color='#9467bd')),\n",
    "        row=3, col=2\n",
    "    )\n",
    "    # Update the layout\n",
    "    fig.update_layout(height=1200, width=1200, title_text=name+ ' vs '+opp.upper() + ' '+str(year),title_x=.5,title_font_size=22,\n",
    "                      paper_bgcolor='#211a1d',plot_bgcolor='#211a1d', font=dict(\n",
    "                family=\"Malgun Gothic\",\n",
    "                          size=16,\n",
    "                color=\"#ffffff\"\n",
    "                ))\n",
    "    fig.update_xaxes(showgrid=False)\n",
    "    fig.update_yaxes(showgrid=False)\n",
    "    return fig\n",
    "\n",
    "# Call the function and plot\n",
    "fig = player_series_shot(1630162, 'min', 'den', 2024)\n",
    "fig.show()\n",
    "\n"
   ]
  },
  {
   "cell_type": "code",
   "execution_count": null,
   "id": "78e3e7b5-c4ae-4ace-977c-6a59716303c1",
   "metadata": {},
   "outputs": [],
   "source": []
  }
 ],
 "metadata": {
  "kernelspec": {
   "display_name": "Python 3 (ipykernel)",
   "language": "python",
   "name": "python3"
  },
  "language_info": {
   "codemirror_mode": {
    "name": "ipython",
    "version": 3
   },
   "file_extension": ".py",
   "mimetype": "text/x-python",
   "name": "python",
   "nbconvert_exporter": "python",
   "pygments_lexer": "ipython3",
   "version": "3.10.12"
  }
 },
 "nbformat": 4,
 "nbformat_minor": 5
}
