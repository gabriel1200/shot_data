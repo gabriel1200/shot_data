{
 "cells": [
  {
   "cell_type": "code",
   "execution_count": 25,
   "id": "c7f44ad4-349c-45f3-80dd-a96257eec315",
   "metadata": {},
   "outputs": [
    {
     "data": {
      "application/vnd.plotly.v1+json": {
       "config": {
        "plotlyServerURL": "https://plot.ly"
       },
       "data": [
        {
         "hovertext": "Cluster 0 Center",
         "marker": {
          "color": "rgb(141,211,199)",
          "line": {
           "color": "#FFFFFF",
           "width": 2
          },
          "opacity": 0.15,
          "size": 15,
          "symbol": "triangle-down"
         },
         "mode": "markers",
         "name": "Cluster 0 Center",
         "showlegend": false,
         "type": "scatter",
         "x": [
          -1.7733033668701492
         ],
         "xaxis": "x",
         "y": [
          -0.7531290930826293
         ],
         "yaxis": "y"
        },
        {
         "hovertext": "Cluster 1 Center",
         "marker": {
          "color": "rgb(255,255,179)",
          "line": {
           "color": "#FFFFFF",
           "width": 2
          },
          "opacity": 0.15,
          "size": 15,
          "symbol": "triangle-down"
         },
         "mode": "markers",
         "name": "Cluster 1 Center",
         "showlegend": false,
         "type": "scatter",
         "x": [
          0.2758276550431522
         ],
         "xaxis": "x",
         "y": [
          -2.6213087307964713
         ],
         "yaxis": "y"
        },
        {
         "hovertext": "Cluster 2 Center",
         "marker": {
          "color": "rgb(190,186,218)",
          "line": {
           "color": "#FFFFFF",
           "width": 2
          },
          "opacity": 0.15,
          "size": 15,
          "symbol": "triangle-down"
         },
         "mode": "markers",
         "name": "Cluster 2 Center",
         "showlegend": false,
         "type": "scatter",
         "x": [
          5.1918590514475085
         ],
         "xaxis": "x",
         "y": [
          3.11135025189883
         ],
         "yaxis": "y"
        },
        {
         "hovertext": "Cluster 3 Center",
         "marker": {
          "color": "rgb(251,128,114)",
          "line": {
           "color": "#FFFFFF",
           "width": 2
          },
          "opacity": 0.15,
          "size": 15,
          "symbol": "triangle-down"
         },
         "mode": "markers",
         "name": "Cluster 3 Center",
         "showlegend": false,
         "type": "scatter",
         "x": [
          -3.888431153880619
         ],
         "xaxis": "x",
         "y": [
          3.3440755630856422
         ],
         "yaxis": "y"
        },
        {
         "hovertext": "Cluster 4 Center",
         "marker": {
          "color": "rgb(128,177,211)",
          "line": {
           "color": "#FFFFFF",
           "width": 2
          },
          "opacity": 0.15,
          "size": 15,
          "symbol": "triangle-down"
         },
         "mode": "markers",
         "name": "Cluster 4 Center",
         "showlegend": false,
         "type": "scatter",
         "x": [
          -1.9485904829857288
         ],
         "xaxis": "x",
         "y": [
          -2.527042876902106
         ],
         "yaxis": "y"
        },
        {
         "hovertext": "Cluster 5 Center",
         "marker": {
          "color": "rgb(253,180,98)",
          "line": {
           "color": "#FFFFFF",
           "width": 2
          },
          "opacity": 0.15,
          "size": 15,
          "symbol": "triangle-down"
         },
         "mode": "markers",
         "name": "Cluster 5 Center",
         "showlegend": false,
         "type": "scatter",
         "x": [
          1.7556512185495474
         ],
         "xaxis": "x",
         "y": [
          -1.184252031548668
         ],
         "yaxis": "y"
        },
        {
         "hovertext": "Cluster 6 Center",
         "marker": {
          "color": "rgb(179,222,105)",
          "line": {
           "color": "#FFFFFF",
           "width": 2
          },
          "opacity": 0.15,
          "size": 15,
          "symbol": "triangle-down"
         },
         "mode": "markers",
         "name": "Cluster 6 Center",
         "showlegend": false,
         "type": "scatter",
         "x": [
          -4.971189588155216
         ],
         "xaxis": "x",
         "y": [
          1.790104080675079
         ],
         "yaxis": "y"
        },
        {
         "hovertext": "Cluster 7 Center",
         "marker": {
          "color": "rgb(252,205,229)",
          "line": {
           "color": "#FFFFFF",
           "width": 2
          },
          "opacity": 0.15,
          "size": 15,
          "symbol": "triangle-down"
         },
         "mode": "markers",
         "name": "Cluster 7 Center",
         "showlegend": false,
         "type": "scatter",
         "x": [
          0.8248851845123755
         ],
         "xaxis": "x",
         "y": [
          1.8634428445563829
         ],
         "yaxis": "y"
        },
        {
         "hovertext": "Cluster 8 Center",
         "marker": {
          "color": "rgb(217,217,217)",
          "line": {
           "color": "#FFFFFF",
           "width": 2
          },
          "opacity": 0.15,
          "size": 15,
          "symbol": "triangle-down"
         },
         "mode": "markers",
         "name": "Cluster 8 Center",
         "showlegend": false,
         "type": "scatter",
         "x": [
          0.017893102863409078
         ],
         "xaxis": "x",
         "y": [
          6.327435811314763
         ],
         "yaxis": "y"
        },
        {
         "hovertext": "Cluster 9 Center",
         "marker": {
          "color": "rgb(188,128,189)",
          "line": {
           "color": "#FFFFFF",
           "width": 2
          },
          "opacity": 0.15,
          "size": 15,
          "symbol": "triangle-down"
         },
         "mode": "markers",
         "name": "Cluster 9 Center",
         "showlegend": false,
         "type": "scatter",
         "x": [
          3.312960759143216
         ],
         "xaxis": "x",
         "y": [
          0.04796103744507496
         ],
         "yaxis": "y"
        },
        {
         "hovertext": "Cluster 10 Center",
         "marker": {
          "color": "rgb(204,235,197)",
          "line": {
           "color": "#FFFFFF",
           "width": 2
          },
          "opacity": 0.15,
          "size": 15,
          "symbol": "triangle-down"
         },
         "mode": "markers",
         "name": "Cluster 10 Center",
         "showlegend": false,
         "type": "scatter",
         "x": [
          0.8108147736880369
         ],
         "xaxis": "x",
         "y": [
          -0.726860783430556
         ],
         "yaxis": "y"
        },
        {
         "hovertext": "Cluster 11 Center",
         "marker": {
          "color": "rgb(255,237,111)",
          "line": {
           "color": "#FFFFFF",
           "width": 2
          },
          "opacity": 0.15,
          "size": 15,
          "symbol": "triangle-down"
         },
         "mode": "markers",
         "name": "Cluster 11 Center",
         "showlegend": false,
         "type": "scatter",
         "x": [
          -3.2551202116448525
         ],
         "xaxis": "x",
         "y": [
          -1.743962593789683
         ],
         "yaxis": "y"
        },
        {
         "hovertext": "Cluster 12 Center",
         "marker": {
          "color": "rgb(141,211,199)",
          "line": {
           "color": "#FFFFFF",
           "width": 2
          },
          "opacity": 0.15,
          "size": 15,
          "symbol": "triangle-down"
         },
         "mode": "markers",
         "name": "Cluster 12 Center",
         "showlegend": false,
         "type": "scatter",
         "x": [
          4.5541361232079725
         ],
         "xaxis": "x",
         "y": [
          1.5642828472781753
         ],
         "yaxis": "y"
        },
        {
         "hovertemplate": "<b>%{text}</b><br>PCA_1: %{x:.2f}<br>PCA_2: %{y:.2f}<br><extra></extra>",
         "marker": {
          "color": "rgb(252,205,229)",
          "line": {
           "color": "#FFFFFF",
           "width": 1
          },
          "opacity": [
           0.4
          ],
          "size": 10
         },
         "mode": "markers",
         "name": "Cluster 7",
         "showlegend": false,
         "text": [
          "Aaron Gordon",
          "Andrew Wiggins",
          "Ben Simmons",
          "De'Andre Hunter",
          "Dillon Brooks",
          "Franz Wagner",
          "Harrison Barnes",
          "Jaime Jaquez Jr.",
          "Jalen Johnson",
          "Jaylen Brown",
          "Jimmy Butler",
          "John Collins",
          "Jonathan Kuminga",
          "Jrue Holiday",
          "Khris Middleton",
          "Kyle Kuzma",
          "Mikal Bridges",
          "Naz Reid",
          "Nikola Jović",
          "OG Anunoby",
          "P.J. Washington",
          "Paolo Banchero",
          "RJ Barrett",
          "Russell Westbrook",
          "Scottie Barnes",
          "Tobias Harris",
          "Zion Williamson",
          "Jabari Smith Jr."
         ],
         "type": "scatter",
         "x": [
          -1.2639224533719364,
          2.9324076273201585,
          -1.5686553450070049,
          2.475204046973273,
          1.1890534199304463,
          1.769158179345303,
          -0.1400915523959923,
          0.9935465438447862,
          0.4741249432367361,
          3.1234132041124454,
          -0.4774454702874013,
          0.0150829525686788,
          1.0275950131182494,
          -0.2747283631940952,
          1.2848706459522368,
          1.2166590296752002,
          1.7671680385454738,
          1.0114592480930815,
          0.4377247735353804,
          1.1797679696656678,
          -0.305792375595141,
          -0.4384397680534889,
          3.353135600048673,
          1.0668112403178414,
          1.4631258199446502,
          0.794052554710302,
          -0.3667533296917122,
          0.3582529730047025
         ],
         "xaxis": "x",
         "y": [
          2.2100551204059578,
          1.674108247380423,
          1.0334869028773632,
          1.985064392104618,
          0.830938343568038,
          3.542794267944472,
          1.4564386510537872,
          -0.0174568007950733,
          2.338500166330917,
          3.3254297825228614,
          2.6300373480576646,
          3.2802577801247224,
          1.296859318644251,
          1.3575999817034288,
          0.9332168327321326,
          0.7011156830082103,
          3.0047959922759406,
          2.617677021279924,
          0.69549709894387,
          2.060407896565319,
          1.3662895140333708,
          1.0399669852892737,
          2.276088504726878,
          1.6339293963528707,
          3.390699304913113,
          3.404685471362796,
          0.9813044485217322,
          1.126611995649856
         ],
         "yaxis": "y"
        },
        {
         "hovertemplate": "<b>%{text}</b><br>PCA_1: %{x:.2f}<br>PCA_2: %{y:.2f}<br><extra></extra>",
         "marker": {
          "color": "rgb(204,235,197)",
          "line": {
           "color": "#FFFFFF",
           "width": 1
          },
          "opacity": [
           0.4
          ],
          "size": 10
         },
         "mode": "markers",
         "name": "Cluster 10",
         "showlegend": false,
         "text": [
          "Aaron Wiggins",
          "Amen Thompson",
          "Andrew Nembhard",
          "Bilal Coulibaly",
          "Brandon Boston",
          "Cam Whitmore",
          "Caris LeVert",
          "Carlton Carrington",
          "Cason Wallace",
          "Cody Martin",
          "Dyson Daniels",
          "Jalen Wilson",
          "Jarace Walker",
          "Jaylen Wells",
          "Josh Giddey",
          "Josh Hart",
          "Julian Champagnie",
          "Keldon Johnson",
          "Kelly Oubre Jr.",
          "Keon Johnson",
          "Miles Bridges",
          "Miles McBride",
          "Naji Marshall",
          "Quentin Grimes",
          "Scotty Pippen Jr.",
          "Stephon Castle",
          "Tari Eason",
          "Tyus Jones",
          "Amir Coffey",
          "Ayo Dosunmu",
          "Christian Braun",
          "Jaden McDaniels",
          "Keon Ellis",
          "Kyshawn George",
          "Ochai Agbaji",
          "Ronald Holland II",
          "Taurean Prince",
          "Tristan da Silva",
          "Vít Krejčí",
          "Zaccharie Risacher",
          "Ziaire Williams"
         ],
         "type": "scatter",
         "x": [
          0.0597897943725563,
          -0.0739960686766372,
          1.4212914379907169,
          1.3049631659710412,
          1.3433963905835689,
          0.8512427655457138,
          1.8337116811173328,
          1.7374082890868785,
          0.7703728855070473,
          0.4124577943006532,
          0.9665452926722684,
          0.3613442970336947,
          1.1883435297444025,
          0.7507820163182218,
          0.7306070412434901,
          -0.0759811092090097,
          0.8422543773433332,
          0.9617707520012496,
          1.1465809200184498,
          1.3585885910735456,
          1.1743132063820154,
          2.2086446497835466,
          -0.187863192372063,
          2.675095725436148,
          1.547438317412709,
          0.8253563790474194,
          -0.221786127360701,
          1.7184339275160505,
          0.7597296719189276,
          1.203434787400785,
          0.1741213570260904,
          0.2315824383187337,
          1.3944267088665283,
          0.5175283361501292,
          0.0752354805861771,
          -0.1232406695856262,
          1.1812423438403217,
          -0.1796808976797745,
          0.1545405376645918,
          0.6699672394860777,
          -0.4465883426670949
         ],
         "xaxis": "x",
         "y": [
          -0.6561085870256049,
          1.0280164887264809,
          -0.6993712251773097,
          -0.5760927901442241,
          0.4348618697407097,
          -2.1841385901848627,
          -0.6506232704475924,
          -1.146863086357419,
          -1.0045796416247796,
          0.5839807178850884,
          0.4446232745281715,
          -0.3211744274665591,
          -1.6556271924793564,
          -0.5426587960190814,
          -0.292164964162819,
          1.1805718219745571,
          -0.6677002187078912,
          0.3788455069572902,
          0.2667146935538342,
          -1.6832396267744631,
          -0.0804480783238003,
          -0.8415259414667058,
          -1.2021191780278502,
          -0.3469002119852606,
          -0.9966619742618918,
          0.1690868888071027,
          -1.4770975093808956,
          -0.4848222258061198,
          -2.261747346295166,
          -1.0272885916562815,
          0.4029022542585004,
          -0.8079245763435079,
          -2.1277058012870245,
          -1.6259804805737963,
          -0.8813571631693292,
          -1.6952080056102523,
          -1.6417513212589263,
          -1.005002392913686,
          -1.7545569494770648,
          -0.6964463686795672,
          -1.656009103995444
         ],
         "yaxis": "y"
        },
        {
         "hovertemplate": "<b>%{text}</b><br>PCA_1: %{x:.2f}<br>PCA_2: %{y:.2f}<br><extra></extra>",
         "marker": {
          "color": "rgb(141,211,199)",
          "line": {
           "color": "#FFFFFF",
           "width": 1
          },
          "opacity": [
           0.4
          ],
          "size": 10
         },
         "mode": "markers",
         "name": "Cluster 0",
         "showlegend": false,
         "text": [
          "Alexandre Sarr",
          "Patrick Williams",
          "Santi Aldama",
          "Toumani Camara",
          "Derrick Jones Jr.",
          "Draymond Green",
          "Herbert Jones",
          "Jake LaRavia",
          "Josh Green",
          "Kris Dunn",
          "Luguentz Dort",
          "Luke Kennard",
          "Max Christie",
          "Peyton Watson",
          "Tidjane Salaün",
          "Tre Jones",
          "Trevelin Queen",
          "Al Horford",
          "Alex Caruso",
          "Chris Boucher",
          "Georges Niang",
          "Haywood Highsmith",
          "Jalen Smith",
          "Jay Huff",
          "Jeremiah Robinson-Earl",
          "Jonathan Isaac",
          "Jonathan Mogbo",
          "Kevin Love",
          "Maxi Kleber",
          "Noah Clowney",
          "Obi Toppin",
          "Royce O'Neale",
          "Rui Hachimura",
          "Andre Jackson Jr.",
          "Javonte Green"
         ],
         "type": "scatter",
         "x": [
          -2.8236114686912206,
          -0.6041419417557284,
          0.1494577145199673,
          -1.6942900265850658,
          -1.8793638834164803,
          -2.2289443129183515,
          -1.0563484832595758,
          -1.1525252448259184,
          -0.3423601552148459,
          -1.0691639297018711,
          -0.7295410218228429,
          -0.2229646071730792,
          -1.0863457156709548,
          -1.6956219432964992,
          -1.7760190367290796,
          -1.1452644836043897,
          -1.7015362213423302,
          -2.287302144220352,
          -2.397254662831991,
          -1.2981172524770392,
          -1.1045720289189431,
          -2.1217466017581925,
          -2.896544973875282,
          -2.097953722891228,
          -2.506236179155023,
          -3.3054219668762506,
          -3.317665731920865,
          -2.5604434521682893,
          -2.760641209578931,
          -1.4516796455112737,
          -2.5487532099963097,
          -1.0768473673932737,
          -2.4594414479522446,
          -2.737184342190503,
          -2.0792271392509654
         ],
         "xaxis": "x",
         "y": [
          0.8523968204642977,
          -1.1471525031063106,
          -0.0854235418500702,
          -0.4263210671800114,
          -0.1805678168220749,
          1.225404916950486,
          -2.275437424306436,
          -1.295244565447332,
          -1.6569740305341196,
          -1.6709564112509114,
          -1.3195898837832796,
          -0.4416212532360842,
          -0.3039384316283292,
          -0.7612133375824047,
          -1.762044604375923,
          -2.0865194002565426,
          -1.7502090981798808,
          0.3814875620524249,
          -1.1869587885696202,
          -0.8690147696433141,
          -1.1946203488421894,
          -1.1528121271384904,
          0.7499369506669314,
          0.1096266572999475,
          -0.7254392235222465,
          -0.4149969269537019,
          -0.5337390140459146,
          -1.5124635587238202,
          -1.6134018539088597,
          -0.5329691016682611,
          1.4711648398086403,
          -2.1974631938256346,
          0.842651854567459,
          -1.338260385536063,
          -1.5568351977843875
         ],
         "yaxis": "y"
        },
        {
         "hovertemplate": "<b>%{text}</b><br>PCA_1: %{x:.2f}<br>PCA_2: %{y:.2f}<br><extra></extra>",
         "marker": {
          "color": "rgb(217,217,217)",
          "line": {
           "color": "#FFFFFF",
           "width": 1
          },
          "opacity": [
           0.4
          ],
          "size": 10
         },
         "mode": "markers",
         "name": "Cluster 8",
         "showlegend": false,
         "text": [
          "Alperen Sengun",
          "Anthony Davis",
          "Bam Adebayo",
          "Giannis Antetokounmpo",
          "Jaren Jackson Jr.",
          "Joel Embiid",
          "Julius Randle",
          "Karl-Anthony Towns",
          "LeBron James",
          "Nikola Jokić",
          "Pascal Siakam",
          "Victor Wembanyama",
          "Nikola Vučević"
         ],
         "type": "scatter",
         "x": [
          -1.734001231134081,
          -0.5777125016337085,
          -1.581277200632824,
          0.2337130096759178,
          2.068068338037385,
          -1.983355844510193,
          1.5178302452823451,
          0.572903785743614,
          3.263834174243021,
          0.4608210136915122,
          -0.0501743386226945,
          1.2233847117250327,
          -3.181423824641009
         ],
         "xaxis": "x",
         "y": [
          6.592073665500998,
          7.524428021997456,
          4.967357723005217,
          7.549511208725871,
          4.634437111472121,
          4.255280486059434,
          5.140133531421566,
          6.459588971302424,
          5.903239000936259,
          9.545615506916834,
          6.065863798065368,
          6.158983230591745,
          7.460153291096637
         ],
         "yaxis": "y"
        },
        {
         "hovertemplate": "<b>%{text}</b><br>PCA_1: %{x:.2f}<br>PCA_2: %{y:.2f}<br><extra></extra>",
         "marker": {
          "color": "rgb(188,128,189)",
          "line": {
           "color": "#FFFFFF",
           "width": 1
          },
          "opacity": [
           0.8
          ],
          "size": 10
         },
         "mode": "markers",
         "name": "Cluster 9",
         "showlegend": true,
         "text": [
          "Anfernee Simons",
          "Anthony Black",
          "Austin Reaves",
          "Bennedict Mathurin",
          "Bradley Beal",
          "Brandon Ingram",
          "Brice Sensabaugh",
          "Cam Thomas",
          "Chris Paul",
          "Coby White",
          "Cole Anthony",
          "Collin Sexton",
          "Dalano Banton",
          "Darius Garland",
          "Dejounte Murray",
          "Deni Avdija",
          "Dennis Schröder",
          "Desmond Bane",
          "Devin Vassell",
          "Fred VanVleet",
          "Ja Morant",
          "Jaden Ivey",
          "Jalen Green",
          "Jalen Suggs",
          "Jalen Williams",
          "Jared McCain",
          "Jordan Clarkson",
          "Kevin Porter Jr.",
          "Keyonte George",
          "LaMelo Ball",
          "Luka Dončić",
          "Malik Monk",
          "Paul George",
          "Scoot Henderson",
          "Shaedon Sharpe",
          "Spencer Dinwiddie",
          "T.J. McConnell",
          "Terry Rozier",
          "Tre Mann",
          "Tyrese Haliburton"
         ],
         "type": "scatter",
         "x": [
          4.618342090634748,
          1.7680935847061865,
          3.362453296704926,
          3.4221526311903783,
          2.9033970588799107,
          2.817884550064365,
          2.9636987926304847,
          4.585131703859636,
          2.583863299246162,
          4.5360559722384055,
          2.0760527575490904,
          4.555176655236239,
          1.9549336340152303,
          5.803398809303353,
          2.822634630469899,
          3.29756084215794,
          3.188918364799078,
          3.0314464430247243,
          2.950263261783853,
          3.387990929741981,
          2.238264869028922,
          3.062790810013378,
          4.9943206446823805,
          2.817014286630504,
          3.675138320342775,
          2.876105193255861,
          3.616063536471688,
          1.8203924098859088,
          4.03104051802416,
          5.0317576008037,
          4.617839726861938,
          4.379171823003586,
          3.1731967885190024,
          2.771363654400355,
          3.6806150296711087,
          1.713506059350398,
          2.106401867771567,
          2.568733661282006,
          1.494049402731965,
          5.221214854760852
         ],
         "xaxis": "x",
         "y": [
          -0.4058644614680237,
          -0.3661373301949917,
          1.250857487656969,
          1.30123207367528,
          1.5946056700146805,
          0.5664476706278029,
          -1.2604613980657309,
          -0.6855205965307124,
          -0.4304645861669137,
          -0.2770901234196197,
          -1.6063601314000773,
          1.0071983007496372,
          -1.3260770387897014,
          0.497279103655125,
          -0.9910585543847076,
          -0.0843125055439013,
          0.0950280886623354,
          0.8336474826341018,
          -0.205271832807765,
          0.6880466631202251,
          -0.2043373867610623,
          0.0285098442034946,
          1.1267000986888434,
          -0.0857223540511208,
          0.7673053138985898,
          -1.7566282927862984,
          0.2587484263623841,
          -0.4954765162834527,
          -0.4571227893674551,
          0.2623659677335443,
          1.0576488511627269,
          1.1070135307070346,
          1.2910618778801737,
          -0.2238990803055922,
          1.1548559638491946,
          -0.6734125804471498,
          0.3734581359476512,
          -0.9777227448886158,
          -1.097827030846221,
          0.2671982810823171
         ],
         "yaxis": "y"
        },
        {
         "hovertemplate": "<b>%{text}</b><br>PCA_1: %{x:.2f}<br>PCA_2: %{y:.2f}<br><extra></extra>",
         "marker": {
          "color": "rgb(190,186,218)",
          "line": {
           "color": "#FFFFFF",
           "width": 1
          },
          "opacity": [
           0.4
          ],
          "size": 10
         },
         "mode": "markers",
         "name": "Cluster 2",
         "showlegend": false,
         "text": [
          "Anthony Edwards",
          "Cade Cunningham",
          "Damian Lillard",
          "De'Aaron Fox",
          "DeMar DeRozan",
          "Donovan Mitchell",
          "Jalen Brunson",
          "Jamal Murray",
          "James Harden",
          "Jayson Tatum",
          "Kevin Durant",
          "Kyrie Irving",
          "Shai Gilgeous-Alexander",
          "Trae Young",
          "Tyrese Maxey",
          "Zach LaVine"
         ],
         "type": "scatter",
         "x": [
          6.9373000318240265,
          5.592313649424614,
          5.8950807579443385,
          5.115725090563766,
          3.933129394990104,
          4.763652307071404,
          6.078250409846808,
          4.4219601220161655,
          5.2361516484697885,
          4.422409660660992,
          3.903519667965116,
          4.4524418959842,
          6.56825603460125,
          5.115210251808662,
          5.960283339375381,
          4.674060560613515
         ],
         "xaxis": "x",
         "y": [
          2.5008053149428844,
          1.9099955978302376,
          1.1920916318888477,
          2.706882096233852,
          3.914129729291337,
          1.913287604830636,
          3.7266840093469,
          2.75643313791386,
          3.064462971469724,
          5.952715795962264,
          5.01526623877704,
          2.852426942101575,
          4.813350841523958,
          2.487327101603583,
          1.8825226852298595,
          3.093222331434724
         ],
         "yaxis": "y"
        },
        {
         "hovertemplate": "<b>%{text}</b><br>PCA_1: %{x:.2f}<br>PCA_2: %{y:.2f}<br><extra></extra>",
         "marker": {
          "color": "rgb(255,255,179)",
          "line": {
           "color": "#FFFFFF",
           "width": 1
          },
          "opacity": [
           0.4
          ],
          "size": 10
         },
         "mode": "markers",
         "name": "Cluster 1",
         "showlegend": false,
         "text": [
          "Ausar Thompson",
          "Blake Wesley",
          "Bones Hyland",
          "Caleb Martin",
          "Cameron Payne",
          "Davion Mitchell",
          "Immanuel Quickley",
          "Isaiah Collier",
          "Jaden Hardy",
          "Jamal Shead",
          "Jared Butler",
          "Jeff Dowtin Jr.",
          "Jordan Miller",
          "Kyle Anderson",
          "Malaki Branham",
          "Marcus Smart",
          "Ty Jerome",
          "Vasilije Micić",
          "Aaron Holiday",
          "Ajay Mitchell",
          "Alec Burks",
          "Brandin Podziemski",
          "Cody Williams",
          "Dru Smith",
          "Eric Gordon",
          "Gabe Vincent",
          "Jaylen Nowell",
          "Jose Alvarado",
          "Kawhi Leonard",
          "Keaton Wallace",
          "Kobe Bufkin",
          "Kyle Lowry",
          "Lonzo Ball",
          "Marcus Sasser",
          "Monté Morris",
          "Nick Smith Jr.",
          "Nickeil Alexander-Walker",
          "Patty Mills",
          "Quenton Jackson",
          "Reed Sheppard",
          "Reggie Jackson",
          "Ryan Rollins",
          "Shake Milton",
          "Svi Mykhailiuk",
          "Talen Horton-Tucker",
          "Trendon Watford",
          "Wendell Moore Jr.",
          "Pat Connaughton"
         ],
         "type": "scatter",
         "x": [
          -0.5791039204073255,
          0.8896100972671197,
          1.515150003587688,
          0.2004965075003141,
          1.0774313034216372,
          1.526763619576264,
          1.3893916651938123,
          0.2306541450317928,
          1.7562217818928385,
          1.1680880245280847,
          0.7560797128035033,
          -0.093995001152338,
          1.333605321788042,
          -0.9844229349501488,
          1.4798269193328883,
          -0.0783721770632222,
          2.614334327347086,
          1.437227983667491,
          -0.2392224551960006,
          -0.0094610791963213,
          -0.7197817488842008,
          1.1394485062461273,
          0.0921848351786723,
          -0.6565731269729742,
          0.4473351698351959,
          -0.2419948842078223,
          -0.8885062642071234,
          0.8407563630066872,
          -1.132252563637869,
          -0.6459747109930962,
          -0.7218455105431544,
          -1.408444765515502,
          -0.6185192953577049,
          0.9961569236529986,
          -0.5155754320078045,
          -0.5909701923020569,
          1.1817116417600246,
          0.4748945249918884,
          -0.6916895975428451,
          0.1758966436359036,
          -0.5901305436391912,
          -0.0443926836477569,
          1.138313596040757,
          1.3651534701131185,
          1.1648571938830974,
          -0.3479412613896549,
          -1.0380960101927017,
          -0.3145966802049115
         ],
         "xaxis": "x",
         "y": [
          -1.6117844871970175,
          -2.5553750101346915,
          -1.785660334267674,
          -1.671963710099418,
          -2.367174268563527,
          -1.9431795612893457,
          -2.743404966804962,
          -1.995301376937608,
          -2.3160331800689,
          -1.9064427873671907,
          -1.6695597914115683,
          -2.3527483903890887,
          -2.7324357571987523,
          -1.2038430247277048,
          -2.5049909825633963,
          -2.0905633298691986,
          -2.182066888495104,
          -1.816479872017061,
          -3.482814195350405,
          -2.354500687361261,
          -3.272192341309439,
          -1.8152581551823936,
          -3.2470713684842747,
          -2.671697945842993,
          -2.734417325809716,
          -2.9527394362468757,
          -3.477660576628455,
          -3.011498117208494,
          -2.730146872117705,
          -3.358826008025411,
          -3.5445290067440096,
          -2.751704016069037,
          -3.094732976384417,
          -2.6965165550426566,
          -3.316493847445664,
          -3.150714676907081,
          -2.3743812684999317,
          -2.9596553937087866,
          -3.249014588568161,
          -3.525276615090155,
          -3.1449044304249343,
          -2.41047384064426,
          -3.062980249562057,
          -2.885307994804941,
          -3.1074530426922724,
          -1.4255410410407376,
          -3.079873226941753,
          -3.485435558690136
         ],
         "yaxis": "y"
        },
        {
         "hovertemplate": "<b>%{text}</b><br>PCA_1: %{x:.2f}<br>PCA_2: %{y:.2f}<br><extra></extra>",
         "marker": {
          "color": "rgb(251,128,114)",
          "line": {
           "color": "#FFFFFF",
           "width": 1
          },
          "opacity": [
           0.4
          ],
          "size": 10
         },
         "mode": "markers",
         "name": "Cluster 3",
         "showlegend": false,
         "text": [
          "Bobby Portis",
          "Domantas Sabonis",
          "Evan Mobley",
          "Jakob Poeltl",
          "Jalen Duren",
          "Jonas Valančiūnas",
          "Kristaps Porziņģis",
          "Moritz Wagner",
          "Nic Claxton",
          "Wendell Carter Jr.",
          "Jeremy Sochan",
          "Brook Lopez",
          "Daniel Gafford",
          "Deandre Ayton",
          "Drew Eubanks",
          "Grant Williams",
          "Guerschon Yabusele",
          "Isaiah Stewart",
          "Ivica Zubac",
          "Jusuf Nurkić",
          "Kyle Filipowski",
          "Myles Turner",
          "Onyeka Okongwu",
          "Zach Collins",
          "Zach Edey"
         ],
         "type": "scatter",
         "x": [
          -2.7845297405780505,
          -3.949942514944013,
          -0.9826825516290296,
          -4.793578617991082,
          -3.309392479958529,
          -4.344903133857457,
          -2.9131708942308943,
          -2.9743172618937006,
          -4.207699774167926,
          -3.683243905371248,
          -2.995602124787736,
          -4.060236874057399,
          -4.4431336183736825,
          -5.130211969226645,
          -4.310490748954762,
          -3.334078202401813,
          -3.626366722751404,
          -4.47915785411435,
          -5.8099418440258415,
          -4.487474520982706,
          -3.435406801591276,
          -4.333257405392306,
          -4.491339857138828,
          -4.214192070883767,
          -4.116427357711035
         ],
         "xaxis": "x",
         "y": [
          4.300071167524553,
          6.000153518484307,
          4.796320286709109,
          4.8573551944161295,
          3.687749383392691,
          5.66770635759822,
          3.565563828124101,
          3.5914646442546205,
          3.159430424285937,
          2.4925155960667422,
          1.8512083329102196,
          3.037070431152378,
          4.379596882912443,
          3.3101227615636653,
          1.8221645890782356,
          0.9808373098236248,
          2.591038025472189,
          1.5524234845460032,
          6.972686485975579,
          2.547602379525693,
          0.5803242436902512,
          4.516367304574947,
          2.7542240800035045,
          1.4451811023210863,
          3.1427112627348195
         ],
         "yaxis": "y"
        },
        {
         "hovertemplate": "<b>%{text}</b><br>PCA_1: %{x:.2f}<br>PCA_2: %{y:.2f}<br><extra></extra>",
         "marker": {
          "color": "rgb(141,211,199)",
          "line": {
           "color": "#FFFFFF",
           "width": 1
          },
          "opacity": [
           0.4
          ],
          "size": 10
         },
         "mode": "markers",
         "name": "Cluster 12",
         "showlegend": false,
         "text": [
          "Brandon Miller",
          "Buddy Hield",
          "CJ McCollum",
          "Cameron Johnson",
          "Derrick White",
          "Devin Booker",
          "Jordan Poole",
          "Lauri Markkanen",
          "Malik Beasley",
          "Michael Porter Jr.",
          "Norman Powell",
          "Payton Pritchard",
          "Stephen Curry",
          "Tyler Herro"
         ],
         "type": "scatter",
         "x": [
          3.755028170116949,
          3.274314532041647,
          4.442529091407716,
          4.807070267345929,
          3.5971388550328607,
          4.935664917614634,
          4.784715528578895,
          2.5371895837394,
          4.309532748982945,
          4.454390294705793,
          5.803203478484535,
          4.315383924861776,
          5.898442594204824,
          6.843301737793701
         ],
         "xaxis": "x",
         "y": [
          0.9217301713245394,
          0.3905234467600318,
          1.6715215562519,
          1.7812369769648797,
          0.3984509565989573,
          3.963729300651864,
          1.371178721307817,
          3.7590928163747175,
          0.4708575427494325,
          1.8636841887749271,
          0.8467190438233454,
          0.4479691677970736,
          2.584331273853054,
          1.4289346986619171
         ],
         "yaxis": "y"
        },
        {
         "hovertemplate": "<b>%{text}</b><br>PCA_1: %{x:.2f}<br>PCA_2: %{y:.2f}<br><extra></extra>",
         "marker": {
          "color": "rgb(128,177,211)",
          "line": {
           "color": "#FFFFFF",
           "width": 1
          },
          "opacity": [
           0.4
          ],
          "size": 10
         },
         "mode": "markers",
         "name": "Cluster 4",
         "showlegend": false,
         "text": [
          "Chet Holmgren",
          "Ricky Council IV",
          "Dalen Terry",
          "Justin Champagnie",
          "Terance Mann",
          "Dean Wade",
          "Dorian Finney-Smith",
          "Gary Payton II",
          "Jaylin Williams",
          "KJ Martin",
          "Kelly Olynyk",
          "Kenrich Williams",
          "Nicolas Batum",
          "Ousmane Dieng",
          "Precious Achiuwa",
          "Ryan Dunn",
          "Trey Lyles",
          "Aaron Nesmith",
          "Ben Sheppard",
          "Bruce Brown",
          "Caleb Houstan",
          "Cam Reddish",
          "David Roddy",
          "De'Anthony Melton",
          "Gary Harris",
          "Isaac Okoro",
          "Jabari Walker",
          "Jae'Sean Tate",
          "Jamal Cain",
          "Jamison Battle",
          "John Konchar",
          "Josh Okogie",
          "Julian Phillips",
          "Kris Murray",
          "Matas Buzelis",
          "Max Strus",
          "Micah Potter",
          "Pelle Larsson",
          "Torrey Craig"
         ],
         "type": "scatter",
         "x": [
          -1.1533275943091574,
          -0.6070661606932398,
          -1.0710918088555594,
          -1.078695815840831,
          -1.285012451917821,
          -2.1015751447767705,
          -2.1378474705645143,
          -3.675839666737048,
          -3.0030249923182715,
          -3.089982504907948,
          -3.2952255387304072,
          -2.694184641689234,
          -2.234713010157917,
          -2.6280230254624573,
          -3.638387614647136,
          -2.466530951058366,
          -2.641130883607963,
          -1.4957832734391283,
          -1.607864865294828,
          -1.884416049506772,
          -1.5306175520961007,
          -2.168257523413261,
          -1.5231229381134297,
          -1.321828128198591,
          -1.5516354967257564,
          -1.76664102959145,
          -2.538110289438201,
          -2.154754596686535,
          -1.7308600457447685,
          -0.771781252557454,
          -1.6162912984668525,
          -1.9090561453461912,
          -2.1413393337947824,
          -1.8809194430026128,
          -1.7632109592321898,
          -0.5543433609344266,
          -1.734763151162656,
          -2.0833606070984643,
          -1.4644122203243315
         ],
         "xaxis": "x",
         "y": [
          -0.4023817660194405,
          -2.034646781491379,
          -2.577579486994884,
          -2.6150183620133047,
          -2.075713364052215,
          -2.4334282757675414,
          -2.044550953433797,
          -0.8347246462599864,
          -1.9610511069127048,
          -1.0764939571523853,
          -0.7127474619194014,
          -1.7999599669276038,
          -2.4023175668436023,
          -2.726321759811836,
          -0.7594090044962261,
          -1.553765165920738,
          -1.4575896209659418,
          -3.400753333017104,
          -2.911624950404763,
          -3.263986204916876,
          -3.872129002521892,
          -2.8929610658816123,
          -3.4793613868126125,
          -3.4125562369913984,
          -3.4532012492833277,
          -2.999431789592564,
          -2.464171661025003,
          -2.687063386429277,
          -3.714009089778481,
          -2.229594640805471,
          -3.675652499363807,
          -2.835670399612488,
          -2.548651756428361,
          -2.771725414092848,
          -2.742978591657193,
          -3.3151596541466795,
          -3.6062870571251295,
          -2.680286539120748,
          -4.129717043191493
         ],
         "yaxis": "y"
        },
        {
         "hovertemplate": "<b>%{text}</b><br>PCA_1: %{x:.2f}<br>PCA_2: %{y:.2f}<br><extra></extra>",
         "marker": {
          "color": "rgb(253,180,98)",
          "line": {
           "color": "#FFFFFF",
           "width": 1
          },
          "opacity": [
           0.4
          ],
          "size": 10
         },
         "mode": "markers",
         "name": "Cluster 5",
         "showlegend": false,
         "text": [
          "Donte DiVincenzo",
          "Jerami Grant",
          "Johnny Juzang",
          "Klay Thompson",
          "Tim Hardaway Jr.",
          "Trey Murphy III",
          "AJ Green",
          "Bogdan Bogdanović",
          "Corey Kispert",
          "Dalton Knecht",
          "Duncan Robinson",
          "Gary Trent Jr.",
          "Gradey Dick",
          "Grayson Allen",
          "Isaiah Joe",
          "Ja'Kobe Walter",
          "Jett Howard",
          "Jordan Hawkins",
          "Julian Strawther",
          "Keegan Murray",
          "Kentavious Caldwell-Pope",
          "Kevin Huerter",
          "Mike Conley",
          "Moses Moody",
          "Sam Hauser",
          "Seth Curry",
          "Tyrese Martin",
          "Garrison Mathews",
          "Sam Merrill",
          "Simone Fontecchio",
          "Lindy Waters III"
         ],
         "type": "scatter",
         "x": [
          3.3624319081177023,
          2.903895784475745,
          2.512445534617986,
          3.0931814490117744,
          2.24151347874367,
          2.490571738506365,
          1.7022586924780294,
          1.0310938698482766,
          1.481365767090726,
          1.7166905957478895,
          2.427111006593331,
          1.79533272395857,
          2.499477976825848,
          1.6330584872875948,
          0.8766154458986133,
          0.7278195146624807,
          1.0568535393131175,
          1.6731087393041886,
          2.539422760817722,
          1.2730537025550357,
          1.8606312508599152,
          1.990517285541023,
          2.2556184465920004,
          1.3897522001980296,
          1.9680804346833176,
          1.8851675365740708,
          1.7891104860867646,
          0.9421484352027518,
          -0.1181614431539285,
          0.486880434779185,
          0.938139991818175
         ],
         "xaxis": "x",
         "y": [
          -0.8946589256706315,
          -0.4729787918066233,
          -1.484384401978122,
          0.4522976940339777,
          -0.7697398087555806,
          0.5220270850254249,
          -0.5868312110505286,
          -1.4681647300108285,
          0.4943417726252986,
          -1.1017424443312045,
          0.6945810434756822,
          -2.543455026832617,
          0.04515519027452,
          -0.587978381038682,
          -0.6260734156124129,
          -2.3060654448217672,
          -2.878443351819444,
          -1.9518010022623555,
          -0.7338483656774606,
          -1.3334324799501238,
          -0.6555195336840023,
          -1.557825186369846,
          -1.7868577055548045,
          -0.7442169231652844,
          -2.07296404575222,
          -2.596503102855925,
          -2.8088222078900147,
          -2.381091658429711,
          -0.3424160368215294,
          -1.3273654708324405,
          -2.9070361104694493
         ],
         "yaxis": "y"
        },
        {
         "hovertemplate": "<b>%{text}</b><br>PCA_1: %{x:.2f}<br>PCA_2: %{y:.2f}<br><extra></extra>",
         "marker": {
          "color": "rgb(255,237,111)",
          "line": {
           "color": "#FFFFFF",
           "width": 1
          },
          "opacity": [
           0.4
          ],
          "size": 10
         },
         "mode": "markers",
         "name": "Cluster 11",
         "showlegend": false,
         "text": [
          "Delon Wright",
          "KJ Simpson",
          "Andre Drummond",
          "Dario Šarić",
          "Steven Adams",
          "Taj Gibson",
          "Jeff Green",
          "Josh Richardson",
          "Larry Nance Jr.",
          "Thomas Bryant",
          "Jericho Sims",
          "Trey Jemison III"
         ],
         "type": "scatter",
         "x": [
          -1.1369936153925693,
          -1.7815751012143022,
          -5.174635545825517,
          -3.4745116702247856,
          -4.800603189155743,
          -4.900428778065711,
          -2.0336524314915976,
          -2.5097579816818256,
          -2.6794395901584367,
          -2.369621335051084,
          -4.64220232674156,
          -3.5580209747350966
         ],
         "xaxis": "x",
         "y": [
          -3.608897687056752,
          -3.322476115840977,
          2.214794723652518,
          -0.7408815924436727,
          0.2411375695843498,
          -0.4424556796725005,
          -3.4893151256482158,
          -3.6177610142027214,
          -2.062775235383023,
          -3.5204976368907657,
          -0.5062652140050172,
          -2.0721581175694186
         ],
         "yaxis": "y"
        },
        {
         "hovertemplate": "<b>%{text}</b><br>PCA_1: %{x:.2f}<br>PCA_2: %{y:.2f}<br><extra></extra>",
         "marker": {
          "color": "rgb(179,222,105)",
          "line": {
           "color": "#FFFFFF",
           "width": 1
          },
          "opacity": [
           0.4
          ],
          "size": 10
         },
         "mode": "markers",
         "name": "Cluster 6",
         "showlegend": false,
         "text": [
          "Brandon Clarke",
          "Charles Bassey",
          "Clint Capela",
          "Daniel Theis",
          "Day'Ron Sharpe",
          "DeAndre Jordan",
          "Dereck Lively II",
          "Donovan Clingan",
          "Goga Bitadze",
          "Jarrett Allen",
          "Jaxson Hayes",
          "Kel'el Ware",
          "Kevon Looney",
          "Luke Kornet",
          "Mark Williams",
          "Mason Plumlee",
          "Moussa Diabaté",
          "Neemias Queta",
          "Nick Richards",
          "Oso Ighodaro",
          "Paul Reed",
          "Robert Williams III",
          "Rudy Gobert",
          "Trayce Jackson-Davis",
          "Walker Kessler",
          "Yves Missi"
         ],
         "type": "scatter",
         "x": [
          -3.860440763973625,
          -5.029371860911124,
          -5.419721066715754,
          -4.694006717982767,
          -4.130456535418863,
          -5.093324998288732,
          -5.59735917506313,
          -4.122985080800262,
          -4.851076538498771,
          -6.083591292841628,
          -4.962288216342148,
          -4.221377413984723,
          -4.420773381526782,
          -4.99992532378751,
          -5.511470864418212,
          -5.248456841081915,
          -4.868010162024553,
          -5.820473963144156,
          -4.936710454638035,
          -5.394112609764066,
          -3.6490497706792366,
          -4.9197436210508325,
          -5.707119822395917,
          -5.119673307411606,
          -5.072403991210498,
          -5.517005518080775
         ],
         "xaxis": "x",
         "y": [
          0.7287382099092404,
          1.5061673161242182,
          3.575923426922463,
          0.6738101470695819,
          1.5809960897779614,
          0.7460963265561855,
          3.2421085976607955,
          0.5411844152539242,
          2.010809192496936,
          5.700378677925966,
          0.0472453836244245,
          1.2293763384454064,
          0.9824698570528496,
          0.4486462088729673,
          2.6517849720697924,
          1.9589708207766836,
          0.5493744674473711,
          0.9472148222044824,
          2.319195487689979,
          1.123832431803051,
          0.6144923152757986,
          0.666979129208669,
          4.583369637433067,
          2.695602133022603,
          2.0761087978054467,
          3.3418308951221958
         ],
         "yaxis": "y"
        },
        {
         "hovertemplate": "<b>%{text}</b><br>PCA_1: %{x:.2f}<br>PCA_2: %{y:.2f}<br><extra></extra>",
         "marker": {
          "color": "#ffffff",
          "line": {
           "color": "#FFFFFF",
           "width": 2
          },
          "size": 15,
          "symbol": "diamond"
         },
         "mode": "markers+text",
         "name": "Jalen Green",
         "showlegend": true,
         "type": "scatter",
         "x": [
          4.9943206446823805
         ],
         "xaxis": "x",
         "y": [
          1.1267000986888434
         ],
         "yaxis": "y"
        },
        {
         "cells": {
          "align": "left",
          "fill": {
           "color": "#1f1f1f"
          },
          "font": {
           "color": "white",
           "size": 11
          },
          "values": [
           [
            "Darius Garland",
            "Donovan Mitchell",
            "Jalen Williams",
            "LaMelo Ball",
            "Tyrese Haliburton"
           ],
           [
            "13.20%",
            "12.24%",
            "4.28%",
            "0.57%",
            "0.00%"
           ]
          ]
         },
         "domain": {
          "x": [
           0.73,
           1
          ],
          "y": [
           0.475,
           0.9999999999999999
          ]
         },
         "header": {
          "align": "left",
          "fill": {
           "color": "#333333"
          },
          "font": {
           "color": "white",
           "size": 12
          },
          "values": [
           "Player",
           "Similarity"
          ]
         },
         "type": "table"
        },
        {
         "legendgroup": "playtype",
         "legendgrouptitle": {
          "text": "Play Type Distribution"
         },
         "marker": {
          "color": "#ffffff"
         },
         "name": "Jalen Green",
         "offsetgroup": "0",
         "showlegend": false,
         "type": "bar",
         "x": [
          "Isolation",
          "P&R BallHandler",
          "P&R RollMan",
          "Spotup",
          "Postup",
          "Transition",
          "Handoff",
          "Cut",
          "OffScreen",
          "Misc"
         ],
         "xaxis": "x2",
         "y": [
          0.09,
          0.406,
          0,
          0.141,
          0,
          0.187,
          0.086,
          0.023,
          0.024,
          0.032
         ],
         "yaxis": "y2"
        },
        {
         "legendgroup": "playtype",
         "marker": {
          "color": "rgb(188,128,189)"
         },
         "name": "Cluster 9 Average",
         "offsetgroup": "1",
         "showlegend": false,
         "type": "bar",
         "x": [
          "Isolation",
          "P&R BallHandler",
          "P&R RollMan",
          "Spotup",
          "Postup",
          "Transition",
          "Handoff",
          "Cut",
          "OffScreen",
          "Misc"
         ],
         "xaxis": "x2",
         "y": [
          0.10587500000000001,
          0.31310000000000004,
          0.00385,
          0.18380000000000002,
          0.0048000000000000004,
          0.184275,
          0.06887499999999999,
          0.015300000000000003,
          0.030449999999999994,
          0.049649999999999986
         ],
         "yaxis": "y2"
        }
       ],
       "layout": {
        "annotations": [
         {
          "font": {
           "color": "white",
           "size": 16
          },
          "showarrow": false,
          "text": "Player Clustering Analysis",
          "x": 0.315,
          "xanchor": "center",
          "xref": "paper",
          "y": 0.9999999999999999,
          "yanchor": "bottom",
          "yref": "paper"
         },
         {
          "font": {
           "color": "white",
           "size": 16
          },
          "showarrow": false,
          "text": "Similar Players",
          "x": 0.865,
          "xanchor": "center",
          "xref": "paper",
          "y": 0.9999999999999999,
          "yanchor": "bottom",
          "yref": "paper"
         },
         {
          "font": {
           "color": "white",
           "size": 16
          },
          "showarrow": false,
          "text": "Play Type Distribution",
          "x": 0.5,
          "xanchor": "center",
          "xref": "paper",
          "y": 0.22499999999999998,
          "yanchor": "bottom",
          "yref": "paper"
         },
         {
          "bgcolor": "rgba(0, 0, 0, 0.5)",
          "bordercolor": "white",
          "borderpad": 4,
          "borderwidth": 1,
          "font": {
           "color": "white",
           "size": 12
          },
          "showarrow": false,
          "text": "@reverseenigma.bsky.social",
          "x": 0.95,
          "xref": "paper",
          "y": 1.1,
          "yref": "paper"
         }
        ],
        "barmode": "group",
        "height": 1000,
        "legend": {
         "bgcolor": "rgba(255, 255, 255, 0.1)",
         "font": {
          "color": "white"
         },
         "tracegroupgap": 30,
         "x": 0.01,
         "xanchor": "left",
         "y": 0.99,
         "yanchor": "top"
        },
        "paper_bgcolor": "#1f1f1f",
        "plot_bgcolor": "#1f1f1f",
        "showlegend": true,
        "template": {
         "data": {
          "bar": [
           {
            "error_x": {
             "color": "#2a3f5f"
            },
            "error_y": {
             "color": "#2a3f5f"
            },
            "marker": {
             "line": {
              "color": "#E5ECF6",
              "width": 0.5
             },
             "pattern": {
              "fillmode": "overlay",
              "size": 10,
              "solidity": 0.2
             }
            },
            "type": "bar"
           }
          ],
          "barpolar": [
           {
            "marker": {
             "line": {
              "color": "#E5ECF6",
              "width": 0.5
             },
             "pattern": {
              "fillmode": "overlay",
              "size": 10,
              "solidity": 0.2
             }
            },
            "type": "barpolar"
           }
          ],
          "carpet": [
           {
            "aaxis": {
             "endlinecolor": "#2a3f5f",
             "gridcolor": "white",
             "linecolor": "white",
             "minorgridcolor": "white",
             "startlinecolor": "#2a3f5f"
            },
            "baxis": {
             "endlinecolor": "#2a3f5f",
             "gridcolor": "white",
             "linecolor": "white",
             "minorgridcolor": "white",
             "startlinecolor": "#2a3f5f"
            },
            "type": "carpet"
           }
          ],
          "choropleth": [
           {
            "colorbar": {
             "outlinewidth": 0,
             "ticks": ""
            },
            "type": "choropleth"
           }
          ],
          "contour": [
           {
            "colorbar": {
             "outlinewidth": 0,
             "ticks": ""
            },
            "colorscale": [
             [
              0,
              "#0d0887"
             ],
             [
              0.1111111111111111,
              "#46039f"
             ],
             [
              0.2222222222222222,
              "#7201a8"
             ],
             [
              0.3333333333333333,
              "#9c179e"
             ],
             [
              0.4444444444444444,
              "#bd3786"
             ],
             [
              0.5555555555555556,
              "#d8576b"
             ],
             [
              0.6666666666666666,
              "#ed7953"
             ],
             [
              0.7777777777777778,
              "#fb9f3a"
             ],
             [
              0.8888888888888888,
              "#fdca26"
             ],
             [
              1,
              "#f0f921"
             ]
            ],
            "type": "contour"
           }
          ],
          "contourcarpet": [
           {
            "colorbar": {
             "outlinewidth": 0,
             "ticks": ""
            },
            "type": "contourcarpet"
           }
          ],
          "heatmap": [
           {
            "colorbar": {
             "outlinewidth": 0,
             "ticks": ""
            },
            "colorscale": [
             [
              0,
              "#0d0887"
             ],
             [
              0.1111111111111111,
              "#46039f"
             ],
             [
              0.2222222222222222,
              "#7201a8"
             ],
             [
              0.3333333333333333,
              "#9c179e"
             ],
             [
              0.4444444444444444,
              "#bd3786"
             ],
             [
              0.5555555555555556,
              "#d8576b"
             ],
             [
              0.6666666666666666,
              "#ed7953"
             ],
             [
              0.7777777777777778,
              "#fb9f3a"
             ],
             [
              0.8888888888888888,
              "#fdca26"
             ],
             [
              1,
              "#f0f921"
             ]
            ],
            "type": "heatmap"
           }
          ],
          "heatmapgl": [
           {
            "colorbar": {
             "outlinewidth": 0,
             "ticks": ""
            },
            "colorscale": [
             [
              0,
              "#0d0887"
             ],
             [
              0.1111111111111111,
              "#46039f"
             ],
             [
              0.2222222222222222,
              "#7201a8"
             ],
             [
              0.3333333333333333,
              "#9c179e"
             ],
             [
              0.4444444444444444,
              "#bd3786"
             ],
             [
              0.5555555555555556,
              "#d8576b"
             ],
             [
              0.6666666666666666,
              "#ed7953"
             ],
             [
              0.7777777777777778,
              "#fb9f3a"
             ],
             [
              0.8888888888888888,
              "#fdca26"
             ],
             [
              1,
              "#f0f921"
             ]
            ],
            "type": "heatmapgl"
           }
          ],
          "histogram": [
           {
            "marker": {
             "pattern": {
              "fillmode": "overlay",
              "size": 10,
              "solidity": 0.2
             }
            },
            "type": "histogram"
           }
          ],
          "histogram2d": [
           {
            "colorbar": {
             "outlinewidth": 0,
             "ticks": ""
            },
            "colorscale": [
             [
              0,
              "#0d0887"
             ],
             [
              0.1111111111111111,
              "#46039f"
             ],
             [
              0.2222222222222222,
              "#7201a8"
             ],
             [
              0.3333333333333333,
              "#9c179e"
             ],
             [
              0.4444444444444444,
              "#bd3786"
             ],
             [
              0.5555555555555556,
              "#d8576b"
             ],
             [
              0.6666666666666666,
              "#ed7953"
             ],
             [
              0.7777777777777778,
              "#fb9f3a"
             ],
             [
              0.8888888888888888,
              "#fdca26"
             ],
             [
              1,
              "#f0f921"
             ]
            ],
            "type": "histogram2d"
           }
          ],
          "histogram2dcontour": [
           {
            "colorbar": {
             "outlinewidth": 0,
             "ticks": ""
            },
            "colorscale": [
             [
              0,
              "#0d0887"
             ],
             [
              0.1111111111111111,
              "#46039f"
             ],
             [
              0.2222222222222222,
              "#7201a8"
             ],
             [
              0.3333333333333333,
              "#9c179e"
             ],
             [
              0.4444444444444444,
              "#bd3786"
             ],
             [
              0.5555555555555556,
              "#d8576b"
             ],
             [
              0.6666666666666666,
              "#ed7953"
             ],
             [
              0.7777777777777778,
              "#fb9f3a"
             ],
             [
              0.8888888888888888,
              "#fdca26"
             ],
             [
              1,
              "#f0f921"
             ]
            ],
            "type": "histogram2dcontour"
           }
          ],
          "mesh3d": [
           {
            "colorbar": {
             "outlinewidth": 0,
             "ticks": ""
            },
            "type": "mesh3d"
           }
          ],
          "parcoords": [
           {
            "line": {
             "colorbar": {
              "outlinewidth": 0,
              "ticks": ""
             }
            },
            "type": "parcoords"
           }
          ],
          "pie": [
           {
            "automargin": true,
            "type": "pie"
           }
          ],
          "scatter": [
           {
            "fillpattern": {
             "fillmode": "overlay",
             "size": 10,
             "solidity": 0.2
            },
            "type": "scatter"
           }
          ],
          "scatter3d": [
           {
            "line": {
             "colorbar": {
              "outlinewidth": 0,
              "ticks": ""
             }
            },
            "marker": {
             "colorbar": {
              "outlinewidth": 0,
              "ticks": ""
             }
            },
            "type": "scatter3d"
           }
          ],
          "scattercarpet": [
           {
            "marker": {
             "colorbar": {
              "outlinewidth": 0,
              "ticks": ""
             }
            },
            "type": "scattercarpet"
           }
          ],
          "scattergeo": [
           {
            "marker": {
             "colorbar": {
              "outlinewidth": 0,
              "ticks": ""
             }
            },
            "type": "scattergeo"
           }
          ],
          "scattergl": [
           {
            "marker": {
             "colorbar": {
              "outlinewidth": 0,
              "ticks": ""
             }
            },
            "type": "scattergl"
           }
          ],
          "scattermapbox": [
           {
            "marker": {
             "colorbar": {
              "outlinewidth": 0,
              "ticks": ""
             }
            },
            "type": "scattermapbox"
           }
          ],
          "scatterpolar": [
           {
            "marker": {
             "colorbar": {
              "outlinewidth": 0,
              "ticks": ""
             }
            },
            "type": "scatterpolar"
           }
          ],
          "scatterpolargl": [
           {
            "marker": {
             "colorbar": {
              "outlinewidth": 0,
              "ticks": ""
             }
            },
            "type": "scatterpolargl"
           }
          ],
          "scatterternary": [
           {
            "marker": {
             "colorbar": {
              "outlinewidth": 0,
              "ticks": ""
             }
            },
            "type": "scatterternary"
           }
          ],
          "surface": [
           {
            "colorbar": {
             "outlinewidth": 0,
             "ticks": ""
            },
            "colorscale": [
             [
              0,
              "#0d0887"
             ],
             [
              0.1111111111111111,
              "#46039f"
             ],
             [
              0.2222222222222222,
              "#7201a8"
             ],
             [
              0.3333333333333333,
              "#9c179e"
             ],
             [
              0.4444444444444444,
              "#bd3786"
             ],
             [
              0.5555555555555556,
              "#d8576b"
             ],
             [
              0.6666666666666666,
              "#ed7953"
             ],
             [
              0.7777777777777778,
              "#fb9f3a"
             ],
             [
              0.8888888888888888,
              "#fdca26"
             ],
             [
              1,
              "#f0f921"
             ]
            ],
            "type": "surface"
           }
          ],
          "table": [
           {
            "cells": {
             "fill": {
              "color": "#EBF0F8"
             },
             "line": {
              "color": "white"
             }
            },
            "header": {
             "fill": {
              "color": "#C8D4E3"
             },
             "line": {
              "color": "white"
             }
            },
            "type": "table"
           }
          ]
         },
         "layout": {
          "annotationdefaults": {
           "arrowcolor": "#2a3f5f",
           "arrowhead": 0,
           "arrowwidth": 1
          },
          "autotypenumbers": "strict",
          "coloraxis": {
           "colorbar": {
            "outlinewidth": 0,
            "ticks": ""
           }
          },
          "colorscale": {
           "diverging": [
            [
             0,
             "#8e0152"
            ],
            [
             0.1,
             "#c51b7d"
            ],
            [
             0.2,
             "#de77ae"
            ],
            [
             0.3,
             "#f1b6da"
            ],
            [
             0.4,
             "#fde0ef"
            ],
            [
             0.5,
             "#f7f7f7"
            ],
            [
             0.6,
             "#e6f5d0"
            ],
            [
             0.7,
             "#b8e186"
            ],
            [
             0.8,
             "#7fbc41"
            ],
            [
             0.9,
             "#4d9221"
            ],
            [
             1,
             "#276419"
            ]
           ],
           "sequential": [
            [
             0,
             "#0d0887"
            ],
            [
             0.1111111111111111,
             "#46039f"
            ],
            [
             0.2222222222222222,
             "#7201a8"
            ],
            [
             0.3333333333333333,
             "#9c179e"
            ],
            [
             0.4444444444444444,
             "#bd3786"
            ],
            [
             0.5555555555555556,
             "#d8576b"
            ],
            [
             0.6666666666666666,
             "#ed7953"
            ],
            [
             0.7777777777777778,
             "#fb9f3a"
            ],
            [
             0.8888888888888888,
             "#fdca26"
            ],
            [
             1,
             "#f0f921"
            ]
           ],
           "sequentialminus": [
            [
             0,
             "#0d0887"
            ],
            [
             0.1111111111111111,
             "#46039f"
            ],
            [
             0.2222222222222222,
             "#7201a8"
            ],
            [
             0.3333333333333333,
             "#9c179e"
            ],
            [
             0.4444444444444444,
             "#bd3786"
            ],
            [
             0.5555555555555556,
             "#d8576b"
            ],
            [
             0.6666666666666666,
             "#ed7953"
            ],
            [
             0.7777777777777778,
             "#fb9f3a"
            ],
            [
             0.8888888888888888,
             "#fdca26"
            ],
            [
             1,
             "#f0f921"
            ]
           ]
          },
          "colorway": [
           "#636efa",
           "#EF553B",
           "#00cc96",
           "#ab63fa",
           "#FFA15A",
           "#19d3f3",
           "#FF6692",
           "#B6E880",
           "#FF97FF",
           "#FECB52"
          ],
          "font": {
           "color": "#2a3f5f"
          },
          "geo": {
           "bgcolor": "white",
           "lakecolor": "white",
           "landcolor": "#E5ECF6",
           "showlakes": true,
           "showland": true,
           "subunitcolor": "white"
          },
          "hoverlabel": {
           "align": "left"
          },
          "hovermode": "closest",
          "mapbox": {
           "style": "light"
          },
          "paper_bgcolor": "white",
          "plot_bgcolor": "#E5ECF6",
          "polar": {
           "angularaxis": {
            "gridcolor": "white",
            "linecolor": "white",
            "ticks": ""
           },
           "bgcolor": "#E5ECF6",
           "radialaxis": {
            "gridcolor": "white",
            "linecolor": "white",
            "ticks": ""
           }
          },
          "scene": {
           "xaxis": {
            "backgroundcolor": "#E5ECF6",
            "gridcolor": "white",
            "gridwidth": 2,
            "linecolor": "white",
            "showbackground": true,
            "ticks": "",
            "zerolinecolor": "white"
           },
           "yaxis": {
            "backgroundcolor": "#E5ECF6",
            "gridcolor": "white",
            "gridwidth": 2,
            "linecolor": "white",
            "showbackground": true,
            "ticks": "",
            "zerolinecolor": "white"
           },
           "zaxis": {
            "backgroundcolor": "#E5ECF6",
            "gridcolor": "white",
            "gridwidth": 2,
            "linecolor": "white",
            "showbackground": true,
            "ticks": "",
            "zerolinecolor": "white"
           }
          },
          "shapedefaults": {
           "line": {
            "color": "#2a3f5f"
           }
          },
          "ternary": {
           "aaxis": {
            "gridcolor": "white",
            "linecolor": "white",
            "ticks": ""
           },
           "baxis": {
            "gridcolor": "white",
            "linecolor": "white",
            "ticks": ""
           },
           "bgcolor": "#E5ECF6",
           "caxis": {
            "gridcolor": "white",
            "linecolor": "white",
            "ticks": ""
           }
          },
          "title": {
           "x": 0.05
          },
          "xaxis": {
           "automargin": true,
           "gridcolor": "white",
           "linecolor": "white",
           "ticks": "",
           "title": {
            "standoff": 15
           },
           "zerolinecolor": "white",
           "zerolinewidth": 2
          },
          "yaxis": {
           "automargin": true,
           "gridcolor": "white",
           "linecolor": "white",
           "ticks": "",
           "title": {
            "standoff": 15
           },
           "zerolinecolor": "white",
           "zerolinewidth": 2
          }
         }
        },
        "title": {
         "font": {
          "color": "white",
          "size": 24
         },
         "text": "Style Analysis - Jalen Green 2024-25",
         "x": 0.5,
         "y": 0.97
        },
        "updatemenus": [
         {
          "bgcolor": "#333333",
          "bordercolor": "#666666",
          "direction": "right",
          "font": {
           "color": "white"
          },
          "showactive": true,
          "type": "buttons",
          "x": 0.7,
          "y": 1.2
         }
        ],
        "width": 1200,
        "xaxis": {
         "anchor": "y",
         "autorange": true,
         "color": "white",
         "domain": [
          0,
          0.63
         ],
         "gridcolor": "#444444",
         "range": [
          -6.963637328004328,
          7.817346066986727
         ],
         "showgrid": true,
         "title": {
          "text": "Principal Component 1"
         },
         "type": "linear",
         "zeroline": false
        },
        "xaxis2": {
         "anchor": "y2",
         "autorange": true,
         "color": "white",
         "domain": [
          0,
          1
         ],
         "range": [
          -0.5,
          9.5
         ],
         "tickangle": 45,
         "title": {
          "text": "Play Type"
         },
         "type": "category"
        },
        "yaxis": {
         "anchor": "x",
         "autorange": true,
         "color": "white",
         "domain": [
          0.475,
          0.9999999999999999
         ],
         "gridcolor": "#444444",
         "range": [
          -5.155829672495634,
          10.571728136220974
         ],
         "showgrid": true,
         "title": {
          "text": "Principal Component 2"
         },
         "type": "linear",
         "zeroline": false
        },
        "yaxis2": {
         "anchor": "x2",
         "autorange": true,
         "color": "white",
         "domain": [
          0,
          0.22499999999999998
         ],
         "gridcolor": "#444444",
         "range": [
          0,
          0.4273684210526316
         ],
         "title": {
          "text": "Possession %"
         },
         "type": "linear"
        }
       }
      },
      "image/png": "[encoded data removed]",
      "text/html": [
       "<div>                            <div id=\"1a9ebab4-e25f-45d6-b05d-d9244c497028\" class=\"plotly-graph-div\" style=\"height:1000px; width:1200px;\"></div>            <script type=\"text/javascript\">                require([\"plotly\"], function(Plotly) {                    window.PLOTLYENV=window.PLOTLYENV || {};                                    if (document.getElementById(\"1a9ebab4-e25f-45d6-b05d-d9244c497028\")) {                    Plotly.newPlot(                        \"1a9ebab4-e25f-45d6-b05d-d9244c497028\",                        [{\"hovertext\":\"Cluster 0 Center\",\"marker\":{\"color\":\"rgb(141,211,199)\",\"line\":{\"color\":\"#FFFFFF\",\"width\":2},\"opacity\":0.15,\"size\":15,\"symbol\":\"triangle-down\"},\"mode\":\"markers\",\"name\":\"Cluster 0 Center\",\"showlegend\":false,\"x\":[-1.7733033668701492],\"y\":[-0.7531290930826293],\"type\":\"scatter\",\"xaxis\":\"x\",\"yaxis\":\"y\"},{\"hovertext\":\"Cluster 1 Center\",\"marker\":{\"color\":\"rgb(255,255,179)\",\"line\":{\"color\":\"#FFFFFF\",\"width\":2},\"opacity\":0.15,\"size\":15,\"symbol\":\"triangle-down\"},\"mode\":\"markers\",\"name\":\"Cluster 1 Center\",\"showlegend\":false,\"x\":[0.2758276550431522],\"y\":[-2.6213087307964713],\"type\":\"scatter\",\"xaxis\":\"x\",\"yaxis\":\"y\"},{\"hovertext\":\"Cluster 2 Center\",\"marker\":{\"color\":\"rgb(190,186,218)\",\"line\":{\"color\":\"#FFFFFF\",\"width\":2},\"opacity\":0.15,\"size\":15,\"symbol\":\"triangle-down\"},\"mode\":\"markers\",\"name\":\"Cluster 2 Center\",\"showlegend\":false,\"x\":[5.1918590514475085],\"y\":[3.11135025189883],\"type\":\"scatter\",\"xaxis\":\"x\",\"yaxis\":\"y\"},{\"hovertext\":\"Cluster 3 Center\",\"marker\":{\"color\":\"rgb(251,128,114)\",\"line\":{\"color\":\"#FFFFFF\",\"width\":2},\"opacity\":0.15,\"size\":15,\"symbol\":\"triangle-down\"},\"mode\":\"markers\",\"name\":\"Cluster 3 Center\",\"showlegend\":false,\"x\":[-3.888431153880619],\"y\":[3.3440755630856422],\"type\":\"scatter\",\"xaxis\":\"x\",\"yaxis\":\"y\"},{\"hovertext\":\"Cluster 4 Center\",\"marker\":{\"color\":\"rgb(128,177,211)\",\"line\":{\"color\":\"#FFFFFF\",\"width\":2},\"opacity\":0.15,\"size\":15,\"symbol\":\"triangle-down\"},\"mode\":\"markers\",\"name\":\"Cluster 4 Center\",\"showlegend\":false,\"x\":[-1.9485904829857288],\"y\":[-2.527042876902106],\"type\":\"scatter\",\"xaxis\":\"x\",\"yaxis\":\"y\"},{\"hovertext\":\"Cluster 5 Center\",\"marker\":{\"color\":\"rgb(253,180,98)\",\"line\":{\"color\":\"#FFFFFF\",\"width\":2},\"opacity\":0.15,\"size\":15,\"symbol\":\"triangle-down\"},\"mode\":\"markers\",\"name\":\"Cluster 5 Center\",\"showlegend\":false,\"x\":[1.7556512185495474],\"y\":[-1.184252031548668],\"type\":\"scatter\",\"xaxis\":\"x\",\"yaxis\":\"y\"},{\"hovertext\":\"Cluster 6 Center\",\"marker\":{\"color\":\"rgb(179,222,105)\",\"line\":{\"color\":\"#FFFFFF\",\"width\":2},\"opacity\":0.15,\"size\":15,\"symbol\":\"triangle-down\"},\"mode\":\"markers\",\"name\":\"Cluster 6 Center\",\"showlegend\":false,\"x\":[-4.971189588155216],\"y\":[1.790104080675079],\"type\":\"scatter\",\"xaxis\":\"x\",\"yaxis\":\"y\"},{\"hovertext\":\"Cluster 7 Center\",\"marker\":{\"color\":\"rgb(252,205,229)\",\"line\":{\"color\":\"#FFFFFF\",\"width\":2},\"opacity\":0.15,\"size\":15,\"symbol\":\"triangle-down\"},\"mode\":\"markers\",\"name\":\"Cluster 7 Center\",\"showlegend\":false,\"x\":[0.8248851845123755],\"y\":[1.8634428445563829],\"type\":\"scatter\",\"xaxis\":\"x\",\"yaxis\":\"y\"},{\"hovertext\":\"Cluster 8 Center\",\"marker\":{\"color\":\"rgb(217,217,217)\",\"line\":{\"color\":\"#FFFFFF\",\"width\":2},\"opacity\":0.15,\"size\":15,\"symbol\":\"triangle-down\"},\"mode\":\"markers\",\"name\":\"Cluster 8 Center\",\"showlegend\":false,\"x\":[0.017893102863409078],\"y\":[6.327435811314763],\"type\":\"scatter\",\"xaxis\":\"x\",\"yaxis\":\"y\"},{\"hovertext\":\"Cluster 9 Center\",\"marker\":{\"color\":\"rgb(188,128,189)\",\"line\":{\"color\":\"#FFFFFF\",\"width\":2},\"opacity\":0.15,\"size\":15,\"symbol\":\"triangle-down\"},\"mode\":\"markers\",\"name\":\"Cluster 9 Center\",\"showlegend\":false,\"x\":[3.312960759143216],\"y\":[0.04796103744507496],\"type\":\"scatter\",\"xaxis\":\"x\",\"yaxis\":\"y\"},{\"hovertext\":\"Cluster 10 Center\",\"marker\":{\"color\":\"rgb(204,235,197)\",\"line\":{\"color\":\"#FFFFFF\",\"width\":2},\"opacity\":0.15,\"size\":15,\"symbol\":\"triangle-down\"},\"mode\":\"markers\",\"name\":\"Cluster 10 Center\",\"showlegend\":false,\"x\":[0.8108147736880369],\"y\":[-0.726860783430556],\"type\":\"scatter\",\"xaxis\":\"x\",\"yaxis\":\"y\"},{\"hovertext\":\"Cluster 11 Center\",\"marker\":{\"color\":\"rgb(255,237,111)\",\"line\":{\"color\":\"#FFFFFF\",\"width\":2},\"opacity\":0.15,\"size\":15,\"symbol\":\"triangle-down\"},\"mode\":\"markers\",\"name\":\"Cluster 11 Center\",\"showlegend\":false,\"x\":[-3.2551202116448525],\"y\":[-1.743962593789683],\"type\":\"scatter\",\"xaxis\":\"x\",\"yaxis\":\"y\"},{\"hovertext\":\"Cluster 12 Center\",\"marker\":{\"color\":\"rgb(141,211,199)\",\"line\":{\"color\":\"#FFFFFF\",\"width\":2},\"opacity\":0.15,\"size\":15,\"symbol\":\"triangle-down\"},\"mode\":\"markers\",\"name\":\"Cluster 12 Center\",\"showlegend\":false,\"x\":[4.5541361232079725],\"y\":[1.5642828472781753],\"type\":\"scatter\",\"xaxis\":\"x\",\"yaxis\":\"y\"},{\"hovertemplate\":\"\\u003cb\\u003e%{text}\\u003c\\u002fb\\u003e\\u003cbr\\u003ePCA_1: %{x:.2f}\\u003cbr\\u003ePCA_2: %{y:.2f}\\u003cbr\\u003e\\u003cextra\\u003e\\u003c\\u002fextra\\u003e\",\"marker\":{\"color\":\"rgb(252,205,229)\",\"line\":{\"color\":\"#FFFFFF\",\"width\":1},\"opacity\":[0.4],\"size\":10},\"mode\":\"markers\",\"name\":\"Cluster 7\",\"showlegend\":false,\"text\":[\"Aaron Gordon\",\"Andrew Wiggins\",\"Ben Simmons\",\"De'Andre Hunter\",\"Dillon Brooks\",\"Franz Wagner\",\"Harrison Barnes\",\"Jaime Jaquez Jr.\",\"Jalen Johnson\",\"Jaylen Brown\",\"Jimmy Butler\",\"John Collins\",\"Jonathan Kuminga\",\"Jrue Holiday\",\"Khris Middleton\",\"Kyle Kuzma\",\"Mikal Bridges\",\"Naz Reid\",\"Nikola Jovi\\u0107\",\"OG Anunoby\",\"P.J. Washington\",\"Paolo Banchero\",\"RJ Barrett\",\"Russell Westbrook\",\"Scottie Barnes\",\"Tobias Harris\",\"Zion Williamson\",\"Jabari Smith Jr.\"],\"x\":[-1.2639224533719364,2.9324076273201585,-1.5686553450070049,2.475204046973273,1.1890534199304463,1.769158179345303,-0.1400915523959923,0.9935465438447862,0.4741249432367361,3.1234132041124454,-0.4774454702874013,0.0150829525686788,1.0275950131182494,-0.2747283631940952,1.2848706459522368,1.2166590296752002,1.7671680385454738,1.0114592480930815,0.4377247735353804,1.1797679696656678,-0.305792375595141,-0.4384397680534889,3.353135600048673,1.0668112403178414,1.4631258199446502,0.794052554710302,-0.3667533296917122,0.3582529730047025],\"y\":[2.2100551204059578,1.674108247380423,1.0334869028773632,1.985064392104618,0.830938343568038,3.542794267944472,1.4564386510537872,-0.0174568007950733,2.338500166330917,3.3254297825228614,2.6300373480576646,3.2802577801247224,1.296859318644251,1.3575999817034288,0.9332168327321326,0.7011156830082103,3.0047959922759406,2.617677021279924,0.69549709894387,2.060407896565319,1.3662895140333708,1.0399669852892737,2.276088504726878,1.6339293963528707,3.390699304913113,3.404685471362796,0.9813044485217322,1.126611995649856],\"type\":\"scatter\",\"xaxis\":\"x\",\"yaxis\":\"y\"},{\"hovertemplate\":\"\\u003cb\\u003e%{text}\\u003c\\u002fb\\u003e\\u003cbr\\u003ePCA_1: %{x:.2f}\\u003cbr\\u003ePCA_2: %{y:.2f}\\u003cbr\\u003e\\u003cextra\\u003e\\u003c\\u002fextra\\u003e\",\"marker\":{\"color\":\"rgb(204,235,197)\",\"line\":{\"color\":\"#FFFFFF\",\"width\":1},\"opacity\":[0.4],\"size\":10},\"mode\":\"markers\",\"name\":\"Cluster 10\",\"showlegend\":false,\"text\":[\"Aaron Wiggins\",\"Amen Thompson\",\"Andrew Nembhard\",\"Bilal Coulibaly\",\"Brandon Boston\",\"Cam Whitmore\",\"Caris LeVert\",\"Carlton Carrington\",\"Cason Wallace\",\"Cody Martin\",\"Dyson Daniels\",\"Jalen Wilson\",\"Jarace Walker\",\"Jaylen Wells\",\"Josh Giddey\",\"Josh Hart\",\"Julian Champagnie\",\"Keldon Johnson\",\"Kelly Oubre Jr.\",\"Keon Johnson\",\"Miles Bridges\",\"Miles McBride\",\"Naji Marshall\",\"Quentin Grimes\",\"Scotty Pippen Jr.\",\"Stephon Castle\",\"Tari Eason\",\"Tyus Jones\",\"Amir Coffey\",\"Ayo Dosunmu\",\"Christian Braun\",\"Jaden McDaniels\",\"Keon Ellis\",\"Kyshawn George\",\"Ochai Agbaji\",\"Ronald Holland II\",\"Taurean Prince\",\"Tristan da Silva\",\"V\\u00edt Krej\\u010d\\u00ed\",\"Zaccharie Risacher\",\"Ziaire Williams\"],\"x\":[0.0597897943725563,-0.0739960686766372,1.4212914379907169,1.3049631659710412,1.3433963905835689,0.8512427655457138,1.8337116811173328,1.7374082890868785,0.7703728855070473,0.4124577943006532,0.9665452926722684,0.3613442970336947,1.1883435297444025,0.7507820163182218,0.7306070412434901,-0.0759811092090097,0.8422543773433332,0.9617707520012496,1.1465809200184498,1.3585885910735456,1.1743132063820154,2.2086446497835466,-0.187863192372063,2.675095725436148,1.547438317412709,0.8253563790474194,-0.221786127360701,1.7184339275160505,0.7597296719189276,1.203434787400785,0.1741213570260904,0.2315824383187337,1.3944267088665283,0.5175283361501292,0.0752354805861771,-0.1232406695856262,1.1812423438403217,-0.1796808976797745,0.1545405376645918,0.6699672394860777,-0.4465883426670949],\"y\":[-0.6561085870256049,1.0280164887264809,-0.6993712251773097,-0.5760927901442241,0.4348618697407097,-2.1841385901848627,-0.6506232704475924,-1.146863086357419,-1.0045796416247796,0.5839807178850884,0.4446232745281715,-0.3211744274665591,-1.6556271924793564,-0.5426587960190814,-0.292164964162819,1.1805718219745571,-0.6677002187078912,0.3788455069572902,0.2667146935538342,-1.6832396267744631,-0.0804480783238003,-0.8415259414667058,-1.2021191780278502,-0.3469002119852606,-0.9966619742618918,0.1690868888071027,-1.4770975093808956,-0.4848222258061198,-2.261747346295166,-1.0272885916562815,0.4029022542585004,-0.8079245763435079,-2.1277058012870245,-1.6259804805737963,-0.8813571631693292,-1.6952080056102523,-1.6417513212589263,-1.005002392913686,-1.7545569494770648,-0.6964463686795672,-1.656009103995444],\"type\":\"scatter\",\"xaxis\":\"x\",\"yaxis\":\"y\"},{\"hovertemplate\":\"\\u003cb\\u003e%{text}\\u003c\\u002fb\\u003e\\u003cbr\\u003ePCA_1: %{x:.2f}\\u003cbr\\u003ePCA_2: %{y:.2f}\\u003cbr\\u003e\\u003cextra\\u003e\\u003c\\u002fextra\\u003e\",\"marker\":{\"color\":\"rgb(141,211,199)\",\"line\":{\"color\":\"#FFFFFF\",\"width\":1},\"opacity\":[0.4],\"size\":10},\"mode\":\"markers\",\"name\":\"Cluster 0\",\"showlegend\":false,\"text\":[\"Alexandre Sarr\",\"Patrick Williams\",\"Santi Aldama\",\"Toumani Camara\",\"Derrick Jones Jr.\",\"Draymond Green\",\"Herbert Jones\",\"Jake LaRavia\",\"Josh Green\",\"Kris Dunn\",\"Luguentz Dort\",\"Luke Kennard\",\"Max Christie\",\"Peyton Watson\",\"Tidjane Sala\\u00fcn\",\"Tre Jones\",\"Trevelin Queen\",\"Al Horford\",\"Alex Caruso\",\"Chris Boucher\",\"Georges Niang\",\"Haywood Highsmith\",\"Jalen Smith\",\"Jay Huff\",\"Jeremiah Robinson-Earl\",\"Jonathan Isaac\",\"Jonathan Mogbo\",\"Kevin Love\",\"Maxi Kleber\",\"Noah Clowney\",\"Obi Toppin\",\"Royce O'Neale\",\"Rui Hachimura\",\"Andre Jackson Jr.\",\"Javonte Green\"],\"x\":[-2.8236114686912206,-0.6041419417557284,0.1494577145199673,-1.6942900265850658,-1.8793638834164803,-2.2289443129183515,-1.0563484832595758,-1.1525252448259184,-0.3423601552148459,-1.0691639297018711,-0.7295410218228429,-0.2229646071730792,-1.0863457156709548,-1.6956219432964992,-1.7760190367290796,-1.1452644836043897,-1.7015362213423302,-2.287302144220352,-2.397254662831991,-1.2981172524770392,-1.1045720289189431,-2.1217466017581925,-2.896544973875282,-2.097953722891228,-2.506236179155023,-3.3054219668762506,-3.317665731920865,-2.5604434521682893,-2.760641209578931,-1.4516796455112737,-2.5487532099963097,-1.0768473673932737,-2.4594414479522446,-2.737184342190503,-2.0792271392509654],\"y\":[0.8523968204642977,-1.1471525031063106,-0.0854235418500702,-0.4263210671800114,-0.1805678168220749,1.225404916950486,-2.275437424306436,-1.295244565447332,-1.6569740305341196,-1.6709564112509114,-1.3195898837832796,-0.4416212532360842,-0.3039384316283292,-0.7612133375824047,-1.762044604375923,-2.0865194002565426,-1.7502090981798808,0.3814875620524249,-1.1869587885696202,-0.8690147696433141,-1.1946203488421894,-1.1528121271384904,0.7499369506669314,0.1096266572999475,-0.7254392235222465,-0.4149969269537019,-0.5337390140459146,-1.5124635587238202,-1.6134018539088597,-0.5329691016682611,1.4711648398086403,-2.1974631938256346,0.842651854567459,-1.338260385536063,-1.5568351977843875],\"type\":\"scatter\",\"xaxis\":\"x\",\"yaxis\":\"y\"},{\"hovertemplate\":\"\\u003cb\\u003e%{text}\\u003c\\u002fb\\u003e\\u003cbr\\u003ePCA_1: %{x:.2f}\\u003cbr\\u003ePCA_2: %{y:.2f}\\u003cbr\\u003e\\u003cextra\\u003e\\u003c\\u002fextra\\u003e\",\"marker\":{\"color\":\"rgb(217,217,217)\",\"line\":{\"color\":\"#FFFFFF\",\"width\":1},\"opacity\":[0.4],\"size\":10},\"mode\":\"markers\",\"name\":\"Cluster 8\",\"showlegend\":false,\"text\":[\"Alperen Sengun\",\"Anthony Davis\",\"Bam Adebayo\",\"Giannis Antetokounmpo\",\"Jaren Jackson Jr.\",\"Joel Embiid\",\"Julius Randle\",\"Karl-Anthony Towns\",\"LeBron James\",\"Nikola Joki\\u0107\",\"Pascal Siakam\",\"Victor Wembanyama\",\"Nikola Vu\\u010devi\\u0107\"],\"x\":[-1.734001231134081,-0.5777125016337085,-1.581277200632824,0.2337130096759178,2.068068338037385,-1.983355844510193,1.5178302452823451,0.572903785743614,3.263834174243021,0.4608210136915122,-0.0501743386226945,1.2233847117250327,-3.181423824641009],\"y\":[6.592073665500998,7.524428021997456,4.967357723005217,7.549511208725871,4.634437111472121,4.255280486059434,5.140133531421566,6.459588971302424,5.903239000936259,9.545615506916834,6.065863798065368,6.158983230591745,7.460153291096637],\"type\":\"scatter\",\"xaxis\":\"x\",\"yaxis\":\"y\"},{\"hovertemplate\":\"\\u003cb\\u003e%{text}\\u003c\\u002fb\\u003e\\u003cbr\\u003ePCA_1: %{x:.2f}\\u003cbr\\u003ePCA_2: %{y:.2f}\\u003cbr\\u003e\\u003cextra\\u003e\\u003c\\u002fextra\\u003e\",\"marker\":{\"color\":\"rgb(188,128,189)\",\"line\":{\"color\":\"#FFFFFF\",\"width\":1},\"opacity\":[0.8],\"size\":10},\"mode\":\"markers\",\"name\":\"Cluster 9\",\"showlegend\":true,\"text\":[\"Anfernee Simons\",\"Anthony Black\",\"Austin Reaves\",\"Bennedict Mathurin\",\"Bradley Beal\",\"Brandon Ingram\",\"Brice Sensabaugh\",\"Cam Thomas\",\"Chris Paul\",\"Coby White\",\"Cole Anthony\",\"Collin Sexton\",\"Dalano Banton\",\"Darius Garland\",\"Dejounte Murray\",\"Deni Avdija\",\"Dennis Schr\\u00f6der\",\"Desmond Bane\",\"Devin Vassell\",\"Fred VanVleet\",\"Ja Morant\",\"Jaden Ivey\",\"Jalen Green\",\"Jalen Suggs\",\"Jalen Williams\",\"Jared McCain\",\"Jordan Clarkson\",\"Kevin Porter Jr.\",\"Keyonte George\",\"LaMelo Ball\",\"Luka Don\\u010di\\u0107\",\"Malik Monk\",\"Paul George\",\"Scoot Henderson\",\"Shaedon Sharpe\",\"Spencer Dinwiddie\",\"T.J. McConnell\",\"Terry Rozier\",\"Tre Mann\",\"Tyrese Haliburton\"],\"x\":[4.618342090634748,1.7680935847061865,3.362453296704926,3.4221526311903783,2.9033970588799107,2.817884550064365,2.9636987926304847,4.585131703859636,2.583863299246162,4.5360559722384055,2.0760527575490904,4.555176655236239,1.9549336340152303,5.803398809303353,2.822634630469899,3.29756084215794,3.188918364799078,3.0314464430247243,2.950263261783853,3.387990929741981,2.238264869028922,3.062790810013378,4.9943206446823805,2.817014286630504,3.675138320342775,2.876105193255861,3.616063536471688,1.8203924098859088,4.03104051802416,5.0317576008037,4.617839726861938,4.379171823003586,3.1731967885190024,2.771363654400355,3.6806150296711087,1.713506059350398,2.106401867771567,2.568733661282006,1.494049402731965,5.221214854760852],\"y\":[-0.4058644614680237,-0.3661373301949917,1.250857487656969,1.30123207367528,1.5946056700146805,0.5664476706278029,-1.2604613980657309,-0.6855205965307124,-0.4304645861669137,-0.2770901234196197,-1.6063601314000773,1.0071983007496372,-1.3260770387897014,0.497279103655125,-0.9910585543847076,-0.0843125055439013,0.0950280886623354,0.8336474826341018,-0.205271832807765,0.6880466631202251,-0.2043373867610623,0.0285098442034946,1.1267000986888434,-0.0857223540511208,0.7673053138985898,-1.7566282927862984,0.2587484263623841,-0.4954765162834527,-0.4571227893674551,0.2623659677335443,1.0576488511627269,1.1070135307070346,1.2910618778801737,-0.2238990803055922,1.1548559638491946,-0.6734125804471498,0.3734581359476512,-0.9777227448886158,-1.097827030846221,0.2671982810823171],\"type\":\"scatter\",\"xaxis\":\"x\",\"yaxis\":\"y\"},{\"hovertemplate\":\"\\u003cb\\u003e%{text}\\u003c\\u002fb\\u003e\\u003cbr\\u003ePCA_1: %{x:.2f}\\u003cbr\\u003ePCA_2: %{y:.2f}\\u003cbr\\u003e\\u003cextra\\u003e\\u003c\\u002fextra\\u003e\",\"marker\":{\"color\":\"rgb(190,186,218)\",\"line\":{\"color\":\"#FFFFFF\",\"width\":1},\"opacity\":[0.4],\"size\":10},\"mode\":\"markers\",\"name\":\"Cluster 2\",\"showlegend\":false,\"text\":[\"Anthony Edwards\",\"Cade Cunningham\",\"Damian Lillard\",\"De'Aaron Fox\",\"DeMar DeRozan\",\"Donovan Mitchell\",\"Jalen Brunson\",\"Jamal Murray\",\"James Harden\",\"Jayson Tatum\",\"Kevin Durant\",\"Kyrie Irving\",\"Shai Gilgeous-Alexander\",\"Trae Young\",\"Tyrese Maxey\",\"Zach LaVine\"],\"x\":[6.9373000318240265,5.592313649424614,5.8950807579443385,5.115725090563766,3.933129394990104,4.763652307071404,6.078250409846808,4.4219601220161655,5.2361516484697885,4.422409660660992,3.903519667965116,4.4524418959842,6.56825603460125,5.115210251808662,5.960283339375381,4.674060560613515],\"y\":[2.5008053149428844,1.9099955978302376,1.1920916318888477,2.706882096233852,3.914129729291337,1.913287604830636,3.7266840093469,2.75643313791386,3.064462971469724,5.952715795962264,5.01526623877704,2.852426942101575,4.813350841523958,2.487327101603583,1.8825226852298595,3.093222331434724],\"type\":\"scatter\",\"xaxis\":\"x\",\"yaxis\":\"y\"},{\"hovertemplate\":\"\\u003cb\\u003e%{text}\\u003c\\u002fb\\u003e\\u003cbr\\u003ePCA_1: %{x:.2f}\\u003cbr\\u003ePCA_2: %{y:.2f}\\u003cbr\\u003e\\u003cextra\\u003e\\u003c\\u002fextra\\u003e\",\"marker\":{\"color\":\"rgb(255,255,179)\",\"line\":{\"color\":\"#FFFFFF\",\"width\":1},\"opacity\":[0.4],\"size\":10},\"mode\":\"markers\",\"name\":\"Cluster 1\",\"showlegend\":false,\"text\":[\"Ausar Thompson\",\"Blake Wesley\",\"Bones Hyland\",\"Caleb Martin\",\"Cameron Payne\",\"Davion Mitchell\",\"Immanuel Quickley\",\"Isaiah Collier\",\"Jaden Hardy\",\"Jamal Shead\",\"Jared Butler\",\"Jeff Dowtin Jr.\",\"Jordan Miller\",\"Kyle Anderson\",\"Malaki Branham\",\"Marcus Smart\",\"Ty Jerome\",\"Vasilije Mici\\u0107\",\"Aaron Holiday\",\"Ajay Mitchell\",\"Alec Burks\",\"Brandin Podziemski\",\"Cody Williams\",\"Dru Smith\",\"Eric Gordon\",\"Gabe Vincent\",\"Jaylen Nowell\",\"Jose Alvarado\",\"Kawhi Leonard\",\"Keaton Wallace\",\"Kobe Bufkin\",\"Kyle Lowry\",\"Lonzo Ball\",\"Marcus Sasser\",\"Mont\\u00e9 Morris\",\"Nick Smith Jr.\",\"Nickeil Alexander-Walker\",\"Patty Mills\",\"Quenton Jackson\",\"Reed Sheppard\",\"Reggie Jackson\",\"Ryan Rollins\",\"Shake Milton\",\"Svi Mykhailiuk\",\"Talen Horton-Tucker\",\"Trendon Watford\",\"Wendell Moore Jr.\",\"Pat Connaughton\"],\"x\":[-0.5791039204073255,0.8896100972671197,1.515150003587688,0.2004965075003141,1.0774313034216372,1.526763619576264,1.3893916651938123,0.2306541450317928,1.7562217818928385,1.1680880245280847,0.7560797128035033,-0.093995001152338,1.333605321788042,-0.9844229349501488,1.4798269193328883,-0.0783721770632222,2.614334327347086,1.437227983667491,-0.2392224551960006,-0.0094610791963213,-0.7197817488842008,1.1394485062461273,0.0921848351786723,-0.6565731269729742,0.4473351698351959,-0.2419948842078223,-0.8885062642071234,0.8407563630066872,-1.132252563637869,-0.6459747109930962,-0.7218455105431544,-1.408444765515502,-0.6185192953577049,0.9961569236529986,-0.5155754320078045,-0.5909701923020569,1.1817116417600246,0.4748945249918884,-0.6916895975428451,0.1758966436359036,-0.5901305436391912,-0.0443926836477569,1.138313596040757,1.3651534701131185,1.1648571938830974,-0.3479412613896549,-1.0380960101927017,-0.3145966802049115],\"y\":[-1.6117844871970175,-2.5553750101346915,-1.785660334267674,-1.671963710099418,-2.367174268563527,-1.9431795612893457,-2.743404966804962,-1.995301376937608,-2.3160331800689,-1.9064427873671907,-1.6695597914115683,-2.3527483903890887,-2.7324357571987523,-1.2038430247277048,-2.5049909825633963,-2.0905633298691986,-2.182066888495104,-1.816479872017061,-3.482814195350405,-2.354500687361261,-3.272192341309439,-1.8152581551823936,-3.2470713684842747,-2.671697945842993,-2.734417325809716,-2.9527394362468757,-3.477660576628455,-3.011498117208494,-2.730146872117705,-3.358826008025411,-3.5445290067440096,-2.751704016069037,-3.094732976384417,-2.6965165550426566,-3.316493847445664,-3.150714676907081,-2.3743812684999317,-2.9596553937087866,-3.249014588568161,-3.525276615090155,-3.1449044304249343,-2.41047384064426,-3.062980249562057,-2.885307994804941,-3.1074530426922724,-1.4255410410407376,-3.079873226941753,-3.485435558690136],\"type\":\"scatter\",\"xaxis\":\"x\",\"yaxis\":\"y\"},{\"hovertemplate\":\"\\u003cb\\u003e%{text}\\u003c\\u002fb\\u003e\\u003cbr\\u003ePCA_1: %{x:.2f}\\u003cbr\\u003ePCA_2: %{y:.2f}\\u003cbr\\u003e\\u003cextra\\u003e\\u003c\\u002fextra\\u003e\",\"marker\":{\"color\":\"rgb(251,128,114)\",\"line\":{\"color\":\"#FFFFFF\",\"width\":1},\"opacity\":[0.4],\"size\":10},\"mode\":\"markers\",\"name\":\"Cluster 3\",\"showlegend\":false,\"text\":[\"Bobby Portis\",\"Domantas Sabonis\",\"Evan Mobley\",\"Jakob Poeltl\",\"Jalen Duren\",\"Jonas Valan\\u010di\\u016bnas\",\"Kristaps Porzi\\u0146\\u0123is\",\"Moritz Wagner\",\"Nic Claxton\",\"Wendell Carter Jr.\",\"Jeremy Sochan\",\"Brook Lopez\",\"Daniel Gafford\",\"Deandre Ayton\",\"Drew Eubanks\",\"Grant Williams\",\"Guerschon Yabusele\",\"Isaiah Stewart\",\"Ivica Zubac\",\"Jusuf Nurki\\u0107\",\"Kyle Filipowski\",\"Myles Turner\",\"Onyeka Okongwu\",\"Zach Collins\",\"Zach Edey\"],\"x\":[-2.7845297405780505,-3.949942514944013,-0.9826825516290296,-4.793578617991082,-3.309392479958529,-4.344903133857457,-2.9131708942308943,-2.9743172618937006,-4.207699774167926,-3.683243905371248,-2.995602124787736,-4.060236874057399,-4.4431336183736825,-5.130211969226645,-4.310490748954762,-3.334078202401813,-3.626366722751404,-4.47915785411435,-5.8099418440258415,-4.487474520982706,-3.435406801591276,-4.333257405392306,-4.491339857138828,-4.214192070883767,-4.116427357711035],\"y\":[4.300071167524553,6.000153518484307,4.796320286709109,4.8573551944161295,3.687749383392691,5.66770635759822,3.565563828124101,3.5914646442546205,3.159430424285937,2.4925155960667422,1.8512083329102196,3.037070431152378,4.379596882912443,3.3101227615636653,1.8221645890782356,0.9808373098236248,2.591038025472189,1.5524234845460032,6.972686485975579,2.547602379525693,0.5803242436902512,4.516367304574947,2.7542240800035045,1.4451811023210863,3.1427112627348195],\"type\":\"scatter\",\"xaxis\":\"x\",\"yaxis\":\"y\"},{\"hovertemplate\":\"\\u003cb\\u003e%{text}\\u003c\\u002fb\\u003e\\u003cbr\\u003ePCA_1: %{x:.2f}\\u003cbr\\u003ePCA_2: %{y:.2f}\\u003cbr\\u003e\\u003cextra\\u003e\\u003c\\u002fextra\\u003e\",\"marker\":{\"color\":\"rgb(141,211,199)\",\"line\":{\"color\":\"#FFFFFF\",\"width\":1},\"opacity\":[0.4],\"size\":10},\"mode\":\"markers\",\"name\":\"Cluster 12\",\"showlegend\":false,\"text\":[\"Brandon Miller\",\"Buddy Hield\",\"CJ McCollum\",\"Cameron Johnson\",\"Derrick White\",\"Devin Booker\",\"Jordan Poole\",\"Lauri Markkanen\",\"Malik Beasley\",\"Michael Porter Jr.\",\"Norman Powell\",\"Payton Pritchard\",\"Stephen Curry\",\"Tyler Herro\"],\"x\":[3.755028170116949,3.274314532041647,4.442529091407716,4.807070267345929,3.5971388550328607,4.935664917614634,4.784715528578895,2.5371895837394,4.309532748982945,4.454390294705793,5.803203478484535,4.315383924861776,5.898442594204824,6.843301737793701],\"y\":[0.9217301713245394,0.3905234467600318,1.6715215562519,1.7812369769648797,0.3984509565989573,3.963729300651864,1.371178721307817,3.7590928163747175,0.4708575427494325,1.8636841887749271,0.8467190438233454,0.4479691677970736,2.584331273853054,1.4289346986619171],\"type\":\"scatter\",\"xaxis\":\"x\",\"yaxis\":\"y\"},{\"hovertemplate\":\"\\u003cb\\u003e%{text}\\u003c\\u002fb\\u003e\\u003cbr\\u003ePCA_1: %{x:.2f}\\u003cbr\\u003ePCA_2: %{y:.2f}\\u003cbr\\u003e\\u003cextra\\u003e\\u003c\\u002fextra\\u003e\",\"marker\":{\"color\":\"rgb(128,177,211)\",\"line\":{\"color\":\"#FFFFFF\",\"width\":1},\"opacity\":[0.4],\"size\":10},\"mode\":\"markers\",\"name\":\"Cluster 4\",\"showlegend\":false,\"text\":[\"Chet Holmgren\",\"Ricky Council IV\",\"Dalen Terry\",\"Justin Champagnie\",\"Terance Mann\",\"Dean Wade\",\"Dorian Finney-Smith\",\"Gary Payton II\",\"Jaylin Williams\",\"KJ Martin\",\"Kelly Olynyk\",\"Kenrich Williams\",\"Nicolas Batum\",\"Ousmane Dieng\",\"Precious Achiuwa\",\"Ryan Dunn\",\"Trey Lyles\",\"Aaron Nesmith\",\"Ben Sheppard\",\"Bruce Brown\",\"Caleb Houstan\",\"Cam Reddish\",\"David Roddy\",\"De'Anthony Melton\",\"Gary Harris\",\"Isaac Okoro\",\"Jabari Walker\",\"Jae'Sean Tate\",\"Jamal Cain\",\"Jamison Battle\",\"John Konchar\",\"Josh Okogie\",\"Julian Phillips\",\"Kris Murray\",\"Matas Buzelis\",\"Max Strus\",\"Micah Potter\",\"Pelle Larsson\",\"Torrey Craig\"],\"x\":[-1.1533275943091574,-0.6070661606932398,-1.0710918088555594,-1.078695815840831,-1.285012451917821,-2.1015751447767705,-2.1378474705645143,-3.675839666737048,-3.0030249923182715,-3.089982504907948,-3.2952255387304072,-2.694184641689234,-2.234713010157917,-2.6280230254624573,-3.638387614647136,-2.466530951058366,-2.641130883607963,-1.4957832734391283,-1.607864865294828,-1.884416049506772,-1.5306175520961007,-2.168257523413261,-1.5231229381134297,-1.321828128198591,-1.5516354967257564,-1.76664102959145,-2.538110289438201,-2.154754596686535,-1.7308600457447685,-0.771781252557454,-1.6162912984668525,-1.9090561453461912,-2.1413393337947824,-1.8809194430026128,-1.7632109592321898,-0.5543433609344266,-1.734763151162656,-2.0833606070984643,-1.4644122203243315],\"y\":[-0.4023817660194405,-2.034646781491379,-2.577579486994884,-2.6150183620133047,-2.075713364052215,-2.4334282757675414,-2.044550953433797,-0.8347246462599864,-1.9610511069127048,-1.0764939571523853,-0.7127474619194014,-1.7999599669276038,-2.4023175668436023,-2.726321759811836,-0.7594090044962261,-1.553765165920738,-1.4575896209659418,-3.400753333017104,-2.911624950404763,-3.263986204916876,-3.872129002521892,-2.8929610658816123,-3.4793613868126125,-3.4125562369913984,-3.4532012492833277,-2.999431789592564,-2.464171661025003,-2.687063386429277,-3.714009089778481,-2.229594640805471,-3.675652499363807,-2.835670399612488,-2.548651756428361,-2.771725414092848,-2.742978591657193,-3.3151596541466795,-3.6062870571251295,-2.680286539120748,-4.129717043191493],\"type\":\"scatter\",\"xaxis\":\"x\",\"yaxis\":\"y\"},{\"hovertemplate\":\"\\u003cb\\u003e%{text}\\u003c\\u002fb\\u003e\\u003cbr\\u003ePCA_1: %{x:.2f}\\u003cbr\\u003ePCA_2: %{y:.2f}\\u003cbr\\u003e\\u003cextra\\u003e\\u003c\\u002fextra\\u003e\",\"marker\":{\"color\":\"rgb(253,180,98)\",\"line\":{\"color\":\"#FFFFFF\",\"width\":1},\"opacity\":[0.4],\"size\":10},\"mode\":\"markers\",\"name\":\"Cluster 5\",\"showlegend\":false,\"text\":[\"Donte DiVincenzo\",\"Jerami Grant\",\"Johnny Juzang\",\"Klay Thompson\",\"Tim Hardaway Jr.\",\"Trey Murphy III\",\"AJ Green\",\"Bogdan Bogdanovi\\u0107\",\"Corey Kispert\",\"Dalton Knecht\",\"Duncan Robinson\",\"Gary Trent Jr.\",\"Gradey Dick\",\"Grayson Allen\",\"Isaiah Joe\",\"Ja'Kobe Walter\",\"Jett Howard\",\"Jordan Hawkins\",\"Julian Strawther\",\"Keegan Murray\",\"Kentavious Caldwell-Pope\",\"Kevin Huerter\",\"Mike Conley\",\"Moses Moody\",\"Sam Hauser\",\"Seth Curry\",\"Tyrese Martin\",\"Garrison Mathews\",\"Sam Merrill\",\"Simone Fontecchio\",\"Lindy Waters III\"],\"x\":[3.3624319081177023,2.903895784475745,2.512445534617986,3.0931814490117744,2.24151347874367,2.490571738506365,1.7022586924780294,1.0310938698482766,1.481365767090726,1.7166905957478895,2.427111006593331,1.79533272395857,2.499477976825848,1.6330584872875948,0.8766154458986133,0.7278195146624807,1.0568535393131175,1.6731087393041886,2.539422760817722,1.2730537025550357,1.8606312508599152,1.990517285541023,2.2556184465920004,1.3897522001980296,1.9680804346833176,1.8851675365740708,1.7891104860867646,0.9421484352027518,-0.1181614431539285,0.486880434779185,0.938139991818175],\"y\":[-0.8946589256706315,-0.4729787918066233,-1.484384401978122,0.4522976940339777,-0.7697398087555806,0.5220270850254249,-0.5868312110505286,-1.4681647300108285,0.4943417726252986,-1.1017424443312045,0.6945810434756822,-2.543455026832617,0.04515519027452,-0.587978381038682,-0.6260734156124129,-2.3060654448217672,-2.878443351819444,-1.9518010022623555,-0.7338483656774606,-1.3334324799501238,-0.6555195336840023,-1.557825186369846,-1.7868577055548045,-0.7442169231652844,-2.07296404575222,-2.596503102855925,-2.8088222078900147,-2.381091658429711,-0.3424160368215294,-1.3273654708324405,-2.9070361104694493],\"type\":\"scatter\",\"xaxis\":\"x\",\"yaxis\":\"y\"},{\"hovertemplate\":\"\\u003cb\\u003e%{text}\\u003c\\u002fb\\u003e\\u003cbr\\u003ePCA_1: %{x:.2f}\\u003cbr\\u003ePCA_2: %{y:.2f}\\u003cbr\\u003e\\u003cextra\\u003e\\u003c\\u002fextra\\u003e\",\"marker\":{\"color\":\"rgb(255,237,111)\",\"line\":{\"color\":\"#FFFFFF\",\"width\":1},\"opacity\":[0.4],\"size\":10},\"mode\":\"markers\",\"name\":\"Cluster 11\",\"showlegend\":false,\"text\":[\"Delon Wright\",\"KJ Simpson\",\"Andre Drummond\",\"Dario \\u0160ari\\u0107\",\"Steven Adams\",\"Taj Gibson\",\"Jeff Green\",\"Josh Richardson\",\"Larry Nance Jr.\",\"Thomas Bryant\",\"Jericho Sims\",\"Trey Jemison III\"],\"x\":[-1.1369936153925693,-1.7815751012143022,-5.174635545825517,-3.4745116702247856,-4.800603189155743,-4.900428778065711,-2.0336524314915976,-2.5097579816818256,-2.6794395901584367,-2.369621335051084,-4.64220232674156,-3.5580209747350966],\"y\":[-3.608897687056752,-3.322476115840977,2.214794723652518,-0.7408815924436727,0.2411375695843498,-0.4424556796725005,-3.4893151256482158,-3.6177610142027214,-2.062775235383023,-3.5204976368907657,-0.5062652140050172,-2.0721581175694186],\"type\":\"scatter\",\"xaxis\":\"x\",\"yaxis\":\"y\"},{\"hovertemplate\":\"\\u003cb\\u003e%{text}\\u003c\\u002fb\\u003e\\u003cbr\\u003ePCA_1: %{x:.2f}\\u003cbr\\u003ePCA_2: %{y:.2f}\\u003cbr\\u003e\\u003cextra\\u003e\\u003c\\u002fextra\\u003e\",\"marker\":{\"color\":\"rgb(179,222,105)\",\"line\":{\"color\":\"#FFFFFF\",\"width\":1},\"opacity\":[0.4],\"size\":10},\"mode\":\"markers\",\"name\":\"Cluster 6\",\"showlegend\":false,\"text\":[\"Brandon Clarke\",\"Charles Bassey\",\"Clint Capela\",\"Daniel Theis\",\"Day'Ron Sharpe\",\"DeAndre Jordan\",\"Dereck Lively II\",\"Donovan Clingan\",\"Goga Bitadze\",\"Jarrett Allen\",\"Jaxson Hayes\",\"Kel'el Ware\",\"Kevon Looney\",\"Luke Kornet\",\"Mark Williams\",\"Mason Plumlee\",\"Moussa Diabat\\u00e9\",\"Neemias Queta\",\"Nick Richards\",\"Oso Ighodaro\",\"Paul Reed\",\"Robert Williams III\",\"Rudy Gobert\",\"Trayce Jackson-Davis\",\"Walker Kessler\",\"Yves Missi\"],\"x\":[-3.860440763973625,-5.029371860911124,-5.419721066715754,-4.694006717982767,-4.130456535418863,-5.093324998288732,-5.59735917506313,-4.122985080800262,-4.851076538498771,-6.083591292841628,-4.962288216342148,-4.221377413984723,-4.420773381526782,-4.99992532378751,-5.511470864418212,-5.248456841081915,-4.868010162024553,-5.820473963144156,-4.936710454638035,-5.394112609764066,-3.6490497706792366,-4.9197436210508325,-5.707119822395917,-5.119673307411606,-5.072403991210498,-5.517005518080775],\"y\":[0.7287382099092404,1.5061673161242182,3.575923426922463,0.6738101470695819,1.5809960897779614,0.7460963265561855,3.2421085976607955,0.5411844152539242,2.010809192496936,5.700378677925966,0.0472453836244245,1.2293763384454064,0.9824698570528496,0.4486462088729673,2.6517849720697924,1.9589708207766836,0.5493744674473711,0.9472148222044824,2.319195487689979,1.123832431803051,0.6144923152757986,0.666979129208669,4.583369637433067,2.695602133022603,2.0761087978054467,3.3418308951221958],\"type\":\"scatter\",\"xaxis\":\"x\",\"yaxis\":\"y\"},{\"hovertemplate\":\"\\u003cb\\u003e%{text}\\u003c\\u002fb\\u003e\\u003cbr\\u003ePCA_1: %{x:.2f}\\u003cbr\\u003ePCA_2: %{y:.2f}\\u003cbr\\u003e\\u003cextra\\u003e\\u003c\\u002fextra\\u003e\",\"marker\":{\"color\":\"#ffffff\",\"line\":{\"color\":\"#FFFFFF\",\"width\":2},\"size\":15,\"symbol\":\"diamond\"},\"mode\":\"markers+text\",\"name\":\"Jalen Green\",\"showlegend\":true,\"x\":[4.9943206446823805],\"y\":[1.1267000986888434],\"type\":\"scatter\",\"xaxis\":\"x\",\"yaxis\":\"y\"},{\"cells\":{\"align\":\"left\",\"fill\":{\"color\":\"#1f1f1f\"},\"font\":{\"color\":\"white\",\"size\":11},\"values\":[[\"Darius Garland\",\"Donovan Mitchell\",\"Jalen Williams\",\"LaMelo Ball\",\"Tyrese Haliburton\"],[\"13.20%\",\"12.24%\",\"4.28%\",\"0.57%\",\"0.00%\"]]},\"header\":{\"align\":\"left\",\"fill\":{\"color\":\"#333333\"},\"font\":{\"color\":\"white\",\"size\":12},\"values\":[\"Player\",\"Similarity\"]},\"type\":\"table\",\"domain\":{\"x\":[0.73,1.0],\"y\":[0.475,0.9999999999999999]}},{\"legendgroup\":\"playtype\",\"legendgrouptitle\":{\"text\":\"Play Type Distribution\"},\"marker\":{\"color\":\"#ffffff\"},\"name\":\"Jalen Green\",\"offsetgroup\":\"0\",\"showlegend\":false,\"x\":[\"Isolation\",\"P&R BallHandler\",\"P&R RollMan\",\"Spotup\",\"Postup\",\"Transition\",\"Handoff\",\"Cut\",\"OffScreen\",\"Misc\"],\"y\":[0.09,0.406,0.0,0.141,0.0,0.187,0.086,0.023,0.024,0.032],\"type\":\"bar\",\"xaxis\":\"x2\",\"yaxis\":\"y2\"},{\"legendgroup\":\"playtype\",\"marker\":{\"color\":\"rgb(188,128,189)\"},\"name\":\"Cluster 9 Average\",\"offsetgroup\":\"1\",\"showlegend\":false,\"x\":[\"Isolation\",\"P&R BallHandler\",\"P&R RollMan\",\"Spotup\",\"Postup\",\"Transition\",\"Handoff\",\"Cut\",\"OffScreen\",\"Misc\"],\"y\":[0.10587500000000001,0.31310000000000004,0.00385,0.18380000000000002,0.0048000000000000004,0.184275,0.06887499999999999,0.015300000000000003,0.030449999999999994,0.049649999999999986],\"type\":\"bar\",\"xaxis\":\"x2\",\"yaxis\":\"y2\"}],                        {\"template\":{\"data\":{\"histogram2dcontour\":[{\"type\":\"histogram2dcontour\",\"colorbar\":{\"outlinewidth\":0,\"ticks\":\"\"},\"colorscale\":[[0.0,\"#0d0887\"],[0.1111111111111111,\"#46039f\"],[0.2222222222222222,\"#7201a8\"],[0.3333333333333333,\"#9c179e\"],[0.4444444444444444,\"#bd3786\"],[0.5555555555555556,\"#d8576b\"],[0.6666666666666666,\"#ed7953\"],[0.7777777777777778,\"#fb9f3a\"],[0.8888888888888888,\"#fdca26\"],[1.0,\"#f0f921\"]]}],\"choropleth\":[{\"type\":\"choropleth\",\"colorbar\":{\"outlinewidth\":0,\"ticks\":\"\"}}],\"histogram2d\":[{\"type\":\"histogram2d\",\"colorbar\":{\"outlinewidth\":0,\"ticks\":\"\"},\"colorscale\":[[0.0,\"#0d0887\"],[0.1111111111111111,\"#46039f\"],[0.2222222222222222,\"#7201a8\"],[0.3333333333333333,\"#9c179e\"],[0.4444444444444444,\"#bd3786\"],[0.5555555555555556,\"#d8576b\"],[0.6666666666666666,\"#ed7953\"],[0.7777777777777778,\"#fb9f3a\"],[0.8888888888888888,\"#fdca26\"],[1.0,\"#f0f921\"]]}],\"heatmap\":[{\"type\":\"heatmap\",\"colorbar\":{\"outlinewidth\":0,\"ticks\":\"\"},\"colorscale\":[[0.0,\"#0d0887\"],[0.1111111111111111,\"#46039f\"],[0.2222222222222222,\"#7201a8\"],[0.3333333333333333,\"#9c179e\"],[0.4444444444444444,\"#bd3786\"],[0.5555555555555556,\"#d8576b\"],[0.6666666666666666,\"#ed7953\"],[0.7777777777777778,\"#fb9f3a\"],[0.8888888888888888,\"#fdca26\"],[1.0,\"#f0f921\"]]}],\"heatmapgl\":[{\"type\":\"heatmapgl\",\"colorbar\":{\"outlinewidth\":0,\"ticks\":\"\"},\"colorscale\":[[0.0,\"#0d0887\"],[0.1111111111111111,\"#46039f\"],[0.2222222222222222,\"#7201a8\"],[0.3333333333333333,\"#9c179e\"],[0.4444444444444444,\"#bd3786\"],[0.5555555555555556,\"#d8576b\"],[0.6666666666666666,\"#ed7953\"],[0.7777777777777778,\"#fb9f3a\"],[0.8888888888888888,\"#fdca26\"],[1.0,\"#f0f921\"]]}],\"contourcarpet\":[{\"type\":\"contourcarpet\",\"colorbar\":{\"outlinewidth\":0,\"ticks\":\"\"}}],\"contour\":[{\"type\":\"contour\",\"colorbar\":{\"outlinewidth\":0,\"ticks\":\"\"},\"colorscale\":[[0.0,\"#0d0887\"],[0.1111111111111111,\"#46039f\"],[0.2222222222222222,\"#7201a8\"],[0.3333333333333333,\"#9c179e\"],[0.4444444444444444,\"#bd3786\"],[0.5555555555555556,\"#d8576b\"],[0.6666666666666666,\"#ed7953\"],[0.7777777777777778,\"#fb9f3a\"],[0.8888888888888888,\"#fdca26\"],[1.0,\"#f0f921\"]]}],\"surface\":[{\"type\":\"surface\",\"colorbar\":{\"outlinewidth\":0,\"ticks\":\"\"},\"colorscale\":[[0.0,\"#0d0887\"],[0.1111111111111111,\"#46039f\"],[0.2222222222222222,\"#7201a8\"],[0.3333333333333333,\"#9c179e\"],[0.4444444444444444,\"#bd3786\"],[0.5555555555555556,\"#d8576b\"],[0.6666666666666666,\"#ed7953\"],[0.7777777777777778,\"#fb9f3a\"],[0.8888888888888888,\"#fdca26\"],[1.0,\"#f0f921\"]]}],\"mesh3d\":[{\"type\":\"mesh3d\",\"colorbar\":{\"outlinewidth\":0,\"ticks\":\"\"}}],\"scatter\":[{\"fillpattern\":{\"fillmode\":\"overlay\",\"size\":10,\"solidity\":0.2},\"type\":\"scatter\"}],\"parcoords\":[{\"type\":\"parcoords\",\"line\":{\"colorbar\":{\"outlinewidth\":0,\"ticks\":\"\"}}}],\"scatterpolargl\":[{\"type\":\"scatterpolargl\",\"marker\":{\"colorbar\":{\"outlinewidth\":0,\"ticks\":\"\"}}}],\"bar\":[{\"error_x\":{\"color\":\"#2a3f5f\"},\"error_y\":{\"color\":\"#2a3f5f\"},\"marker\":{\"line\":{\"color\":\"#E5ECF6\",\"width\":0.5},\"pattern\":{\"fillmode\":\"overlay\",\"size\":10,\"solidity\":0.2}},\"type\":\"bar\"}],\"scattergeo\":[{\"type\":\"scattergeo\",\"marker\":{\"colorbar\":{\"outlinewidth\":0,\"ticks\":\"\"}}}],\"scatterpolar\":[{\"type\":\"scatterpolar\",\"marker\":{\"colorbar\":{\"outlinewidth\":0,\"ticks\":\"\"}}}],\"histogram\":[{\"marker\":{\"pattern\":{\"fillmode\":\"overlay\",\"size\":10,\"solidity\":0.2}},\"type\":\"histogram\"}],\"scattergl\":[{\"type\":\"scattergl\",\"marker\":{\"colorbar\":{\"outlinewidth\":0,\"ticks\":\"\"}}}],\"scatter3d\":[{\"type\":\"scatter3d\",\"line\":{\"colorbar\":{\"outlinewidth\":0,\"ticks\":\"\"}},\"marker\":{\"colorbar\":{\"outlinewidth\":0,\"ticks\":\"\"}}}],\"scattermapbox\":[{\"type\":\"scattermapbox\",\"marker\":{\"colorbar\":{\"outlinewidth\":0,\"ticks\":\"\"}}}],\"scatterternary\":[{\"type\":\"scatterternary\",\"marker\":{\"colorbar\":{\"outlinewidth\":0,\"ticks\":\"\"}}}],\"scattercarpet\":[{\"type\":\"scattercarpet\",\"marker\":{\"colorbar\":{\"outlinewidth\":0,\"ticks\":\"\"}}}],\"carpet\":[{\"aaxis\":{\"endlinecolor\":\"#2a3f5f\",\"gridcolor\":\"white\",\"linecolor\":\"white\",\"minorgridcolor\":\"white\",\"startlinecolor\":\"#2a3f5f\"},\"baxis\":{\"endlinecolor\":\"#2a3f5f\",\"gridcolor\":\"white\",\"linecolor\":\"white\",\"minorgridcolor\":\"white\",\"startlinecolor\":\"#2a3f5f\"},\"type\":\"carpet\"}],\"table\":[{\"cells\":{\"fill\":{\"color\":\"#EBF0F8\"},\"line\":{\"color\":\"white\"}},\"header\":{\"fill\":{\"color\":\"#C8D4E3\"},\"line\":{\"color\":\"white\"}},\"type\":\"table\"}],\"barpolar\":[{\"marker\":{\"line\":{\"color\":\"#E5ECF6\",\"width\":0.5},\"pattern\":{\"fillmode\":\"overlay\",\"size\":10,\"solidity\":0.2}},\"type\":\"barpolar\"}],\"pie\":[{\"automargin\":true,\"type\":\"pie\"}]},\"layout\":{\"autotypenumbers\":\"strict\",\"colorway\":[\"#636efa\",\"#EF553B\",\"#00cc96\",\"#ab63fa\",\"#FFA15A\",\"#19d3f3\",\"#FF6692\",\"#B6E880\",\"#FF97FF\",\"#FECB52\"],\"font\":{\"color\":\"#2a3f5f\"},\"hovermode\":\"closest\",\"hoverlabel\":{\"align\":\"left\"},\"paper_bgcolor\":\"white\",\"plot_bgcolor\":\"#E5ECF6\",\"polar\":{\"bgcolor\":\"#E5ECF6\",\"angularaxis\":{\"gridcolor\":\"white\",\"linecolor\":\"white\",\"ticks\":\"\"},\"radialaxis\":{\"gridcolor\":\"white\",\"linecolor\":\"white\",\"ticks\":\"\"}},\"ternary\":{\"bgcolor\":\"#E5ECF6\",\"aaxis\":{\"gridcolor\":\"white\",\"linecolor\":\"white\",\"ticks\":\"\"},\"baxis\":{\"gridcolor\":\"white\",\"linecolor\":\"white\",\"ticks\":\"\"},\"caxis\":{\"gridcolor\":\"white\",\"linecolor\":\"white\",\"ticks\":\"\"}},\"coloraxis\":{\"colorbar\":{\"outlinewidth\":0,\"ticks\":\"\"}},\"colorscale\":{\"sequential\":[[0.0,\"#0d0887\"],[0.1111111111111111,\"#46039f\"],[0.2222222222222222,\"#7201a8\"],[0.3333333333333333,\"#9c179e\"],[0.4444444444444444,\"#bd3786\"],[0.5555555555555556,\"#d8576b\"],[0.6666666666666666,\"#ed7953\"],[0.7777777777777778,\"#fb9f3a\"],[0.8888888888888888,\"#fdca26\"],[1.0,\"#f0f921\"]],\"sequentialminus\":[[0.0,\"#0d0887\"],[0.1111111111111111,\"#46039f\"],[0.2222222222222222,\"#7201a8\"],[0.3333333333333333,\"#9c179e\"],[0.4444444444444444,\"#bd3786\"],[0.5555555555555556,\"#d8576b\"],[0.6666666666666666,\"#ed7953\"],[0.7777777777777778,\"#fb9f3a\"],[0.8888888888888888,\"#fdca26\"],[1.0,\"#f0f921\"]],\"diverging\":[[0,\"#8e0152\"],[0.1,\"#c51b7d\"],[0.2,\"#de77ae\"],[0.3,\"#f1b6da\"],[0.4,\"#fde0ef\"],[0.5,\"#f7f7f7\"],[0.6,\"#e6f5d0\"],[0.7,\"#b8e186\"],[0.8,\"#7fbc41\"],[0.9,\"#4d9221\"],[1,\"#276419\"]]},\"xaxis\":{\"gridcolor\":\"white\",\"linecolor\":\"white\",\"ticks\":\"\",\"title\":{\"standoff\":15},\"zerolinecolor\":\"white\",\"automargin\":true,\"zerolinewidth\":2},\"yaxis\":{\"gridcolor\":\"white\",\"linecolor\":\"white\",\"ticks\":\"\",\"title\":{\"standoff\":15},\"zerolinecolor\":\"white\",\"automargin\":true,\"zerolinewidth\":2},\"scene\":{\"xaxis\":{\"backgroundcolor\":\"#E5ECF6\",\"gridcolor\":\"white\",\"linecolor\":\"white\",\"showbackground\":true,\"ticks\":\"\",\"zerolinecolor\":\"white\",\"gridwidth\":2},\"yaxis\":{\"backgroundcolor\":\"#E5ECF6\",\"gridcolor\":\"white\",\"linecolor\":\"white\",\"showbackground\":true,\"ticks\":\"\",\"zerolinecolor\":\"white\",\"gridwidth\":2},\"zaxis\":{\"backgroundcolor\":\"#E5ECF6\",\"gridcolor\":\"white\",\"linecolor\":\"white\",\"showbackground\":true,\"ticks\":\"\",\"zerolinecolor\":\"white\",\"gridwidth\":2}},\"shapedefaults\":{\"line\":{\"color\":\"#2a3f5f\"}},\"annotationdefaults\":{\"arrowcolor\":\"#2a3f5f\",\"arrowhead\":0,\"arrowwidth\":1},\"geo\":{\"bgcolor\":\"white\",\"landcolor\":\"#E5ECF6\",\"subunitcolor\":\"white\",\"showland\":true,\"showlakes\":true,\"lakecolor\":\"white\"},\"title\":{\"x\":0.05},\"mapbox\":{\"style\":\"light\"}}},\"xaxis\":{\"anchor\":\"y\",\"domain\":[0.0,0.63],\"title\":{\"text\":\"Principal Component 1\"},\"gridcolor\":\"#444444\",\"showgrid\":true,\"zeroline\":false,\"color\":\"white\"},\"yaxis\":{\"anchor\":\"x\",\"domain\":[0.475,0.9999999999999999],\"title\":{\"text\":\"Principal Component 2\"},\"gridcolor\":\"#444444\",\"showgrid\":true,\"zeroline\":false,\"color\":\"white\"},\"xaxis2\":{\"anchor\":\"y2\",\"domain\":[0.0,1.0],\"title\":{\"text\":\"Play Type\"},\"color\":\"white\",\"tickangle\":45},\"yaxis2\":{\"anchor\":\"x2\",\"domain\":[0.0,0.22499999999999998],\"title\":{\"text\":\"Possession %\"},\"color\":\"white\",\"gridcolor\":\"#444444\"},\"annotations\":[{\"font\":{\"color\":\"white\",\"size\":16},\"showarrow\":false,\"text\":\"Player Clustering Analysis\",\"x\":0.315,\"xanchor\":\"center\",\"xref\":\"paper\",\"y\":0.9999999999999999,\"yanchor\":\"bottom\",\"yref\":\"paper\"},{\"font\":{\"color\":\"white\",\"size\":16},\"showarrow\":false,\"text\":\"Similar Players\",\"x\":0.865,\"xanchor\":\"center\",\"xref\":\"paper\",\"y\":0.9999999999999999,\"yanchor\":\"bottom\",\"yref\":\"paper\"},{\"font\":{\"color\":\"white\",\"size\":16},\"showarrow\":false,\"text\":\"Play Type Distribution\",\"x\":0.5,\"xanchor\":\"center\",\"xref\":\"paper\",\"y\":0.22499999999999998,\"yanchor\":\"bottom\",\"yref\":\"paper\"},{\"bgcolor\":\"rgba(0, 0, 0, 0.5)\",\"bordercolor\":\"white\",\"borderpad\":4,\"borderwidth\":1,\"font\":{\"color\":\"white\",\"size\":12},\"showarrow\":false,\"text\":\"@reverseenigma.bsky.social\",\"x\":0.95,\"xref\":\"paper\",\"y\":1.1,\"yref\":\"paper\"}],\"title\":{\"font\":{\"color\":\"white\",\"size\":24},\"text\":\"Style Analysis - Jalen Green 2024-25\",\"x\":0.5,\"y\":0.97},\"legend\":{\"font\":{\"color\":\"white\"},\"yanchor\":\"top\",\"y\":0.99,\"xanchor\":\"left\",\"x\":0.01,\"bgcolor\":\"rgba(255, 255, 255, 0.1)\",\"tracegroupgap\":30},\"height\":1000,\"width\":1200,\"paper_bgcolor\":\"#1f1f1f\",\"plot_bgcolor\":\"#1f1f1f\",\"showlegend\":true,\"barmode\":\"group\",\"updatemenus\":[{\"bgcolor\":\"#333333\",\"bordercolor\":\"#666666\",\"direction\":\"right\",\"font\":{\"color\":\"white\"},\"showactive\":true,\"type\":\"buttons\",\"x\":0.7,\"y\":1.2}]},                        {\"responsive\": true}                    ).then(function(){\n",
       "                            \n",
       "var gd = document.getElementById('1a9ebab4-e25f-45d6-b05d-d9244c497028');\n",
       "var x = new MutationObserver(function (mutations, observer) {{\n",
       "        var display = window.getComputedStyle(gd).display;\n",
       "        if (!display || display === 'none') {{\n",
       "            console.log([gd, 'removed!']);\n",
       "            Plotly.purge(gd);\n",
       "            observer.disconnect();\n",
       "        }}\n",
       "}});\n",
       "\n",
       "// Listen for the removal of the full notebook cells\n",
       "var notebookContainer = gd.closest('#notebook-container');\n",
       "if (notebookContainer) {{\n",
       "    x.observe(notebookContainer, {childList: true});\n",
       "}}\n",
       "\n",
       "// Listen for the clearing of the current output cell\n",
       "var outputEl = gd.closest('.output');\n",
       "if (outputEl) {{\n",
       "    x.observe(outputEl, {childList: true});\n",
       "}}\n",
       "\n",
       "                        })                };                });            </script>        </div>"
      ]
     },
     "metadata": {},
     "output_type": "display_data"
    }
   ],
   "source": [
    "import plotly.graph_objects as go\n",
    "from plotly.subplots import make_subplots\n",
    "\n",
    "import plotly.express as px\n",
    "import pandas as pd\n",
    "import numpy as np\n",
    "from sklearn.neighbors import NearestNeighbors\n",
    "\n",
    "def create_player_visualization(selected_player, season, n_neighbors=5):\n",
    "\n",
    "    season_df = pd.read_csv(f'nba_analysis_{season}.csv')\n",
    "\n",
    "    \n",
    "    \"\"\"\n",
    "    Create an interactive player cluster visualization with dark theme\n",
    "    and persistent play type distribution\n",
    "    \n",
    "    Parameters:\n",
    "    df: DataFrame containing all seasons\n",
    "    selected_player: str, name of the player to analyze\n",
    "    season: str, season to analyze (e.g., '2024-25')\n",
    "    n_neighbors: int, number of similar players to find\n",
    "    \"\"\"\n",
    "    # Filter for selected season\n",
    "    player_data = season_df[season_df['PLAYER_NAME'] == selected_player].iloc[0]\n",
    "    player_cluster = player_data['Cluster']\n",
    "    \n",
    "    # Calculate similar players\n",
    "    pca_cols = [col for col in season_df.columns if col.startswith('PCA_')]\n",
    "    X = season_df[pca_cols].values\n",
    "    nbrs = NearestNeighbors(n_neighbors=n_neighbors+1).fit(X)\n",
    "    distances, indices = nbrs.kneighbors(player_data[pca_cols].values.reshape(1, -1))\n",
    "    similar_players = season_df.iloc[indices[0][1:]]['PLAYER_NAME'].tolist()\n",
    "\n",
    "    player_color='#ffffff'\n",
    "    \n",
    "    # Define cluster colors using Set3 palette\n",
    "    cluster_colors = {\n",
    "        cluster: px.colors.qualitative.Set3[cluster % len(px.colors.qualitative.Set3)]\n",
    "        for cluster in season_df['Cluster'].unique()\n",
    "    }\n",
    "    \n",
    "    # Create subplot layout\n",
    "    fig = make_subplots(\n",
    "        rows=2, cols=2,\n",
    "        column_widths=[0.7, 0.3],\n",
    "        row_heights=[0.7, 0.3],\n",
    "        specs=[\n",
    "            [{\"type\": \"scatter\"}, {\"type\": \"table\"}],\n",
    "            [{\"type\": \"bar\", \"colspan\": 2}, None]\n",
    "        ],\n",
    "        subplot_titles=(\n",
    "            'Player Clustering Analysis',\n",
    "            'Similar Players',\n",
    "            'Play Type Distribution'\n",
    "        )\n",
    "    )\n",
    "    \n",
    "    # Add cluster centroids with matching colors\n",
    "    cluster_centroids = season_df.groupby('Cluster')[['PCA_1', 'PCA_2']].mean()\n",
    "    for cluster in cluster_centroids.index:\n",
    "        fig.add_trace(\n",
    "            go.Scatter(\n",
    "                x=[cluster_centroids.loc[cluster, 'PCA_1']],\n",
    "                y=[cluster_centroids.loc[cluster, 'PCA_2']],\n",
    "                mode='markers',\n",
    "                marker=dict(\n",
    "                    symbol='triangle-down',\n",
    "                    opacity=.15,\n",
    "                    size=15,\n",
    "                    color=cluster_colors[cluster],\n",
    "                    line=dict(width=2, color='#FFFFFF')\n",
    "                ),\n",
    "                name=f'Cluster {cluster} Center',\n",
    "                hovertext=f'Cluster {cluster} Center',\n",
    "                showlegend=False\n",
    "            ),\n",
    "            row=1, col=1\n",
    "        )\n",
    "    \n",
    "    # Add all players (colored by cluster)\n",
    "    for cluster in season_df['Cluster'].unique():\n",
    "        cluster_data = season_df[season_df['Cluster'] == cluster]\n",
    "        default_opacity=.4\n",
    "        opacity = np.where(cluster == player_cluster, 0.8, default_opacity)\n",
    "        show_legend = False if opacity == default_opacity else True\n",
    "        \n",
    "        fig.add_trace(\n",
    "            go.Scatter(\n",
    "                x=cluster_data['PCA_1'],\n",
    "                y=cluster_data['PCA_2'],\n",
    "                mode='markers',\n",
    "                marker=dict(\n",
    "                    size=10,\n",
    "                    opacity=opacity,\n",
    "                    color=cluster_colors[cluster],\n",
    "                    line=dict(width=1, color='#FFFFFF')\n",
    "                ),\n",
    "                text=cluster_data['PLAYER_NAME'],\n",
    "                showlegend=show_legend,\n",
    "                name=f'Cluster {cluster}',\n",
    "                hovertemplate='<b>%{text}</b><br>PCA_1: %{x:.2f}<br>PCA_2: %{y:.2f}<br><extra></extra>'\n",
    "            ),\n",
    "            row=1, col=1\n",
    "        )\n",
    "    \n",
    "    # Highlight selected player\n",
    "    fig.add_trace(\n",
    "        go.Scatter(\n",
    "            x=[player_data['PCA_1']],\n",
    "            y=[player_data['PCA_2']],\n",
    "            mode='markers+text',\n",
    "            marker=dict(\n",
    "                size=15,\n",
    "                color=player_color,\n",
    "                symbol='diamond',\n",
    "                line=dict(width=2, color='#FFFFFF')\n",
    "            ),\n",
    "            #text=[selected_player],\n",
    "            #textposition='top center',\n",
    "            #textfont=dict(color='white'),\n",
    "            name=selected_player,\n",
    "            hovertemplate='<b>%{text}</b><br>PCA_1: %{x:.2f}<br>PCA_2: %{y:.2f}<br><extra></extra>',\n",
    "            showlegend=True\n",
    "        ),\n",
    "        row=1, col=1\n",
    "    )\n",
    "    \n",
    "    # Similar players table\n",
    "    similar_players_data = season_df[season_df['PLAYER_NAME'].isin(similar_players)].copy()\n",
    "    similar_players_data['Similarity'] = 1 - distances[0][1:]/np.max(distances)\n",
    "    \n",
    "    fig.add_trace(\n",
    "        go.Table(\n",
    "            header=dict(\n",
    "                values=['Player', 'Similarity'],\n",
    "                font=dict(size=12, color='white'),\n",
    "                fill_color='#333333',\n",
    "                align='left'\n",
    "            ),\n",
    "            cells=dict(\n",
    "                values=[\n",
    "                    similar_players_data['PLAYER_NAME'],\n",
    "                    similar_players_data['Similarity'].apply(lambda x: f'{x:.2%}')\n",
    "                ],\n",
    "                font=dict(size=11, color='white'),\n",
    "                fill_color='#1f1f1f',\n",
    "                align='left'\n",
    "            )\n",
    "        ),\n",
    "        row=1, col=2\n",
    "    )\n",
    "    \n",
    "    # Play type distribution comparison\n",
    "    playtype_cols = [col for col in season_df.columns if col.endswith('_POSS_PCT')]\n",
    "    cluster_avg = season_df[season_df['Cluster'] == player_cluster][playtype_cols].mean()\n",
    "    \n",
    "    # Add player distribution bar with legend group\n",
    "    fig.add_trace(\n",
    "        go.Bar(\n",
    "            name=selected_player,\n",
    "            x=[col.replace('_POSS_PCT', '').replace('PR', 'P&R ') for col in playtype_cols],\n",
    "            y=player_data[playtype_cols],\n",
    "            marker_color=player_color,\n",
    "            offsetgroup=0,\n",
    "            legendgroup='playtype',\n",
    "            showlegend=False,\n",
    "            legendgrouptitle_text=\"Play Type Frequency vs Similar Players\"\n",
    "        ),\n",
    "        row=2, col=1\n",
    "    )\n",
    "    \n",
    "    # Add cluster average bar with matching color and legend group\n",
    "    fig.add_trace(\n",
    "        go.Bar(\n",
    "            name=f'Cluster {player_cluster} Average',\n",
    "            x=[col.replace('_POSS_PCT', '').replace('PR', 'P&R ') for col in playtype_cols],\n",
    "            y=cluster_avg,\n",
    "            marker_color=cluster_colors[player_cluster],\n",
    "            offsetgroup=1,\n",
    "            legendgroup='playtype',\n",
    "            showlegend=False\n",
    "        ),\n",
    "        row=2, col=1\n",
    "    )\n",
    "    \n",
    "    # Update layout for dark theme\n",
    "    fig.update_layout(\n",
    "        height=1000,\n",
    "        width=1200,\n",
    "        paper_bgcolor='#1f1f1f',\n",
    "        plot_bgcolor='#1f1f1f',\n",
    "        showlegend=True,\n",
    "        title=dict(\n",
    "            text=f'Style Analysis - {selected_player} {season}',\n",
    "            x=0.5,\n",
    "            y=0.97,\n",
    "            font=dict(color='white', size=24)\n",
    "        ),\n",
    "        # Split legends for different parts of the visualization\n",
    "        legend=dict(\n",
    "            yanchor=\"top\",\n",
    "            y=0.99,\n",
    "            xanchor=\"left\",\n",
    "            x=0.01,\n",
    "            bgcolor='rgba(255, 255, 255, 0.1)',\n",
    "            font=dict(color='white'),\n",
    "            tracegroupgap=30\n",
    "        ),\n",
    "        barmode='group'\n",
    "    )\n",
    "    \n",
    "    # Update axes styling\n",
    "    fig.update_xaxes(\n",
    "        title_text=\"Principal Component 1\",\n",
    "        row=1, col=1,\n",
    "        gridcolor='#444444',\n",
    "        showgrid=True,\n",
    "        zeroline=False,\n",
    "        color='white'\n",
    "    )\n",
    "    fig.update_yaxes(\n",
    "        title_text=\"Principal Component 2\",\n",
    "        row=1, col=1,\n",
    "        gridcolor='#444444',\n",
    "        showgrid=True,\n",
    "        zeroline=False,\n",
    "        color='white'\n",
    "    )\n",
    "    fig.update_xaxes(\n",
    "        title_text=\"Play Type\",\n",
    "        row=2, col=1,\n",
    "        color='white',\n",
    "        tickangle=45\n",
    "    )\n",
    "    fig.update_yaxes(\n",
    "        title_text=\"Possession %\",\n",
    "        row=2, col=1,\n",
    "        color='white',\n",
    "        gridcolor='#444444'\n",
    "    )\n",
    "    \n",
    "    # Update subplot titles\n",
    "    fig.update_annotations(font_color='white')\n",
    "    \n",
    "    # Add buttons for different visualization modes\n",
    "    button_layer_1_height = 1.2\n",
    "    fig.update_layout(\n",
    "        updatemenus=[\n",
    "            dict(\n",
    "                type=\"buttons\",\n",
    "                direction=\"right\",\n",
    "                x=0.7,\n",
    "                y=button_layer_1_height,\n",
    "                showactive=True,\n",
    "                font=dict(color='white'),\n",
    "                bgcolor='#333333',\n",
    "                bordercolor='#666666'\n",
    "            )\n",
    "        ]\n",
    "    )\n",
    "    fig.update_annotations(font_color='white')\n",
    "    \n",
    "    # Add annotation with BlueSky handle\n",
    "    fig.add_annotation(\n",
    "        text=\"@reverseenigma.bsky.social\",\n",
    "        xref=\"paper\",\n",
    "        yref=\"paper\",\n",
    "        x=0.95,\n",
    "        y=1.1,\n",
    "        showarrow=False,\n",
    "        font=dict(size=12, color=\"white\"),\n",
    "        bgcolor=\"rgba(0, 0, 0, 0.5)\",\n",
    "        bordercolor=\"white\",\n",
    "        borderwidth=1,\n",
    "        borderpad=4\n",
    "    )\n",
    "    \n",
    "    return fig\n",
    "\n",
    "\n",
    "player='Jalen Green'\n",
    "season='2024-25'\n",
    "fig = create_player_visualization(player, season)\n",
    "\n",
    "fig.show()"
   ]
  },
  {
   "cell_type": "code",
   "execution_count": null,
   "id": "40de26a9-f3ec-4259-b72b-b7c01ba78524",
   "metadata": {},
   "outputs": [],
   "source": []
  }
 ],
 "metadata": {
  "kernelspec": {
   "display_name": "Python 3 (ipykernel)",
   "language": "python",
   "name": "python3"
  },
  "language_info": {
   "codemirror_mode": {
    "name": "ipython",
    "version": 3
   },
   "file_extension": ".py",
   "mimetype": "text/x-python",
   "name": "python",
   "nbconvert_exporter": "python",
   "pygments_lexer": "ipython3",
   "version": "3.10.12"
  }
 },
 "nbformat": 4,
 "nbformat_minor": 5
}
