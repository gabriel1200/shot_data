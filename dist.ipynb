{
 "cells": [
  {
   "cell_type": "code",
   "execution_count": null,
   "id": "f9d811b5-95c9-4cf9-a09d-5562c4bb8982",
   "metadata": {},
   "outputs": [
    {
     "name": "stdout",
     "output_type": "stream",
     "text": [
      "2023\n",
      "Atlanta Hawks\n",
      "12.8662529706892\n",
      "Boston Celtics\n",
      "15.028854080791426\n",
      "Cleveland Cavaliers\n",
      "12.932846506300114\n",
      "New Orleans Pelicans\n",
      "12.606406685236768\n",
      "Chicago Bulls\n",
      "13.100758853288363\n",
      "Dallas Mavericks\n",
      "15.140830800405269\n",
      "Denver Nuggets\n",
      "12.928329571106095\n",
      "Golden State Warriors\n",
      "15.527796564317597\n",
      "Houston Rockets\n",
      "12.519418141896528\n",
      "LA Clippers\n",
      "14.022379603399433\n",
      "Los Angeles Lakers\n",
      "12.748287201973143\n",
      "Miami Heat\n",
      "14.132599055929052\n",
      "Milwaukee Bucks\n",
      "14.809067602212927\n",
      "Minnesota Timberwolves\n",
      "12.717455002092926\n",
      "Brooklyn Nets\n",
      "14.103038119805102\n",
      "New York Knicks\n",
      "13.152292576419214\n",
      "Orlando Magic\n",
      "13.013712185467911\n",
      "Indiana Pacers\n",
      "13.554663036078965\n",
      "Philadelphia 76ers\n",
      "13.477292576419215\n",
      "Phoenix Suns\n",
      "13.836220898754737\n",
      "Portland Trail Blazers\n",
      "13.739180117126125\n",
      "Sacramento Kings\n",
      "13.781111725663717\n",
      "San Antonio Spurs\n",
      "12.580534703015935\n",
      "Oklahoma City Thunder\n",
      "12.661528326745717\n",
      "Toronto Raptors\n",
      "13.08385632260649\n",
      "Utah Jazz\n",
      "13.717990495587237\n",
      "Memphis Grizzlies\n",
      "12.554628526023043\n",
      "Washington Wizards\n",
      "13.525466535709274\n",
      "Detroit Pistons\n",
      "13.458403361344537\n",
      "Charlotte Hornets\n",
      "12.598947794415217\n",
      "2024\n",
      "Atlanta Hawks\n",
      "13.67009493670886\n",
      "Boston Celtics\n",
      "15.148999459167117\n",
      "Cleveland Cavaliers\n",
      "13.555959709009514\n",
      "New Orleans Pelicans\n",
      "13.05903698534543\n",
      "Chicago Bulls\n",
      "13.130126720261616\n",
      "Dallas Mavericks\n",
      "14.571681175190424\n",
      "Denver Nuggets\n",
      "12.827448825388103\n",
      "Golden State Warriors\n",
      "14.570459081836328\n",
      "Houston Rockets\n",
      "13.73883898645931\n",
      "LA Clippers\n",
      "13.575689364096792\n",
      "Los Angeles Lakers\n",
      "12.851887975477219\n",
      "Miami Heat\n",
      "13.706778695528339\n",
      "Milwaukee Bucks\n",
      "14.534306971617525\n",
      "Minnesota Timberwolves\n",
      "12.973472899340408\n",
      "Brooklyn Nets\n",
      "13.758040235390721\n",
      "New York Knicks\n",
      "13.443344334433444\n",
      "Orlando Magic\n",
      "12.752010338885698\n",
      "Indiana Pacers\n",
      "13.020529016975917\n",
      "Philadelphia 76ers\n",
      "13.204474150866185\n",
      "Phoenix Suns\n",
      "13.825569871159564\n",
      "Portland Trail Blazers\n",
      "13.14274061990212\n",
      "Sacramento Kings\n",
      "14.283299798792756\n",
      "San Antonio Spurs\n",
      "13.416756320602474\n",
      "Oklahoma City Thunder\n",
      "13.287820862916439\n",
      "Toronto Raptors\n",
      "12.693855356171833\n",
      "Utah Jazz\n",
      "13.338624338624339\n",
      "Memphis Grizzlies\n",
      "13.801908977728592\n",
      "Washington Wizards\n",
      "13.327372214066463\n",
      "Detroit Pistons\n",
      "13.064814814814815\n",
      "Charlotte Hornets\n",
      "13.66269451843544\n"
     ]
    }
   ],
   "source": [
    "import pandas as pd\n",
    "import numpy as np\n",
    "from nba_api.stats.static import players,teams\n",
    "ps=''\n",
    "all_shots=[]\n",
    "for year in range(2023,2025):\n",
    "    \n",
    "    master=[]\n",
    "    print(year)\n",
    "    for team in teams.get_teams():\n",
    "        team_id=team['id']\n",
    "        df = pd.read_csv('team/'+str(year)+ps+'/'+str(team_id)+'.csv')\n",
    "        print(df.iloc[0]['TEAM_NAME'])\n",
    "        \n",
    "        print(df.SHOT_DISTANCE.mean())\n",
    "        master.append(df)\n",
    "    year_shots = pd.concat(master)\n",
    "    all_shots.append(year_shots)\n",
    "    #print(year)\n",
    "    #print(year_shots.SHOT_DISTANCE.mean())\n",
    "shotframe=pd.concat(all_shots)"
   ]
  },
  {
   "cell_type": "code",
   "execution_count": null,
   "id": "4f85f502-1939-4161-a15a-fbe25243ee59",
   "metadata": {},
   "outputs": [],
   "source": [
    "by_player"
   ]
  },
  {
   "cell_type": "code",
   "execution_count": 5,
   "id": "90ef07eb-c242-4ae0-b184-5bdcb35e395c",
   "metadata": {},
   "outputs": [],
   "source": [
    "df['CALCULATED_DISTANCE'] = np.sqrt(df['LOC_X']**2 + df['LOC_Y']**2)\n"
   ]
  },
  {
   "cell_type": "code",
   "execution_count": 11,
   "id": "c56e9d5c-fd68-476e-88e0-dafcb9c351b4",
   "metadata": {},
   "outputs": [
    {
     "data": {
      "text/plain": [
       "-26"
      ]
     },
     "execution_count": 11,
     "metadata": {},
     "output_type": "execute_result"
    }
   ],
   "source": [
    "df['LOC_Y'].min()"
   ]
  },
  {
   "cell_type": "code",
   "execution_count": 12,
   "id": "49d190e1-0a20-4025-9e18-b2f7bca7d923",
   "metadata": {},
   "outputs": [
    {
     "data": {
      "text/plain": [
       "-237"
      ]
     },
     "execution_count": 12,
     "metadata": {},
     "output_type": "execute_result"
    }
   ],
   "source": [
    "df['LOC_X'].min()"
   ]
  },
  {
   "cell_type": "code",
   "execution_count": 9,
   "id": "5c2a7d59-a0e9-4962-9bb5-4820281a3933",
   "metadata": {},
   "outputs": [
    {
     "data": {
      "text/plain": [
       "4.66"
      ]
     },
     "execution_count": 9,
     "metadata": {},
     "output_type": "execute_result"
    }
   ],
   "source": [
    "233/50"
   ]
  },
  {
   "cell_type": "code",
   "execution_count": 10,
   "id": "801e1834-698d-4d14-bdc1-93e64fdb1886",
   "metadata": {},
   "outputs": [
    {
     "data": {
      "text/plain": [
       "74.67811158798283"
      ]
     },
     "execution_count": 10,
     "metadata": {},
     "output_type": "execute_result"
    }
   ],
   "source": [
    "348/4.66"
   ]
  },
  {
   "cell_type": "code",
   "execution_count": null,
   "id": "19e63ad6-8735-4b09-a62f-d89b3a0d6f76",
   "metadata": {},
   "outputs": [],
   "source": [
    "df["
   ]
  }
 ],
 "metadata": {
  "kernelspec": {
   "display_name": "Python 3 (ipykernel)",
   "language": "python",
   "name": "python3"
  },
  "language_info": {
   "codemirror_mode": {
    "name": "ipython",
    "version": 3
   },
   "file_extension": ".py",
   "mimetype": "text/x-python",
   "name": "python",
   "nbconvert_exporter": "python",
   "pygments_lexer": "ipython3",
   "version": "3.10.12"
  }
 },
 "nbformat": 4,
 "nbformat_minor": 5
}
