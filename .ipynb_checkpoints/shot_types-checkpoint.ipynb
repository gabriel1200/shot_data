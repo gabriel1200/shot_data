{
 "cells": [
  {
   "cell_type": "code",
   "execution_count": 1,
   "id": "e857da6f-6e25-4856-9c09-992638b60993",
   "metadata": {},
   "outputs": [
    {
     "name": "stdout",
     "output_type": "stream",
     "text": [
      "Index(['PLAYER_NAME', 'PLAYER_ID', 'shot_description', 'shot_type',\n",
      "       'shot_count', 'shot_makes', 'shot_group', 'efg%'],\n",
      "      dtype='object')\n",
      "Index(['PLAYER_NAME', 'PLAYER_ID', 'shot_description', 'shot_type',\n",
      "       'shot_count', 'shot_makes', 'shot_group', 'efg%'],\n",
      "      dtype='object')\n",
      "Index(['PLAYER_NAME', 'PLAYER_ID', 'shot_description', 'shot_type',\n",
      "       'shot_count', 'shot_makes', 'shot_group', 'efg%'],\n",
      "      dtype='object')\n",
      "Index(['PLAYER_NAME', 'PLAYER_ID', 'shot_description', 'shot_type',\n",
      "       'shot_count', 'shot_makes', 'shot_group', 'efg%'],\n",
      "      dtype='object')\n",
      "Index(['PLAYER_NAME', 'PLAYER_ID', 'shot_description', 'shot_type',\n",
      "       'shot_count', 'shot_makes', 'shot_group', 'efg%'],\n",
      "      dtype='object')\n",
      "Index(['PLAYER_NAME', 'PLAYER_ID', 'shot_description', 'shot_type',\n",
      "       'shot_count', 'shot_makes', 'shot_group', 'efg%'],\n",
      "      dtype='object')\n",
      "Index(['PLAYER_NAME', 'PLAYER_ID', 'shot_description', 'shot_type',\n",
      "       'shot_count', 'shot_makes', 'shot_group', 'efg%'],\n",
      "      dtype='object')\n",
      "Index(['PLAYER_NAME', 'PLAYER_ID', 'shot_description', 'shot_type',\n",
      "       'shot_count', 'shot_makes', 'shot_group', 'efg%'],\n",
      "      dtype='object')\n",
      "Index(['PLAYER_NAME', 'PLAYER_ID', 'shot_description', 'shot_type',\n",
      "       'shot_count', 'shot_makes', 'shot_group', 'efg%'],\n",
      "      dtype='object')\n",
      "Index(['PLAYER_NAME', 'PLAYER_ID', 'shot_description', 'shot_type',\n",
      "       'shot_count', 'shot_makes', 'shot_group', 'efg%'],\n",
      "      dtype='object')\n",
      "Index(['PLAYER_NAME', 'PLAYER_ID', 'shot_description', 'shot_type',\n",
      "       'shot_count', 'shot_makes', 'shot_group', 'efg%'],\n",
      "      dtype='object')\n",
      "Index(['PLAYER_NAME', 'PLAYER_ID', 'shot_description', 'shot_type',\n",
      "       'shot_count', 'shot_makes', 'shot_group', 'efg%'],\n",
      "      dtype='object')\n",
      "Index(['PLAYER_NAME', 'PLAYER_ID', 'shot_description', 'shot_type',\n",
      "       'shot_count', 'shot_makes', 'shot_group', 'efg%'],\n",
      "      dtype='object')\n",
      "Index(['PLAYER_NAME', 'PLAYER_ID', 'shot_description', 'shot_type',\n",
      "       'shot_count', 'shot_makes', 'shot_group', 'efg%'],\n",
      "      dtype='object')\n",
      "Index(['PLAYER_NAME', 'PLAYER_ID', 'shot_description', 'shot_type',\n",
      "       'shot_count', 'shot_makes', 'shot_group', 'efg%'],\n",
      "      dtype='object')\n",
      "Index(['PLAYER_NAME', 'PLAYER_ID', 'shot_description', 'shot_type',\n",
      "       'shot_count', 'shot_makes', 'shot_group', 'efg%'],\n",
      "      dtype='object')\n",
      "Index(['PLAYER_NAME', 'PLAYER_ID', 'shot_description', 'shot_type',\n",
      "       'shot_count', 'shot_makes', 'shot_group', 'efg%'],\n",
      "      dtype='object')\n",
      "Index(['PLAYER_NAME', 'PLAYER_ID', 'shot_description', 'shot_type',\n",
      "       'shot_count', 'shot_makes', 'shot_group', 'efg%'],\n",
      "      dtype='object')\n",
      "Index(['PLAYER_NAME', 'PLAYER_ID', 'shot_description', 'shot_type',\n",
      "       'shot_count', 'shot_makes', 'shot_group', 'efg%'],\n",
      "      dtype='object')\n",
      "Index(['PLAYER_NAME', 'PLAYER_ID', 'shot_description', 'shot_type',\n",
      "       'shot_count', 'shot_makes', 'shot_group', 'efg%'],\n",
      "      dtype='object')\n",
      "Index(['PLAYER_NAME', 'PLAYER_ID', 'shot_description', 'shot_type',\n",
      "       'shot_count', 'shot_makes', 'shot_group', 'efg%'],\n",
      "      dtype='object')\n",
      "Index(['PLAYER_NAME', 'PLAYER_ID', 'shot_description', 'shot_type',\n",
      "       'shot_count', 'shot_makes', 'shot_group', 'efg%'],\n",
      "      dtype='object')\n",
      "Index(['PLAYER_NAME', 'PLAYER_ID', 'shot_description', 'shot_type',\n",
      "       'shot_count', 'shot_makes', 'shot_group', 'efg%'],\n",
      "      dtype='object')\n",
      "Index(['PLAYER_NAME', 'PLAYER_ID', 'shot_description', 'shot_type',\n",
      "       'shot_count', 'shot_makes', 'shot_group', 'efg%'],\n",
      "      dtype='object')\n",
      "Index(['PLAYER_NAME', 'PLAYER_ID', 'shot_description', 'shot_type',\n",
      "       'shot_count', 'shot_makes', 'shot_group', 'efg%'],\n",
      "      dtype='object')\n",
      "Index(['PLAYER_NAME', 'PLAYER_ID', 'shot_description', 'shot_type',\n",
      "       'shot_count', 'shot_makes', 'shot_group', 'efg%'],\n",
      "      dtype='object')\n",
      "Index(['PLAYER_NAME', 'PLAYER_ID', 'shot_description', 'shot_type',\n",
      "       'shot_count', 'shot_makes', 'shot_group', 'efg%'],\n",
      "      dtype='object')\n",
      "Index(['PLAYER_NAME', 'PLAYER_ID', 'shot_description', 'shot_type',\n",
      "       'shot_count', 'shot_makes', 'shot_group', 'efg%'],\n",
      "      dtype='object')\n",
      "Index(['PLAYER_NAME', 'PLAYER_ID', 'shot_description', 'shot_type',\n",
      "       'shot_count', 'shot_makes', 'shot_group', 'efg%'],\n",
      "      dtype='object')\n"
     ]
    },
    {
     "data": {
      "text/html": [
       "<div>\n",
       "<style scoped>\n",
       "    .dataframe tbody tr th:only-of-type {\n",
       "        vertical-align: middle;\n",
       "    }\n",
       "\n",
       "    .dataframe tbody tr th {\n",
       "        vertical-align: top;\n",
       "    }\n",
       "\n",
       "    .dataframe thead th {\n",
       "        text-align: right;\n",
       "    }\n",
       "</style>\n",
       "<table border=\"1\" class=\"dataframe\">\n",
       "  <thead>\n",
       "    <tr style=\"text-align: right;\">\n",
       "      <th></th>\n",
       "      <th>shot_description</th>\n",
       "      <th>shot_type</th>\n",
       "      <th>shot_count</th>\n",
       "      <th>shot_makes</th>\n",
       "      <th>year</th>\n",
       "      <th>shot_group</th>\n",
       "      <th>efg%</th>\n",
       "    </tr>\n",
       "  </thead>\n",
       "  <tbody>\n",
       "    <tr>\n",
       "      <th>0</th>\n",
       "      <td>Driving Dunk Shot</td>\n",
       "      <td>2PT Field Goal</td>\n",
       "      <td>93</td>\n",
       "      <td>92</td>\n",
       "      <td>1997</td>\n",
       "      <td>DUNKS</td>\n",
       "      <td>0.989247</td>\n",
       "    </tr>\n",
       "    <tr>\n",
       "      <th>1</th>\n",
       "      <td>Driving Layup Shot</td>\n",
       "      <td>2PT Field Goal</td>\n",
       "      <td>1003</td>\n",
       "      <td>815</td>\n",
       "      <td>1997</td>\n",
       "      <td>LAYUPS</td>\n",
       "      <td>0.812562</td>\n",
       "    </tr>\n",
       "    <tr>\n",
       "      <th>2</th>\n",
       "      <td>Dunk Shot</td>\n",
       "      <td>2PT Field Goal</td>\n",
       "      <td>315</td>\n",
       "      <td>282</td>\n",
       "      <td>1997</td>\n",
       "      <td>DUNKS</td>\n",
       "      <td>0.895238</td>\n",
       "    </tr>\n",
       "    <tr>\n",
       "      <th>3</th>\n",
       "      <td>Hook Shot</td>\n",
       "      <td>2PT Field Goal</td>\n",
       "      <td>459</td>\n",
       "      <td>268</td>\n",
       "      <td>1997</td>\n",
       "      <td>POST_MOVES</td>\n",
       "      <td>0.583878</td>\n",
       "    </tr>\n",
       "    <tr>\n",
       "      <th>4</th>\n",
       "      <td>Jump Shot</td>\n",
       "      <td>2PT Field Goal</td>\n",
       "      <td>5663</td>\n",
       "      <td>2163</td>\n",
       "      <td>1997</td>\n",
       "      <td>JUMP_SHOTS</td>\n",
       "      <td>0.381953</td>\n",
       "    </tr>\n",
       "    <tr>\n",
       "      <th>...</th>\n",
       "      <td>...</td>\n",
       "      <td>...</td>\n",
       "      <td>...</td>\n",
       "      <td>...</td>\n",
       "      <td>...</td>\n",
       "      <td>...</td>\n",
       "      <td>...</td>\n",
       "    </tr>\n",
       "    <tr>\n",
       "      <th>57</th>\n",
       "      <td>Turnaround Fadeaway shot</td>\n",
       "      <td>2PT Field Goal</td>\n",
       "      <td>1573</td>\n",
       "      <td>672</td>\n",
       "      <td>2025</td>\n",
       "      <td>JUMP_SHOTS</td>\n",
       "      <td>0.427209</td>\n",
       "    </tr>\n",
       "    <tr>\n",
       "      <th>58</th>\n",
       "      <td>Turnaround Fadeaway shot</td>\n",
       "      <td>3PT Field Goal</td>\n",
       "      <td>15</td>\n",
       "      <td>4</td>\n",
       "      <td>2025</td>\n",
       "      <td>JUMP_SHOTS</td>\n",
       "      <td>0.400000</td>\n",
       "    </tr>\n",
       "    <tr>\n",
       "      <th>59</th>\n",
       "      <td>Turnaround Hook Shot</td>\n",
       "      <td>2PT Field Goal</td>\n",
       "      <td>1133</td>\n",
       "      <td>557</td>\n",
       "      <td>2025</td>\n",
       "      <td>POST_MOVES</td>\n",
       "      <td>0.491615</td>\n",
       "    </tr>\n",
       "    <tr>\n",
       "      <th>60</th>\n",
       "      <td>Turnaround Jump Shot</td>\n",
       "      <td>2PT Field Goal</td>\n",
       "      <td>1120</td>\n",
       "      <td>476</td>\n",
       "      <td>2025</td>\n",
       "      <td>JUMP_SHOTS</td>\n",
       "      <td>0.425000</td>\n",
       "    </tr>\n",
       "    <tr>\n",
       "      <th>61</th>\n",
       "      <td>Turnaround Jump Shot</td>\n",
       "      <td>3PT Field Goal</td>\n",
       "      <td>38</td>\n",
       "      <td>11</td>\n",
       "      <td>2025</td>\n",
       "      <td>JUMP_SHOTS</td>\n",
       "      <td>0.434211</td>\n",
       "    </tr>\n",
       "  </tbody>\n",
       "</table>\n",
       "<p>1306 rows × 7 columns</p>\n",
       "</div>"
      ],
      "text/plain": [
       "            shot_description       shot_type  shot_count  shot_makes  year  \\\n",
       "0          Driving Dunk Shot  2PT Field Goal          93          92  1997   \n",
       "1         Driving Layup Shot  2PT Field Goal        1003         815  1997   \n",
       "2                  Dunk Shot  2PT Field Goal         315         282  1997   \n",
       "3                  Hook Shot  2PT Field Goal         459         268  1997   \n",
       "4                  Jump Shot  2PT Field Goal        5663        2163  1997   \n",
       "..                       ...             ...         ...         ...   ...   \n",
       "57  Turnaround Fadeaway shot  2PT Field Goal        1573         672  2025   \n",
       "58  Turnaround Fadeaway shot  3PT Field Goal          15           4  2025   \n",
       "59      Turnaround Hook Shot  2PT Field Goal        1133         557  2025   \n",
       "60      Turnaround Jump Shot  2PT Field Goal        1120         476  2025   \n",
       "61      Turnaround Jump Shot  3PT Field Goal          38          11  2025   \n",
       "\n",
       "    shot_group      efg%  \n",
       "0        DUNKS  0.989247  \n",
       "1       LAYUPS  0.812562  \n",
       "2        DUNKS  0.895238  \n",
       "3   POST_MOVES  0.583878  \n",
       "4   JUMP_SHOTS  0.381953  \n",
       "..         ...       ...  \n",
       "57  JUMP_SHOTS  0.427209  \n",
       "58  JUMP_SHOTS  0.400000  \n",
       "59  POST_MOVES  0.491615  \n",
       "60  JUMP_SHOTS  0.425000  \n",
       "61  JUMP_SHOTS  0.434211  \n",
       "\n",
       "[1306 rows x 7 columns]"
      ]
     },
     "execution_count": 1,
     "metadata": {},
     "output_type": "execute_result"
    }
   ],
   "source": [
    "import pandas as pd\n",
    "import os\n",
    "def shot_dict():\n",
    "    shot_categories = {\n",
    "        'JUMP_SHOTS': [\n",
    "            'Jump Shot',\n",
    "            'Pullup Jump shot',\n",
    "            'Step Back Jump shot',\n",
    "            'Fadeaway Jump Shot',\n",
    "            'Running Jump Shot',\n",
    "            'Running Pull-Up Jump Shot',\n",
    "            'Jump Bank Shot',\n",
    "            'Turnaround Jump Shot',\n",
    "            'Turnaround Fadeaway shot',\n",
    "            'Driving Jump shot',\n",
    "            'Fadeaway Bank shot',\n",
    "            'Pullup Bank shot',\n",
    "            'Running Bank shot',\n",
    "            'Step Back Bank Jump Shot',\n",
    "            'Turnaround Bank shot',\n",
    "            'Turnaround Fadeaway Bank Jump Shot',\n",
    "            'Driving Bank shot'\n",
    "        ],\n",
    "        \n",
    "        'LAYUPS': [\n",
    "            'Layup Shot',\n",
    "            'Driving Layup Shot',\n",
    "            'Reverse Layup Shot',\n",
    "            'Running Layup Shot',\n",
    "            'Cutting Layup Shot',\n",
    "            'Driving Finger Roll Layup Shot',\n",
    "            'Finger Roll Layup Shot',\n",
    "            'Running Finger Roll Layup Shot',\n",
    "            'Driving Reverse Layup Shot',\n",
    "            'Tip Layup Shot',\n",
    "            'Putback Layup Shot',\n",
    "            'Running Reverse Layup Shot',\n",
    "            'Alley Oop Layup shot',\n",
    "            'Running Alley Oop Layup Shot',\n",
    "            'Cutting Finger Roll Layup Shot',\n",
    "            'Finger Roll Shot',\n",
    "            'Running Finger Roll Shot',\n",
    "            'Turnaround Finger Roll Shot',\n",
    "            'Driving Finger Roll Shot'\n",
    "        ],\n",
    "        \n",
    "        'DUNKS': [\n",
    "            'Dunk Shot',\n",
    "            'Driving Dunk Shot',\n",
    "            'Slam Dunk Shot',\n",
    "            'Alley Oop Dunk Shot',\n",
    "            'Running Dunk Shot',\n",
    "            'Reverse Dunk Shot',\n",
    "            'Putback Dunk Shot',\n",
    "            'Cutting Dunk Shot',\n",
    "            'Tip Dunk Shot',\n",
    "            'Follow Up Dunk Shot',\n",
    "            'Driving Reverse Dunk Shot',\n",
    "            'Driving Slam Dunk Shot',\n",
    "            'Putback Reverse Dunk Shot',\n",
    "            'Putback Slam Dunk Shot',\n",
    "            'Reverse Slam Dunk Shot',\n",
    "            'Running Alley Oop Dunk Shot',\n",
    "            'Running Reverse Dunk Shot',\n",
    "            'Running Slam Dunk Shot'\n",
    "        ],\n",
    "        \n",
    "        'POST_MOVES': [\n",
    "            'Hook Shot',\n",
    "            'Jump Hook Shot',\n",
    "            'Running Hook Shot',\n",
    "            'Turnaround Hook Shot',\n",
    "            'Hook Bank Shot',\n",
    "            'Driving Hook Shot',\n",
    "            'Driving Bank Hook Shot',\n",
    "            'Jump Bank Hook Shot',\n",
    "            'Running Bank Hook Shot',\n",
    "            'Turnaround Bank Hook Shot'\n",
    "        ],\n",
    "        \n",
    "        'SPECIALTY_SHOTS': [\n",
    "            'Floating Jump shot',\n",
    "            'Driving Floating Jump Shot',\n",
    "            'Tip Shot',\n",
    "            'Running Tip Shot',\n",
    "            'Driving Floating Bank Jump Shot'\n",
    "        ],\n",
    "         'NO_SHOT': ['No Shot']\n",
    "    }\n",
    "    return shot_categories\n",
    "\n",
    "\n",
    "\n",
    "def collect_year(year):\n",
    "    path = 'team/'+str(year)+'/'\n",
    "    arr = os.listdir(path)\n",
    "    csvs = [file for file in arr if '.csv' in file and file !='avg.csv']\n",
    "    frames= []\n",
    "    for csv in csvs:\n",
    "        df=pd.read_csv(path+csv)\n",
    "        frames.append(df)\n",
    "    master = pd.concat(frames)\n",
    "    return master\n",
    "\n",
    "\n",
    "def collect_types():\n",
    "    shot_categories=shot_dict()\n",
    "    category_map={}\n",
    "    for shot_type in shot_categories.keys():\n",
    "        shotlist = shot_categories[shot_type]\n",
    "        for shot in shotlist:\n",
    "            category_map[shot]=shot_type\n",
    "    all_types = []\n",
    "    for year in range(1997,2026):\n",
    "        df = collect_year(year)\n",
    "        df.drop_duplicates(subset=['SHOT_ID'],inplace=True)\n",
    "\n",
    "        player_breakdown = df.groupby(['PLAYER_NAME','PLAYER_ID','ACTION_TYPE','SHOT_TYPE']).sum(numeric_only=True)[['SHOT_ATTEMPTED_FLAG', 'SHOT_MADE_FLAG']].reset_index()\n",
    "        player_breakdown.rename(columns = {'ACTION_TYPE':'shot_description','SHOT_TYPE':'shot_type', 'SHOT_ATTEMPTED_FLAG':'shot_count',  'SHOT_MADE_FLAG':'shot_makes'},inplace=True)\n",
    "        player_breakdown['shot_group']=player_breakdown['shot_description'].map(category_map)\n",
    "        value_map={'2PT Field Goal':1,'3PT Field Goal':1.5}\n",
    "\n",
    "        player_breakdown['shot_value']=player_breakdown['shot_type'].map(value_map)\n",
    "        player_breakdown['efg%']=(player_breakdown['shot_makes']*player_breakdown['shot_value'])/player_breakdown['shot_count']\n",
    "        player_breakdown.drop(columns='shot_value',inplace=True)\n",
    "\n",
    "\n",
    "        mask = (player_breakdown['shot_group'] == 'LAYUPS') & (player_breakdown['shot_type'] == '3PT Field Goal')\n",
    "        \n",
    "        # Drop the rows where the mask is True\n",
    "        all_shots = player_breakdown[~mask]\n",
    "        \n",
    "        mask = (player_breakdown['shot_group'] == 'POST_MOVES') & (player_breakdown['shot_type'] == '3PT Field Goal')\n",
    "        \n",
    "        # Drop the rows where the mask is True\n",
    "        player_breakdown= player_breakdown[~mask]\n",
    "        print(player_breakdown.columns)\n",
    "        player_breakdown['year']=year\n",
    "        player_breakdown.to_csv('shot_breakdown/'+str(year)+'_shotbreakdown.csv',index=False)\n",
    "        \n",
    "        \n",
    "  \n",
    "       \n",
    "        shot_breakdown = df.groupby(['ACTION_TYPE','SHOT_TYPE']).sum(numeric_only=True)[['SHOT_ATTEMPTED_FLAG', 'SHOT_MADE_FLAG']].reset_index()\n",
    "        shot_breakdown.rename(columns = {'ACTION_TYPE':'shot_description','SHOT_TYPE':'shot_type', 'SHOT_ATTEMPTED_FLAG':'shot_count',  'SHOT_MADE_FLAG':'shot_makes'},inplace=True)\n",
    "\n",
    "        \n",
    "        \n",
    "        shot_breakdown['year'] = year\n",
    "        \n",
    "      \n",
    "        all_types.append(shot_breakdown)\n",
    "    return pd.concat(all_types)\n",
    "\n",
    "\n",
    "all_shots = collect_types()\n",
    "\n",
    "\n",
    "# Add No Shot category if needed\n",
    "shot_categories=shot_dict()\n",
    "category_map={}\n",
    "for shot_type in shot_categories.keys():\n",
    "    shotlist = shot_categories[shot_type]\n",
    "    for shot in shotlist:\n",
    "        category_map[shot]=shot_type\n",
    "all_shots['shot_group']=all_shots['shot_description'].map(category_map)\n",
    "\n",
    "other_categories = {\n",
    "   \n",
    "}\n",
    "value_map={'2PT Field Goal':1,'3PT Field Goal':1.5}\n",
    "all_shots['shot_value']=all_shots['shot_type'].map(value_map)\n",
    "all_shots['efg%']=(all_shots['shot_makes']*all_shots['shot_value'])/all_shots['shot_count']\n",
    "all_shots.drop(columns='shot_value',inplace=True)\n",
    "\n",
    "all_shots[(all_shots.shot_group=='LAYUPS') & (all_shots.shot_type=='3PT Field Goal') ]\n",
    "\n",
    "\n",
    "\n",
    "# Create a mask for rows where the condition is met\n",
    "mask = (all_shots['shot_group'] == 'LAYUPS') & (all_shots['shot_type'] == '3PT Field Goal')\n",
    "\n",
    "# Drop the rows where the mask is True\n",
    "all_shots = all_shots[~mask]\n",
    "\n",
    "mask = (all_shots['shot_group'] == 'POST_MOVES') & (all_shots['shot_type'] == '3PT Field Goal')\n",
    "\n",
    "# Drop the rows where the mask is True\n",
    "all_shots = all_shots[~mask]\n",
    "\n",
    "all_shots.to_csv('shot_types.csv')\n",
    "all_shots"
   ]
  },
  {
   "cell_type": "code",
   "execution_count": 2,
   "id": "e302a273-f26f-4957-bf7b-686968e83679",
   "metadata": {},
   "outputs": [],
   "source": [
    "player_shots=pd.concat([pd.read_csv('shot_breakdown/'+str(year)+'_shotbreakdown.csv') for year in range(1997,2026)] )\n",
    "player_shots\n",
    "\n",
    "\n",
    "player_ids=player_shots['PLAYER_ID'].unique().tolist()\n",
    "\n",
    "\n",
    "for player_id in player_ids:\n",
    "\n",
    "    tempframe=player_shots[player_shots.PLAYER_ID==player_id]\n",
    "    tempframe.to_csv('../extra_data/shot_averages/'+str(player_id)+'.csv',index=False)\n"
   ]
  },
  {
   "cell_type": "code",
   "execution_count": 10,
   "id": "43b9e038-a70e-48bd-a033-36003cb0d62f",
   "metadata": {},
   "outputs": [
    {
     "data": {
      "application/vnd.plotly.v1+json": {
       "config": {
        "plotlyServerURL": "https://plot.ly"
       },
       "data": [
        {
         "marker": {
          "color": "rgba(96, 165, 250, 0.8)",
          "line": {
           "color": "rgba(96, 165, 250, 1)",
           "width": 1
          }
         },
         "name": "Player Efficiency",
         "type": "bar",
         "x": [
          "Jump Bank Shot",
          "Jump Shot",
          "Running Jump Shot",
          "Fadeaway Jump Shot",
          "Pullup Jump shot",
          "Step Back Jump shot",
          "Fadeaway Bank shot",
          "Running Pull-Up Jump Shot",
          "Turnaround Bank shot",
          "Turnaround Fadeaway shot",
          "Turnaround Jump Shot",
          "Turnaround Fadeaway Bank Jump Shot"
         ],
         "y": [
          100,
          41.946308724832214,
          44.44444444444444,
          38.983050847457626,
          37.60683760683761,
          33.33333333333333,
          42.857142857142854,
          46.666666666666664,
          100,
          36.231884057971016,
          40,
          0
         ]
        },
        {
         "marker": {
          "color": "rgba(249, 115, 22, 0.8)",
          "line": {
           "color": "rgba(249, 115, 22, 1)",
           "width": 1
          }
         },
         "name": "League Average",
         "type": "bar",
         "x": [
          "Jump Bank Shot",
          "Jump Shot",
          "Running Jump Shot",
          "Fadeaway Jump Shot",
          "Pullup Jump shot",
          "Step Back Jump shot",
          "Fadeaway Bank shot",
          "Running Pull-Up Jump Shot",
          "Turnaround Bank shot",
          "Turnaround Fadeaway shot",
          "Turnaround Jump Shot",
          "Turnaround Fadeaway Bank Jump Shot"
         ],
         "y": [
          53.57142857142857,
          41.942857142857136,
          42.39130434782608,
          38.97015798712697,
          42.658509454949936,
          42.48788368336025,
          43.52941176470588,
          51.52838427947598,
          65.04065040650406,
          42.508038585209,
          42.405063291139236,
          48.07692307692308
         ]
        }
       ],
       "layout": {
        "autosize": true,
        "barmode": "group",
        "legend": {
         "font": {
          "color": "#F3F4F6"
         },
         "title": {
          "text": "Legend"
         }
        },
        "paper_bgcolor": "rgba(0, 0, 0, 0)",
        "plot_bgcolor": "rgba(0, 0, 0, 0)",
        "template": {
         "data": {
          "bar": [
           {
            "error_x": {
             "color": "#2a3f5f"
            },
            "error_y": {
             "color": "#2a3f5f"
            },
            "marker": {
             "line": {
              "color": "#E5ECF6",
              "width": 0.5
             },
             "pattern": {
              "fillmode": "overlay",
              "size": 10,
              "solidity": 0.2
             }
            },
            "type": "bar"
           }
          ],
          "barpolar": [
           {
            "marker": {
             "line": {
              "color": "#E5ECF6",
              "width": 0.5
             },
             "pattern": {
              "fillmode": "overlay",
              "size": 10,
              "solidity": 0.2
             }
            },
            "type": "barpolar"
           }
          ],
          "carpet": [
           {
            "aaxis": {
             "endlinecolor": "#2a3f5f",
             "gridcolor": "white",
             "linecolor": "white",
             "minorgridcolor": "white",
             "startlinecolor": "#2a3f5f"
            },
            "baxis": {
             "endlinecolor": "#2a3f5f",
             "gridcolor": "white",
             "linecolor": "white",
             "minorgridcolor": "white",
             "startlinecolor": "#2a3f5f"
            },
            "type": "carpet"
           }
          ],
          "choropleth": [
           {
            "colorbar": {
             "outlinewidth": 0,
             "ticks": ""
            },
            "type": "choropleth"
           }
          ],
          "contour": [
           {
            "colorbar": {
             "outlinewidth": 0,
             "ticks": ""
            },
            "colorscale": [
             [
              0,
              "#0d0887"
             ],
             [
              0.1111111111111111,
              "#46039f"
             ],
             [
              0.2222222222222222,
              "#7201a8"
             ],
             [
              0.3333333333333333,
              "#9c179e"
             ],
             [
              0.4444444444444444,
              "#bd3786"
             ],
             [
              0.5555555555555556,
              "#d8576b"
             ],
             [
              0.6666666666666666,
              "#ed7953"
             ],
             [
              0.7777777777777778,
              "#fb9f3a"
             ],
             [
              0.8888888888888888,
              "#fdca26"
             ],
             [
              1,
              "#f0f921"
             ]
            ],
            "type": "contour"
           }
          ],
          "contourcarpet": [
           {
            "colorbar": {
             "outlinewidth": 0,
             "ticks": ""
            },
            "type": "contourcarpet"
           }
          ],
          "heatmap": [
           {
            "colorbar": {
             "outlinewidth": 0,
             "ticks": ""
            },
            "colorscale": [
             [
              0,
              "#0d0887"
             ],
             [
              0.1111111111111111,
              "#46039f"
             ],
             [
              0.2222222222222222,
              "#7201a8"
             ],
             [
              0.3333333333333333,
              "#9c179e"
             ],
             [
              0.4444444444444444,
              "#bd3786"
             ],
             [
              0.5555555555555556,
              "#d8576b"
             ],
             [
              0.6666666666666666,
              "#ed7953"
             ],
             [
              0.7777777777777778,
              "#fb9f3a"
             ],
             [
              0.8888888888888888,
              "#fdca26"
             ],
             [
              1,
              "#f0f921"
             ]
            ],
            "type": "heatmap"
           }
          ],
          "heatmapgl": [
           {
            "colorbar": {
             "outlinewidth": 0,
             "ticks": ""
            },
            "colorscale": [
             [
              0,
              "#0d0887"
             ],
             [
              0.1111111111111111,
              "#46039f"
             ],
             [
              0.2222222222222222,
              "#7201a8"
             ],
             [
              0.3333333333333333,
              "#9c179e"
             ],
             [
              0.4444444444444444,
              "#bd3786"
             ],
             [
              0.5555555555555556,
              "#d8576b"
             ],
             [
              0.6666666666666666,
              "#ed7953"
             ],
             [
              0.7777777777777778,
              "#fb9f3a"
             ],
             [
              0.8888888888888888,
              "#fdca26"
             ],
             [
              1,
              "#f0f921"
             ]
            ],
            "type": "heatmapgl"
           }
          ],
          "histogram": [
           {
            "marker": {
             "pattern": {
              "fillmode": "overlay",
              "size": 10,
              "solidity": 0.2
             }
            },
            "type": "histogram"
           }
          ],
          "histogram2d": [
           {
            "colorbar": {
             "outlinewidth": 0,
             "ticks": ""
            },
            "colorscale": [
             [
              0,
              "#0d0887"
             ],
             [
              0.1111111111111111,
              "#46039f"
             ],
             [
              0.2222222222222222,
              "#7201a8"
             ],
             [
              0.3333333333333333,
              "#9c179e"
             ],
             [
              0.4444444444444444,
              "#bd3786"
             ],
             [
              0.5555555555555556,
              "#d8576b"
             ],
             [
              0.6666666666666666,
              "#ed7953"
             ],
             [
              0.7777777777777778,
              "#fb9f3a"
             ],
             [
              0.8888888888888888,
              "#fdca26"
             ],
             [
              1,
              "#f0f921"
             ]
            ],
            "type": "histogram2d"
           }
          ],
          "histogram2dcontour": [
           {
            "colorbar": {
             "outlinewidth": 0,
             "ticks": ""
            },
            "colorscale": [
             [
              0,
              "#0d0887"
             ],
             [
              0.1111111111111111,
              "#46039f"
             ],
             [
              0.2222222222222222,
              "#7201a8"
             ],
             [
              0.3333333333333333,
              "#9c179e"
             ],
             [
              0.4444444444444444,
              "#bd3786"
             ],
             [
              0.5555555555555556,
              "#d8576b"
             ],
             [
              0.6666666666666666,
              "#ed7953"
             ],
             [
              0.7777777777777778,
              "#fb9f3a"
             ],
             [
              0.8888888888888888,
              "#fdca26"
             ],
             [
              1,
              "#f0f921"
             ]
            ],
            "type": "histogram2dcontour"
           }
          ],
          "mesh3d": [
           {
            "colorbar": {
             "outlinewidth": 0,
             "ticks": ""
            },
            "type": "mesh3d"
           }
          ],
          "parcoords": [
           {
            "line": {
             "colorbar": {
              "outlinewidth": 0,
              "ticks": ""
             }
            },
            "type": "parcoords"
           }
          ],
          "pie": [
           {
            "automargin": true,
            "type": "pie"
           }
          ],
          "scatter": [
           {
            "fillpattern": {
             "fillmode": "overlay",
             "size": 10,
             "solidity": 0.2
            },
            "type": "scatter"
           }
          ],
          "scatter3d": [
           {
            "line": {
             "colorbar": {
              "outlinewidth": 0,
              "ticks": ""
             }
            },
            "marker": {
             "colorbar": {
              "outlinewidth": 0,
              "ticks": ""
             }
            },
            "type": "scatter3d"
           }
          ],
          "scattercarpet": [
           {
            "marker": {
             "colorbar": {
              "outlinewidth": 0,
              "ticks": ""
             }
            },
            "type": "scattercarpet"
           }
          ],
          "scattergeo": [
           {
            "marker": {
             "colorbar": {
              "outlinewidth": 0,
              "ticks": ""
             }
            },
            "type": "scattergeo"
           }
          ],
          "scattergl": [
           {
            "marker": {
             "colorbar": {
              "outlinewidth": 0,
              "ticks": ""
             }
            },
            "type": "scattergl"
           }
          ],
          "scattermapbox": [
           {
            "marker": {
             "colorbar": {
              "outlinewidth": 0,
              "ticks": ""
             }
            },
            "type": "scattermapbox"
           }
          ],
          "scatterpolar": [
           {
            "marker": {
             "colorbar": {
              "outlinewidth": 0,
              "ticks": ""
             }
            },
            "type": "scatterpolar"
           }
          ],
          "scatterpolargl": [
           {
            "marker": {
             "colorbar": {
              "outlinewidth": 0,
              "ticks": ""
             }
            },
            "type": "scatterpolargl"
           }
          ],
          "scatterternary": [
           {
            "marker": {
             "colorbar": {
              "outlinewidth": 0,
              "ticks": ""
             }
            },
            "type": "scatterternary"
           }
          ],
          "surface": [
           {
            "colorbar": {
             "outlinewidth": 0,
             "ticks": ""
            },
            "colorscale": [
             [
              0,
              "#0d0887"
             ],
             [
              0.1111111111111111,
              "#46039f"
             ],
             [
              0.2222222222222222,
              "#7201a8"
             ],
             [
              0.3333333333333333,
              "#9c179e"
             ],
             [
              0.4444444444444444,
              "#bd3786"
             ],
             [
              0.5555555555555556,
              "#d8576b"
             ],
             [
              0.6666666666666666,
              "#ed7953"
             ],
             [
              0.7777777777777778,
              "#fb9f3a"
             ],
             [
              0.8888888888888888,
              "#fdca26"
             ],
             [
              1,
              "#f0f921"
             ]
            ],
            "type": "surface"
           }
          ],
          "table": [
           {
            "cells": {
             "fill": {
              "color": "#EBF0F8"
             },
             "line": {
              "color": "white"
             }
            },
            "header": {
             "fill": {
              "color": "#C8D4E3"
             },
             "line": {
              "color": "white"
             }
            },
            "type": "table"
           }
          ]
         },
         "layout": {
          "annotationdefaults": {
           "arrowcolor": "#2a3f5f",
           "arrowhead": 0,
           "arrowwidth": 1
          },
          "autotypenumbers": "strict",
          "coloraxis": {
           "colorbar": {
            "outlinewidth": 0,
            "ticks": ""
           }
          },
          "colorscale": {
           "diverging": [
            [
             0,
             "#8e0152"
            ],
            [
             0.1,
             "#c51b7d"
            ],
            [
             0.2,
             "#de77ae"
            ],
            [
             0.3,
             "#f1b6da"
            ],
            [
             0.4,
             "#fde0ef"
            ],
            [
             0.5,
             "#f7f7f7"
            ],
            [
             0.6,
             "#e6f5d0"
            ],
            [
             0.7,
             "#b8e186"
            ],
            [
             0.8,
             "#7fbc41"
            ],
            [
             0.9,
             "#4d9221"
            ],
            [
             1,
             "#276419"
            ]
           ],
           "sequential": [
            [
             0,
             "#0d0887"
            ],
            [
             0.1111111111111111,
             "#46039f"
            ],
            [
             0.2222222222222222,
             "#7201a8"
            ],
            [
             0.3333333333333333,
             "#9c179e"
            ],
            [
             0.4444444444444444,
             "#bd3786"
            ],
            [
             0.5555555555555556,
             "#d8576b"
            ],
            [
             0.6666666666666666,
             "#ed7953"
            ],
            [
             0.7777777777777778,
             "#fb9f3a"
            ],
            [
             0.8888888888888888,
             "#fdca26"
            ],
            [
             1,
             "#f0f921"
            ]
           ],
           "sequentialminus": [
            [
             0,
             "#0d0887"
            ],
            [
             0.1111111111111111,
             "#46039f"
            ],
            [
             0.2222222222222222,
             "#7201a8"
            ],
            [
             0.3333333333333333,
             "#9c179e"
            ],
            [
             0.4444444444444444,
             "#bd3786"
            ],
            [
             0.5555555555555556,
             "#d8576b"
            ],
            [
             0.6666666666666666,
             "#ed7953"
            ],
            [
             0.7777777777777778,
             "#fb9f3a"
            ],
            [
             0.8888888888888888,
             "#fdca26"
            ],
            [
             1,
             "#f0f921"
            ]
           ]
          },
          "colorway": [
           "#636efa",
           "#EF553B",
           "#00cc96",
           "#ab63fa",
           "#FFA15A",
           "#19d3f3",
           "#FF6692",
           "#B6E880",
           "#FF97FF",
           "#FECB52"
          ],
          "font": {
           "color": "#2a3f5f"
          },
          "geo": {
           "bgcolor": "white",
           "lakecolor": "white",
           "landcolor": "#E5ECF6",
           "showlakes": true,
           "showland": true,
           "subunitcolor": "white"
          },
          "hoverlabel": {
           "align": "left"
          },
          "hovermode": "closest",
          "mapbox": {
           "style": "light"
          },
          "paper_bgcolor": "white",
          "plot_bgcolor": "#E5ECF6",
          "polar": {
           "angularaxis": {
            "gridcolor": "white",
            "linecolor": "white",
            "ticks": ""
           },
           "bgcolor": "#E5ECF6",
           "radialaxis": {
            "gridcolor": "white",
            "linecolor": "white",
            "ticks": ""
           }
          },
          "scene": {
           "xaxis": {
            "backgroundcolor": "#E5ECF6",
            "gridcolor": "white",
            "gridwidth": 2,
            "linecolor": "white",
            "showbackground": true,
            "ticks": "",
            "zerolinecolor": "white"
           },
           "yaxis": {
            "backgroundcolor": "#E5ECF6",
            "gridcolor": "white",
            "gridwidth": 2,
            "linecolor": "white",
            "showbackground": true,
            "ticks": "",
            "zerolinecolor": "white"
           },
           "zaxis": {
            "backgroundcolor": "#E5ECF6",
            "gridcolor": "white",
            "gridwidth": 2,
            "linecolor": "white",
            "showbackground": true,
            "ticks": "",
            "zerolinecolor": "white"
           }
          },
          "shapedefaults": {
           "line": {
            "color": "#2a3f5f"
           }
          },
          "ternary": {
           "aaxis": {
            "gridcolor": "white",
            "linecolor": "white",
            "ticks": ""
           },
           "baxis": {
            "gridcolor": "white",
            "linecolor": "white",
            "ticks": ""
           },
           "bgcolor": "#E5ECF6",
           "caxis": {
            "gridcolor": "white",
            "linecolor": "white",
            "ticks": ""
           }
          },
          "title": {
           "x": 0.05
          },
          "xaxis": {
           "automargin": true,
           "gridcolor": "white",
           "linecolor": "white",
           "ticks": "",
           "title": {
            "standoff": 15
           },
           "zerolinecolor": "white",
           "zerolinewidth": 2
          },
          "yaxis": {
           "automargin": true,
           "gridcolor": "white",
           "linecolor": "white",
           "ticks": "",
           "title": {
            "standoff": 15
           },
           "zerolinecolor": "white",
           "zerolinewidth": 2
          }
         }
        },
        "title": {
         "font": {
          "color": "#F3F4F6"
         },
         "text": "Shot Efficiency Comparison"
        },
        "xaxis": {
         "autorange": true,
         "gridcolor": "rgba(107, 114, 128, 0.2)",
         "range": [
          -0.5,
          11.5
         ],
         "tickangle": 45,
         "tickfont": {
          "color": "#F3F4F6"
         },
         "title": {
          "font": {
           "color": "#F3F4F6"
          },
          "text": "Players"
         },
         "type": "category"
        },
        "yaxis": {
         "autorange": true,
         "gridcolor": "rgba(107, 114, 128, 0.2)",
         "range": [
          0,
          105.26315789473685
         ],
         "tickfont": {
          "color": "#F3F4F6"
         },
         "title": {
          "font": {
           "color": "#F3F4F6"
          },
          "text": "Efficiency %"
         },
         "type": "linear"
        }
       }
      },
      "image/png": "[encoded data removed]",
      "text/html": [
       "<div>                            <div id=\"6777ce05-2240-4e38-a03d-c85914aeb991\" class=\"plotly-graph-div\" style=\"height:525px; width:100%;\"></div>            <script type=\"text/javascript\">                require([\"plotly\"], function(Plotly) {                    window.PLOTLYENV=window.PLOTLYENV || {};                                    if (document.getElementById(\"6777ce05-2240-4e38-a03d-c85914aeb991\")) {                    Plotly.newPlot(                        \"6777ce05-2240-4e38-a03d-c85914aeb991\",                        [{\"marker\":{\"color\":\"rgba(96, 165, 250, 0.8)\",\"line\":{\"color\":\"rgba(96, 165, 250, 1)\",\"width\":1}},\"name\":\"Player Efficiency\",\"x\":[\"Jump Bank Shot\",\"Jump Shot\",\"Running Jump Shot\",\"Fadeaway Jump Shot\",\"Pullup Jump shot\",\"Step Back Jump shot\",\"Fadeaway Bank shot\",\"Running Pull-Up Jump Shot\",\"Turnaround Bank shot\",\"Turnaround Fadeaway shot\",\"Turnaround Jump Shot\",\"Turnaround Fadeaway Bank Jump Shot\"],\"y\":[100.0,41.946308724832214,44.44444444444444,38.983050847457626,37.60683760683761,33.33333333333333,42.857142857142854,46.666666666666664,100.0,36.231884057971016,40.0,0.0],\"type\":\"bar\"},{\"marker\":{\"color\":\"rgba(249, 115, 22, 0.8)\",\"line\":{\"color\":\"rgba(249, 115, 22, 1)\",\"width\":1}},\"name\":\"League Average\",\"x\":[\"Jump Bank Shot\",\"Jump Shot\",\"Running Jump Shot\",\"Fadeaway Jump Shot\",\"Pullup Jump shot\",\"Step Back Jump shot\",\"Fadeaway Bank shot\",\"Running Pull-Up Jump Shot\",\"Turnaround Bank shot\",\"Turnaround Fadeaway shot\",\"Turnaround Jump Shot\",\"Turnaround Fadeaway Bank Jump Shot\"],\"y\":[53.57142857142857,41.942857142857136,42.39130434782608,38.97015798712697,42.658509454949936,42.48788368336025,43.52941176470588,51.52838427947598,65.04065040650406,42.508038585209,42.405063291139236,48.07692307692308],\"type\":\"bar\"}],                        {\"template\":{\"data\":{\"histogram2dcontour\":[{\"type\":\"histogram2dcontour\",\"colorbar\":{\"outlinewidth\":0,\"ticks\":\"\"},\"colorscale\":[[0.0,\"#0d0887\"],[0.1111111111111111,\"#46039f\"],[0.2222222222222222,\"#7201a8\"],[0.3333333333333333,\"#9c179e\"],[0.4444444444444444,\"#bd3786\"],[0.5555555555555556,\"#d8576b\"],[0.6666666666666666,\"#ed7953\"],[0.7777777777777778,\"#fb9f3a\"],[0.8888888888888888,\"#fdca26\"],[1.0,\"#f0f921\"]]}],\"choropleth\":[{\"type\":\"choropleth\",\"colorbar\":{\"outlinewidth\":0,\"ticks\":\"\"}}],\"histogram2d\":[{\"type\":\"histogram2d\",\"colorbar\":{\"outlinewidth\":0,\"ticks\":\"\"},\"colorscale\":[[0.0,\"#0d0887\"],[0.1111111111111111,\"#46039f\"],[0.2222222222222222,\"#7201a8\"],[0.3333333333333333,\"#9c179e\"],[0.4444444444444444,\"#bd3786\"],[0.5555555555555556,\"#d8576b\"],[0.6666666666666666,\"#ed7953\"],[0.7777777777777778,\"#fb9f3a\"],[0.8888888888888888,\"#fdca26\"],[1.0,\"#f0f921\"]]}],\"heatmap\":[{\"type\":\"heatmap\",\"colorbar\":{\"outlinewidth\":0,\"ticks\":\"\"},\"colorscale\":[[0.0,\"#0d0887\"],[0.1111111111111111,\"#46039f\"],[0.2222222222222222,\"#7201a8\"],[0.3333333333333333,\"#9c179e\"],[0.4444444444444444,\"#bd3786\"],[0.5555555555555556,\"#d8576b\"],[0.6666666666666666,\"#ed7953\"],[0.7777777777777778,\"#fb9f3a\"],[0.8888888888888888,\"#fdca26\"],[1.0,\"#f0f921\"]]}],\"heatmapgl\":[{\"type\":\"heatmapgl\",\"colorbar\":{\"outlinewidth\":0,\"ticks\":\"\"},\"colorscale\":[[0.0,\"#0d0887\"],[0.1111111111111111,\"#46039f\"],[0.2222222222222222,\"#7201a8\"],[0.3333333333333333,\"#9c179e\"],[0.4444444444444444,\"#bd3786\"],[0.5555555555555556,\"#d8576b\"],[0.6666666666666666,\"#ed7953\"],[0.7777777777777778,\"#fb9f3a\"],[0.8888888888888888,\"#fdca26\"],[1.0,\"#f0f921\"]]}],\"contourcarpet\":[{\"type\":\"contourcarpet\",\"colorbar\":{\"outlinewidth\":0,\"ticks\":\"\"}}],\"contour\":[{\"type\":\"contour\",\"colorbar\":{\"outlinewidth\":0,\"ticks\":\"\"},\"colorscale\":[[0.0,\"#0d0887\"],[0.1111111111111111,\"#46039f\"],[0.2222222222222222,\"#7201a8\"],[0.3333333333333333,\"#9c179e\"],[0.4444444444444444,\"#bd3786\"],[0.5555555555555556,\"#d8576b\"],[0.6666666666666666,\"#ed7953\"],[0.7777777777777778,\"#fb9f3a\"],[0.8888888888888888,\"#fdca26\"],[1.0,\"#f0f921\"]]}],\"surface\":[{\"type\":\"surface\",\"colorbar\":{\"outlinewidth\":0,\"ticks\":\"\"},\"colorscale\":[[0.0,\"#0d0887\"],[0.1111111111111111,\"#46039f\"],[0.2222222222222222,\"#7201a8\"],[0.3333333333333333,\"#9c179e\"],[0.4444444444444444,\"#bd3786\"],[0.5555555555555556,\"#d8576b\"],[0.6666666666666666,\"#ed7953\"],[0.7777777777777778,\"#fb9f3a\"],[0.8888888888888888,\"#fdca26\"],[1.0,\"#f0f921\"]]}],\"mesh3d\":[{\"type\":\"mesh3d\",\"colorbar\":{\"outlinewidth\":0,\"ticks\":\"\"}}],\"scatter\":[{\"fillpattern\":{\"fillmode\":\"overlay\",\"size\":10,\"solidity\":0.2},\"type\":\"scatter\"}],\"parcoords\":[{\"type\":\"parcoords\",\"line\":{\"colorbar\":{\"outlinewidth\":0,\"ticks\":\"\"}}}],\"scatterpolargl\":[{\"type\":\"scatterpolargl\",\"marker\":{\"colorbar\":{\"outlinewidth\":0,\"ticks\":\"\"}}}],\"bar\":[{\"error_x\":{\"color\":\"#2a3f5f\"},\"error_y\":{\"color\":\"#2a3f5f\"},\"marker\":{\"line\":{\"color\":\"#E5ECF6\",\"width\":0.5},\"pattern\":{\"fillmode\":\"overlay\",\"size\":10,\"solidity\":0.2}},\"type\":\"bar\"}],\"scattergeo\":[{\"type\":\"scattergeo\",\"marker\":{\"colorbar\":{\"outlinewidth\":0,\"ticks\":\"\"}}}],\"scatterpolar\":[{\"type\":\"scatterpolar\",\"marker\":{\"colorbar\":{\"outlinewidth\":0,\"ticks\":\"\"}}}],\"histogram\":[{\"marker\":{\"pattern\":{\"fillmode\":\"overlay\",\"size\":10,\"solidity\":0.2}},\"type\":\"histogram\"}],\"scattergl\":[{\"type\":\"scattergl\",\"marker\":{\"colorbar\":{\"outlinewidth\":0,\"ticks\":\"\"}}}],\"scatter3d\":[{\"type\":\"scatter3d\",\"line\":{\"colorbar\":{\"outlinewidth\":0,\"ticks\":\"\"}},\"marker\":{\"colorbar\":{\"outlinewidth\":0,\"ticks\":\"\"}}}],\"scattermapbox\":[{\"type\":\"scattermapbox\",\"marker\":{\"colorbar\":{\"outlinewidth\":0,\"ticks\":\"\"}}}],\"scatterternary\":[{\"type\":\"scatterternary\",\"marker\":{\"colorbar\":{\"outlinewidth\":0,\"ticks\":\"\"}}}],\"scattercarpet\":[{\"type\":\"scattercarpet\",\"marker\":{\"colorbar\":{\"outlinewidth\":0,\"ticks\":\"\"}}}],\"carpet\":[{\"aaxis\":{\"endlinecolor\":\"#2a3f5f\",\"gridcolor\":\"white\",\"linecolor\":\"white\",\"minorgridcolor\":\"white\",\"startlinecolor\":\"#2a3f5f\"},\"baxis\":{\"endlinecolor\":\"#2a3f5f\",\"gridcolor\":\"white\",\"linecolor\":\"white\",\"minorgridcolor\":\"white\",\"startlinecolor\":\"#2a3f5f\"},\"type\":\"carpet\"}],\"table\":[{\"cells\":{\"fill\":{\"color\":\"#EBF0F8\"},\"line\":{\"color\":\"white\"}},\"header\":{\"fill\":{\"color\":\"#C8D4E3\"},\"line\":{\"color\":\"white\"}},\"type\":\"table\"}],\"barpolar\":[{\"marker\":{\"line\":{\"color\":\"#E5ECF6\",\"width\":0.5},\"pattern\":{\"fillmode\":\"overlay\",\"size\":10,\"solidity\":0.2}},\"type\":\"barpolar\"}],\"pie\":[{\"automargin\":true,\"type\":\"pie\"}]},\"layout\":{\"autotypenumbers\":\"strict\",\"colorway\":[\"#636efa\",\"#EF553B\",\"#00cc96\",\"#ab63fa\",\"#FFA15A\",\"#19d3f3\",\"#FF6692\",\"#B6E880\",\"#FF97FF\",\"#FECB52\"],\"font\":{\"color\":\"#2a3f5f\"},\"hovermode\":\"closest\",\"hoverlabel\":{\"align\":\"left\"},\"paper_bgcolor\":\"white\",\"plot_bgcolor\":\"#E5ECF6\",\"polar\":{\"bgcolor\":\"#E5ECF6\",\"angularaxis\":{\"gridcolor\":\"white\",\"linecolor\":\"white\",\"ticks\":\"\"},\"radialaxis\":{\"gridcolor\":\"white\",\"linecolor\":\"white\",\"ticks\":\"\"}},\"ternary\":{\"bgcolor\":\"#E5ECF6\",\"aaxis\":{\"gridcolor\":\"white\",\"linecolor\":\"white\",\"ticks\":\"\"},\"baxis\":{\"gridcolor\":\"white\",\"linecolor\":\"white\",\"ticks\":\"\"},\"caxis\":{\"gridcolor\":\"white\",\"linecolor\":\"white\",\"ticks\":\"\"}},\"coloraxis\":{\"colorbar\":{\"outlinewidth\":0,\"ticks\":\"\"}},\"colorscale\":{\"sequential\":[[0.0,\"#0d0887\"],[0.1111111111111111,\"#46039f\"],[0.2222222222222222,\"#7201a8\"],[0.3333333333333333,\"#9c179e\"],[0.4444444444444444,\"#bd3786\"],[0.5555555555555556,\"#d8576b\"],[0.6666666666666666,\"#ed7953\"],[0.7777777777777778,\"#fb9f3a\"],[0.8888888888888888,\"#fdca26\"],[1.0,\"#f0f921\"]],\"sequentialminus\":[[0.0,\"#0d0887\"],[0.1111111111111111,\"#46039f\"],[0.2222222222222222,\"#7201a8\"],[0.3333333333333333,\"#9c179e\"],[0.4444444444444444,\"#bd3786\"],[0.5555555555555556,\"#d8576b\"],[0.6666666666666666,\"#ed7953\"],[0.7777777777777778,\"#fb9f3a\"],[0.8888888888888888,\"#fdca26\"],[1.0,\"#f0f921\"]],\"diverging\":[[0,\"#8e0152\"],[0.1,\"#c51b7d\"],[0.2,\"#de77ae\"],[0.3,\"#f1b6da\"],[0.4,\"#fde0ef\"],[0.5,\"#f7f7f7\"],[0.6,\"#e6f5d0\"],[0.7,\"#b8e186\"],[0.8,\"#7fbc41\"],[0.9,\"#4d9221\"],[1,\"#276419\"]]},\"xaxis\":{\"gridcolor\":\"white\",\"linecolor\":\"white\",\"ticks\":\"\",\"title\":{\"standoff\":15},\"zerolinecolor\":\"white\",\"automargin\":true,\"zerolinewidth\":2},\"yaxis\":{\"gridcolor\":\"white\",\"linecolor\":\"white\",\"ticks\":\"\",\"title\":{\"standoff\":15},\"zerolinecolor\":\"white\",\"automargin\":true,\"zerolinewidth\":2},\"scene\":{\"xaxis\":{\"backgroundcolor\":\"#E5ECF6\",\"gridcolor\":\"white\",\"linecolor\":\"white\",\"showbackground\":true,\"ticks\":\"\",\"zerolinecolor\":\"white\",\"gridwidth\":2},\"yaxis\":{\"backgroundcolor\":\"#E5ECF6\",\"gridcolor\":\"white\",\"linecolor\":\"white\",\"showbackground\":true,\"ticks\":\"\",\"zerolinecolor\":\"white\",\"gridwidth\":2},\"zaxis\":{\"backgroundcolor\":\"#E5ECF6\",\"gridcolor\":\"white\",\"linecolor\":\"white\",\"showbackground\":true,\"ticks\":\"\",\"zerolinecolor\":\"white\",\"gridwidth\":2}},\"shapedefaults\":{\"line\":{\"color\":\"#2a3f5f\"}},\"annotationdefaults\":{\"arrowcolor\":\"#2a3f5f\",\"arrowhead\":0,\"arrowwidth\":1},\"geo\":{\"bgcolor\":\"white\",\"landcolor\":\"#E5ECF6\",\"subunitcolor\":\"white\",\"showland\":true,\"showlakes\":true,\"lakecolor\":\"white\"},\"title\":{\"x\":0.05},\"mapbox\":{\"style\":\"light\"}}},\"title\":{\"font\":{\"color\":\"#F3F4F6\"},\"text\":\"Shot Efficiency Comparison\"},\"legend\":{\"font\":{\"color\":\"#F3F4F6\"},\"title\":{\"text\":\"Legend\"}},\"xaxis\":{\"title\":{\"font\":{\"color\":\"#F3F4F6\"},\"text\":\"Players\"},\"tickfont\":{\"color\":\"#F3F4F6\"},\"tickangle\":45,\"gridcolor\":\"rgba(107, 114, 128, 0.2)\"},\"yaxis\":{\"title\":{\"font\":{\"color\":\"#F3F4F6\"},\"text\":\"Efficiency %\"},\"tickfont\":{\"color\":\"#F3F4F6\"},\"gridcolor\":\"rgba(107, 114, 128, 0.2)\"},\"barmode\":\"group\",\"plot_bgcolor\":\"rgba(0, 0, 0, 0)\",\"paper_bgcolor\":\"rgba(0, 0, 0, 0)\"},                        {\"responsive\": true}                    ).then(function(){\n",
       "                            \n",
       "var gd = document.getElementById('6777ce05-2240-4e38-a03d-c85914aeb991');\n",
       "var x = new MutationObserver(function (mutations, observer) {{\n",
       "        var display = window.getComputedStyle(gd).display;\n",
       "        if (!display || display === 'none') {{\n",
       "            console.log([gd, 'removed!']);\n",
       "            Plotly.purge(gd);\n",
       "            observer.disconnect();\n",
       "        }}\n",
       "}});\n",
       "\n",
       "// Listen for the removal of the full notebook cells\n",
       "var notebookContainer = gd.closest('#notebook-container');\n",
       "if (notebookContainer) {{\n",
       "    x.observe(notebookContainer, {childList: true});\n",
       "}}\n",
       "\n",
       "// Listen for the clearing of the current output cell\n",
       "var outputEl = gd.closest('.output');\n",
       "if (outputEl) {{\n",
       "    x.observe(outputEl, {childList: true});\n",
       "}}\n",
       "\n",
       "                        })                };                });            </script>        </div>"
      ]
     },
     "metadata": {},
     "output_type": "display_data"
    }
   ],
   "source": [
    "import plotly.graph_objects as go\n",
    "\n",
    "# Example data structure (replace with actual data passed in your Flask app)\n",
    "selected_player='2544'\n",
    "\n",
    "\n",
    "selected_group='JUMP_SHOTS'\n",
    "selected_year=2025\n",
    "\n",
    "avg_df = pd.read_csv('https://raw.githubusercontent.com/gabriel1200/shot_data/refs/heads/master/shot_types.csv')\n",
    "\n",
    "# Read player shot data\n",
    "\n",
    "player_df = pd.read_csv(f'https://raw.githubusercontent.com/gabriel1200/shot_averages/refs/heads/main/{selected_player}.csv')\n",
    "\n",
    "\n",
    "\n",
    "\n",
    "if selected_player:\n",
    "    player_df = player_df[player_df['PLAYER_ID'] == int(selected_player)]\n",
    " \n",
    "\n",
    "# Filter by shot group\n",
    "group_df = player_df[player_df['shot_group'] == selected_group]\n",
    "\n",
    "# Calculate efficiencies\n",
    "shot_data = []\n",
    "chart_data = {'labels': [], 'player_pct': [], 'league_pct': []}\n",
    "\n",
    "for shot_desc in group_df['shot_description'].unique():\n",
    "    player_shots = group_df[group_df['shot_description'] == shot_desc]\n",
    "    league_avg = avg_df[(avg_df['shot_description'] == shot_desc) & \n",
    "                      (avg_df['year'] == int(selected_year))]\n",
    "    \n",
    "    if not player_shots.empty and not league_avg.empty:\n",
    "        player_pct = (player_shots['shot_makes'].sum() / player_shots['shot_count'].sum()) * 100\n",
    "        league_pct = league_avg['efg%'].iloc[0] * 100\n",
    "        \n",
    "        shot_data.append({\n",
    "            'shot_description': shot_desc,\n",
    "            'player_pct': player_pct,\n",
    "            'league_pct': league_pct,\n",
    "            'difference': player_pct - league_pct,\n",
    "            'attempts': player_shots['shot_count'].sum()\n",
    "        })\n",
    "        \n",
    "        chart_data['labels'].append(shot_desc)\n",
    "        chart_data['player_pct'].append(player_pct)\n",
    "        chart_data['league_pct'].append(league_pct)\n",
    "\n",
    "# Create the bar traces\n",
    "player_efficiency_trace = go.Bar(\n",
    "    name=\"Player Efficiency\",\n",
    "    x=chart_data[\"labels\"],\n",
    "    y=chart_data[\"player_pct\"],\n",
    "    marker=dict(\n",
    "        color=\"rgba(96, 165, 250, 0.8)\",  # blue-400\n",
    "        line=dict(color=\"rgba(96, 165, 250, 1)\", width=1)\n",
    "    )\n",
    ")\n",
    "\n",
    "league_average_trace = go.Bar(\n",
    "    name=\"League Average\",\n",
    "    x=chart_data[\"labels\"],\n",
    "    y=chart_data[\"league_pct\"],\n",
    "    marker=dict(\n",
    "        color=\"rgba(249, 115, 22, 0.8)\",  # orange-500\n",
    "        line=dict(color=\"rgba(249, 115, 22, 1)\", width=1)\n",
    "    )\n",
    ")\n",
    "\n",
    "# Create the figure\n",
    "fig = go.Figure(data=[player_efficiency_trace, league_average_trace])\n",
    "\n",
    "# Update layout\n",
    "fig.update_layout(\n",
    "    title=dict(\n",
    "        text=\"Shot Efficiency Comparison\",\n",
    "        font=dict(color=\"#F3F4F6\")  # text-gray-100\n",
    "    ),\n",
    "    legend=dict(\n",
    "        title=\"Legend\",\n",
    "        font=dict(color=\"#F3F4F6\")  # text-gray-100\n",
    "    ),\n",
    "    xaxis=dict(\n",
    "        title=dict(text=\"Players\", font=dict(color=\"#F3F4F6\")),  # text-gray-100\n",
    "        tickangle=45,\n",
    "        tickfont=dict(color=\"#F3F4F6\"),  # text-gray-100\n",
    "        gridcolor=\"rgba(107, 114, 128, 0.2)\"  # gray-500 with opacity\n",
    "    ),\n",
    "    yaxis=dict(\n",
    "        title=dict(text=\"Efficiency %\", font=dict(color=\"#F3F4F6\")),  # text-gray-100\n",
    "        tickfont=dict(color=\"#F3F4F6\"),  # text-gray-100\n",
    "        gridcolor=\"rgba(107, 114, 128, 0.2)\"  # gray-500 with opacity\n",
    "    ),\n",
    "    barmode=\"group\",  # Grouped bar chart\n",
    "\n",
    "    width=1200,\n",
    "    height=1000,\n",
    "    plot_bgcolor=\"rgba(0, 0, 0, 0)\",  # Transparent background\n",
    "    paper_bgcolor=\"rgba(0, 0, 0, 0)\"  # Transparent background\n",
    ")\n",
    "\n",
    "# Render the figure\n",
    "fig.show()\n"
   ]
  },
  {
   "cell_type": "code",
   "execution_count": 4,
   "id": "1ef2112f-055b-46b4-83e4-287493a62ed1",
   "metadata": {},
   "outputs": [
    {
     "data": {
      "text/html": [
       "<div>\n",
       "<style scoped>\n",
       "    .dataframe tbody tr th:only-of-type {\n",
       "        vertical-align: middle;\n",
       "    }\n",
       "\n",
       "    .dataframe tbody tr th {\n",
       "        vertical-align: top;\n",
       "    }\n",
       "\n",
       "    .dataframe thead th {\n",
       "        text-align: right;\n",
       "    }\n",
       "</style>\n",
       "<table border=\"1\" class=\"dataframe\">\n",
       "  <thead>\n",
       "    <tr style=\"text-align: right;\">\n",
       "      <th></th>\n",
       "      <th>PLAYER_NAME</th>\n",
       "      <th>PLAYER_ID</th>\n",
       "      <th>shot_description</th>\n",
       "      <th>shot_type</th>\n",
       "      <th>shot_count</th>\n",
       "      <th>shot_makes</th>\n",
       "      <th>shot_group</th>\n",
       "      <th>efg%</th>\n",
       "      <th>year</th>\n",
       "    </tr>\n",
       "  </thead>\n",
       "  <tbody>\n",
       "    <tr>\n",
       "      <th>0</th>\n",
       "      <td>Aaron McKie</td>\n",
       "      <td>243</td>\n",
       "      <td>Driving Layup Shot</td>\n",
       "      <td>2PT Field Goal</td>\n",
       "      <td>29</td>\n",
       "      <td>24</td>\n",
       "      <td>LAYUPS</td>\n",
       "      <td>0.827586</td>\n",
       "      <td>1997</td>\n",
       "    </tr>\n",
       "    <tr>\n",
       "      <th>1</th>\n",
       "      <td>Aaron McKie</td>\n",
       "      <td>243</td>\n",
       "      <td>Dunk Shot</td>\n",
       "      <td>2PT Field Goal</td>\n",
       "      <td>4</td>\n",
       "      <td>4</td>\n",
       "      <td>DUNKS</td>\n",
       "      <td>1.000000</td>\n",
       "      <td>1997</td>\n",
       "    </tr>\n",
       "    <tr>\n",
       "      <th>2</th>\n",
       "      <td>Aaron McKie</td>\n",
       "      <td>243</td>\n",
       "      <td>Hook Shot</td>\n",
       "      <td>2PT Field Goal</td>\n",
       "      <td>1</td>\n",
       "      <td>0</td>\n",
       "      <td>POST_MOVES</td>\n",
       "      <td>0.000000</td>\n",
       "      <td>1997</td>\n",
       "    </tr>\n",
       "    <tr>\n",
       "      <th>3</th>\n",
       "      <td>Aaron McKie</td>\n",
       "      <td>243</td>\n",
       "      <td>Jump Shot</td>\n",
       "      <td>2PT Field Goal</td>\n",
       "      <td>86</td>\n",
       "      <td>24</td>\n",
       "      <td>JUMP_SHOTS</td>\n",
       "      <td>0.279070</td>\n",
       "      <td>1997</td>\n",
       "    </tr>\n",
       "    <tr>\n",
       "      <th>4</th>\n",
       "      <td>Aaron McKie</td>\n",
       "      <td>243</td>\n",
       "      <td>Jump Shot</td>\n",
       "      <td>3PT Field Goal</td>\n",
       "      <td>64</td>\n",
       "      <td>23</td>\n",
       "      <td>JUMP_SHOTS</td>\n",
       "      <td>0.539062</td>\n",
       "      <td>1997</td>\n",
       "    </tr>\n",
       "    <tr>\n",
       "      <th>...</th>\n",
       "      <td>...</td>\n",
       "      <td>...</td>\n",
       "      <td>...</td>\n",
       "      <td>...</td>\n",
       "      <td>...</td>\n",
       "      <td>...</td>\n",
       "      <td>...</td>\n",
       "      <td>...</td>\n",
       "      <td>...</td>\n",
       "    </tr>\n",
       "    <tr>\n",
       "      <th>7731</th>\n",
       "      <td>Zion Williamson</td>\n",
       "      <td>1629627</td>\n",
       "      <td>Running Layup Shot</td>\n",
       "      <td>2PT Field Goal</td>\n",
       "      <td>2</td>\n",
       "      <td>2</td>\n",
       "      <td>LAYUPS</td>\n",
       "      <td>1.000000</td>\n",
       "      <td>2025</td>\n",
       "    </tr>\n",
       "    <tr>\n",
       "      <th>7732</th>\n",
       "      <td>Zion Williamson</td>\n",
       "      <td>1629627</td>\n",
       "      <td>Step Back Jump shot</td>\n",
       "      <td>3PT Field Goal</td>\n",
       "      <td>1</td>\n",
       "      <td>0</td>\n",
       "      <td>JUMP_SHOTS</td>\n",
       "      <td>0.000000</td>\n",
       "      <td>2025</td>\n",
       "    </tr>\n",
       "    <tr>\n",
       "      <th>7733</th>\n",
       "      <td>Zion Williamson</td>\n",
       "      <td>1629627</td>\n",
       "      <td>Tip Layup Shot</td>\n",
       "      <td>2PT Field Goal</td>\n",
       "      <td>2</td>\n",
       "      <td>1</td>\n",
       "      <td>LAYUPS</td>\n",
       "      <td>0.500000</td>\n",
       "      <td>2025</td>\n",
       "    </tr>\n",
       "    <tr>\n",
       "      <th>7734</th>\n",
       "      <td>Zion Williamson</td>\n",
       "      <td>1629627</td>\n",
       "      <td>Turnaround Hook Shot</td>\n",
       "      <td>2PT Field Goal</td>\n",
       "      <td>2</td>\n",
       "      <td>1</td>\n",
       "      <td>POST_MOVES</td>\n",
       "      <td>0.500000</td>\n",
       "      <td>2025</td>\n",
       "    </tr>\n",
       "    <tr>\n",
       "      <th>7735</th>\n",
       "      <td>Zion Williamson</td>\n",
       "      <td>1629627</td>\n",
       "      <td>Turnaround Jump Shot</td>\n",
       "      <td>2PT Field Goal</td>\n",
       "      <td>6</td>\n",
       "      <td>1</td>\n",
       "      <td>JUMP_SHOTS</td>\n",
       "      <td>0.166667</td>\n",
       "      <td>2025</td>\n",
       "    </tr>\n",
       "  </tbody>\n",
       "</table>\n",
       "<p>73902 rows × 9 columns</p>\n",
       "</div>"
      ],
      "text/plain": [
       "          PLAYER_NAME  PLAYER_ID      shot_description       shot_type  \\\n",
       "0         Aaron McKie        243    Driving Layup Shot  2PT Field Goal   \n",
       "1         Aaron McKie        243             Dunk Shot  2PT Field Goal   \n",
       "2         Aaron McKie        243             Hook Shot  2PT Field Goal   \n",
       "3         Aaron McKie        243             Jump Shot  2PT Field Goal   \n",
       "4         Aaron McKie        243             Jump Shot  3PT Field Goal   \n",
       "...               ...        ...                   ...             ...   \n",
       "7731  Zion Williamson    1629627    Running Layup Shot  2PT Field Goal   \n",
       "7732  Zion Williamson    1629627   Step Back Jump shot  3PT Field Goal   \n",
       "7733  Zion Williamson    1629627        Tip Layup Shot  2PT Field Goal   \n",
       "7734  Zion Williamson    1629627  Turnaround Hook Shot  2PT Field Goal   \n",
       "7735  Zion Williamson    1629627  Turnaround Jump Shot  2PT Field Goal   \n",
       "\n",
       "      shot_count  shot_makes  shot_group      efg%  year  \n",
       "0             29          24      LAYUPS  0.827586  1997  \n",
       "1              4           4       DUNKS  1.000000  1997  \n",
       "2              1           0  POST_MOVES  0.000000  1997  \n",
       "3             86          24  JUMP_SHOTS  0.279070  1997  \n",
       "4             64          23  JUMP_SHOTS  0.539062  1997  \n",
       "...          ...         ...         ...       ...   ...  \n",
       "7731           2           2      LAYUPS  1.000000  2025  \n",
       "7732           1           0  JUMP_SHOTS  0.000000  2025  \n",
       "7733           2           1      LAYUPS  0.500000  2025  \n",
       "7734           2           1  POST_MOVES  0.500000  2025  \n",
       "7735           6           1  JUMP_SHOTS  0.166667  2025  \n",
       "\n",
       "[73902 rows x 9 columns]"
      ]
     },
     "execution_count": 4,
     "metadata": {},
     "output_type": "execute_result"
    }
   ],
   "source": [
    "player_shots"
   ]
  },
  {
   "cell_type": "code",
   "execution_count": null,
   "id": "aa580dd8-3542-4724-a88d-39aec6a189f1",
   "metadata": {},
   "outputs": [],
   "source": []
  }
 ],
 "metadata": {
  "kernelspec": {
   "display_name": "Python 3 (ipykernel)",
   "language": "python",
   "name": "python3"
  },
  "language_info": {
   "codemirror_mode": {
    "name": "ipython",
    "version": 3
   },
   "file_extension": ".py",
   "mimetype": "text/x-python",
   "name": "python",
   "nbconvert_exporter": "python",
   "pygments_lexer": "ipython3",
   "version": "3.10.12"
  }
 },
 "nbformat": 4,
 "nbformat_minor": 5
}
