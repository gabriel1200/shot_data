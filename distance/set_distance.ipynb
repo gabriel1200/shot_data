{
 "cells": [
  {
   "cell_type": "code",
   "execution_count": null,
   "id": "5e72738d-6ae1-4c82-b28f-972122ee3069",
   "metadata": {},
   "outputs": [],
   "source": [
    "import os\n",
    "import pandas as pd\n",
    "# Define the base path and the range of years\n",
    "base_path = '../team/'\n",
    "start_year = 2025\n",
    "end_year = 2025\n",
    "frames = []\n",
    "# Loop through each year and list files in the corresponding directory\n",
    "for year in range(start_year, end_year + 1):\n",
    "    # Construct the path for the current year\n",
    "    year_path = os.path.join(base_path, str(year))\n",
    "    \n",
    "    # Check if the directory exists\n",
    "    if os.path.isdir(year_path):\n",
    "        print(f\"\\nFiles in directory {year_path}:\")\n",
    "        \n",
    "        # List all files in the directory\n",
    "        for filename in os.listdir(year_path):\n",
    "            file_path = os.path.join(year_path, filename)\n",
    "            # Check if it is a file before printing\n",
    "            if 'vs' not in filename and 'avg' not in filename:\n",
    "                if '.csv' in filename:\n",
    "                    \n",
    "                    \n",
    "                    df=pd.read_csv(file_path)\n",
    "                    if len(df)>0:\n",
    "                        print(filename)\n",
    "                        df['year']=year\n",
    "                        frames.append(df)\n",
    "\n",
    "    else:\n",
    "        print(f\"\\nDirectory {year_path} does not exist.\")\n",
    "\n",
    "master=pd.concat(frames)\n",
    "master"
   ]
  },
  {
   "cell_type": "code",
   "execution_count": null,
   "id": "28b481e4-300f-4d0c-acce-892f3ef45289",
   "metadata": {},
   "outputs": [],
   "source": [
    "master['SHOT_ATTEMPTED_FLAG'].value_counts()\n",
    "master['SHOT_MADE_FLAG'].value_counts()"
   ]
  },
  {
   "cell_type": "code",
   "execution_count": null,
   "id": "ef0f39ec-9cab-4aed-8637-b194417ee2a7",
   "metadata": {},
   "outputs": [],
   "source": [
    "shots = master.groupby(['year','SHOT_ZONE_RANGE','SHOT_DISTANCE']).sum(numeric_only=True)[['SHOT_ATTEMPTED_FLAG','SHOT_MADE_FLAG']].reset_index()\n",
    "\n",
    "shots.rename(columns={'SHOT_ATTEMPTED_FLAG':'FGA','SHOT_MADE_FLAG':'FGM'},inplace=True)\n",
    "shots"
   ]
  },
  {
   "cell_type": "code",
   "execution_count": null,
   "id": "ed50eafc-87ee-4578-8d71-a6905ec5b0d7",
   "metadata": {},
   "outputs": [],
   "source": [
    "for year in range(1997,2026):\n",
    "    shot_distance=shots[shots.year==year].reset_index()\n",
    "    shot_distance.drop(columns='year',inplace=True)\n",
    "    shot_distance.to_csv(str(year)+'.csv',index=False)"
   ]
  },
  {
   "cell_type": "code",
   "execution_count": null,
   "id": "a02473b7-29f5-4c8d-a0f3-015ec4b896d6",
   "metadata": {},
   "outputs": [],
   "source": [
    "master['SHOT_ZONE_RANGE'].unique()"
   ]
  },
  {
   "cell_type": "code",
   "execution_count": null,
   "id": "6b996d57-9de9-4d4b-8b2e-ac9dfe5c778f",
   "metadata": {},
   "outputs": [],
   "source": []
  },
  {
   "cell_type": "code",
   "execution_count": null,
   "id": "40047ac1-52fb-4d19-a9b0-744486800411",
   "metadata": {},
   "outputs": [],
   "source": []
  }
 ],
 "metadata": {
  "kernelspec": {
   "display_name": "Python 3 (ipykernel)",
   "language": "python",
   "name": "python3"
  },
  "language_info": {
   "codemirror_mode": {
    "name": "ipython",
    "version": 3
   },
   "file_extension": ".py",
   "mimetype": "text/x-python",
   "name": "python",
   "nbconvert_exporter": "python",
   "pygments_lexer": "ipython3",
   "version": "3.10.12"
  }
 },
 "nbformat": 4,
 "nbformat_minor": 5
}
