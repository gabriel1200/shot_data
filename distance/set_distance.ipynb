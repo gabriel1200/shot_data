{
 "cells": [
  {
   "cell_type": "code",
   "execution_count": 1,
   "id": "5e72738d-6ae1-4c82-b28f-972122ee3069",
   "metadata": {},
   "outputs": [
    {
     "name": "stdout",
     "output_type": "stream",
     "text": [
      "Checking directory: ../team/2025\n",
      "\n",
      "Files in directory ../team/2025:\n",
      "Loaded data for: 2025\n",
      "Checking directory: ../team/2025ps\n",
      "\n",
      "Files in directory ../team/2025ps:\n",
      "Loaded data for: 2025ps\n",
      "['16-24 ft.' '8-16 ft.' 'Less Than 8 ft.' '24+ ft.' 'Back Court Shot']\n"
     ]
    }
   ],
   "source": [
    "import os\n",
    "import pandas as pd\n",
    "\n",
    "# Config\n",
    "base_path = '../team/'\n",
    "start_year = 2025\n",
    "end_year = 2025\n",
    "include_regular = True\n",
    "include_playoffs = True\n",
    "\n",
    "frames = []\n",
    "\n",
    "# Loop through each year\n",
    "for year in range(start_year, end_year + 1):\n",
    "    for mode, label in [(include_regular, ''), (include_playoffs, 'ps')]:\n",
    "        if not mode:\n",
    "            continue\n",
    "\n",
    "        # Construct path based on whether it's regular season or playoffs\n",
    "        year_str = f\"{year}{label}\"\n",
    "        year_path = os.path.join(base_path, year_str)\n",
    "        print(f\"Checking directory: {year_path}\")\n",
    "        \n",
    "        if os.path.isdir(year_path):\n",
    "            print(f\"\\nFiles in directory {year_path}:\")\n",
    "            \n",
    "            for filename in os.listdir(year_path):\n",
    "                file_path = os.path.join(year_path, filename)\n",
    "                if 'vs' not in filename and 'avg' not in filename and filename.endswith('.csv'):\n",
    "                    df = pd.read_csv(file_path)\n",
    "                    if len(df) > 0:\n",
    "                        df['year'] = year\n",
    "                        df['mode'] = 'playoffs' if label == 'ps' else 'regular'\n",
    "                        frames.append(df)\n",
    "            print(f\"Loaded data for: {year_str}\")\n",
    "        else:\n",
    "            print(f\"Directory {year_path} does not exist.\")\n",
    "\n",
    "# Combine all data\n",
    "master = pd.concat(frames)\n",
    "\n",
    "# Value counts (optional debugging info)\n",
    "master['SHOT_ATTEMPTED_FLAG'].value_counts()\n",
    "master['SHOT_MADE_FLAG'].value_counts()\n",
    "\n",
    "# Group and summarize\n",
    "shots = master.groupby(['year', 'mode', 'SHOT_ZONE_RANGE', 'SHOT_DISTANCE']).sum(numeric_only=True)[['SHOT_ATTEMPTED_FLAG', 'SHOT_MADE_FLAG']].reset_index()\n",
    "shots.rename(columns={'SHOT_ATTEMPTED_FLAG': 'FGA', 'SHOT_MADE_FLAG': 'FGM'}, inplace=True)\n",
    "\n",
    "# Output separate files for regular and playoffs\n",
    "for (year, mode), df in shots.groupby(['year', 'mode']):\n",
    "    mode_suffix = 'ps' if mode == 'playoffs' else ''\n",
    "    df.reset_index(drop=True).to_csv(f\"{year}{mode_suffix}.csv\", index=False)\n",
    "\n",
    "# Show unique shot zone ranges\n",
    "print(master['SHOT_ZONE_RANGE'].unique())\n"
   ]
  },
  {
   "cell_type": "code",
   "execution_count": null,
   "id": "28b481e4-300f-4d0c-acce-892f3ef45289",
   "metadata": {},
   "outputs": [],
   "source": []
  },
  {
   "cell_type": "code",
   "execution_count": null,
   "id": "ef0f39ec-9cab-4aed-8637-b194417ee2a7",
   "metadata": {},
   "outputs": [],
   "source": []
  },
  {
   "cell_type": "code",
   "execution_count": 4,
   "id": "ed50eafc-87ee-4578-8d71-a6905ec5b0d7",
   "metadata": {},
   "outputs": [],
   "source": []
  },
  {
   "cell_type": "code",
   "execution_count": null,
   "id": "a02473b7-29f5-4c8d-a0f3-015ec4b896d6",
   "metadata": {},
   "outputs": [],
   "source": []
  },
  {
   "cell_type": "code",
   "execution_count": null,
   "id": "6b996d57-9de9-4d4b-8b2e-ac9dfe5c778f",
   "metadata": {},
   "outputs": [],
   "source": []
  },
  {
   "cell_type": "code",
   "execution_count": null,
   "id": "40047ac1-52fb-4d19-a9b0-744486800411",
   "metadata": {},
   "outputs": [],
   "source": []
  }
 ],
 "metadata": {
  "kernelspec": {
   "display_name": "Python 3",
   "language": "python",
   "name": "python3"
  },
  "language_info": {
   "codemirror_mode": {
    "name": "ipython",
    "version": 3
   },
   "file_extension": ".py",
   "mimetype": "text/x-python",
   "name": "python",
   "nbconvert_exporter": "python",
   "pygments_lexer": "ipython3",
   "version": "3.10.12"
  }
 },
 "nbformat": 4,
 "nbformat_minor": 5
}
